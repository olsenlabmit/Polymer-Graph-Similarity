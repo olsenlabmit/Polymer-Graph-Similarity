{
  "nbformat": 4,
  "nbformat_minor": 0,
  "metadata": {
    "colab": {
      "provenance": []
    },
    "kernelspec": {
      "name": "python3",
      "display_name": "Python 3"
    },
    "language_info": {
      "name": "python"
    }
  },
  "cells": [
    {
      "cell_type": "markdown",
      "source": [
        "[Open in Colab](https://colab.research.google.com/drive/1w14kzVHFDCw3Ss3Lce6M2txj9QyKRfZp?usp=sharing)"
      ],
      "metadata": {
        "id": "ytZPHuO-01TC"
      }
    },
    {
      "cell_type": "markdown",
      "source": [
        "# 1. Imports Necessary Library"
      ],
      "metadata": {
        "id": "-9n8-Ciyiy7G"
      }
    },
    {
      "cell_type": "code",
      "source": [
        "import numpy as np\n",
        "import networkx as nx\n",
        "import matplotlib.pyplot as plt\n",
        "import shutil\n",
        "import sys\n",
        "import os.path\n",
        "\n",
        "#necessary library\n",
        "!pip install -q rdkit\n",
        "from rdkit import Chem\n",
        "from rdkit import DataStructs\n",
        "from rdkit.Chem import AllChem\n",
        "from rdkit.Chem import MACCSkeys\n",
        "from rdkit.Chem.AtomPairs import Pairs\n",
        "\n",
        "\n",
        "if not shutil.which(\"pyomo\"):\n",
        "    !pip install -q pyomo\n",
        "    assert(shutil.which(\"pyomo\"))\n",
        "\n",
        "if not (shutil.which(\"cbc\") or os.path.isfile(\"cbc\")):\n",
        "    if \"google.colab\" in sys.modules:\n",
        "        !apt-get install -y -qq coinor-cbc\n",
        "        print(\"install cbc\")\n",
        "    else:\n",
        "        try:\n",
        "            !conda install -c conda-forge coincbc \n",
        "            print(\"install cbc-2\")\n",
        "        except:\n",
        "            print(\"skip cbc\")\n",
        "            pass\n",
        "            \n",
        "\n",
        "assert(shutil.which(\"cbc\") or os.path.isfile(\"cbc\"))\n",
        "    \n",
        "from pyomo.environ import *"
      ],
      "metadata": {
        "id": "psnOpmYlL_sw",
        "colab": {
          "base_uri": "https://localhost:8080/"
        },
        "outputId": "de73087d-8319-4d95-9f21-1a062f1ce842"
      },
      "execution_count": null,
      "outputs": [
        {
          "output_type": "stream",
          "name": "stdout",
          "text": [
            "\u001b[K     |████████████████████████████████| 29.3 MB 71.3 MB/s \n",
            "\u001b[K     |████████████████████████████████| 11.1 MB 4.5 MB/s \n",
            "\u001b[K     |████████████████████████████████| 49 kB 6.9 MB/s \n",
            "\u001b[?25hSelecting previously unselected package coinor-libcoinutils3v5.\n",
            "(Reading database ... 124016 files and directories currently installed.)\n",
            "Preparing to unpack .../0-coinor-libcoinutils3v5_2.10.14+repack1-1_amd64.deb ...\n",
            "Unpacking coinor-libcoinutils3v5 (2.10.14+repack1-1) ...\n",
            "Selecting previously unselected package coinor-libosi1v5.\n",
            "Preparing to unpack .../1-coinor-libosi1v5_0.107.9+repack1-1_amd64.deb ...\n",
            "Unpacking coinor-libosi1v5 (0.107.9+repack1-1) ...\n",
            "Selecting previously unselected package coinor-libclp1.\n",
            "Preparing to unpack .../2-coinor-libclp1_1.16.11+repack1-1_amd64.deb ...\n",
            "Unpacking coinor-libclp1 (1.16.11+repack1-1) ...\n",
            "Selecting previously unselected package coinor-libcgl1.\n",
            "Preparing to unpack .../3-coinor-libcgl1_0.59.10+repack1-1_amd64.deb ...\n",
            "Unpacking coinor-libcgl1 (0.59.10+repack1-1) ...\n",
            "Selecting previously unselected package coinor-libcbc3.\n",
            "Preparing to unpack .../4-coinor-libcbc3_2.9.9+repack1-1_amd64.deb ...\n",
            "Unpacking coinor-libcbc3 (2.9.9+repack1-1) ...\n",
            "Selecting previously unselected package coinor-cbc.\n",
            "Preparing to unpack .../5-coinor-cbc_2.9.9+repack1-1_amd64.deb ...\n",
            "Unpacking coinor-cbc (2.9.9+repack1-1) ...\n",
            "Setting up coinor-libcoinutils3v5 (2.10.14+repack1-1) ...\n",
            "Setting up coinor-libosi1v5 (0.107.9+repack1-1) ...\n",
            "Setting up coinor-libclp1 (1.16.11+repack1-1) ...\n",
            "Setting up coinor-libcgl1 (0.59.10+repack1-1) ...\n",
            "Setting up coinor-libcbc3 (2.9.9+repack1-1) ...\n",
            "Setting up coinor-cbc (2.9.9+repack1-1) ...\n",
            "Processing triggers for man-db (2.8.3-2ubuntu0.1) ...\n",
            "Processing triggers for libc-bin (2.27-3ubuntu1.6) ...\n",
            "install cbc\n"
          ]
        }
      ]
    },
    {
      "cell_type": "markdown",
      "source": [
        "# 2. Similarity Score Function"
      ],
      "metadata": {
        "id": "D2aVwhkeZcX8"
      }
    },
    {
      "cell_type": "markdown",
      "source": [
        "## 2.1. Similarity score of earth mover's distance for repeating units ensemble and end group ensemble "
      ],
      "metadata": {
        "id": "HsMcsqU-Pv6Y"
      }
    },
    {
      "cell_type": "code",
      "source": [
        "#from pyomo.common.fileutils import Executable\n",
        "def Similarity_Score_EMD(query_smiles_list = None, \n",
        "                         query_smiles_level_list = None, \n",
        "                         target_smiles_list = None, \n",
        "                         target_smiles_level_list = None,\n",
        "                         #level_weight = False,\n",
        "                         #level_ratio = 3,\n",
        "                         embedding_function = 'MorganFingerprint', #\n",
        "                         similarity_score_function = 'Tanimoto', # Dice, Cosine\n",
        "                         restrain_emd = False):\n",
        "  \n",
        "    #obtain the length of query smiles list and target smiles list\n",
        "    if query_smiles_list != None:\n",
        "        query_smiles_list_length = len(query_smiles_list)\n",
        "    else:\n",
        "        print (\"Missing query smiles list\")\n",
        "        return    \n",
        "\n",
        "    if target_smiles_list != None:\n",
        "        target_smiles_list_length = len(target_smiles_list)\n",
        "    else:\n",
        "        print (\"Missing target smiles list\")\n",
        "        return\n",
        "    \n",
        "    if set(query_smiles_list) == set(target_smiles_list):\n",
        "        #print(\"check1\")\n",
        "        query_smiles_array = np.array(query_smiles_list)\n",
        "        query_smiles_level_array = np.array(query_smiles_level_list)\n",
        "        inds_query = query_smiles_array.argsort()\n",
        "        sorted_query_smiles_array = query_smiles_array[inds_query]\n",
        "        sorted_query_smiles_level_array = query_smiles_level_array[inds_query]\n",
        "\n",
        "        target_smiles_array = np.array(target_smiles_list)\n",
        "        target_smiles_level_array = np.array(target_smiles_level_list)\n",
        "        inds_target = target_smiles_array.argsort()\n",
        "        sorted_target_smiles_array = target_smiles_array[inds_target]\n",
        "        sorted_target_smiles_level_array = target_smiles_level_array[inds_target]\n",
        "\n",
        "        if np.array_equal(sorted_query_smiles_array, sorted_target_smiles_array) and np.array_equal(sorted_query_smiles_level_array, sorted_target_smiles_level_array):\n",
        "            #print(\"check2\")\n",
        "            return 1.0\n",
        "        query_smiles_reduced_list = list(set(query_smiles_list))\n",
        "        query_smiles_reduced_list_number = []\n",
        "        for i in range(0, len(query_smiles_reduced_list)):\n",
        "            query_smiles_reduced_list_number_i  = 0\n",
        "            for j in range(0, len(query_smiles_list)):\n",
        "                if query_smiles_reduced_list[i] == query_smiles_list[j]:\n",
        "                    query_smiles_reduced_list_number_i = query_smiles_reduced_list_number_i   + query_smiles_level_list[j]\n",
        "            query_smiles_reduced_list_number.append(query_smiles_reduced_list_number_i/sum(query_smiles_level_list))\n",
        "\n",
        "        target_smiles_reduced_list = list(set(target_smiles_list))\n",
        "        target_smiles_reduced_list_number = []\n",
        "        for i in range(0, len(target_smiles_reduced_list)):\n",
        "            target_smiles_reduced_list_number_i  = 0\n",
        "            for j in range(0, len(target_smiles_list)):\n",
        "                if target_smiles_reduced_list[i] == target_smiles_list[j]:\n",
        "                    target_smiles_reduced_list_number_i = target_smiles_reduced_list_number_i   + target_smiles_level_list[j]\n",
        "            target_smiles_reduced_list_number.append(target_smiles_reduced_list_number_i/sum(target_smiles_level_list))\n",
        "\n",
        "        if query_smiles_reduced_list_number == target_smiles_reduced_list_number:\n",
        "            #print(\"check3\")\n",
        "            return 1.0\n",
        "    \n",
        "\n",
        "\n",
        "\n",
        "    if embedding_function == 'RDKFingerprint':    \n",
        "        query_mol_list = [Chem.MolFromSmiles(x) for x in query_smiles_list]\n",
        "        query_fingerprint_list = [Chem.RDKFingerprint(x) for x in query_mol_list]\n",
        "        target_mol_list = [Chem.MolFromSmiles(x) for x in target_smiles_list]\n",
        "        target_fingerprint_list = [Chem.RDKFingerprint(x) for x in target_mol_list]\n",
        "\n",
        "    elif embedding_function == 'MorganFingerprint':    \n",
        "        query_mol_list = [Chem.MolFromSmiles(x) for x in query_smiles_list]\n",
        "        query_fingerprint_list = [AllChem.GetMorganFingerprintAsBitVect(x,2,nBits=2048) for x in query_mol_list]\n",
        "        target_mol_list = [Chem.MolFromSmiles(x) for x in target_smiles_list]\n",
        "        target_fingerprint_list = [AllChem.GetMorganFingerprintAsBitVect(x,2,nBits=2048) for x in target_mol_list]\n",
        "\n",
        "    elif embedding_function == 'MACCSkeys':    \n",
        "        query_mol_list = [Chem.MolFromSmiles(x) for x in query_smiles_list]\n",
        "        query_fingerprint_list = [MACCSkeys.GenMACCSKeys(x) for x in query_mol_list]\n",
        "        target_mol_list = [Chem.MolFromSmiles(x) for x in target_smiles_list]\n",
        "        target_fingerprint_list = [MACCSkeys.GenMACCSKeys(x) for x in target_mol_list]\n",
        "\n",
        "\n",
        "    else:\n",
        "        print(embedding_function + \" is not included in the current vision, please choose an available embedding function.\");\n",
        "        return False         \n",
        "\n",
        "    Demand = {}\n",
        "    Supply = {}\n",
        "    T = {}\n",
        "\n",
        "    if query_smiles_level_list == None or len(set(query_smiles_level_list)) ==1:\n",
        "        for i in range(0, query_smiles_list_length):\n",
        "            Demand[\"P\" + str(i+1)] = 1/query_smiles_list_length\n",
        "    else:\n",
        "        print(\"Query smiles list has different levels\")\n",
        "        #query_weight_sum = sum(query_smiles_level_list)\n",
        "        #level 1, weight = 1; level 2, weight = 3^1;  level n, weight = 3^n-1\n",
        "        query_weight_sum = 0.0\n",
        "        for i in range(0, query_smiles_list_length):\n",
        "            query_weight_sum = query_weight_sum + query_smiles_level_list[i]\n",
        "\n",
        "        for i in range(0, query_smiles_list_length):\n",
        "            Demand[\"P\" + str(i+1)] = query_smiles_level_list[i]/query_weight_sum\n",
        "            #print(\"P\" + str(i+1), Demand[\"P\" + str(i+1)])\n",
        "\n",
        "\n",
        "    if target_smiles_level_list == None or len(set(target_smiles_level_list)) ==1:       \n",
        "        for j in range(0,target_smiles_list_length):\n",
        "            Supply[\"Q\" + str(j+1)] = 1/target_smiles_list_length\n",
        "    else:\n",
        "        print(\"Target smiles list has different levels\")\n",
        "        \n",
        "        target_weight_sum = 0.0\n",
        "        for j in range(0, target_smiles_list_length):\n",
        "            target_weight_sum = target_weight_sum + target_smiles_level_list[j]\n",
        "\n",
        "        for j in range(0, target_smiles_list_length):\n",
        "            Supply[\"Q\" + str(j+1)] = target_smiles_level_list[j]/target_weight_sum\n",
        "            #print(\"Q\" + str(j+1), Supply[\"Q\" + str(j+1)])\n",
        "\n",
        "\n",
        "    # embedding function and similarity \n",
        "    if similarity_score_function == 'Tanimoto':\n",
        "        for i in range(0,query_smiles_list_length):\n",
        "            for j in range(0,target_smiles_list_length):\n",
        "                # calculate the fingerprint similarityscore between query[i],target[j] and input the distance = 1- similarityscore\n",
        "                T[(\"P\" + str(i+1), \"Q\" + str(j+1))] = 1 - DataStructs.FingerprintSimilarity(query_fingerprint_list[i],target_fingerprint_list[j])\n",
        "                print(\"P\" + str(i+1), \"->Q\" + str(j+1), T[(\"P\" + str(i+1), \"Q\" + str(j+1))] )\n",
        "\n",
        "    elif similarity_score_function == 'Dice':\n",
        "        for i in range(0,query_smiles_list_length):\n",
        "            for j in range(0,target_smiles_list_length):\n",
        "                # calculate the fingerprint similarityscore between query[i],target[j] and input the distance = 1- similarityscore\n",
        "                T[(\"P\" + str(i+1), \"Q\" + str(j+1))] = 1 - DataStructs.FingerprintSimilarity(query_fingerprint_list[i],target_fingerprint_list[j], metric=DataStructs.DiceSimilarity)\n",
        "                #print(\"P\" + str(i+1), \"->Q\" + str(j+1), T[(\"P\" + str(i+1), \"Q\" + str(j+1))] )\n",
        "\n",
        "    elif similarity_score_function == 'Cosine':\n",
        "        for i in range(0,query_smiles_list_length):\n",
        "            for j in range(0,target_smiles_list_length):\n",
        "                # calculate the fingerprint similarityscore between query[i],target[j] and input the distance = 1- similarityscore\n",
        "                T[(\"P\" + str(i+1), \"Q\" + str(j+1))] = 1 - DataStructs.FingerprintSimilarity(query_fingerprint_list[i],target_fingerprint_list[j], metric=DataStructs.CosineSimilarity)\n",
        "                #print(\"P\" + str(i+1), \"->Q\" + str(j+1), T[(\"P\" + str(i+1), \"Q\" + str(j+1))] )\n",
        "       \n",
        "    else:\n",
        "        print(similarity_score_function + \" is not included in the current vision, please choose an available similarity function.\");\n",
        "        return\n",
        "\n",
        "    \n",
        "\n",
        "    #print(len(Demand), len(Supply), len(T))\n",
        "    # Step 0: Create an instance of the model\n",
        "    model = ConcreteModel()\n",
        "    model.dual = Suffix(direction=Suffix.IMPORT)\n",
        "\n",
        "    # Step 1: Define index sets\n",
        "    CUS = list(Demand.keys())\n",
        "    SRC = list(Supply.keys())\n",
        "\n",
        "    # Step 2: Define the decision \n",
        "    model.x = Var(CUS, SRC, domain = NonNegativeReals)\n",
        "\n",
        "    # Step 3: Define Objective\n",
        "    model.Cost = Objective(\n",
        "    expr = sum([T[c,s]*model.x[c,s] for c in CUS for s in SRC]),\n",
        "    sense = minimize)\n",
        "\n",
        "    # Step 4: Constraints\n",
        "    model.src = ConstraintList()\n",
        "    for s in SRC:\n",
        "        model.src.add(sum([model.x[c,s] for c in CUS]) == Supply[s])\n",
        "        \n",
        "    model.dmd = ConstraintList()\n",
        "    for c in CUS:\n",
        "        model.dmd.add(sum([model.x[c,s] for s in SRC]) == Demand[c])\n",
        "\n",
        "    # add restrain to the EMD\n",
        "    if restrain_emd == True: \n",
        "        model.restrain = ConstraintList()\n",
        "        for i in range(0,query_smiles_list_length):\n",
        "            model.restrain.add(model.x[CUS[i],SRC[i]] == Supply[\"Q\" + str(i+1)])\n",
        "    \n",
        "    results = SolverFactory('cbc').solve(model)\n",
        "\n",
        "\n",
        "    if 'ok' == str(results.Solver.status):\n",
        "        #print(\"EMD(P,Q) = \",model.Cost())\n",
        "        #print (\"\\n\")\n",
        "        #print(\"S(P,Q) = \", 1- model.Cost())\n",
        "        SimilarityScore = 1- model.Cost()\n",
        "        return SimilarityScore\n",
        "        \n",
        "    else:\n",
        "        print(\"No Valid Solution Found\")\n",
        "        return False\n",
        "\n",
        "\n",
        "    "
      ],
      "metadata": {
        "id": "X-DogQ2hNFpV"
      },
      "execution_count": null,
      "outputs": []
    },
    {
      "cell_type": "markdown",
      "source": [
        "## 2.2. Similarity score of Graph Edit Distance"
      ],
      "metadata": {
        "id": "fNpt-pIDQLOX"
      }
    },
    {
      "cell_type": "code",
      "source": [
        "# Graph Edit Distance\n",
        "def Similarity_Score_Graph_Edit_Distance(Graph1 = None, \n",
        "                         Graph2 = None, \n",
        "                         alpha = 1):\n",
        "    if Graph1 == None:\n",
        "        print(\"Missing Graph1\")\n",
        "        return\n",
        "    if Graph2 == None:\n",
        "        print(\"Missing Graph2\")\n",
        "        return\n",
        "    \n",
        "    # Since Graph1 is the subgraph of Graph2, the calculation of graph edit distance can be simpilified.\n",
        "    Graph1_number = Graph1.number_of_nodes() + Graph1.number_of_edges()\n",
        "    Graph2_number = Graph2.number_of_nodes() + Graph2.number_of_edges()\n",
        "\n",
        "    #graph_edit_distance = abs(Graph2_number - Graph1_number)\n",
        "    graph_edit_distance = nx.graph_edit_distance(Graph1, Graph2)\n",
        "\n",
        "    # utilize the exponential decay function to turn the graph edit distance to similarity score\n",
        "    #similarity_score = np.exp(-alpha*graph_edit_distance/(min(Graph1_number, Graph2_number))\n",
        "    similarity_score = np.exp(-alpha*graph_edit_distance/(max(Graph1_number, Graph2_number)-graph_edit_distance))\n",
        "\n",
        "    return similarity_score "
      ],
      "metadata": {
        "id": "oyUi54M_IorG"
      },
      "execution_count": null,
      "outputs": []
    },
    {
      "cell_type": "markdown",
      "source": [
        "## 2.3. Mean value with different weights and different mean functions"
      ],
      "metadata": {
        "id": "v_4bM0zPQRGC"
      }
    },
    {
      "cell_type": "code",
      "source": [
        "def Combined_Similarity_Score(Repeat_Unit_Similarity_Score = None,\n",
        "                              Repeat_Unit_Weight = 0.5,\n",
        "                              Graph_Similarity_Score = None,\n",
        "                              Graph_Weight = 0.5,\n",
        "                              End_Group_Similarity_Score = None,\n",
        "                              End_Group_Weight = 0.0,\n",
        "                              Mean_Function = 'arithmetic'):\n",
        "  \n",
        "    # Verify whether the weight sum is normalized.\n",
        "    if  abs(Repeat_Unit_Weight + Graph_Weight +  End_Group_Weight -1 ) >=0.000000000001:\n",
        "        print(\"Weight Sum is not normalized.\")\n",
        "        return False\n",
        "\n",
        "    # Not consider the end group\n",
        "    if End_Group_Similarity_Score == None:\n",
        "\n",
        "        if Mean_Function == 'arithmetic':\n",
        "            combined_similarity_score = (Repeat_Unit_Weight * Repeat_Unit_Similarity_Score + Graph_Weight * Graph_Similarity_Score)\n",
        "\n",
        "        elif Mean_Function == 'geometric':\n",
        "            combined_similarity_score = pow(Repeat_Unit_Similarity_Score,Repeat_Unit_Weight)*pow(Graph_Similarity_Score,Graph_Weight)\n",
        "\n",
        "        else:\n",
        "            print(\"Your input mean function \", Mean_Function, \" is not implemented, please choose those implemented mean function, like arithmetic, geometric\")\n",
        "    \n",
        "    # consider the end group\n",
        "    else:\n",
        "      \n",
        "        if Mean_Function == 'arithmetic':\n",
        "            combined_similarity_score = Repeat_Unit_Weight * Repeat_Unit_Similarity_Score + Graph_Weight * Graph_Similarity_Score + End_Group_Weight * End_Group_Similarity_Score\n",
        "\n",
        "        elif Mean_Function == 'geometric':\n",
        "            combined_similarity_score = pow(Repeat_Unit_Similarity_Score,Repeat_Unit_Weight)*pow(Graph_Similarity_Score,Graph_Weight)*pow(End_Group_Similarity_Score, End_Group_Weight)\n",
        "\n",
        "        else:\n",
        "            print(\"Your input mean function \", Mean_Function, \" is not implemented, please choose those implemented mean function, like arithmetic, geometric\")\n",
        "            \n",
        "    return combined_similarity_score\n"
      ],
      "metadata": {
        "id": "ZJKjYPi9KynA"
      },
      "execution_count": null,
      "outputs": []
    },
    {
      "cell_type": "markdown",
      "source": [
        "## 2.4. The Total Similarity Score between the query polymer and the target polymer"
      ],
      "metadata": {
        "id": "7bdTaiEZQelj"
      }
    },
    {
      "cell_type": "code",
      "source": [
        "def Similarity_Score_Two_Polymer(query = None,\n",
        "                                 target = None,\n",
        "                                 #level_weight = True,\n",
        "                                 #level_ratio = 3,\n",
        "                                 embedding_function = 'RDKFingerprint', #Embedding function\n",
        "                                 similarity_score_function = 'Tanimoto', # Similarity function for two vectors\n",
        "                                 restrain_emd = False, # Whether to restrain the emd\n",
        "                                 alpha=1, #reduced parameter for the exponential decay function\n",
        "                                 Repeat_Unit_Weight=0.5,\n",
        "                                 Graph_Weight=0.5,\n",
        "                                 End_Group_Weight = 0.0,\n",
        "                                 Mean_Function = 'geometric',\n",
        "                                 details_print = False):\n",
        "\n",
        "    if query == None or target == None:\n",
        "        print (\"Either query polymer or target polymer is missing! Please check your input.\")\n",
        "        return False\n",
        "    S_repeat_unit = Similarity_Score_EMD(query_smiles_list = query.repeat_unit_smiles_list, \n",
        "                     query_smiles_level_list = query.repeat_unit_smiles_level_list, \n",
        "                     target_smiles_list = target.repeat_unit_smiles_list, \n",
        "                     target_smiles_level_list = target.repeat_unit_smiles_level_list,\n",
        "                     #level_weight = level_weight,\n",
        "                     #level_ratio = level_ratio,\t\n",
        "                     embedding_function = embedding_function,\n",
        "                     similarity_score_function = similarity_score_function,\n",
        "                     restrain_emd = restrain_emd)\n",
        "    \n",
        "    S_graph = Similarity_Score_Graph_Edit_Distance(Graph1=query.graph_representation, \n",
        "                                                   Graph2=target.graph_representation, \n",
        "                                                   alpha=alpha)\n",
        "    \n",
        "    if End_Group_Weight == 0.0: \n",
        "        S_combined = Combined_Similarity_Score(Repeat_Unit_Similarity_Score=S_repeat_unit ,\n",
        "                                       Repeat_Unit_Weight=Repeat_Unit_Weight,\n",
        "                                       Graph_Similarity_Score=S_graph,\n",
        "                                       Graph_Weight=Graph_Weight,\n",
        "                                       End_Group_Similarity_Score = None,\n",
        "                                       End_Group_Weight = End_Group_Weight,\n",
        "                                       Mean_Function = Mean_Function)\n",
        "        if details_print == True:\n",
        "            print(\"Details of the Similarity Score:\\n\")\n",
        "            print(\"Similarity score on Repeating Unit = \", S_repeat_unit, \", Weight for Repeating Unit = \", Repeat_Unit_Weight)\n",
        "            print(\"Similarity score on Graph = \", S_graph, \", Weight for Graph = \", Graph_Weight)\n",
        "            print(\"Similarity score on End Group = \", \"None\", \", Weight for End Group = \", End_Group_Weight)\n",
        "            print(\"Similarity score Combined in \" + Mean_Function + \" mean = \", S_combined)\n",
        "            print(\"\\n\")\n",
        "\n",
        "        return S_combined \n",
        "\n",
        "    else: \n",
        "        S_end_group = Similarity_Score_EMD(query_smiles_list = query.end_group_smiles_list, \n",
        "                     query_smiles_level_list = query.end_group_smiles_level_list, \n",
        "                     target_smiles_list = target.end_group_smiles_list, \n",
        "                     target_smiles_level_list = target.end_group_smiles_level_list,\n",
        "                     #level_weight = level_weight,\n",
        "                     #level_ratio = level_ratio,\t\n",
        "                     embedding_function = embedding_function,\n",
        "                     similarity_score_function = similarity_score_function,\n",
        "                     restrain_emd = restrain_emd)\n",
        "            \n",
        "        S_combined = Combined_Similarity_Score(Repeat_Unit_Similarity_Score=S_repeat_unit ,\n",
        "                                       Repeat_Unit_Weight=Repeat_Unit_Weight,\n",
        "                                       Graph_Similarity_Score=S_graph,\n",
        "                                       Graph_Weight=Graph_Weight,\n",
        "                                       End_Group_Similarity_Score = S_end_group,\n",
        "                                       End_Group_Weight = End_Group_Weight,\n",
        "                                       Mean_Function = Mean_Function)\n",
        "        \n",
        "        if details_print == True:\n",
        "            print(\"Details of the Similarity Score:\\n\")\n",
        "            print(\"Similarity score on Repeating Unit = \", S_repeat_unit, \", Weight for Repeating Unit = \", Repeat_Unit_Weight)\n",
        "            print(\"Similarity score on Graph = \", S_graph, \", Weight for Graph = \", Graph_Weight)\n",
        "            print(\"Similarity score on End Group = \", S_end_group, \", Weight for End Group = \", End_Group_Weight )\n",
        "            print(\"Similarity score Combined in \" + Mean_Function + \" mean = \", S_combined)\n",
        "            print(\"\\n\")\n",
        "            return S_combined, S_repeat_unit, S_graph, S_end_group\n",
        "\n",
        "        return S_combined     \n"
      ],
      "metadata": {
        "id": "tnGFkpht12nw"
      },
      "execution_count": null,
      "outputs": []
    },
    {
      "cell_type": "markdown",
      "source": [
        "# 3. Define the Polymer Class"
      ],
      "metadata": {
        "id": "bijKjSMqQ-gw"
      }
    },
    {
      "cell_type": "code",
      "source": [
        "class Polymer:\n",
        "  def __init__(self, \n",
        "               repeat_unit_smiles_list=None, \n",
        "               repeat_unit_smiles_level_list=None, \n",
        "               end_group_smiles_list=None, \n",
        "               end_group_smiles_level_list=None,\n",
        "               graph_representation=None):\n",
        "    \n",
        "      self.repeat_unit_smiles_list = repeat_unit_smiles_list\n",
        "      self.repeat_unit_smiles_level_list = repeat_unit_smiles_level_list\n",
        "      self.end_group_smiles_list = end_group_smiles_list\n",
        "      self.end_group_smiles_level_list = end_group_smiles_level_list\n",
        "      self.graph_representation = graph_representation"
      ],
      "metadata": {
        "id": "k-I92q5zfd_L"
      },
      "execution_count": null,
      "outputs": []
    },
    {
      "cell_type": "markdown",
      "source": [
        "# 4. Some examples of the topological graph"
      ],
      "metadata": {
        "id": "S1grgnaPRIqt"
      }
    },
    {
      "cell_type": "code",
      "source": [
        "G4 = nx.MultiDiGraph()\n",
        "G4.add_node(1)#E1\n",
        "G4.add_node(2)#D1\n",
        "G4.add_node(3)#R1\n",
        "G4.add_node(4)#R1'\n",
        "G4.add_node(5)#E2\n",
        "G4.add_edge(1, 2)\n",
        "G4.add_edge(2, 5)\n",
        "G4.add_edge(2, 3)\n",
        "G4.add_edge(3, 2)\n",
        "G4.add_edge(2, 4)\n",
        "G4.add_edge(4, 2)\n",
        "nx.draw(G4)"
      ],
      "metadata": {
        "colab": {
          "base_uri": "https://localhost:8080/",
          "height": 319
        },
        "id": "Y8HpxaAiyQcF",
        "outputId": "8ba54355-174a-47a7-90be-48b19f185f50"
      },
      "execution_count": null,
      "outputs": [
        {
          "output_type": "display_data",
          "data": {
            "text/plain": [
              "<Figure size 432x288 with 1 Axes>"
            ],
            "image/png": "[encoded data removed]"
          },
          "metadata": {}
        }
      ]
    },
    {
      "cell_type": "code",
      "source": [
        "G5 = nx.MultiDiGraph()\n",
        "G5.add_node(1)#E1\n",
        "G5.add_node(2)#D1\n",
        "G5.add_node(3)#R1\n",
        "G5.add_node(4)#R1'\n",
        "G5.add_node(5)#E2\n",
        "G5.add_node(6)#D2\n",
        "G5.add_node(7)#R2\n",
        "G5.add_node(8)#R2'\n",
        "G5.add_node(9)#E3\n",
        "G5.add_edge(1, 2)\n",
        "G5.add_edge(2, 5)\n",
        "G5.add_edge(2, 3)\n",
        "G5.add_edge(3, 2)\n",
        "G5.add_edge(2, 4)\n",
        "G5.add_edge(4, 2)\n",
        "\n",
        "G5.add_edge(5, 6)\n",
        "G5.add_edge(6, 9)\n",
        "G5.add_edge(6, 7)\n",
        "G5.add_edge(7, 6)\n",
        "G5.add_edge(6, 8)\n",
        "G5.add_edge(8, 6)\n",
        "\n",
        "nx.draw(G5)\n",
        "print(\"G5 number of nodes: \",G5.number_of_nodes())\n",
        "print(\"G5 number of edges: \",G5.number_of_edges())"
      ],
      "metadata": {
        "colab": {
          "base_uri": "https://localhost:8080/",
          "height": 354
        },
        "id": "-Ozsky1YyuOE",
        "outputId": "f96ba3e8-5d02-4a32-e607-8e43c35922dc"
      },
      "execution_count": null,
      "outputs": [
        {
          "output_type": "stream",
          "name": "stdout",
          "text": [
            "G5 number of nodes:  9\n",
            "G5 number of edges:  12\n"
          ]
        },
        {
          "output_type": "display_data",
          "data": {
            "text/plain": [
              "<Figure size 432x288 with 1 Axes>"
            ],
            "image/png": "[encoded data removed]"
          },
          "metadata": {}
        }
      ]
    },
    {
      "cell_type": "code",
      "source": [
        "G6 = nx.MultiDiGraph()\n",
        "G6.add_node(1)#E1\n",
        "G6.add_node(2)#D1\n",
        "G6.add_node(3)#R1\n",
        "G6.add_node(4)#R1'\n",
        "G6.add_node(5)#E2\n",
        "G6.add_node(6)#D2\n",
        "G6.add_node(7)#R2\n",
        "G6.add_node(8)#R2'\n",
        "G6.add_node(9)#E3\n",
        "G6.add_node(10)#D3\n",
        "G6.add_node(11)#R3\n",
        "G6.add_node(12)#R3'\n",
        "G6.add_node(13)#E4\n",
        "\n",
        "\n",
        "\n",
        "G6.add_edge(1, 2)\n",
        "G6.add_edge(2, 5)\n",
        "G6.add_edge(2, 3)\n",
        "G6.add_edge(3, 2)\n",
        "G6.add_edge(2, 4)\n",
        "G6.add_edge(4, 2)\n",
        "\n",
        "G6.add_edge(5, 6)\n",
        "G6.add_edge(6, 9)\n",
        "G6.add_edge(6, 7)\n",
        "G6.add_edge(7, 6)\n",
        "G6.add_edge(6, 8)\n",
        "G6.add_edge(8, 6)\n",
        "\n",
        "G6.add_edge(5, 10)\n",
        "G6.add_edge(10, 13)\n",
        "G6.add_edge(10, 11)\n",
        "G6.add_edge(11, 10)\n",
        "G6.add_edge(10, 12)\n",
        "G6.add_edge(12, 10)\n",
        "\n",
        "nx.draw(G6)\n",
        "print(\"G6 number of nodes: \",G6.number_of_nodes())\n",
        "print(\"G6 number of edges: \",G6.number_of_edges())"
      ],
      "metadata": {
        "colab": {
          "base_uri": "https://localhost:8080/",
          "height": 354
        },
        "id": "QGOqM-kCyuWJ",
        "outputId": "2e917fca-f475-4243-89c6-77ad406eefbb"
      },
      "execution_count": null,
      "outputs": [
        {
          "output_type": "stream",
          "name": "stdout",
          "text": [
            "G6 number of nodes:  13\n",
            "G6 number of edges:  18\n"
          ]
        },
        {
          "output_type": "display_data",
          "data": {
            "text/plain": [
              "<Figure size 432x288 with 1 Axes>"
            ],
            "image/png": "[encoded data removed]"
          },
          "metadata": {}
        }
      ]
    },
    {
      "cell_type": "code",
      "source": [
        "G7 = nx.MultiDiGraph()\n",
        "G7.add_node(1)#E1\n",
        "G7.add_node(2)#D1\n",
        "G7.add_node(3)#R1\n",
        "G7.add_node(4)#R1'\n",
        "G7.add_node(5)#E2\n",
        "G7.add_node(6)#D2\n",
        "G7.add_node(7)#R2\n",
        "G7.add_node(8)#R2'\n",
        "G7.add_node(9)#E3\n",
        "G7.add_node(10)#D3\n",
        "G7.add_node(11)#R3\n",
        "G7.add_node(12)#R3'\n",
        "G7.add_node(13)#E4\n",
        "G7.add_node(14)#D4\n",
        "G7.add_node(15)#R4\n",
        "G7.add_node(16)#R4'\n",
        "G7.add_node(17)#E5\n",
        "\n",
        "\n",
        "\n",
        "\n",
        "G7.add_edge(1, 2)\n",
        "G7.add_edge(2, 5)\n",
        "G7.add_edge(2, 3)\n",
        "G7.add_edge(3, 2)\n",
        "G7.add_edge(2, 4)\n",
        "G7.add_edge(4, 2)\n",
        "\n",
        "G7.add_edge(5, 6)\n",
        "G7.add_edge(6, 9)\n",
        "G7.add_edge(6, 7)\n",
        "G7.add_edge(7, 6)\n",
        "G7.add_edge(6, 8)\n",
        "G7.add_edge(8, 6)\n",
        "\n",
        "G7.add_edge(5, 10)\n",
        "G7.add_edge(10, 13)\n",
        "G7.add_edge(10, 11)\n",
        "G7.add_edge(11, 10)\n",
        "G7.add_edge(10, 12)\n",
        "G7.add_edge(12, 10)\n",
        "\n",
        "G7.add_edge(5, 14)\n",
        "G7.add_edge(14, 17)\n",
        "G7.add_edge(14, 15)\n",
        "G7.add_edge(15, 14)\n",
        "G7.add_edge(14, 16)\n",
        "G7.add_edge(16, 14)\n",
        "\n",
        "nx.draw(G7)\n",
        "print(\"G7 number of nodes: \",G7.number_of_nodes())\n",
        "print(\"G7 number of edges: \",G7.number_of_edges())"
      ],
      "metadata": {
        "colab": {
          "base_uri": "https://localhost:8080/",
          "height": 354
        },
        "id": "wfRk1K7E0BrF",
        "outputId": "dbd226b4-be43-4217-8c01-0e6178029841"
      },
      "execution_count": null,
      "outputs": [
        {
          "output_type": "stream",
          "name": "stdout",
          "text": [
            "G7 number of nodes:  17\n",
            "G7 number of edges:  24\n"
          ]
        },
        {
          "output_type": "display_data",
          "data": {
            "text/plain": [
              "<Figure size 432x288 with 1 Axes>"
            ],
            "image/png": "[encoded data removed]"
          },
          "metadata": {}
        }
      ]
    },
    {
      "cell_type": "code",
      "source": [
        "PolymerE2_1 = Polymer(repeat_unit_smiles_list = ['*CC(*)c1ccccc1'], \n",
        "                      repeat_unit_smiles_level_list = [1], \n",
        "                      end_group_smiles_list = ['*SC(=S)SCCCC','*C(C)C(=O)OC'], \n",
        "                      end_group_smiles_level_list = [1,1], \n",
        "                      graph_representation = G4)"
      ],
      "metadata": {
        "id": "H5iJ4dL7GcyO"
      },
      "execution_count": null,
      "outputs": []
    },
    {
      "cell_type": "code",
      "source": [
        "PolymerE2_2 = Polymer(repeat_unit_smiles_list = ['*CC(*)c1ccccc1','*CC(*)c1ccccc1'], \n",
        "                      repeat_unit_smiles_level_list = [1,1], \n",
        "                      end_group_smiles_list = ['*SC(=S)SCCCC','*SC(=S)SCCCC','*C(C)C(=O)OCC(C)(C)COC(=O)C(*)C'], \n",
        "                      end_group_smiles_level_list = [1,1,1], \n",
        "                      graph_representation = G5)"
      ],
      "metadata": {
        "id": "_5S19AKY16-o"
      },
      "execution_count": null,
      "outputs": []
    },
    {
      "cell_type": "code",
      "source": [
        "PolymerE2_3 = Polymer(repeat_unit_smiles_list = ['*CC(*)c1ccccc1','*CC(*)c1ccccc1','*CC(*)c1ccccc1'], \n",
        "                      repeat_unit_smiles_level_list = [1,1,1], \n",
        "                      end_group_smiles_list = ['*SC(=S)SCCCC','*SC(=S)SCCCC','*SC(=S)SCCCC', '*C(C)C(=O)OCC(C)(COC(=O)C(*)C)COC(=O)C(*)C'], \n",
        "                      end_group_smiles_level_list = [1,1,1,1], \n",
        "                      graph_representation = G6)"
      ],
      "metadata": {
        "id": "5tT77UYu2TnZ"
      },
      "execution_count": null,
      "outputs": []
    },
    {
      "cell_type": "code",
      "source": [
        "PolymerE2_4 = Polymer(repeat_unit_smiles_list = ['*CC(*)c1ccccc1','*CC(*)c1ccccc1','*CC(*)c1ccccc1','*CC(*)c1ccccc1'], \n",
        "                      repeat_unit_smiles_level_list = [1,1,1,1], \n",
        "                      end_group_smiles_list = ['*SC(=S)SCCCC','*SC(=S)SCCCC','*SC(=S)SCCCC', '*SC(=S)SCCCC', '*C(C)C(=O)OCC(COC(=O)C(*)C)(COC(=O)C(*)C)COC(=O)C(*)C'], \n",
        "                      end_group_smiles_level_list = [1,1,1,1,1], \n",
        "                      graph_representation = G7)"
      ],
      "metadata": {
        "id": "jCVJIhxb2hvL"
      },
      "execution_count": null,
      "outputs": []
    },
    {
      "cell_type": "code",
      "source": [
        "STOT12, SRU12, STOP12, SEG12 = Similarity_Score_Two_Polymer(query = PolymerE2_1,\n",
        "                             target = PolymerE2_2,\n",
        "                             embedding_function = 'MorganFingerprint',\n",
        "                             similarity_score_function = 'Tanimoto',\n",
        "                             restrain_emd = False,\n",
        "                             alpha=1,\n",
        "                             Repeat_Unit_Weight=0.475,\n",
        "                             Graph_Weight=0.475,\n",
        "                             End_Group_Weight = 0.05,\n",
        "                             Mean_Function = 'geometric',\n",
        "                             details_print=True)\n",
        "print(STOT12, SRU12, STOP12, SEG12)"
      ],
      "metadata": {
        "colab": {
          "base_uri": "https://localhost:8080/"
        },
        "id": "tjHWUjG62xwR",
        "outputId": "3e0c41ad-f6a5-453f-ffbd-0876a0626ed0"
      },
      "execution_count": null,
      "outputs": [
        {
          "output_type": "stream",
          "name": "stdout",
          "text": [
            "check1\n",
            "P1 ->Q1 0.0\n",
            "P1 ->Q2 0.0\n",
            "P1 ->Q3 0.8947368421052632\n",
            "P2 ->Q1 0.9117647058823529\n",
            "P2 ->Q2 0.9117647058823529\n",
            "P2 ->Q3 0.52\n",
            "Details of the Similarity Score:\n",
            "\n",
            "Similarity score on Repeating Unit =  1.0 , Weight for Repeating Unit =  0.475\n",
            "Similarity score on Graph =  0.402890321529133 , Weight for Graph =  0.475\n",
            "Similarity score on End Group =  0.6747058810470589 , Weight for End Group =  0.05\n",
            "Similarity score Combined in geometric mean =  0.6366774544691738\n",
            "\n",
            "\n",
            "0.6366774544691738 1.0 0.402890321529133 0.6747058810470589\n"
          ]
        }
      ]
    },
    {
      "cell_type": "code",
      "source": [
        "STOT13, SRU13, STOP13, SEG13 = Similarity_Score_Two_Polymer(query = PolymerE2_1,\n",
        "                             target = PolymerE2_3,\n",
        "                             embedding_function = 'MorganFingerprint',\n",
        "                             similarity_score_function = 'Tanimoto',\n",
        "                             restrain_emd = False,\n",
        "                             alpha=1,\n",
        "                             Repeat_Unit_Weight=0.475,\n",
        "                             Graph_Weight=0.475,\n",
        "                             End_Group_Weight = 0.05,\n",
        "                             Mean_Function = 'geometric',\n",
        "                             details_print=True)"
      ],
      "metadata": {
        "colab": {
          "base_uri": "https://localhost:8080/"
        },
        "id": "kr_g4PhNSGjl",
        "outputId": "4ec795c7-5fad-41d9-8882-436f1c184268"
      },
      "execution_count": null,
      "outputs": [
        {
          "output_type": "stream",
          "name": "stdout",
          "text": [
            "check1\n",
            "P1 ->Q1 0.0\n",
            "P1 ->Q2 0.0\n",
            "P1 ->Q3 0.0\n",
            "P1 ->Q4 0.8947368421052632\n",
            "P2 ->Q1 0.9117647058823529\n",
            "P2 ->Q2 0.9117647058823529\n",
            "P2 ->Q3 0.9117647058823529\n",
            "P2 ->Q4 0.52\n",
            "Details of the Similarity Score:\n",
            "\n",
            "Similarity score on Repeating Unit =  1.0 , Weight for Repeating Unit =  0.475\n",
            "Similarity score on Graph =  0.16232061118184818 , Weight for Graph =  0.475\n",
            "Similarity score on End Group =  0.6420588235294118 , Weight for End Group =  0.05\n",
            "Similarity score Combined in geometric mean =  0.41238820367301926\n",
            "\n",
            "\n"
          ]
        }
      ]
    },
    {
      "cell_type": "code",
      "source": [
        "STOT14, SRU14, STOP14, SEG14 = Similarity_Score_Two_Polymer(query = PolymerE2_1,\n",
        "                             target = PolymerE2_4,\n",
        "                             embedding_function = 'MorganFingerprint',\n",
        "                             similarity_score_function = 'Tanimoto',\n",
        "                             restrain_emd = False,\n",
        "                             alpha=1,\n",
        "                             Repeat_Unit_Weight=0.475,\n",
        "                             Graph_Weight=0.475,\n",
        "                             End_Group_Weight = 0.05,\n",
        "                             Mean_Function = 'geometric',\n",
        "                             details_print=True)"
      ],
      "metadata": {
        "colab": {
          "base_uri": "https://localhost:8080/"
        },
        "id": "WkyML1XMT3LS",
        "outputId": "2cff8e7f-ed04-4080-dc59-c0c22ca8841a"
      },
      "execution_count": null,
      "outputs": [
        {
          "output_type": "stream",
          "name": "stdout",
          "text": [
            "check1\n",
            "P1 ->Q1 0.0\n",
            "P1 ->Q2 0.0\n",
            "P1 ->Q3 0.0\n",
            "P1 ->Q4 0.0\n",
            "P1 ->Q5 0.8918918918918919\n",
            "P2 ->Q1 0.9117647058823529\n",
            "P2 ->Q2 0.9117647058823529\n",
            "P2 ->Q3 0.9117647058823529\n",
            "P2 ->Q4 0.9117647058823529\n",
            "P2 ->Q5 0.5\n",
            "Details of the Similarity Score:\n",
            "\n",
            "Similarity score on Repeating Unit =  1.0 , Weight for Repeating Unit =  0.475\n",
            "Similarity score on Graph =  0.06539740322986021 , Weight for Graph =  0.475\n",
            "Similarity score on End Group =  0.6264705882352941 , Weight for End Group =  0.05\n",
            "Similarity score Combined in geometric mean =  0.2674461027350389\n",
            "\n",
            "\n"
          ]
        }
      ]
    },
    {
      "cell_type": "code",
      "source": [
        "STOT23, SRU23, STOP23, SEG23 = Similarity_Score_Two_Polymer(query = PolymerE2_2,\n",
        "                             target = PolymerE2_3,\n",
        "                             embedding_function = 'MorganFingerprint',\n",
        "                             similarity_score_function = 'Tanimoto',\n",
        "                             restrain_emd = False,\n",
        "                             alpha=1,\n",
        "                             Repeat_Unit_Weight=0.475,\n",
        "                             Graph_Weight=0.475,\n",
        "                             End_Group_Weight = 0.05,\n",
        "                             Mean_Function = 'geometric',\n",
        "                             details_print=True)"
      ],
      "metadata": {
        "colab": {
          "base_uri": "https://localhost:8080/"
        },
        "id": "asf77RK8bfuU",
        "outputId": "63ad5b23-903e-4624-a8dd-201d732c5cfe"
      },
      "execution_count": null,
      "outputs": [
        {
          "output_type": "stream",
          "name": "stdout",
          "text": [
            "check1\n",
            "P1 ->Q1 0.0\n",
            "P1 ->Q2 0.0\n",
            "P1 ->Q3 0.0\n",
            "P1 ->Q4 0.8947368421052632\n",
            "P2 ->Q1 0.0\n",
            "P2 ->Q2 0.0\n",
            "P2 ->Q3 0.0\n",
            "P2 ->Q4 0.8947368421052632\n",
            "P3 ->Q1 0.8947368421052632\n",
            "P3 ->Q2 0.8947368421052632\n",
            "P3 ->Q3 0.8947368421052632\n",
            "P3 ->Q4 0.25\n",
            "Details of the Similarity Score:\n",
            "\n",
            "Similarity score on Repeating Unit =  1.0 , Weight for Repeating Unit =  0.475\n",
            "Similarity score on Graph =  0.6211451576154515 , Weight for Graph =  0.475\n",
            "Similarity score on End Group =  0.8629385967894737 , Weight for End Group =  0.05\n",
            "Similarity score Combined in geometric mean =  0.7917092499195473\n",
            "\n",
            "\n"
          ]
        }
      ]
    },
    {
      "cell_type": "code",
      "source": [
        "STOT24, SRU24, STOP24, SEG24 = Similarity_Score_Two_Polymer(query = PolymerE2_2,\n",
        "                             target = PolymerE2_4,\n",
        "                             embedding_function = 'MorganFingerprint',\n",
        "                             similarity_score_function = 'Tanimoto',\n",
        "                             restrain_emd = False,\n",
        "                             alpha=1,\n",
        "                             Repeat_Unit_Weight=0.475,\n",
        "                             Graph_Weight=0.475,\n",
        "                             End_Group_Weight = 0.05,\n",
        "                             Mean_Function = 'geometric',\n",
        "                             details_print=True)"
      ],
      "metadata": {
        "colab": {
          "base_uri": "https://localhost:8080/"
        },
        "id": "G4UUNGhubrTL",
        "outputId": "1227d52c-51d0-4d92-ec5f-6020585ac1f0"
      },
      "execution_count": null,
      "outputs": [
        {
          "output_type": "stream",
          "name": "stdout",
          "text": [
            "check1\n",
            "P1 ->Q1 0.0\n",
            "P1 ->Q2 0.0\n",
            "P1 ->Q3 0.0\n",
            "P1 ->Q4 0.0\n",
            "P1 ->Q5 0.8918918918918919\n",
            "P2 ->Q1 0.0\n",
            "P2 ->Q2 0.0\n",
            "P2 ->Q3 0.0\n",
            "P2 ->Q4 0.0\n",
            "P2 ->Q5 0.8918918918918919\n",
            "P3 ->Q1 0.8947368421052632\n",
            "P3 ->Q2 0.8947368421052632\n",
            "P3 ->Q3 0.8947368421052632\n",
            "P3 ->Q4 0.8947368421052632\n",
            "P3 ->Q5 0.29166666666666663\n",
            "Details of the Similarity Score:\n",
            "\n",
            "Similarity score on Repeating Unit =  1.0 , Weight for Repeating Unit =  0.475\n",
            "Similarity score on Graph =  0.38582130682912413 , Weight for Graph =  0.475\n",
            "Similarity score on End Group =  0.8223684240350877 , Weight for End Group =  0.05\n",
            "Similarity score Combined in geometric mean =  0.629921990808545\n",
            "\n",
            "\n"
          ]
        }
      ]
    },
    {
      "cell_type": "code",
      "source": [
        "STOT34, SRU34, STOP34, SEG34 = Similarity_Score_Two_Polymer(query = PolymerE2_3,\n",
        "                             target = PolymerE2_4,\n",
        "                             embedding_function = 'MorganFingerprint',\n",
        "                             similarity_score_function = 'Tanimoto',\n",
        "                             restrain_emd = False,\n",
        "                             alpha=1,\n",
        "                             Repeat_Unit_Weight=0.475,\n",
        "                             Graph_Weight=0.475,\n",
        "                             End_Group_Weight = 0.05,\n",
        "                             Mean_Function = 'geometric',\n",
        "                             details_print=True)"
      ],
      "metadata": {
        "colab": {
          "base_uri": "https://localhost:8080/"
        },
        "id": "rp2PVvQWcKA9",
        "outputId": "1325b5d5-3401-45c1-8aa1-60bc3545e334"
      },
      "execution_count": null,
      "outputs": [
        {
          "output_type": "stream",
          "name": "stdout",
          "text": [
            "check1\n",
            "P1 ->Q1 0.0\n",
            "P1 ->Q2 0.0\n",
            "P1 ->Q3 0.0\n",
            "P1 ->Q4 0.0\n",
            "P1 ->Q5 0.8918918918918919\n",
            "P2 ->Q1 0.0\n",
            "P2 ->Q2 0.0\n",
            "P2 ->Q3 0.0\n",
            "P2 ->Q4 0.0\n",
            "P2 ->Q5 0.8918918918918919\n",
            "P3 ->Q1 0.0\n",
            "P3 ->Q2 0.0\n",
            "P3 ->Q3 0.0\n",
            "P3 ->Q4 0.0\n",
            "P3 ->Q5 0.8918918918918919\n",
            "P4 ->Q1 0.8947368421052632\n",
            "P4 ->Q2 0.8947368421052632\n",
            "P4 ->Q3 0.8947368421052632\n",
            "P4 ->Q4 0.8947368421052632\n",
            "P4 ->Q5 0.29166666666666663\n",
            "Details of the Similarity Score:\n",
            "\n",
            "Similarity score on Repeating Unit =  1.0 , Weight for Repeating Unit =  0.475\n",
            "Similarity score on Graph =  0.7242775199742143 , Weight for Graph =  0.475\n",
            "Similarity score on End Group =  0.8969298245614035 , Weight for End Group =  0.05\n",
            "Similarity score Combined in geometric mean =  0.8532824258824586\n",
            "\n",
            "\n"
          ]
        }
      ]
    },
    {
      "cell_type": "code",
      "source": [
        "E2_RU_matrix = np.array([[1.0, SRU12, SRU13, SRU14],\n",
        "                [SRU12, 1.0, SRU23, SRU24],\n",
        "                [SRU13, SRU23, 1.0, SRU34],\n",
        "                [SRU14, SRU24, SRU34, 1.0]])"
      ],
      "metadata": {
        "id": "So5LYLzxccvN"
      },
      "execution_count": null,
      "outputs": []
    },
    {
      "cell_type": "code",
      "source": [
        "import seaborn as sns\n",
        "import matplotlib.pyplot as plt\n",
        "import numpy as np"
      ],
      "metadata": {
        "id": "MNiyb5mweyOy"
      },
      "execution_count": null,
      "outputs": []
    },
    {
      "cell_type": "code",
      "source": [
        "fig,ax = plt.subplots(figsize=(6,5))\n",
        "\n",
        "ax = sns.heatmap(E2_RU_matrix, linewidth=0.3, annot=True, fmt=\".2f\" , cbar_kws={'label': 'Similarity Score'})\n",
        "\n",
        "x_labels = [\"E2-1\", \"E2-2\", \"E2-3\", \"E2-4\"]\n",
        "y_labels = [\"E2-1\", \"E2-2\", \"E2-3\", \"E2-4\"]\n",
        "#ax.set_xticks([x_to_num[v] for v in x_labels])\n",
        "ax.set_xticklabels(x_labels, rotation=0, horizontalalignment='center')\n",
        "#ax.set_yticks([y_to_num[v] for v in y_labels])\n",
        "ax.set_yticklabels(y_labels, rotation=360, horizontalalignment='right')\n",
        "ax.set_xlabel(r\"$\\lambda_1$\", size =24)\n",
        "ax.set_ylabel(r\"$\\lambda_2$\", size = 24)\n",
        "resolution_value = 1200\n",
        "#plt.savefig(\"myImage_heatmap.png\", format=\"png\", dpi=resolution_value , bbox_inches='tight')\n",
        "\n",
        "plt.show()"
      ],
      "metadata": {
        "colab": {
          "base_uri": "https://localhost:8080/",
          "height": 355
        },
        "id": "eEyeQPS4fBtz",
        "outputId": "c5a89f7d-c29d-4efb-ea88-4217f22e39d7"
      },
      "execution_count": null,
      "outputs": [
        {
          "output_type": "display_data",
          "data": {
            "text/plain": [
              "<Figure size 432x360 with 2 Axes>"
            ],
            "image/png": "[encoded data removed]"
          },
          "metadata": {
            "needs_background": "light"
          }
        }
      ]
    },
    {
      "cell_type": "code",
      "source": [
        "E2_TOP_matrix = np.array([[1.0, STOP12, STOP13, STOP14],\n",
        "                [STOP12, 1.0, STOP23, STOP24],\n",
        "                [STOP13, STOP23, 1.0, STOP34],\n",
        "                [STOP14, STOP24, STOP34, 1.0]])"
      ],
      "metadata": {
        "id": "ZYDNIWDufRIw"
      },
      "execution_count": null,
      "outputs": []
    },
    {
      "cell_type": "code",
      "source": [
        "fig,ax = plt.subplots(figsize=(6,5))\n",
        "\n",
        "ax = sns.heatmap(E2_TOP_matrix, linewidth=0.3, annot=True, fmt=\".2f\" , cbar_kws={'label': 'Similarity Score'})\n",
        "\n",
        "x_labels = [\"E2-1\", \"E2-2\", \"E2-3\", \"E2-4\"]\n",
        "y_labels = [\"E2-1\", \"E2-2\", \"E2-3\", \"E2-4\"]\n",
        "#ax.set_xticks([x_to_num[v] for v in x_labels])\n",
        "ax.set_xticklabels(x_labels, rotation=0, horizontalalignment='center')\n",
        "#ax.set_yticks([y_to_num[v] for v in y_labels])\n",
        "ax.set_yticklabels(y_labels, rotation=360, horizontalalignment='right')\n",
        "ax.set_xlabel(r\"$\\lambda_1$\", size =24)\n",
        "ax.set_ylabel(r\"$\\lambda_2$\", size = 24)\n",
        "resolution_value = 1200\n",
        "#plt.savefig(\"myImage_heatmap.png\", format=\"png\", dpi=resolution_value , bbox_inches='tight')\n",
        "\n",
        "plt.show()"
      ],
      "metadata": {
        "colab": {
          "base_uri": "https://localhost:8080/",
          "height": 355
        },
        "id": "g4i6UQ0nfhce",
        "outputId": "1ae2dcff-336e-49ca-cd97-c56fe500eedf"
      },
      "execution_count": null,
      "outputs": [
        {
          "output_type": "display_data",
          "data": {
            "text/plain": [
              "<Figure size 432x360 with 2 Axes>"
            ],
            "image/png": "[encoded data removed]"
          },
          "metadata": {
            "needs_background": "light"
          }
        }
      ]
    },
    {
      "cell_type": "code",
      "source": [
        "E2_EG_matrix = np.array([[1.0, SEG12, SEG13, SEG14],\n",
        "                [SEG12, 1.0, SEG23, SEG24],\n",
        "                [SEG13, SEG23, 1.0, SEG34],\n",
        "                [SEG14, SEG24, SEG34, 1.0]])"
      ],
      "metadata": {
        "id": "SkKns5bNfixc"
      },
      "execution_count": null,
      "outputs": []
    },
    {
      "cell_type": "code",
      "source": [
        "fig,ax = plt.subplots(figsize=(6,5))\n",
        "\n",
        "ax = sns.heatmap(E2_EG_matrix, linewidth=0.3, annot=True, fmt=\".2f\" , cbar_kws={'label': 'Similarity Score'})\n",
        "\n",
        "x_labels = [\"E2-1\", \"E2-2\", \"E2-3\", \"E2-4\"]\n",
        "y_labels = [\"E2-1\", \"E2-2\", \"E2-3\", \"E2-4\"]\n",
        "#ax.set_xticks([x_to_num[v] for v in x_labels])\n",
        "ax.set_xticklabels(x_labels, rotation=0, horizontalalignment='center')\n",
        "#ax.set_yticks([y_to_num[v] for v in y_labels])\n",
        "ax.set_yticklabels(y_labels, rotation=360, horizontalalignment='right')\n",
        "ax.set_xlabel(r\"$\\lambda_1$\", size =24)\n",
        "ax.set_ylabel(r\"$\\lambda_2$\", size = 24)\n",
        "resolution_value = 1200\n",
        "#plt.savefig(\"myImage_heatmap.png\", format=\"png\", dpi=resolution_value , bbox_inches='tight')\n",
        "\n",
        "plt.show()"
      ],
      "metadata": {
        "colab": {
          "base_uri": "https://localhost:8080/",
          "height": 355
        },
        "id": "6c7F02nKgHwO",
        "outputId": "dea7b317-5c05-4acd-8c9a-07e86295b83b"
      },
      "execution_count": null,
      "outputs": [
        {
          "output_type": "display_data",
          "data": {
            "text/plain": [
              "<Figure size 432x360 with 2 Axes>"
            ],
            "image/png": "[encoded data removed]"
          },
          "metadata": {
            "needs_background": "light"
          }
        }
      ]
    },
    {
      "cell_type": "code",
      "source": [
        "E2_TOT_matrix = np.array([[1.0, STOT12, STOT13, STOT14],\n",
        "                [STOT12, 1.0, STOT23, STOT24],\n",
        "                [STOT13, STOT23, 1.0, STOT34],\n",
        "                [STOT14, STOT24, STOT34, 1.0]])"
      ],
      "metadata": {
        "id": "hYpHzq9vf6YR"
      },
      "execution_count": null,
      "outputs": []
    },
    {
      "cell_type": "code",
      "source": [
        "fig,ax = plt.subplots(figsize=(6,5))\n",
        "\n",
        "ax = sns.heatmap(E2_TOT_matrix, linewidth=0.3, annot=True, fmt=\".2f\" , cbar_kws={'label': 'Similarity Score'})\n",
        "\n",
        "x_labels = [\"E2-1\", \"E2-2\", \"E2-3\", \"E2-4\"]\n",
        "y_labels = [\"E2-1\", \"E2-2\", \"E2-3\", \"E2-4\"]\n",
        "#ax.set_xticks([x_to_num[v] for v in x_labels])\n",
        "ax.set_xticklabels(x_labels, rotation=0, horizontalalignment='center')\n",
        "#ax.set_yticks([y_to_num[v] for v in y_labels])\n",
        "ax.set_yticklabels(y_labels, rotation=360, horizontalalignment='right')\n",
        "ax.set_xlabel(r\"$\\lambda_1$\", size =24)\n",
        "ax.set_ylabel(r\"$\\lambda_2$\", size = 24)\n",
        "resolution_value = 1200\n",
        "#plt.savefig(\"myImage_heatmap.png\", format=\"png\", dpi=resolution_value , bbox_inches='tight')\n",
        "\n",
        "plt.show()"
      ],
      "metadata": {
        "colab": {
          "base_uri": "https://localhost:8080/",
          "height": 355
        },
        "id": "wConOQWrgK2p",
        "outputId": "fb85ba8a-c261-484b-f0c2-f75318583041"
      },
      "execution_count": null,
      "outputs": [
        {
          "output_type": "display_data",
          "data": {
            "text/plain": [
              "<Figure size 432x360 with 2 Axes>"
            ],
            "image/png": "[encoded data removed]"
          },
          "metadata": {
            "needs_background": "light"
          }
        }
      ]
    },
    {
      "cell_type": "code",
      "source": [
        "from scipy import io"
      ],
      "metadata": {
        "id": "N1JeW_ZKgMXn"
      },
      "execution_count": null,
      "outputs": []
    },
    {
      "cell_type": "code",
      "source": [
        "io.savemat(\"E2_TOT_matrix.mat\", {\"E2_TOT_matrix\": E2_TOT_matrix})\n",
        "io.savemat(\"E2_RU_matrix.mat\", {\"E2_RU_matrix\": E2_RU_matrix})\n",
        "io.savemat(\"E2_TOP_matrix.mat\", {\"E2_TOP_matrix\": E2_TOP_matrix})\n",
        "io.savemat(\"E2_EG_matrix.mat\", {\"E2_EG_matrix\": E2_EG_matrix})"
      ],
      "metadata": {
        "id": "81v5xkTLgUyN"
      },
      "execution_count": null,
      "outputs": []
    },
    {
      "cell_type": "code",
      "source": [],
      "metadata": {
        "id": "rC4T8CIFgl0Q"
      },
      "execution_count": null,
      "outputs": []
    }
  ]
}