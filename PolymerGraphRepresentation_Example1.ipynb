{
  "nbformat": 4,
  "nbformat_minor": 0,
  "metadata": {
    "colab": {
      "provenance": []
    },
    "kernelspec": {
      "name": "python3",
      "display_name": "Python 3"
    },
    "language_info": {
      "name": "python"
    }
  },
  "cells": [
    {
      "cell_type": "markdown",
      "source": [
        "[Open in Colab](https://colab.research.google.com/drive/1bCEHcxmlmRCOG5lM5zN7lDNqcvsuBiCW?usp=sharing)"
      ],
      "metadata": {
        "id": "kA0PTW_O3VxE"
      }
    },
    {
      "cell_type": "markdown",
      "source": [
        "# 1. Imports Necessary Library"
      ],
      "metadata": {
        "id": "-9n8-Ciyiy7G"
      }
    },
    {
      "cell_type": "code",
      "source": [
        "import numpy as np\n",
        "import networkx as nx\n",
        "import matplotlib.pyplot as plt\n",
        "import shutil\n",
        "import sys\n",
        "import os.path\n",
        "\n",
        "#necessary library\n",
        "!pip install -q rdkit\n",
        "from rdkit import Chem\n",
        "from rdkit import DataStructs\n",
        "from rdkit.Chem import AllChem\n",
        "from rdkit.Chem import MACCSkeys\n",
        "from rdkit.Chem.AtomPairs import Pairs\n",
        "\n",
        "\n",
        "if not shutil.which(\"pyomo\"):\n",
        "    !pip install -q pyomo\n",
        "    assert(shutil.which(\"pyomo\"))\n",
        "\n",
        "if not (shutil.which(\"cbc\") or os.path.isfile(\"cbc\")):\n",
        "    if \"google.colab\" in sys.modules:\n",
        "        !apt-get install -y -qq coinor-cbc\n",
        "        print(\"install cbc\")\n",
        "    else:\n",
        "        try:\n",
        "            !conda install -c conda-forge coincbc \n",
        "            print(\"install cbc-2\")\n",
        "        except:\n",
        "            print(\"skip cbc\")\n",
        "            pass\n",
        "            \n",
        "\n",
        "assert(shutil.which(\"cbc\") or os.path.isfile(\"cbc\"))\n",
        "    \n",
        "from pyomo.environ import *"
      ],
      "metadata": {
        "id": "psnOpmYlL_sw",
        "colab": {
          "base_uri": "https://localhost:8080/"
        },
        "outputId": "08f9f26d-6967-4a95-b080-355babe99293"
      },
      "execution_count": null,
      "outputs": [
        {
          "output_type": "stream",
          "name": "stdout",
          "text": [
            "\u001b[K     |████████████████████████████████| 29.3 MB 14.8 MB/s \n",
            "\u001b[K     |████████████████████████████████| 11.1 MB 5.1 MB/s \n",
            "\u001b[K     |████████████████████████████████| 49 kB 5.8 MB/s \n",
            "\u001b[?25hSelecting previously unselected package coinor-libcoinutils3v5.\n",
            "(Reading database ... 124016 files and directories currently installed.)\n",
            "Preparing to unpack .../0-coinor-libcoinutils3v5_2.10.14+repack1-1_amd64.deb ...\n",
            "Unpacking coinor-libcoinutils3v5 (2.10.14+repack1-1) ...\n",
            "Selecting previously unselected package coinor-libosi1v5.\n",
            "Preparing to unpack .../1-coinor-libosi1v5_0.107.9+repack1-1_amd64.deb ...\n",
            "Unpacking coinor-libosi1v5 (0.107.9+repack1-1) ...\n",
            "Selecting previously unselected package coinor-libclp1.\n",
            "Preparing to unpack .../2-coinor-libclp1_1.16.11+repack1-1_amd64.deb ...\n",
            "Unpacking coinor-libclp1 (1.16.11+repack1-1) ...\n",
            "Selecting previously unselected package coinor-libcgl1.\n",
            "Preparing to unpack .../3-coinor-libcgl1_0.59.10+repack1-1_amd64.deb ...\n",
            "Unpacking coinor-libcgl1 (0.59.10+repack1-1) ...\n",
            "Selecting previously unselected package coinor-libcbc3.\n",
            "Preparing to unpack .../4-coinor-libcbc3_2.9.9+repack1-1_amd64.deb ...\n",
            "Unpacking coinor-libcbc3 (2.9.9+repack1-1) ...\n",
            "Selecting previously unselected package coinor-cbc.\n",
            "Preparing to unpack .../5-coinor-cbc_2.9.9+repack1-1_amd64.deb ...\n",
            "Unpacking coinor-cbc (2.9.9+repack1-1) ...\n",
            "Setting up coinor-libcoinutils3v5 (2.10.14+repack1-1) ...\n",
            "Setting up coinor-libosi1v5 (0.107.9+repack1-1) ...\n",
            "Setting up coinor-libclp1 (1.16.11+repack1-1) ...\n",
            "Setting up coinor-libcgl1 (0.59.10+repack1-1) ...\n",
            "Setting up coinor-libcbc3 (2.9.9+repack1-1) ...\n",
            "Setting up coinor-cbc (2.9.9+repack1-1) ...\n",
            "Processing triggers for man-db (2.8.3-2ubuntu0.1) ...\n",
            "Processing triggers for libc-bin (2.27-3ubuntu1.6) ...\n",
            "install cbc\n"
          ]
        }
      ]
    },
    {
      "cell_type": "markdown",
      "source": [
        "# 2. Similarity Score Function"
      ],
      "metadata": {
        "id": "D2aVwhkeZcX8"
      }
    },
    {
      "cell_type": "markdown",
      "source": [
        "## 2.1. Similarity score of earth mover's distance for repeating units ensemble and end group ensemble "
      ],
      "metadata": {
        "id": "HsMcsqU-Pv6Y"
      }
    },
    {
      "cell_type": "code",
      "source": [
        "#from pyomo.common.fileutils import Executable\n",
        "def Similarity_Score_EMD(query_smiles_list = None, \n",
        "                         query_smiles_level_list = None, \n",
        "                         target_smiles_list = None, \n",
        "                         target_smiles_level_list = None,\n",
        "                         #level_weight = False,\n",
        "                         #level_ratio = 3,\n",
        "                         embedding_function = 'MorganFingerprint', #\n",
        "                         similarity_score_function = 'Tanimoto', # Dice, Cosine\n",
        "                         restrain_emd = False):\n",
        "  \n",
        "    #obtain the length of query smiles list and target smiles list\n",
        "    if query_smiles_list != None:\n",
        "        query_smiles_list_length = len(query_smiles_list)\n",
        "    else:\n",
        "        print (\"Missing query smiles list\")\n",
        "        return    \n",
        "\n",
        "    if target_smiles_list != None:\n",
        "        target_smiles_list_length = len(target_smiles_list)\n",
        "    else:\n",
        "        print (\"Missing target smiles list\")\n",
        "        return\n",
        "    \n",
        "    if set(query_smiles_list) == set(target_smiles_list):\n",
        "        query_smiles_array = np.array(query_smiles_list)\n",
        "        query_smiles_level_array = np.array(query_smiles_level_list)\n",
        "        inds_query = query_smiles_array.argsort()\n",
        "        sorted_query_smiles_array = query_smiles_array[inds_query]\n",
        "        sorted_query_smiles_level_array = query_smiles_level_array[inds_query]\n",
        "\n",
        "        target_smiles_array = np.array(target_smiles_list)\n",
        "        target_smiles_level_array = np.array(target_smiles_level_list)\n",
        "        inds_target = target_smiles_array.argsort()\n",
        "        sorted_target_smiles_array = target_smiles_array[inds_target]\n",
        "        sorted_target_smiles_level_array = target_smiles_level_array[inds_target]\n",
        "\n",
        "        if np.array_equal(sorted_query_smiles_array, sorted_target_smiles_array) and np.array_equal(sorted_query_smiles_level_array, sorted_target_smiles_level_array):\n",
        "            return 1.0\n",
        "\n",
        "        query_smiles_reduced_list = list(set(query_smiles_list))\n",
        "        query_smiles_reduced_list_number = []\n",
        "        for i in range(0, len(query_smiles_reduced_list)):\n",
        "            query_smiles_reduced_list_number_i  = 0\n",
        "            for j in range(0, len(query_smiles_list)):\n",
        "                if query_smiles_reduced_list[i] == query_smiles_list[j]:\n",
        "                    query_smiles_reduced_list_number_i = query_smiles_reduced_list_number_i   + query_smiles_level_list[j]\n",
        "            query_smiles_reduced_list_number.append(query_smiles_reduced_list_number_i/sum(query_smiles_level_list))\n",
        "\n",
        "        target_smiles_reduced_list = list(set(target_smiles_list))\n",
        "        target_smiles_reduced_list_number = []\n",
        "        for i in range(0, len(target_smiles_reduced_list)):\n",
        "            target_smiles_reduced_list_number_i  = 0\n",
        "            for j in range(0, len(target_smiles_list)):\n",
        "                if target_smiles_reduced_list[i] == target_smiles_list[j]:\n",
        "                    target_smiles_reduced_list_number_i = target_smiles_reduced_list_number_i   + target_smiles_level_list[j]\n",
        "            target_smiles_reduced_list_number.append(target_smiles_reduced_list_number_i/sum(target_smiles_level_list))\n",
        "\n",
        "        if query_smiles_reduced_list_number == target_smiles_reduced_list_number:\n",
        "            #print(\"check3\")\n",
        "            return 1.0\n",
        "\n",
        "\n",
        "    if embedding_function == 'RDKFingerprint':    \n",
        "        query_mol_list = [Chem.MolFromSmiles(x) for x in query_smiles_list]\n",
        "        query_fingerprint_list = [Chem.RDKFingerprint(x) for x in query_mol_list]\n",
        "        target_mol_list = [Chem.MolFromSmiles(x) for x in target_smiles_list]\n",
        "        target_fingerprint_list = [Chem.RDKFingerprint(x) for x in target_mol_list]\n",
        "\n",
        "    elif embedding_function == 'MorganFingerprint':    \n",
        "        query_mol_list = [Chem.MolFromSmiles(x) for x in query_smiles_list]\n",
        "        query_fingerprint_list = [AllChem.GetMorganFingerprintAsBitVect(x,2,nBits=2048) for x in query_mol_list]\n",
        "        target_mol_list = [Chem.MolFromSmiles(x) for x in target_smiles_list]\n",
        "        target_fingerprint_list = [AllChem.GetMorganFingerprintAsBitVect(x,2,nBits=2048) for x in target_mol_list]\n",
        "\n",
        "    elif embedding_function == 'MACCSkeys':    \n",
        "        query_mol_list = [Chem.MolFromSmiles(x) for x in query_smiles_list]\n",
        "        query_fingerprint_list = [MACCSkeys.GenMACCSKeys(x) for x in query_mol_list]\n",
        "        target_mol_list = [Chem.MolFromSmiles(x) for x in target_smiles_list]\n",
        "        target_fingerprint_list = [MACCSkeys.GenMACCSKeys(x) for x in target_mol_list]\n",
        "\n",
        "\n",
        "    else:\n",
        "        print(embedding_function + \" is not included in the current vision, please choose an available embedding function.\");\n",
        "        return False         \n",
        "\n",
        "    Demand = {}\n",
        "    Supply = {}\n",
        "    T = {}\n",
        "\n",
        "    if query_smiles_level_list == None or len(set(query_smiles_level_list)) ==1:\n",
        "        for i in range(0, query_smiles_list_length):\n",
        "            Demand[\"P\" + str(i+1)] = 1/query_smiles_list_length\n",
        "    else:\n",
        "        print(\"Query smiles list has different levels\")\n",
        "        #query_weight_sum = sum(query_smiles_level_list)\n",
        "        #level 1, weight = 1; level 2, weight = 3^1;  level n, weight = 3^n-1\n",
        "        query_weight_sum = 0.0\n",
        "        for i in range(0, query_smiles_list_length):\n",
        "            query_weight_sum = query_weight_sum + query_smiles_level_list[i]\n",
        "\n",
        "        for i in range(0, query_smiles_list_length):\n",
        "            Demand[\"P\" + str(i+1)] = query_smiles_level_list[i]/query_weight_sum\n",
        "            #print(\"P\" + str(i+1), Demand[\"P\" + str(i+1)])\n",
        "\n",
        "\n",
        "    if target_smiles_level_list == None or len(set(target_smiles_level_list)) ==1:       \n",
        "        for j in range(0,target_smiles_list_length):\n",
        "            Supply[\"Q\" + str(j+1)] = 1/target_smiles_list_length\n",
        "    else:\n",
        "        print(\"Target smiles list has different levels\")\n",
        "        \n",
        "        target_weight_sum = 0.0\n",
        "        for j in range(0, target_smiles_list_length):\n",
        "            target_weight_sum = target_weight_sum + target_smiles_level_list[j]\n",
        "\n",
        "        for j in range(0, target_smiles_list_length):\n",
        "            Supply[\"Q\" + str(j+1)] = target_smiles_level_list[j]/target_weight_sum\n",
        "            #print(\"Q\" + str(j+1), Supply[\"Q\" + str(j+1)])\n",
        "\n",
        "\n",
        "    # embedding function and similarity \n",
        "    if similarity_score_function == 'Tanimoto':\n",
        "        for i in range(0,query_smiles_list_length):\n",
        "            for j in range(0,target_smiles_list_length):\n",
        "                # calculate the fingerprint similarityscore between query[i],target[j] and input the distance = 1- similarityscore\n",
        "                T[(\"P\" + str(i+1), \"Q\" + str(j+1))] = 1 - DataStructs.FingerprintSimilarity(query_fingerprint_list[i],target_fingerprint_list[j])\n",
        "                print(\"P\" + str(i+1), \"->Q\" + str(j+1), T[(\"P\" + str(i+1), \"Q\" + str(j+1))] )\n",
        "\n",
        "    elif similarity_score_function == 'Dice':\n",
        "        for i in range(0,query_smiles_list_length):\n",
        "            for j in range(0,target_smiles_list_length):\n",
        "                # calculate the fingerprint similarityscore between query[i],target[j] and input the distance = 1- similarityscore\n",
        "                T[(\"P\" + str(i+1), \"Q\" + str(j+1))] = 1 - DataStructs.FingerprintSimilarity(query_fingerprint_list[i],target_fingerprint_list[j], metric=DataStructs.DiceSimilarity)\n",
        "                #print(\"P\" + str(i+1), \"->Q\" + str(j+1), T[(\"P\" + str(i+1), \"Q\" + str(j+1))] )\n",
        "\n",
        "    elif similarity_score_function == 'Cosine':\n",
        "        for i in range(0,query_smiles_list_length):\n",
        "            for j in range(0,target_smiles_list_length):\n",
        "                # calculate the fingerprint similarityscore between query[i],target[j] and input the distance = 1- similarityscore\n",
        "                T[(\"P\" + str(i+1), \"Q\" + str(j+1))] = 1 - DataStructs.FingerprintSimilarity(query_fingerprint_list[i],target_fingerprint_list[j], metric=DataStructs.CosineSimilarity)\n",
        "                #print(\"P\" + str(i+1), \"->Q\" + str(j+1), T[(\"P\" + str(i+1), \"Q\" + str(j+1))] )\n",
        "       \n",
        "    else:\n",
        "        print(similarity_score_function + \" is not included in the current vision, please choose an available similarity function.\");\n",
        "        return\n",
        "\n",
        "    \n",
        "\n",
        "    #print(len(Demand), len(Supply), len(T))\n",
        "    # Step 0: Create an instance of the model\n",
        "    model = ConcreteModel()\n",
        "    model.dual = Suffix(direction=Suffix.IMPORT)\n",
        "\n",
        "    # Step 1: Define index sets\n",
        "    CUS = list(Demand.keys())\n",
        "    SRC = list(Supply.keys())\n",
        "\n",
        "    # Step 2: Define the decision \n",
        "    model.x = Var(CUS, SRC, domain = NonNegativeReals)\n",
        "\n",
        "    # Step 3: Define Objective\n",
        "    model.Cost = Objective(\n",
        "    expr = sum([T[c,s]*model.x[c,s] for c in CUS for s in SRC]),\n",
        "    sense = minimize)\n",
        "\n",
        "    # Step 4: Constraints\n",
        "    model.src = ConstraintList()\n",
        "    for s in SRC:\n",
        "        model.src.add(sum([model.x[c,s] for c in CUS]) == Supply[s])\n",
        "        \n",
        "    model.dmd = ConstraintList()\n",
        "    for c in CUS:\n",
        "        model.dmd.add(sum([model.x[c,s] for s in SRC]) == Demand[c])\n",
        "\n",
        "    # add restrain to the EMD\n",
        "    if restrain_emd == True: \n",
        "        model.restrain = ConstraintList()\n",
        "        for i in range(0,query_smiles_list_length):\n",
        "            model.restrain.add(model.x[CUS[i],SRC[i]] == Supply[\"Q\" + str(i+1)])\n",
        "    \n",
        "    results = SolverFactory('cbc').solve(model)\n",
        "\n",
        "\n",
        "    if 'ok' == str(results.Solver.status):\n",
        "        #print(\"EMD(P,Q) = \",model.Cost())\n",
        "        #print (\"\\n\")\n",
        "        #print(\"S(P,Q) = \", 1- model.Cost())\n",
        "        SimilarityScore = 1- model.Cost()\n",
        "        return SimilarityScore\n",
        "        \n",
        "    else:\n",
        "        print(\"No Valid Solution Found\")\n",
        "        return False\n",
        "\n",
        "\n",
        "    "
      ],
      "metadata": {
        "id": "X-DogQ2hNFpV"
      },
      "execution_count": null,
      "outputs": []
    },
    {
      "cell_type": "markdown",
      "source": [
        "## 2.2. Similarity score of Graph Edit Distance"
      ],
      "metadata": {
        "id": "fNpt-pIDQLOX"
      }
    },
    {
      "cell_type": "code",
      "source": [
        "# Graph Edit Distance\n",
        "def Similarity_Score_Graph_Edit_Distance(Graph1 = None, \n",
        "                         Graph2 = None, \n",
        "                         alpha = 1):\n",
        "    if Graph1 == None:\n",
        "        print(\"Missing Graph1\")\n",
        "        return\n",
        "    if Graph2 == None:\n",
        "        print(\"Missing Graph2\")\n",
        "        return\n",
        "    \n",
        "    # Since Graph1 is the subgraph of Graph2, the calculation of graph edit distance can be simpilified.\n",
        "    Graph1_number = Graph1.number_of_nodes() + Graph1.number_of_edges()\n",
        "    Graph2_number = Graph2.number_of_nodes() + Graph2.number_of_edges()\n",
        "\n",
        "    #graph_edit_distance = abs(Graph2_number - Graph1_number)\n",
        "    graph_edit_distance = nx.graph_edit_distance(Graph1, Graph2)\n",
        "\n",
        "    # utilize the exponential decay function to turn the graph edit distance to similarity score\n",
        "    #similarity_score = np.exp(-alpha*graph_edit_distance/(min(Graph1_number, Graph2_number))\n",
        "    similarity_score = np.exp(-alpha*graph_edit_distance/(max(Graph1_number, Graph2_number)-graph_edit_distance))\n",
        "\n",
        "    return similarity_score "
      ],
      "metadata": {
        "id": "oyUi54M_IorG"
      },
      "execution_count": null,
      "outputs": []
    },
    {
      "cell_type": "markdown",
      "source": [
        "## 2.3. Mean value with different weights and different mean functions"
      ],
      "metadata": {
        "id": "v_4bM0zPQRGC"
      }
    },
    {
      "cell_type": "code",
      "source": [
        "def Combined_Similarity_Score(Repeat_Unit_Similarity_Score = None,\n",
        "                              Repeat_Unit_Weight = 0.5,\n",
        "                              Graph_Similarity_Score = None,\n",
        "                              Graph_Weight = 0.5,\n",
        "                              End_Group_Similarity_Score = None,\n",
        "                              End_Group_Weight = 0.0,\n",
        "                              Mean_Function = 'arithmetic'):\n",
        "  \n",
        "    # Verify whether the weight sum is normalized.\n",
        "    if  abs(Repeat_Unit_Weight + Graph_Weight +  End_Group_Weight -1 ) >=0.000000000001:\n",
        "        print(\"Weight Sum is not normalized.\")\n",
        "        return False\n",
        "\n",
        "    # Not consider the end group\n",
        "    if End_Group_Similarity_Score == None:\n",
        "\n",
        "        if Mean_Function == 'arithmetic':\n",
        "            combined_similarity_score = (Repeat_Unit_Weight * Repeat_Unit_Similarity_Score + Graph_Weight * Graph_Similarity_Score)\n",
        "\n",
        "        elif Mean_Function == 'geometric':\n",
        "            combined_similarity_score = pow(Repeat_Unit_Similarity_Score,Repeat_Unit_Weight)*pow(Graph_Similarity_Score,Graph_Weight)\n",
        "\n",
        "        else:\n",
        "            print(\"Your input mean function \", Mean_Function, \" is not implemented, please choose those implemented mean function, like arithmetic, geometric\")\n",
        "    \n",
        "    # consider the end group\n",
        "    else:\n",
        "      \n",
        "        if Mean_Function == 'arithmetic':\n",
        "            combined_similarity_score = Repeat_Unit_Weight * Repeat_Unit_Similarity_Score + Graph_Weight * Graph_Similarity_Score + End_Group_Weight * End_Group_Similarity_Score\n",
        "\n",
        "        elif Mean_Function == 'geometric':\n",
        "            combined_similarity_score = pow(Repeat_Unit_Similarity_Score,Repeat_Unit_Weight)*pow(Graph_Similarity_Score,Graph_Weight)*pow(End_Group_Similarity_Score, End_Group_Weight)\n",
        "\n",
        "        else:\n",
        "            print(\"Your input mean function \", Mean_Function, \" is not implemented, please choose those implemented mean function, like arithmetic, geometric\")\n",
        "            \n",
        "    return combined_similarity_score\n"
      ],
      "metadata": {
        "id": "ZJKjYPi9KynA"
      },
      "execution_count": null,
      "outputs": []
    },
    {
      "cell_type": "markdown",
      "source": [
        "## 2.4. The Total Similarity Score between the query polymer and the target polymer"
      ],
      "metadata": {
        "id": "7bdTaiEZQelj"
      }
    },
    {
      "cell_type": "code",
      "source": [
        "def Similarity_Score_Two_Polymer(query = None,\n",
        "                                 target = None,\n",
        "                                 #level_weight = True,\n",
        "                                 #level_ratio = 3,\n",
        "                                 embedding_function = 'RDKFingerprint', #Embedding function\n",
        "                                 similarity_score_function = 'Tanimoto', # Similarity function for two vectors\n",
        "                                 restrain_emd = False, # Whether to restrain the emd\n",
        "                                 alpha=1, #reduced parameter for the exponential decay function\n",
        "                                 Repeat_Unit_Weight=0.5,\n",
        "                                 Graph_Weight=0.5,\n",
        "                                 End_Group_Weight = 0.0,\n",
        "                                 Mean_Function = 'geometric',\n",
        "                                 details_print = False):\n",
        "\n",
        "    if query == None or target == None:\n",
        "        print (\"Either query polymer or target polymer is missing! Please check your input.\")\n",
        "        return False\n",
        "    S_repeat_unit = Similarity_Score_EMD(query_smiles_list = query.repeat_unit_smiles_list, \n",
        "                     query_smiles_level_list = query.repeat_unit_smiles_level_list, \n",
        "                     target_smiles_list = target.repeat_unit_smiles_list, \n",
        "                     target_smiles_level_list = target.repeat_unit_smiles_level_list,\n",
        "                     #level_weight = level_weight,\n",
        "                     #level_ratio = level_ratio,\t\n",
        "                     embedding_function = embedding_function,\n",
        "                     similarity_score_function = similarity_score_function,\n",
        "                     restrain_emd = restrain_emd)\n",
        "    \n",
        "    S_graph = Similarity_Score_Graph_Edit_Distance(Graph1=query.graph_representation, \n",
        "                                                   Graph2=target.graph_representation, \n",
        "                                                   alpha=alpha)\n",
        "    \n",
        "    if End_Group_Weight == 0.0: \n",
        "        S_combined = Combined_Similarity_Score(Repeat_Unit_Similarity_Score=S_repeat_unit ,\n",
        "                                       Repeat_Unit_Weight=Repeat_Unit_Weight,\n",
        "                                       Graph_Similarity_Score=S_graph,\n",
        "                                       Graph_Weight=Graph_Weight,\n",
        "                                       End_Group_Similarity_Score = None,\n",
        "                                       End_Group_Weight = End_Group_Weight,\n",
        "                                       Mean_Function = Mean_Function)\n",
        "        if details_print == True:\n",
        "            print(\"Details of the Similarity Score:\\n\")\n",
        "            print(\"Similarity score on Repeating Unit = \", S_repeat_unit, \", Weight for Repeating Unit = \", Repeat_Unit_Weight)\n",
        "            print(\"Similarity score on Graph = \", S_graph, \", Weight for Graph = \", Graph_Weight)\n",
        "            print(\"Similarity score on End Group = \", \"None\", \", Weight for End Group = \", End_Group_Weight)\n",
        "            print(\"Similarity score Combined in \" + Mean_Function + \" mean = \", S_combined)\n",
        "            print(\"\\n\")\n",
        "\n",
        "        return S_combined \n",
        "\n",
        "    else: \n",
        "        S_end_group = Similarity_Score_EMD(query_smiles_list = query.end_group_smiles_list, \n",
        "                     query_smiles_level_list = query.end_group_smiles_level_list, \n",
        "                     target_smiles_list = target.end_group_smiles_list, \n",
        "                     target_smiles_level_list = target.end_group_smiles_level_list,\n",
        "                     #level_weight = level_weight,\n",
        "                     #level_ratio = level_ratio,\t\n",
        "                     embedding_function = embedding_function,\n",
        "                     similarity_score_function = similarity_score_function,\n",
        "                     restrain_emd = restrain_emd)\n",
        "            \n",
        "        S_combined = Combined_Similarity_Score(Repeat_Unit_Similarity_Score=S_repeat_unit ,\n",
        "                                       Repeat_Unit_Weight=Repeat_Unit_Weight,\n",
        "                                       Graph_Similarity_Score=S_graph,\n",
        "                                       Graph_Weight=Graph_Weight,\n",
        "                                       End_Group_Similarity_Score = S_end_group,\n",
        "                                       End_Group_Weight = End_Group_Weight,\n",
        "                                       Mean_Function = Mean_Function)\n",
        "        \n",
        "        if details_print == True:\n",
        "            print(\"Details of the Similarity Score:\\n\")\n",
        "            print(\"Similarity score on Repeating Unit = \", S_repeat_unit, \", Weight for Repeating Unit = \", Repeat_Unit_Weight)\n",
        "            print(\"Similarity score on Graph = \", S_graph, \", Weight for Graph = \", Graph_Weight)\n",
        "            print(\"Similarity score on End Group = \", S_end_group, \", Weight for End Group = \", End_Group_Weight )\n",
        "            print(\"Similarity score Combined in \" + Mean_Function + \" mean = \", S_combined)\n",
        "            print(\"\\n\")\n",
        "\n",
        "        return S_combined     \n"
      ],
      "metadata": {
        "id": "tnGFkpht12nw"
      },
      "execution_count": null,
      "outputs": []
    },
    {
      "cell_type": "markdown",
      "source": [
        "# 3. Define the Polymer Class"
      ],
      "metadata": {
        "id": "bijKjSMqQ-gw"
      }
    },
    {
      "cell_type": "code",
      "source": [
        "class Polymer:\n",
        "  def __init__(self, \n",
        "               repeat_unit_smiles_list=None, \n",
        "               repeat_unit_smiles_level_list=None, \n",
        "               end_group_smiles_list=None, \n",
        "               end_group_smiles_level_list=None,\n",
        "               graph_representation=None):\n",
        "    \n",
        "      self.repeat_unit_smiles_list = repeat_unit_smiles_list\n",
        "      self.repeat_unit_smiles_level_list = repeat_unit_smiles_level_list\n",
        "      self.end_group_smiles_list = end_group_smiles_list\n",
        "      self.end_group_smiles_level_list = end_group_smiles_level_list\n",
        "      self.graph_representation = graph_representation"
      ],
      "metadata": {
        "id": "k-I92q5zfd_L"
      },
      "execution_count": null,
      "outputs": []
    },
    {
      "cell_type": "markdown",
      "source": [
        "# 4. Some examples of the topological graph"
      ],
      "metadata": {
        "id": "S1grgnaPRIqt"
      }
    },
    {
      "cell_type": "code",
      "source": [
        "G0 = nx.MultiDiGraph()\n",
        "G0.add_node(1)\n",
        "G0.add_node(2)\n",
        "G0.add_node(3)\n",
        "G0.add_node(4)\n",
        "G0.add_node(5)\n",
        "G0.add_node(6)\n",
        "G0.add_node(7)\n",
        "G0.add_node(8)\n",
        "G0.add_edge(1, 2)\n",
        "G0.add_edge(2, 3)\n",
        "G0.add_edge(3, 4)\n",
        "G0.add_edge(2, 5)\n",
        "G0.add_edge(5, 2)\n",
        "G0.add_edge(3, 6)\n",
        "G0.add_edge(6, 3)\n",
        "G0.add_edge(2,7)\n",
        "G0.add_edge(7,2)\n",
        "G0.add_edge(3,8)\n",
        "G0.add_edge(8,3)\n",
        "nx.draw(G0)\n",
        "print(\"G0 number of nodes: \",G0.number_of_nodes())\n",
        "print(\"G0 number of edges: \",G0.number_of_edges())"
      ],
      "metadata": {
        "colab": {
          "base_uri": "https://localhost:8080/",
          "height": 354
        },
        "id": "tCJkDjZDfpf9",
        "outputId": "0c3a4a04-bdfd-4f82-f0e9-e0eb71430069"
      },
      "execution_count": null,
      "outputs": [
        {
          "output_type": "stream",
          "name": "stdout",
          "text": [
            "G0 number of nodes:  8\n",
            "G0 number of edges:  11\n"
          ]
        },
        {
          "output_type": "display_data",
          "data": {
            "text/plain": [
              "<Figure size 432x288 with 1 Axes>"
            ],
            "image/png": "[encoded data removed]"
          },
          "metadata": {}
        }
      ]
    },
    {
      "cell_type": "markdown",
      "source": [
        "# 5. Some examples of Polymer Graph Representations"
      ],
      "metadata": {
        "id": "93332dHdzs9Y"
      }
    },
    {
      "cell_type": "code",
      "source": [
        "Polymer0001 = Polymer(repeat_unit_smiles_list = ['*CC(*)C', '*CC(*)c1ccccc1'], \n",
        "                      repeat_unit_smiles_level_list = [1,1], \n",
        "                      end_group_smiles_list = ['*C(C)(C)C#N','*C(C)(C)C#N'], \n",
        "                      end_group_smiles_level_list = [1,1], \n",
        "                      graph_representation = G0)"
      ],
      "metadata": {
        "id": "4gg0HbRJzsNw"
      },
      "execution_count": null,
      "outputs": []
    },
    {
      "cell_type": "code",
      "source": [
        "Polymer0002 = Polymer(repeat_unit_smiles_list= ['*CC(*)(C)C(=O)OC','*CC(*)c1ccccc1'], \n",
        "                      repeat_unit_smiles_level_list = [1,1],\n",
        "                      end_group_smiles_list = ['*C(C)(C)C#N','*C(C)(C)C#N'],\n",
        "                      end_group_smiles_level_list  = [1,1],\n",
        "                      graph_representation = G0)\n",
        "\n"
      ],
      "metadata": {
        "id": "FUemADZ3SN0d"
      },
      "execution_count": null,
      "outputs": []
    },
    {
      "cell_type": "code",
      "source": [
        "Polymer0003 = Polymer(repeat_unit_smiles_list= ['*CC(*)C','*CC(*)c1ccc(C(=O)OC)cc1'], \n",
        "                      repeat_unit_smiles_level_list = [1,1],\n",
        "                      end_group_smiles_list = ['*C(C)(C)C#N','*C(C)(C)C#N'],\n",
        "                      end_group_smiles_level_list  = [1,1],\n",
        "                      graph_representation = G0)\n"
      ],
      "metadata": {
        "id": "8l7h3jW95f4B"
      },
      "execution_count": null,
      "outputs": []
    },
    {
      "cell_type": "code",
      "source": [
        "Polymer0004 = Polymer(repeat_unit_smiles_list= ['*CC(*)(C)C(=O)OC','*CC(*)c1ccc(C(=O)OC)cc1'], \n",
        "                      repeat_unit_smiles_level_list = [1,1],\n",
        "                      end_group_smiles_list = ['*C(C)(C)C#N','*C(C)(C)C#N'],\n",
        "                      end_group_smiles_level_list  = [1,1],\n",
        "                      graph_representation = G0)"
      ],
      "metadata": {
        "id": "Ys6CZFuDUtdl"
      },
      "execution_count": null,
      "outputs": []
    },
    {
      "cell_type": "code",
      "source": [
        "Similarity_Score_Two_Polymer(query = Polymer0001,\n",
        "                             target = Polymer0002,\n",
        "                             embedding_function = 'MorganFingerprint',\n",
        "                             similarity_score_function = 'Tanimoto',\n",
        "                             restrain_emd = False,\n",
        "                             alpha=1,\n",
        "                             Repeat_Unit_Weight=0.475,\n",
        "                             Graph_Weight=0.475,\n",
        "                             End_Group_Weight = 0.05,\n",
        "                             Mean_Function = 'geometric',\n",
        "                             details_print=True)"
      ],
      "metadata": {
        "id": "8p8pHgcmPcg7",
        "colab": {
          "base_uri": "https://localhost:8080/"
        },
        "outputId": "6e5d881e-6bfc-46c4-e450-d150c341da09"
      },
      "execution_count": null,
      "outputs": [
        {
          "output_type": "stream",
          "name": "stdout",
          "text": [
            "P1 ->Q1 0.8461538461538461\n",
            "P1 ->Q2 0.7272727272727273\n",
            "P2 ->Q1 0.9142857142857143\n",
            "P2 ->Q2 0.0\n",
            "Details of the Similarity Score:\n",
            "\n",
            "Similarity score on Repeating Unit =  0.5769230769230769 , Weight for Repeating Unit =  0.475\n",
            "Similarity score on Graph =  1.0 , Weight for Graph =  0.475\n",
            "Similarity score on End Group =  1 , Weight for End Group =  0.05\n",
            "Similarity score Combined in geometric mean =  0.7700714239676517\n",
            "\n",
            "\n"
          ]
        },
        {
          "output_type": "execute_result",
          "data": {
            "text/plain": [
              "0.7700714239676517"
            ]
          },
          "metadata": {},
          "execution_count": 35
        }
      ]
    },
    {
      "cell_type": "code",
      "source": [
        "Similarity_Score_Two_Polymer(query = Polymer0001,\n",
        "                             target = Polymer0003,\n",
        "                             embedding_function = 'MorganFingerprint',\n",
        "                             similarity_score_function = 'Tanimoto',\n",
        "                             restrain_emd = False,\n",
        "                             alpha=1,\n",
        "                             Repeat_Unit_Weight=0.475,\n",
        "                             Graph_Weight=0.475,\n",
        "                             End_Group_Weight = 0.05,\n",
        "                             Mean_Function = 'geometric',\n",
        "                             details_print=True)"
      ],
      "metadata": {
        "colab": {
          "base_uri": "https://localhost:8080/"
        },
        "id": "3UQmmuAt5e2H",
        "outputId": "50f48826-7823-4da9-d572-63b6b0216e3d"
      },
      "execution_count": null,
      "outputs": [
        {
          "output_type": "stream",
          "name": "stdout",
          "text": [
            "P1 ->Q1 0.0\n",
            "P1 ->Q2 0.7741935483870968\n",
            "P2 ->Q1 0.7272727272727273\n",
            "P2 ->Q2 0.5625\n",
            "Details of the Similarity Score:\n",
            "\n",
            "Similarity score on Repeating Unit =  0.71875 , Weight for Repeating Unit =  0.475\n",
            "Similarity score on Graph =  1.0 , Weight for Graph =  0.475\n",
            "Similarity score on End Group =  1 , Weight for End Group =  0.05\n",
            "Similarity score Combined in geometric mean =  0.854819621538289\n",
            "\n",
            "\n"
          ]
        },
        {
          "output_type": "execute_result",
          "data": {
            "text/plain": [
              "0.854819621538289"
            ]
          },
          "metadata": {},
          "execution_count": 34
        }
      ]
    },
    {
      "cell_type": "code",
      "source": [
        "Similarity_Score_Two_Polymer(query = Polymer0001,\n",
        "                             target = Polymer0004,\n",
        "                             embedding_function = 'MorganFingerprint',\n",
        "                             similarity_score_function = 'Tanimoto',\n",
        "                             restrain_emd = False,\n",
        "                             alpha=1,\n",
        "                             Repeat_Unit_Weight=0.475,\n",
        "                             Graph_Weight=0.475,\n",
        "                             End_Group_Weight = 0.05,\n",
        "                             Mean_Function = 'geometric',\n",
        "                             details_print=True)"
      ],
      "metadata": {
        "colab": {
          "base_uri": "https://localhost:8080/"
        },
        "id": "KRB8mUWEdb_u",
        "outputId": "25be6e88-d4a9-4bc5-c30b-be690364b484"
      },
      "execution_count": null,
      "outputs": [
        {
          "output_type": "stream",
          "name": "stdout",
          "text": [
            "P1 ->Q1 0.8461538461538461\n",
            "P1 ->Q2 0.7741935483870968\n",
            "P2 ->Q1 0.9142857142857143\n",
            "P2 ->Q2 0.5625\n",
            "Details of the Similarity Score:\n",
            "\n",
            "Similarity score on Repeating Unit =  0.29567307692307687 , Weight for Repeating Unit =  0.475\n",
            "Similarity score on Graph =  1.0 , Weight for Graph =  0.475\n",
            "Similarity score on End Group =  1 , Weight for End Group =  0.05\n",
            "Similarity score Combined in geometric mean =  0.5605774141216268\n",
            "\n",
            "\n"
          ]
        },
        {
          "output_type": "execute_result",
          "data": {
            "text/plain": [
              "0.5605774141216268"
            ]
          },
          "metadata": {},
          "execution_count": 33
        }
      ]
    },
    {
      "cell_type": "code",
      "source": [
        "Similarity_Score_Two_Polymer(query = Polymer0002,\n",
        "                             target = Polymer0003,\n",
        "                             embedding_function = 'MorganFingerprint',\n",
        "                             similarity_score_function = 'Tanimoto',\n",
        "                             restrain_emd = False,\n",
        "                             alpha=1,\n",
        "                             Repeat_Unit_Weight=0.475,\n",
        "                             Graph_Weight=0.475,\n",
        "                             End_Group_Weight = 0.05,\n",
        "                             Mean_Function = 'geometric',\n",
        "                             details_print=True)"
      ],
      "metadata": {
        "id": "gCkXqS9g5vRX",
        "outputId": "8a48a574-3c71-431f-9df8-b02b0122b9e3",
        "colab": {
          "base_uri": "https://localhost:8080/"
        }
      },
      "execution_count": null,
      "outputs": [
        {
          "output_type": "stream",
          "name": "stdout",
          "text": [
            "P1 ->Q1 0.8461538461538461\n",
            "P1 ->Q2 0.736842105263158\n",
            "P2 ->Q1 0.7272727272727273\n",
            "P2 ->Q2 0.5625\n",
            "Details of the Similarity Score:\n",
            "\n",
            "Similarity score on Repeating Unit =  0.29567307692307687 , Weight for Repeating Unit =  0.475\n",
            "Similarity score on Graph =  1.0 , Weight for Graph =  0.475\n",
            "Similarity score on End Group =  1 , Weight for End Group =  0.05\n",
            "Similarity score Combined in geometric mean =  0.5605774141216268\n",
            "\n",
            "\n"
          ]
        },
        {
          "output_type": "execute_result",
          "data": {
            "text/plain": [
              "0.5605774141216268"
            ]
          },
          "metadata": {},
          "execution_count": 32
        }
      ]
    }
  ]
}