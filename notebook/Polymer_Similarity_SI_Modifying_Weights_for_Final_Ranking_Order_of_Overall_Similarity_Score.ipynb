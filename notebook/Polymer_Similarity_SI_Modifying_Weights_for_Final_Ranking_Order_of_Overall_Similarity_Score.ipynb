{
 "cells": [
  {
   "cell_type": "markdown",
   "metadata": {
    "id": "nVg45IXBOyyO"
   },
   "source": [
    "<a target=\"_blank\" href=\"https://colab.research.google.com/github/olsenlabmit/Polymer-Graph-Similarity/blob/main/notebook/Polymer_Similarity_SI_Modifying_Weights_for_Final_Ranking_Order_of_Overall_Similarity_Score.ipynb\">\n",
    "  <img src=\"https://colab.research.google.com/assets/colab-badge.svg\" alt=\"Open In Colab\"/>\n",
    "</a>"
   ]
  },
  {
   "cell_type": "code",
   "execution_count": null,
   "metadata": {
    "cellView": "form",
    "id": "9ExWfHqV1EXI"
   },
   "outputs": [],
   "source": [
    "# @title Copyright & License (click to expand)\n",
    "# MIT License\n",
    "\n",
    "# Copyright (c) 2022 olsenlabmit\n",
    "\n",
    "# Permission is hereby granted, free of charge, to any person obtaining a copy\n",
    "# of this software and associated documentation files (the \"Software\"), to deal\n",
    "# in the Software without restriction, including without limitation the rights\n",
    "# to use, copy, modify, merge, publish, distribute, sublicense, and/or sell\n",
    "# copies of the Software, and to permit persons to whom the Software is\n",
    "# furnished to do so, subject to the following conditions:\n",
    "\n",
    "# The above copyright notice and this permission notice shall be included in all\n",
    "# copies or substantial portions of the Software.\n",
    "\n",
    "# THE SOFTWARE IS PROVIDED \"AS IS\", WITHOUT WARRANTY OF ANY KIND, EXPRESS OR\n",
    "# IMPLIED, INCLUDING BUT NOT LIMITED TO THE WARRANTIES OF MERCHANTABILITY,\n",
    "# FITNESS FOR A PARTICULAR PURPOSE AND NONINFRINGEMENT. IN NO EVENT SHALL THE\n",
    "# AUTHORS OR COPYRIGHT HOLDERS BE LIABLE FOR ANY CLAIM, DAMAGES OR OTHER\n",
    "# LIABILITY, WHETHER IN AN ACTION OF CONTRACT, TORT OR OTHERWISE, ARISING FROM,\n",
    "# OUT OF OR IN CONNECTION WITH THE SOFTWARE OR THE USE OR OTHER DEALINGS IN THE\n",
    "# SOFTWARE."
   ]
  },
  {
   "cell_type": "markdown",
   "metadata": {
    "id": "_sKD4LKzw0QJ"
   },
   "source": [
    "# SI-II: Modifying Weights for Final Ranking Order of Overall Similarity Score"
   ]
  },
  {
   "cell_type": "markdown",
   "metadata": {
    "id": "kA0PTW_O3VxE"
   },
   "source": [
    "This notebook is to perform the calculations and reproduce the results of **SI-II: Modifying Weights for Final Ranking Order of  Overall Similarity Score** in the manuscript, Jiale Shi, Nathan J. Rebello, Dylan Walsh, Weizhong Zou, Michael E. Deagen, Bruno Salomao Leao, Debra J. Audus, Bradley D. Olsen, \"Quantifying Pairwise Chemical Similarity for Polymers\", submitted."
   ]
  },
  {
   "cell_type": "markdown",
   "metadata": {
    "id": "-9n8-Ciyiy7G"
   },
   "source": [
    "# Import and Install Necessary Libraries"
   ]
  },
  {
   "cell_type": "code",
   "execution_count": null,
   "metadata": {
    "colab": {
     "base_uri": "https://localhost:8080/"
    },
    "id": "psnOpmYlL_sw",
    "outputId": "7c5293b3-8423-4cb7-f0be-9fd94a2a7737"
   },
   "outputs": [
    {
     "name": "stdout",
     "output_type": "stream",
     "text": [
      "\u001b[2K     \u001b[90m━━━━━━━━━━━━━━━━━━━━━━━━━━━━━━━━━━━━━━━━\u001b[0m \u001b[32m29.4/29.4 MB\u001b[0m \u001b[31m29.6 MB/s\u001b[0m eta \u001b[36m0:00:00\u001b[0m\n",
      "\u001b[2K     \u001b[90m━━━━━━━━━━━━━━━━━━━━━━━━━━━━━━━━━━━━━━━━\u001b[0m \u001b[32m11.0/11.0 MB\u001b[0m \u001b[31m58.7 MB/s\u001b[0m eta \u001b[36m0:00:00\u001b[0m\n",
      "\u001b[2K     \u001b[90m━━━━━━━━━━━━━━━━━━━━━━━━━━━━━━━━━━━━━━━━\u001b[0m \u001b[32m49.6/49.6 KB\u001b[0m \u001b[31m6.1 MB/s\u001b[0m eta \u001b[36m0:00:00\u001b[0m\n",
      "\u001b[?25hSelecting previously unselected package coinor-libcoinutils3v5.\n",
      "(Reading database ... 122349 files and directories currently installed.)\n",
      "Preparing to unpack .../0-coinor-libcoinutils3v5_2.11.4+repack1-1_amd64.deb ...\n",
      "Unpacking coinor-libcoinutils3v5 (2.11.4+repack1-1) ...\n",
      "Selecting previously unselected package coinor-libosi1v5.\n",
      "Preparing to unpack .../1-coinor-libosi1v5_0.108.6+repack1-1_amd64.deb ...\n",
      "Unpacking coinor-libosi1v5 (0.108.6+repack1-1) ...\n",
      "Selecting previously unselected package coinor-libclp1.\n",
      "Preparing to unpack .../2-coinor-libclp1_1.17.5+repack1-1_amd64.deb ...\n",
      "Unpacking coinor-libclp1 (1.17.5+repack1-1) ...\n",
      "Selecting previously unselected package coinor-libcgl1.\n",
      "Preparing to unpack .../3-coinor-libcgl1_0.60.3+repack1-2_amd64.deb ...\n",
      "Unpacking coinor-libcgl1 (0.60.3+repack1-2) ...\n",
      "Selecting previously unselected package coinor-libcbc3.\n",
      "Preparing to unpack .../4-coinor-libcbc3_2.10.3+repack1-1build1_amd64.deb ...\n",
      "Unpacking coinor-libcbc3 (2.10.3+repack1-1build1) ...\n",
      "Selecting previously unselected package coinor-cbc.\n",
      "Preparing to unpack .../5-coinor-cbc_2.10.3+repack1-1build1_amd64.deb ...\n",
      "Unpacking coinor-cbc (2.10.3+repack1-1build1) ...\n",
      "Setting up coinor-libcoinutils3v5 (2.11.4+repack1-1) ...\n",
      "Setting up coinor-libosi1v5 (0.108.6+repack1-1) ...\n",
      "Setting up coinor-libclp1 (1.17.5+repack1-1) ...\n",
      "Setting up coinor-libcgl1 (0.60.3+repack1-2) ...\n",
      "Setting up coinor-libcbc3 (2.10.3+repack1-1build1) ...\n",
      "Setting up coinor-cbc (2.10.3+repack1-1build1) ...\n",
      "Processing triggers for man-db (2.9.1-1) ...\n",
      "Processing triggers for libc-bin (2.31-0ubuntu9.9) ...\n"
     ]
    }
   ],
   "source": [
    "# import necessary libraries available in colab\n",
    "import numpy as np\n",
    "import networkx as nx\n",
    "import matplotlib.pyplot as plt\n",
    "import shutil\n",
    "import sys\n",
    "import os.path\n",
    "\n",
    "# install necessary libraries not available in colab\n",
    "if not shutil.which(\"rdkit\"):\n",
    "    !pip install -q rdkit\n",
    "\n",
    "from rdkit import Chem\n",
    "from rdkit import DataStructs\n",
    "from rdkit.Chem import AllChem\n",
    "from rdkit.Chem import MACCSkeys\n",
    "from rdkit.Chem.AtomPairs import Pairs\n",
    "\n",
    "if not shutil.which(\"pyomo\"):\n",
    "    !pip install -q pyomo\n",
    "    assert(shutil.which(\"pyomo\"))\n",
    "\n",
    "if not (shutil.which(\"cbc\") or os.path.isfile(\"cbc\")):\n",
    "    if \"google.colab\" in sys.modules:\n",
    "        !apt-get install -y -qq coinor-cbc\n",
    "    else:\n",
    "        try:\n",
    "            !conda install -c conda-forge coincbc \n",
    "        except:\n",
    "            pass\n",
    "            \n",
    "assert(shutil.which(\"cbc\") or os.path.isfile(\"cbc\"))\n",
    "    \n",
    "from pyomo.environ import *"
   ]
  },
  {
   "cell_type": "markdown",
   "metadata": {
    "id": "D2aVwhkeZcX8"
   },
   "source": [
    "# Similarity Score Functions"
   ]
  },
  {
   "cell_type": "markdown",
   "metadata": {
    "id": "HsMcsqU-Pv6Y"
   },
   "source": [
    "## Earth Mover's Distance (EMD) Similarity Function\n",
    "\n",
    "Use the earth mover's distance to compute similarity for repeating units and end groups.\n",
    "\n",
    "\n",
    "$ EMD (P,Q)= \\min_{F}\\sum_{i=1}^{m}\\sum_{j=1}^{n}f_{i,j}d_{i,j}$\n",
    "\n",
    "$ {\\rm subject\\ to\\ } f_{i,j} \\geq 0, {\\rm\\ for\\ any\\ } \\ 1 \\leq i \\leq m, 1 \\leq j \\leq n $\n",
    "\n",
    "$     \\sum_{j=1}^{n}f_{i,j} =w_{pi}, {\\rm for\\ any} \\ 1 \\leq i \\leq m $\n",
    "\n",
    "$     \\sum_{i=1}^{m}f_{i,j} =w_{qj}, {\\rm for\\ any} \\ 1 \\leq j \\leq n $\n",
    "\n",
    "$     \\sum_{i=1}^{m}\\sum_{j=1}^{n}f_{i,j} = \\sum_{i}^{m} w_{pi} = \\sum_{j}^{n} w_{qj} = 1 $ \n",
    "\n",
    "\n",
    "Molecular fragment ensemble $P = \\{(p_1,w_{p_1}) ,(p_2,w_{p_2}),...,(p_i,w_{p_i}),...,(p_m,w_{p_m})\\}$ has $m$ molecular fragments, where $p_i$ is a molecular fragment such as a repeat unit or end group and $w_{p_i}>0$ is the weight, related to the average probability (or frequency, $z$) of the molecular fragment being present in the polymer. Similarly, the second ensemble $Q = {(q_1,w_{q_1}),(q_2,w_{q_2}),...,(q_j,w_{q_j}),...,(q_n,w_{q_n})}$ has $n$ molecular fragments.  The sums of the weights for $P$ and $Q$ are both normalized and equal to one.\n",
    "The distance $d_{i,j}$ is calculated by the converting the pairwise similarity score $s_{i,j}$ between $p_{i}$ and $q_{j}$, where $d_{i,j} = 1 - s_{i,j}$.\n",
    "Transport flow $f_{i,j}$ represents the amount of weight at $p_i$ which is transported to $q_j$. \n",
    "\n",
    "The EMD linear optimization code  refers to [3.1. Transportation Networks, ND Pyomo Notebook](https://jckantor.github.io/ND-Pyomo-Cookbook/notebooks/03.01-Transportation-Networks.html)\n",
    "\n",
    "Once $EMD (P,Q)$ is calculated, the similarity score between $P$ and $Q$ is, \n",
    "\n",
    "$S(P,Q) = 1- EMD (P,Q)$"
   ]
  },
  {
   "cell_type": "code",
   "execution_count": null,
   "metadata": {
    "id": "eOlNnWbfY8Va"
   },
   "outputs": [],
   "source": [
    "def Similarity_Score_EMD_Calculation(\n",
    "    query_smiles_list=None,\n",
    "    query_smiles_weight_list=None,\n",
    "    target_smiles_list=None,\n",
    "    target_smiles_weight_list=None,\n",
    "    embedding_function=\"MorganFingerprint\",\n",
    "    similarity_score_function=\"Tanimoto\",\n",
    "):\n",
    "    # obtain the length of query smiles list and target smiles list\n",
    "    query_smiles_list_length = len(query_smiles_list)\n",
    "\n",
    "    target_smiles_list_length = len(target_smiles_list)\n",
    "\n",
    "    # check whether the query is identical to the target\n",
    "    if set(query_smiles_list) == set(target_smiles_list):\n",
    "        query_smiles_array = np.array(query_smiles_list)\n",
    "        query_smiles_level_array = np.array(query_smiles_weight_list)\n",
    "        inds_query = query_smiles_array.argsort()\n",
    "        sorted_query_smiles_array = query_smiles_array[inds_query]\n",
    "        sorted_query_smiles_level_array = query_smiles_level_array[inds_query]\n",
    "\n",
    "        target_smiles_array = np.array(target_smiles_list)\n",
    "        target_smiles_level_array = np.array(target_smiles_weight_list)\n",
    "        inds_target = target_smiles_array.argsort()\n",
    "        sorted_target_smiles_array = target_smiles_array[inds_target]\n",
    "        sorted_target_smiles_level_array = target_smiles_level_array[inds_target]\n",
    "\n",
    "        if np.array_equal(\n",
    "            sorted_query_smiles_array, sorted_target_smiles_array\n",
    "        ) and np.array_equal(\n",
    "            sorted_query_smiles_level_array, sorted_target_smiles_level_array\n",
    "        ):\n",
    "            return 1.0\n",
    "\n",
    "        query_smiles_reduced_list = list(set(query_smiles_list))\n",
    "        query_smiles_reduced_list_number = []\n",
    "\n",
    "        for i in range(0, len(query_smiles_reduced_list)):\n",
    "            query_smiles_reduced_list_number_i = 0\n",
    "            for j in range(0, len(query_smiles_list)):\n",
    "                if query_smiles_reduced_list[i] == query_smiles_list[j]:\n",
    "                    query_smiles_reduced_list_number_i = (\n",
    "                        query_smiles_reduced_list_number_i + query_smiles_weight_list[j]\n",
    "                    )\n",
    "\n",
    "            query_smiles_reduced_list_number.append(\n",
    "                query_smiles_reduced_list_number_i / sum(query_smiles_weight_list)\n",
    "            )\n",
    "\n",
    "        target_smiles_reduced_list = list(set(target_smiles_list))\n",
    "        target_smiles_reduced_list_number = []\n",
    "\n",
    "        for i in range(0, len(target_smiles_reduced_list)):\n",
    "            target_smiles_reduced_list_number_i = 0\n",
    "            for j in range(0, len(target_smiles_list)):\n",
    "                if target_smiles_reduced_list[i] == target_smiles_list[j]:\n",
    "                    target_smiles_reduced_list_number_i = (\n",
    "                        target_smiles_reduced_list_number_i\n",
    "                        + target_smiles_weight_list[j]\n",
    "                    )\n",
    "\n",
    "            target_smiles_reduced_list_number.append(\n",
    "                target_smiles_reduced_list_number_i / sum(target_smiles_weight_list)\n",
    "            )\n",
    "\n",
    "        if query_smiles_reduced_list_number == target_smiles_reduced_list_number:\n",
    "            return 1.0\n",
    "\n",
    "    # transfer SMILES to fingerprints\n",
    "    if embedding_function == \"RDKFingerprint\":\n",
    "        query_mol_list = [Chem.MolFromSmiles(x) for x in query_smiles_list]\n",
    "        query_fingerprint_list = [Chem.RDKFingerprint(x) for x in query_mol_list]\n",
    "        target_mol_list = [Chem.MolFromSmiles(x) for x in target_smiles_list]\n",
    "        target_fingerprint_list = [Chem.RDKFingerprint(x) for x in target_mol_list]\n",
    "\n",
    "    elif embedding_function == \"MorganFingerprint\":\n",
    "        query_mol_list = [Chem.MolFromSmiles(x) for x in query_smiles_list]\n",
    "        query_fingerprint_list = [\n",
    "            AllChem.GetMorganFingerprintAsBitVect(x, 2, nBits=2048)\n",
    "            for x in query_mol_list\n",
    "        ]\n",
    "        target_mol_list = [Chem.MolFromSmiles(x) for x in target_smiles_list]\n",
    "        target_fingerprint_list = [\n",
    "            AllChem.GetMorganFingerprintAsBitVect(x, 2, nBits=2048)\n",
    "            for x in target_mol_list\n",
    "        ]\n",
    "\n",
    "    elif embedding_function == \"MACCSkeys\":\n",
    "        query_mol_list = [Chem.MolFromSmiles(x) for x in query_smiles_list]\n",
    "        query_fingerprint_list = [MACCSkeys.GenMACCSKeys(x) for x in query_mol_list]\n",
    "        target_mol_list = [Chem.MolFromSmiles(x) for x in target_smiles_list]\n",
    "        target_fingerprint_list = [MACCSkeys.GenMACCSKeys(x) for x in target_mol_list]\n",
    "\n",
    "    else:\n",
    "        print(\n",
    "            embedding_function\n",
    "            + \" is not included in the current vision.\"\n",
    "            + \" Please choose an available embedding function:\"\n",
    "        )\n",
    "        print(\"MorganFingerprint, RDKFingerprint, MACCSkeys.\")\n",
    "        return False\n",
    "\n",
    "    # define the required three sets\n",
    "    Demand = {}  # query\n",
    "    Supply = {}  # target\n",
    "    T = {}  # transport flow\n",
    "\n",
    "    # define the weight for SMILES in query, w_i\n",
    "    if len(set(query_smiles_weight_list)) == 1:\n",
    "        for i in range(0, query_smiles_list_length):\n",
    "            Demand[\"P\" + str(i + 1)] = 1 / query_smiles_list_length\n",
    "\n",
    "    else:\n",
    "        query_weight_sum = sum(query_smiles_weight_list)\n",
    "        for i in range(0, query_smiles_list_length):\n",
    "            Demand[\"P\" + str(i + 1)] = query_smiles_weight_list[i] / query_weight_sum\n",
    "\n",
    "    # define weight for SMILES in target, w_j\n",
    "    if len(set(target_smiles_weight_list)) == 1:\n",
    "        for j in range(0, target_smiles_list_length):\n",
    "            Supply[\"Q\" + str(j + 1)] = 1 / target_smiles_list_length\n",
    "\n",
    "    else:\n",
    "        target_weight_sum = sum(target_smiles_weight_list)\n",
    "        for j in range(0, target_smiles_list_length):\n",
    "            Supply[\"Q\" + str(j + 1)] = target_smiles_weight_list[j] / target_weight_sum\n",
    "\n",
    "    # use similarity function to calculate d_ij\n",
    "    if similarity_score_function == \"Tanimoto\":\n",
    "        for i in range(0, query_smiles_list_length):\n",
    "            for j in range(0, target_smiles_list_length):\n",
    "                T[\n",
    "                    (\"P\" + str(i + 1), \"Q\" + str(j + 1))\n",
    "                ] = 1 - DataStructs.FingerprintSimilarity(\n",
    "                    query_fingerprint_list[i], target_fingerprint_list[j]\n",
    "                )\n",
    "\n",
    "    elif similarity_score_function == \"Dice\":\n",
    "        for i in range(0, query_smiles_list_length):\n",
    "            for j in range(0, target_smiles_list_length):\n",
    "                T[\n",
    "                    (\"P\" + str(i + 1), \"Q\" + str(j + 1))\n",
    "                ] = 1 - DataStructs.FingerprintSimilarity(\n",
    "                    query_fingerprint_list[i],\n",
    "                    target_fingerprint_list[j],\n",
    "                    metric=DataStructs.DiceSimilarity,\n",
    "                )\n",
    "\n",
    "    elif similarity_score_function == \"Cosine\":\n",
    "        for i in range(0, query_smiles_list_length):\n",
    "            for j in range(0, target_smiles_list_length):\n",
    "                T[\n",
    "                    (\"P\" + str(i + 1), \"Q\" + str(j + 1))\n",
    "                ] = 1 - DataStructs.FingerprintSimilarity(\n",
    "                    query_fingerprint_list[i],\n",
    "                    target_fingerprint_list[j],\n",
    "                    metric=DataStructs.CosineSimilarity,\n",
    "                )\n",
    "\n",
    "    else:\n",
    "        print(\n",
    "            similarity_score_function\n",
    "            + \" is not included in the current vision.\"\n",
    "            + \" Please choose an available similarity function:\"\n",
    "        )\n",
    "        print(\"Tanimoto, Dice, or Cosine\")\n",
    "        return\n",
    "\n",
    "    # linear optimization with pyomo\n",
    "    # step 0: Create an instance of the model\n",
    "    model = ConcreteModel()\n",
    "    model.dual = Suffix(direction=Suffix.IMPORT)\n",
    "\n",
    "    # step 1: define index sets\n",
    "    CUS = list(Demand.keys())\n",
    "    SRC = list(Supply.keys())\n",
    "\n",
    "    # step 2: define the decision\n",
    "    model.x = Var(CUS, SRC, domain=NonNegativeReals)\n",
    "\n",
    "    # step 3: define objective\n",
    "    model.Cost = Objective(\n",
    "        expr=sum([T[c, s] * model.x[c, s] for c in CUS for s in SRC]), sense=minimize\n",
    "    )\n",
    "\n",
    "    # step 4: define constraints\n",
    "    model.src = ConstraintList()\n",
    "    for s in SRC:\n",
    "        model.src.add(sum([model.x[c, s] for c in CUS]) == Supply[s])\n",
    "\n",
    "    model.dmd = ConstraintList()\n",
    "    for c in CUS:\n",
    "        model.dmd.add(sum([model.x[c, s] for s in SRC]) == Demand[c])\n",
    "\n",
    "    # step 5: solve the model\n",
    "    results = SolverFactory(\"cbc\").solve(model)\n",
    "\n",
    "    if \"ok\" == str(results.Solver.status):\n",
    "        SimilarityScore = 1 - model.Cost()\n",
    "        return SimilarityScore\n",
    "\n",
    "    else:\n",
    "        print(\"No Valid Solution Found\")\n",
    "        return False"
   ]
  },
  {
   "cell_type": "markdown",
   "metadata": {
    "id": "fNpt-pIDQLOX"
   },
   "source": [
    "## Topology Similarity Function\n",
    "\n",
    "Use graph edit distance $GED(g_1, g_2)$ to compute the topological similarity $S_{\\rm TOP}(g_1,g_2)$.\n",
    "\n",
    "$GED(g_1, g_2)$  is computed via a networkx function [graph_edit_distance](https://networkx.org/documentation/stable/reference/algorithms/generated/networkx.algorithms.similarity.graph_edit_distance.html), while the topological similarity score $S_{\\rm TOP}(g_1,g_2)$ in the range of (0,1] is computed via a exponential decay function:\n",
    "\n",
    "\n",
    "$S_{\\rm TOP}(g_1, g_2) = \\exp(-\\frac{\\alpha \\cdot GED(g_1, g_2)}{(N_1 + N_2)/2})$\n",
    "\n",
    "where $N_i$ is the number of nodes in graph $g_i$."
   ]
  },
  {
   "cell_type": "code",
   "execution_count": null,
   "metadata": {
    "id": "oyUi54M_IorG"
   },
   "outputs": [],
   "source": [
    "def Topology_Similarity_Score_Calculation(Graph1=None, Graph2=None, alpha=1):\n",
    "    if Graph1 == None:\n",
    "        print(\"Missing Graph1\")\n",
    "        return\n",
    "    if Graph2 == None:\n",
    "        print(\"Missing Graph2\")\n",
    "        return\n",
    "\n",
    "    Graph1_number_nodes = Graph1.number_of_nodes()\n",
    "    Graph2_number_nodes = Graph2.number_of_nodes()\n",
    "\n",
    "    graph_edit_distance = nx.graph_edit_distance(Graph1, Graph2)\n",
    "\n",
    "    topology_similarity_score = np.exp(\n",
    "        -alpha * graph_edit_distance / ((Graph1_number_nodes + Graph2_number_nodes) / 2)\n",
    "    )\n",
    "\n",
    "    return topology_similarity_score"
   ]
  },
  {
   "cell_type": "markdown",
   "metadata": {
    "id": "v_4bM0zPQRGC"
   },
   "source": []
  },
  {
   "cell_type": "markdown",
   "metadata": {
    "id": "7bdTaiEZQelj"
   },
   "source": [
    "## Weighted Mean Function for Overall Pairwise Similarity Score $S_{\\rm OA}$ \n",
    "\n",
    "From the above EMD and GED calculations, three similarity scores are obtained: $S_{\\rm RU}$  for repeat units, $S_{\\rm EG}$  for end groups, and $S_{\\rm TOP}$   for topology. To calculate the overall similarity score $S_{\\rm OA}$. Two weighted mean functions are provided. \n",
    "\n",
    "1. weighted geometric mean\n",
    "\n",
    "$S_{\\rm OA} =  S_{\\rm RU}^{W_{\\rm RU}} \\cdot S_{\\rm TOP}^{W_{\\rm TOP}} \\cdot S_{\\rm EG}^{W_{\\rm EG}} $ \n",
    "\n",
    "2. weighted arithmetic mean\n",
    "\n",
    "$S_{\\rm OA} =  S_{\\rm RU} \\cdot W_{\\rm RU} + S_{\\rm TOP} \\cdot W_{\\rm TOP} +  S_{\\rm EG} \\cdot W_{\\rm EG} $ \n"
   ]
  },
  {
   "cell_type": "code",
   "execution_count": null,
   "metadata": {
    "id": "tnGFkpht12nw"
   },
   "outputs": [],
   "source": [
    "def Overall_Similarity_Score_Calculation(\n",
    "    query=None,\n",
    "    target=None,\n",
    "    embedding_function=\"RDKFingerprint\",\n",
    "    similarity_score_function=\"Tanimoto\",\n",
    "    alpha=1,\n",
    "    Repeat_Unit_Weight=0.475,\n",
    "    Topology_Weight=0.475,\n",
    "    End_Group_Weight=0.05,\n",
    "    Mean_Function=\"geometric\",\n",
    "    details_print=False,\n",
    "    return_with_components=False,\n",
    "):\n",
    "    if query == None or target == None:\n",
    "        print(\n",
    "            \"Either query polymer or target polymer is missing! Please check the input.\"\n",
    "        )\n",
    "        return\n",
    "\n",
    "    Repeat_Unit_Similarity_Score = Similarity_Score_EMD_Calculation(\n",
    "        query_smiles_list=query.repeat_unit_smiles_list,\n",
    "        query_smiles_weight_list=query.repeat_unit_smiles_weight_list,\n",
    "        target_smiles_list=target.repeat_unit_smiles_list,\n",
    "        target_smiles_weight_list=target.repeat_unit_smiles_weight_list,\n",
    "        embedding_function=embedding_function,\n",
    "        similarity_score_function=similarity_score_function,\n",
    "    )\n",
    "\n",
    "    Topology_Similarity_Score = Topology_Similarity_Score_Calculation(\n",
    "        Graph1=query.graph_representation,\n",
    "        Graph2=target.graph_representation,\n",
    "        alpha=alpha,\n",
    "    )\n",
    "\n",
    "    if len(query.end_group_smiles_list) == 0 and len(target.end_group_smiles_list) == 0:\n",
    "        End_Group_Similarity_Score = 1.0\n",
    "\n",
    "    elif (\n",
    "        len(query.end_group_smiles_list) == 0 and len(target.end_group_smiles_list) != 0\n",
    "    ) or (\n",
    "        len(query.end_group_smiles_list) != 0 and len(target.end_group_smiles_list) == 0\n",
    "    ):\n",
    "        End_Group_Similarity_Score = 1.0\n",
    "\n",
    "    else:\n",
    "        End_Group_Similarity_Score = Similarity_Score_EMD_Calculation(\n",
    "            query_smiles_list=query.end_group_smiles_list,\n",
    "            query_smiles_weight_list=query.end_group_smiles_weight_list,\n",
    "            target_smiles_list=target.end_group_smiles_list,\n",
    "            target_smiles_weight_list=target.end_group_smiles_weight_list,\n",
    "            embedding_function=embedding_function,\n",
    "            similarity_score_function=similarity_score_function,\n",
    "        )\n",
    "\n",
    "    # verify whether the weight sum is normalized.\n",
    "    if abs(Repeat_Unit_Weight + Topology_Weight + End_Group_Weight - 1) != 0.0:\n",
    "        Weight_Sum = Repeat_Unit_Weight + Topology_Weight + End_Group_Weight\n",
    "\n",
    "        Repeat_Unit_Weight = Repeat_Unit_Weight / Weight_Sum\n",
    "\n",
    "        Topology_Weight = Topology_Weight / Weight_Sum\n",
    "\n",
    "        End_Group_Weight = End_Group_Weight / Weight_Sum\n",
    "\n",
    "    if Mean_Function == \"geometric\":\n",
    "        Overall_Similarity_Score = (\n",
    "            pow(Repeat_Unit_Similarity_Score, Repeat_Unit_Weight)\n",
    "            * pow(Topology_Similarity_Score, Topology_Weight)\n",
    "            * pow(End_Group_Similarity_Score, End_Group_Weight)\n",
    "        )\n",
    "\n",
    "    elif Mean_Function == \"arithmetic\":\n",
    "        Overall_Similarity_Score = (\n",
    "            Repeat_Unit_Weight * Repeat_Unit_Similarity_Score\n",
    "            + Topology_Weight * Topology_Similarity_Score\n",
    "            + End_Group_Weight * End_Group_Similarity_Score\n",
    "        )\n",
    "\n",
    "    else:\n",
    "        print(\n",
    "            \"Your input mean function \",\n",
    "            Mean_Function,\n",
    "            \" is not implemented currently.\"\n",
    "            + \" Please choose those implemented mean functions, such as arithmetic, geometric\",\n",
    "        )\n",
    "        return\n",
    "\n",
    "    if details_print == True:\n",
    "        print(\"Details of the Similarity Score:\\n\")\n",
    "        print(\n",
    "            \"Repeat Unit Similarity Score = \",\n",
    "            Repeat_Unit_Similarity_Score,\n",
    "            \", Normalized Weight for Repeat Unit = \",\n",
    "            Repeat_Unit_Weight,\n",
    "        )\n",
    "        print(\n",
    "            \"Topology Similarity Score = \",\n",
    "            Topology_Similarity_Score,\n",
    "            \", Normalized Weight for Topology = \",\n",
    "            Topology_Weight,\n",
    "        )\n",
    "        print(\n",
    "            \"End Group Similarity  = \",\n",
    "            End_Group_Similarity_Score,\n",
    "            \", Normalized Weight for End Group = \",\n",
    "            End_Group_Weight,\n",
    "        )\n",
    "        print(\n",
    "            \"Overall Pairwise Similarity Score with \"\n",
    "            + Mean_Function\n",
    "            + \" mean function = \",\n",
    "            Overall_Similarity_Score,\n",
    "        )\n",
    "        print(\"\\n\")\n",
    "\n",
    "    if return_with_components == True:\n",
    "        return (\n",
    "            Overall_Similarity_Score,\n",
    "            Repeat_Unit_Similarity_Score,\n",
    "            Topology_Similarity_Score,\n",
    "            End_Group_Similarity_Score,\n",
    "        )\n",
    "\n",
    "    return Overall_Similarity_Score"
   ]
  },
  {
   "cell_type": "markdown",
   "metadata": {
    "id": "bijKjSMqQ-gw"
   },
   "source": [
    "# Define Polymer Class for Importing Polymer data\n",
    "\n",
    "The polymer graph is decomposed into three components: repeat units, end groups and topology. \n",
    "\n",
    "(I) To compute $S_{\\rm RU}$  for repeat units, we need the polymer's (1) repeat unit SMILES list and (2) corresponding weight list.\n",
    "\n",
    "(II) To compute $S_{\\rm EG}$  for end groups, we need the polymer's (3) end group SMILES list and (4) corresponding weight list.\n",
    "\n",
    "(III) To compute $S_{\\rm TOP}$ for topology, we need the polymers' (5) topological graph representation.\n",
    "\n",
    "Therefore, in the Polymer Class, we have to define the above five elements which are required to perform polymer similarity calculation."
   ]
  },
  {
   "cell_type": "code",
   "execution_count": null,
   "metadata": {
    "id": "k-I92q5zfd_L"
   },
   "outputs": [],
   "source": [
    "class Polymer:\n",
    "    def __init__(\n",
    "        self,\n",
    "        repeat_unit_smiles_list=None,\n",
    "        repeat_unit_smiles_weight_list=None,\n",
    "        end_group_smiles_list=None,\n",
    "        end_group_smiles_weight_list=None,\n",
    "        graph_representation=None,\n",
    "    ):\n",
    "        if repeat_unit_smiles_list == None:\n",
    "            print(\n",
    "                \"Error: Repeat Unit SMILES are missing.\"\n",
    "                + \" Please define the Repeat Unit SMILES.\"\n",
    "            )\n",
    "            return\n",
    "\n",
    "        else:\n",
    "            self.repeat_unit_smiles_list = repeat_unit_smiles_list\n",
    "\n",
    "        if repeat_unit_smiles_weight_list == None:\n",
    "            print(\n",
    "                \"Error: Repeat Unit weights are missing.\"\n",
    "                + \" Please re-enter the correct Repeat Unit weights.\\n\"\n",
    "            )\n",
    "            return\n",
    "\n",
    "        elif len(repeat_unit_smiles_weight_list) != len(repeat_unit_smiles_list):\n",
    "            print(\n",
    "                \"Error: Repeat Unit weights are not correct.\"\n",
    "                + \" Please re-enter the correct Repeat Unit SMILES and weights.\\n\"\n",
    "            )\n",
    "            return\n",
    "\n",
    "        else:\n",
    "            self.repeat_unit_smiles_weight_list = repeat_unit_smiles_weight_list\n",
    "\n",
    "        if end_group_smiles_list == None and end_group_smiles_weight_list == None:\n",
    "            self.end_group_smiles_list = []\n",
    "            self.end_group_smiles_weight_list = []\n",
    "            print(\n",
    "                \"Notice: The Polymer has NO End Group.\\n\"\n",
    "                + \"If this is what you want, this message is NOT Error.\\n\"\n",
    "                + \"Otherwise, please enter the correct End Group SMILES and weights.\\n\"\n",
    "            )\n",
    "\n",
    "        elif (\n",
    "            end_group_smiles_list == None and end_group_smiles_weight_list != None\n",
    "        ) or (end_group_smiles_list != None and end_group_smiles_weight_list == None):\n",
    "            print(\n",
    "                \"Error: End Group SMILES and weights are not matching.\"\n",
    "                + \" Please re-enter the correct End Group SMILES and weights.\\n\"\n",
    "            )\n",
    "            return\n",
    "\n",
    "        else:\n",
    "            if len(end_group_smiles_list) != len(end_group_smiles_weight_list):\n",
    "                print(\n",
    "                    \"Error: End Group SMILES and weights are not matching.\"\n",
    "                    + \" Please re-enter the correct End Group SMILES and weights.\\n\"\n",
    "                )\n",
    "                return\n",
    "\n",
    "            else:\n",
    "                if (\n",
    "                    len(end_group_smiles_list) == 0\n",
    "                    and len(end_group_smiles_weight_list) == 0\n",
    "                ):\n",
    "                    print(\n",
    "                        \"Notice: The Polymer has NO End Group.\\n\"\n",
    "                        + \"If this is what you want, this message is NOT Error.\\n\"\n",
    "                        + \"Otherwise, please enter the correct End Group SMILES and weights.\\n\"\n",
    "                    )\n",
    "\n",
    "                self.end_group_smiles_list = end_group_smiles_list\n",
    "                self.end_group_smiles_weight_list = end_group_smiles_weight_list\n",
    "\n",
    "        if graph_representation == None:\n",
    "            print(\n",
    "                \"Error: Topology graph representation is missing.\"\n",
    "                + \" Please define the topology graph representation.\\n\"\n",
    "            )\n",
    "            return\n",
    "\n",
    "        else:\n",
    "            self.graph_representation = graph_representation"
   ]
  },
  {
   "cell_type": "markdown",
   "metadata": {
    "id": "vE5C5Cf0zSbF"
   },
   "source": [
    "# SI-II: Modifying Weights for Final Ranking Order of  Overall Similarity Score\n",
    "\n",
    "Case 3 computes the similarity between polymers that have both different chemistries and different topologies. Three block copolymers which have both different repeat units and different topological graph representations are shown below: C3-1, a diblock polymer; C3-2, a triblock polymer; and C3-3, a tetrablock polymer. Modifying weights can tune the final ranking order of  overall similarity score."
   ]
  },
  {
   "cell_type": "markdown",
   "metadata": {
    "id": "93332dHdzs9Y"
   },
   "source": [
    "# Define Polymers in Case 3"
   ]
  },
  {
   "cell_type": "markdown",
   "metadata": {
    "id": "eIHJx_8wpS33"
   },
   "source": [
    "## Polymer C3-1\n",
    "\n",
    "<img src=\"https://drive.google.com/uc?export=view&id=1Pm0DV0rW4YHwpIlROJMw9MFADels7xlP\"  width=\"50%\" height=\"50%\">"
   ]
  },
  {
   "cell_type": "code",
   "execution_count": null,
   "metadata": {
    "colab": {
     "base_uri": "https://localhost:8080/",
     "height": 551
    },
    "id": "4gg0HbRJzsNw",
    "outputId": "9c1afc6c-a5d9-4586-b206-ffd9bcb76165"
   },
   "outputs": [
    {
     "name": "stdout",
     "output_type": "stream",
     "text": [
      "Polymer_C3_1_top_graph_representation number of nodes:  8\n",
      "Polymer_C3_1_top_graph_representation number of edges:  11\n"
     ]
    },
    {
     "data": {
      "image/png": "[encoded data removed]",
      "text/plain": [
       "<Figure size 640x480 with 1 Axes>"
      ]
     },
     "metadata": {},
     "output_type": "display_data"
    }
   ],
   "source": [
    "Polymer_C3_1_top_graph_representation = nx.MultiDiGraph()\n",
    "Polymer_C3_1_top_graph_representation.add_nodes_from([\"E1\",\"D1\",\"R1\",\"R1'\",\n",
    "                                                      \"D2\",\"R2\",\"R2'\",\"E2\"])\n",
    "Polymer_C3_1_top_graph_representation.add_edges_from([(\"E1\",\"D1\"),(\"D1\",\"R1\"),(\"R1\",\"D1\"),(\"D1\",\"R1'\"),(\"R1'\",\"D1\"),(\"D1\",\"D2\"), \n",
    "                                                                  (\"D2\",\"R2\"),(\"R2\",\"D2\"),(\"D2\",\"R2'\"),(\"R2'\",\"D2\"),(\"D2\",\"E2\")])\n",
    "nx.draw(Polymer_C3_1_top_graph_representation)\n",
    "print(\"Polymer_C3_1_top_graph_representation number of nodes: \",Polymer_C3_1_top_graph_representation.number_of_nodes())\n",
    "print(\"Polymer_C3_1_top_graph_representation number of edges: \",Polymer_C3_1_top_graph_representation.number_of_edges())\n",
    "\n",
    "Polymer_C3_1 = Polymer(repeat_unit_smiles_list =  [\"*CC(*)(C)C\",\"*CC(*)c1ccccc1\"],\n",
    "                      repeat_unit_smiles_weight_list = [1,1],\n",
    "                      end_group_smiles_list = ['*C(C)(C)C#N','*C(C)(C)C#N'], \n",
    "                      end_group_smiles_weight_list = [1,1], \n",
    "                      graph_representation = Polymer_C3_1_top_graph_representation)"
   ]
  },
  {
   "cell_type": "markdown",
   "metadata": {
    "id": "pkO_5dOtpY_E"
   },
   "source": [
    "## Polymer C3-2\n",
    "\n",
    "<img src=\"https://drive.google.com/uc?export=view&id=1xsvp9WHGkAxIcU5-8qLlm5dG61jp594J\"  width=\"50%\" height=\"50%\">"
   ]
  },
  {
   "cell_type": "code",
   "execution_count": null,
   "metadata": {
    "colab": {
     "base_uri": "https://localhost:8080/",
     "height": 551
    },
    "id": "FUemADZ3SN0d",
    "outputId": "e7c6ac66-6385-4598-8648-67efa19b0ced"
   },
   "outputs": [
    {
     "name": "stdout",
     "output_type": "stream",
     "text": [
      "Polymer_C3_2_top_graph_representation number of nodes:  11\n",
      "Polymer_C3_2_top_graph_representation number of edges:  16\n"
     ]
    },
    {
     "data": {
      "image/png": "[encoded data removed]",
      "text/plain": [
       "<Figure size 640x480 with 1 Axes>"
      ]
     },
     "metadata": {},
     "output_type": "display_data"
    }
   ],
   "source": [
    "Polymer_C3_2_top_graph_representation = nx.MultiDiGraph()\n",
    "Polymer_C3_2_top_graph_representation.add_nodes_from([\"E1\",\"D1\",\"R1\",\"R1'\",\n",
    "                                                      \"D2\",\"R2\",\"R2'\",\n",
    "                                                      \"D3\",\"R3\",\"R3'\",\"E2\"])\n",
    "Polymer_C3_2_top_graph_representation.add_edges_from([(\"E1\",\"D1\"),(\"D1\",\"R1\"),(\"R1\",\"D1\"),(\"D1\",\"R1'\"),(\"R1'\",\"D1\"),(\"D1\",\"D2\"), \n",
    "                                                                  (\"D2\",\"R2\"),(\"R2\",\"D2\"),(\"D2\",\"R2'\"),(\"R2'\",\"D2\"),(\"D2\",\"D3\"),\n",
    "                                                                  (\"D3\",\"R3\"),(\"R3\",\"D3\"),(\"D3\",\"R3'\"),(\"R3'\",\"D3\"),(\"D3\",\"E2\")])\n",
    "nx.draw(Polymer_C3_2_top_graph_representation)\n",
    "print(\"Polymer_C3_2_top_graph_representation number of nodes: \",Polymer_C3_2_top_graph_representation.number_of_nodes())\n",
    "print(\"Polymer_C3_2_top_graph_representation number of edges: \",Polymer_C3_2_top_graph_representation.number_of_edges())\n",
    "\n",
    "Polymer_C3_2 = Polymer(repeat_unit_smiles_list = [\"*CC(*)(C)C(=O)OC(C)C\",\"*CC(*)c1ccccc1\", '*CC(*)c1ccc(C)c(C)n1'],\n",
    "                      repeat_unit_smiles_weight_list = [1,1,1],\n",
    "                      end_group_smiles_list = ['*C(C)(C)C#N','*C(C)(C)C#N'], \n",
    "                      end_group_smiles_weight_list = [1,1],\n",
    "                      graph_representation = Polymer_C3_2_top_graph_representation)"
   ]
  },
  {
   "cell_type": "markdown",
   "metadata": {
    "id": "i5-QuC93pa17"
   },
   "source": [
    "## Polymer C3-3\n",
    "\n",
    "<img src=\"https://drive.google.com/uc?export=view&id=12ic4l4X7U3sgeky5G2nIG_U_QcigqC28\"  width=\"50%\" height=\"50%\">"
   ]
  },
  {
   "cell_type": "code",
   "execution_count": null,
   "metadata": {
    "colab": {
     "base_uri": "https://localhost:8080/",
     "height": 551
    },
    "id": "8l7h3jW95f4B",
    "outputId": "e94dd5fb-6da1-4117-aa8c-024a0115fba6"
   },
   "outputs": [
    {
     "name": "stdout",
     "output_type": "stream",
     "text": [
      "Polymer_C3_3_top_graph_representation number of nodes:  14\n",
      "Polymer_C3_3_top_graph_representation number of edges:  21\n"
     ]
    },
    {
     "data": {
      "image/png": "[encoded data removed]",
      "text/plain": [
       "<Figure size 640x480 with 1 Axes>"
      ]
     },
     "metadata": {},
     "output_type": "display_data"
    }
   ],
   "source": [
    "Polymer_C3_3_top_graph_representation = nx.MultiDiGraph()\n",
    "Polymer_C3_3_top_graph_representation.add_nodes_from([\"E1\",\"D1\",\"R1\",\"R1'\",\n",
    "                                                      \"D2\",\"R2\",\"R2'\",\n",
    "                                                      \"D3\",\"R3\",\"R3'\",\n",
    "                                                      \"D4\",\"R4\",\"R4'\",\"E2\"])\n",
    "Polymer_C3_3_top_graph_representation.add_edges_from([(\"E1\",\"D1\"),(\"D1\",\"R1\"),(\"R1\",\"D1\"),(\"D1\",\"R1'\"),(\"R1'\",\"D1\"),(\"D1\",\"D2\"), \n",
    "                                                                  (\"D2\",\"R2\"),(\"R2\",\"D2\"),(\"D2\",\"R2'\"),(\"R2'\",\"D2\"),(\"D2\",\"D3\"),\n",
    "                                                                  (\"D3\",\"R3\"),(\"R3\",\"D3\"),(\"D3\",\"R3'\"),(\"R3'\",\"D3\"),(\"D3\",\"D4\"),\n",
    "                                                                  (\"D4\",\"R4\"),(\"R4\",\"D4\"),(\"D4\",\"R4'\"),(\"R4'\",\"D4\"),(\"D4\",\"E2\")])\n",
    "nx.draw(Polymer_C3_3_top_graph_representation)\n",
    "print(\"Polymer_C3_3_top_graph_representation number of nodes: \",Polymer_C3_3_top_graph_representation.number_of_nodes())\n",
    "print(\"Polymer_C3_3_top_graph_representation number of edges: \",Polymer_C3_3_top_graph_representation.number_of_edges())\n",
    "\n",
    "Polymer_C3_3 = Polymer(repeat_unit_smiles_list =[\"*CC(*)(C)C\",\"*CC(*)c1ccccc1\", \"*CC(*)(C)C(=O)OC\",\"*CC(*)c1ccccc1\"],\n",
    "                      repeat_unit_smiles_weight_list = [1,1,1,1],\n",
    "                      end_group_smiles_list = ['*C(C)(C)C#N','*C(C)(C)C#N'], \n",
    "                      end_group_smiles_weight_list = [1,1],\n",
    "                      graph_representation = Polymer_C3_3_top_graph_representation)"
   ]
  },
  {
   "cell_type": "markdown",
   "metadata": {
    "id": "jbS9tSrxzq8Q"
   },
   "source": [
    "# Calculate Similarity Scores"
   ]
  },
  {
   "cell_type": "markdown",
   "metadata": {
    "id": "0CvXvv8Bx2yX"
   },
   "source": [
    "## Calculate the Whole Similarity Matrix"
   ]
  },
  {
   "cell_type": "code",
   "execution_count": null,
   "metadata": {
    "id": "riJpZumorBcY"
   },
   "outputs": [],
   "source": [
    "Polymer_C3 = [Polymer_C3_1, Polymer_C3_2, Polymer_C3_3]"
   ]
  },
  {
   "cell_type": "markdown",
   "metadata": {
    "id": "vFYShy0_FW2V"
   },
   "source": [
    "### Weight Setting 1\n",
    "\n",
    "$W_{\\rm RU} = 0.475$, $W_{\\rm TOP} = 0.475$, $W_{\\rm TOP} = 0.05$ "
   ]
  },
  {
   "cell_type": "code",
   "execution_count": null,
   "metadata": {
    "id": "hZ6mW-U3rsN6"
   },
   "outputs": [],
   "source": [
    "Polymer_C3_OA_matrix_weight_setting_1 = np.ones([3,3])\n",
    "for i in range(0,2):\n",
    "    for j in range(i+1,3):\n",
    "        SOAij = Overall_Similarity_Score_Calculation(query = Polymer_C3[i],\n",
    "                                                                   target = Polymer_C3[j],\n",
    "                                                                   embedding_function = 'MorganFingerprint',\n",
    "                                                                   similarity_score_function = 'Tanimoto',\n",
    "                                                                   alpha = 1,\n",
    "                                                                   Repeat_Unit_Weight = 0.475,\n",
    "                                                                   Topology_Weight = 0.475,\n",
    "                                                                   End_Group_Weight = 0.05,\n",
    "                                                                   Mean_Function = 'geometric',\n",
    "                                                                   details_print = False,\n",
    "                                                                   return_with_components = False)\n",
    "        \n",
    "        Polymer_C3_OA_matrix_weight_setting_1[i,j] = SOAij\n",
    "        Polymer_C3_OA_matrix_weight_setting_1[j,i] = SOAij\n",
    "        "
   ]
  },
  {
   "cell_type": "markdown",
   "metadata": {
    "id": "EPldis0TGqsS"
   },
   "source": [
    "### Weight Setting 2\n",
    "\n",
    "$W_{\\rm RU} = 0.530$, $W_{\\rm TOP} = 0.420$, $W_{\\rm TOP} = 0.05$ "
   ]
  },
  {
   "cell_type": "code",
   "execution_count": null,
   "metadata": {
    "id": "MhXzEf4HGrEU"
   },
   "outputs": [],
   "source": [
    "Polymer_C3_OA_matrix_weight_setting_2 = np.ones([3,3])\n",
    "for i in range(0,2):\n",
    "    for j in range(i+1,3):\n",
    "        SOAij = Overall_Similarity_Score_Calculation(query = Polymer_C3[i],\n",
    "                                                                   target = Polymer_C3[j],\n",
    "                                                                   embedding_function = 'MorganFingerprint',\n",
    "                                                                   similarity_score_function = 'Tanimoto',\n",
    "                                                                   alpha = 1,\n",
    "                                                                   Repeat_Unit_Weight = 0.530,\n",
    "                                                                   Topology_Weight = 0.420,\n",
    "                                                                   End_Group_Weight = 0.05,\n",
    "                                                                   Mean_Function = 'geometric',\n",
    "                                                                   details_print = False,\n",
    "                                                                   return_with_components = False)\n",
    "        \n",
    "        Polymer_C3_OA_matrix_weight_setting_2[i,j] = SOAij\n",
    "        Polymer_C3_OA_matrix_weight_setting_2[j,i] = SOAij\n",
    "        "
   ]
  },
  {
   "cell_type": "markdown",
   "metadata": {
    "id": "eYZFq3ReGrZB"
   },
   "source": [
    "### Weight Setting 3\n",
    "\n",
    "$W_{\\rm RU} = 0.575$, $W_{\\rm TOP} = 0.375$, $W_{\\rm TOP} = 0.05$"
   ]
  },
  {
   "cell_type": "code",
   "execution_count": null,
   "metadata": {
    "id": "Sx_n9oUcGrlB"
   },
   "outputs": [],
   "source": [
    "Polymer_C3_OA_matrix_weight_setting_3 = np.ones([3,3])\n",
    "for i in range(0,2):\n",
    "    for j in range(i+1,3):\n",
    "        SOAij = Overall_Similarity_Score_Calculation(query = Polymer_C3[i],\n",
    "                                                                   target = Polymer_C3[j],\n",
    "                                                                   embedding_function = 'MorganFingerprint',\n",
    "                                                                   similarity_score_function = 'Tanimoto',\n",
    "                                                                   alpha = 1,\n",
    "                                                                   Repeat_Unit_Weight = 0.575,\n",
    "                                                                   Topology_Weight = 0.375,\n",
    "                                                                   End_Group_Weight = 0.05,\n",
    "                                                                   Mean_Function = 'geometric',\n",
    "                                                                   details_print = False,\n",
    "                                                                   return_with_components = False)\n",
    "        \n",
    "        Polymer_C3_OA_matrix_weight_setting_3[i,j] = SOAij\n",
    "        Polymer_C3_OA_matrix_weight_setting_3[j,i] = SOAij\n",
    "        "
   ]
  },
  {
   "cell_type": "markdown",
   "metadata": {
    "id": "tXpuWDkUx6jc"
   },
   "source": [
    "# Visualize the Similarity Matrices"
   ]
  },
  {
   "cell_type": "code",
   "execution_count": null,
   "metadata": {
    "id": "oqnlmFD1tTn4"
   },
   "outputs": [],
   "source": [
    "# libraries for visualization\n",
    "import seaborn as sns\n",
    "import matplotlib.pyplot as plt"
   ]
  },
  {
   "cell_type": "markdown",
   "metadata": {
    "id": "Pe1ealHoyMrq"
   },
   "source": [
    "## Overall Similarity,     $S_{\\rm OA}$ (Weight Setting 1: $W_{\\rm RU} = 0.475$, $W_{\\rm TOP} = 0.475$, $W_{\\rm TOP} = 0.05$)"
   ]
  },
  {
   "cell_type": "code",
   "execution_count": null,
   "metadata": {
    "colab": {
     "base_uri": "https://localhost:8080/",
     "height": 561
    },
    "id": "JbAgnupdxvOE",
    "outputId": "4c5fe96a-a96a-4fcf-a496-8b3a6d8c9338"
   },
   "outputs": [
    {
     "data": {
      "image/png": "[encoded data removed]",
      "text/plain": [
       "<Figure size 600x600 with 2 Axes>"
      ]
     },
     "metadata": {},
     "output_type": "display_data"
    }
   ],
   "source": [
    "fig, ax = plt.subplots(figsize=(6,6),sharey=True )\n",
    "\n",
    "x_labels = [\"C3-1\", \"C3-2\", \"C3-3\"]\n",
    "y_labels = [\"C3-1\", \"C3-2\", \"C3-3\"]\n",
    "\n",
    "sns.heatmap(Polymer_C3_OA_matrix_weight_setting_1, linewidth = 0.3, annot = True, fmt = \".2f\" , cmap = \"Blues\", cbar_kws = {'label': 'Similarity Score'})\n",
    "ax.set_title(r\"$S_{\\rm OA} ( W_{\\rm RU} = 0.475, W_{\\rm TOP} = 0.475, W_{\\rm TOP} = 0.05) $\", fontsize = 20)\n",
    "ax.set_xticklabels(x_labels, rotation = 0, fontsize = 15,horizontalalignment = 'center')\n",
    "ax.set_yticklabels(y_labels, rotation = 360, fontsize = 15, horizontalalignment = 'right')\n",
    "\n",
    "plt.show()"
   ]
  },
  {
   "cell_type": "markdown",
   "metadata": {
    "id": "6RKh7S4gHVkK"
   },
   "source": [
    "## Overall Similarity,     $S_{\\rm OA}$ (Weight Setting 2: $W_{\\rm RU} = 0.530$, $W_{\\rm TOP} = 0.420$, $W_{\\rm TOP} = 0.05$)"
   ]
  },
  {
   "cell_type": "code",
   "execution_count": null,
   "metadata": {
    "colab": {
     "base_uri": "https://localhost:8080/",
     "height": 561
    },
    "id": "G4RSjB2ZHV2W",
    "outputId": "6da391e1-47fe-425d-e4fb-4bd7d71db201"
   },
   "outputs": [
    {
     "data": {
      "image/png": "[encoded data removed]",
      "text/plain": [
       "<Figure size 600x600 with 2 Axes>"
      ]
     },
     "metadata": {},
     "output_type": "display_data"
    }
   ],
   "source": [
    "fig, ax = plt.subplots(figsize=(6,6),sharey=True )\n",
    "\n",
    "x_labels = [\"C3-1\", \"C3-2\", \"C3-3\"]\n",
    "y_labels = [\"C3-1\", \"C3-2\", \"C3-3\"]\n",
    "\n",
    "sns.heatmap(Polymer_C3_OA_matrix_weight_setting_2, linewidth = 0.3, annot = True, fmt = \".2f\" , cmap = \"Blues\", cbar_kws = {'label': 'Similarity Score'})\n",
    "ax.set_title(r\"$S_{\\rm OA} ( W_{\\rm RU} = 0.530, W_{\\rm TOP} = 0.420, W_{\\rm TOP} = 0.05) $\", fontsize = 20)\n",
    "ax.set_xticklabels(x_labels, rotation = 0, fontsize = 15,horizontalalignment = 'center')\n",
    "ax.set_yticklabels(y_labels, rotation = 360, fontsize = 15, horizontalalignment = 'right')\n",
    "\n",
    "plt.show()"
   ]
  },
  {
   "cell_type": "markdown",
   "metadata": {
    "id": "71ldH-dYHWDC"
   },
   "source": [
    "## Overall Similarity,     $S_{\\rm OA}$ (Weight Setting 3: $W_{\\rm RU} = 0.575$, $W_{\\rm TOP} = 0.375$, $W_{\\rm TOP} = 0.05$)"
   ]
  },
  {
   "cell_type": "code",
   "execution_count": null,
   "metadata": {
    "colab": {
     "base_uri": "https://localhost:8080/",
     "height": 561
    },
    "id": "A5_TH4J1HWL9",
    "outputId": "c92d879f-6292-4ad2-e2a7-95f7b1f14224"
   },
   "outputs": [
    {
     "data": {
      "image/png": "[encoded data removed]",
      "text/plain": [
       "<Figure size 600x600 with 2 Axes>"
      ]
     },
     "metadata": {},
     "output_type": "display_data"
    }
   ],
   "source": [
    "fig, ax = plt.subplots(figsize=(6,6),sharey=True )\n",
    "\n",
    "x_labels = [\"C3-1\", \"C3-2\", \"C3-3\"]\n",
    "y_labels = [\"C3-1\", \"C3-2\", \"C3-3\"]\n",
    "\n",
    "sns.heatmap(Polymer_C3_OA_matrix_weight_setting_3, linewidth = 0.3, annot = True, fmt = \".2f\" , cmap = \"Blues\", cbar_kws = {'label': 'Similarity Score'})\n",
    "ax.set_title(r\"$S_{\\rm OA} ( W_{\\rm RU} = 0.575, W_{\\rm TOP} = 0.375, W_{\\rm TOP} = 0.05) $\", fontsize = 20)\n",
    "ax.set_xticklabels(x_labels, rotation = 0, fontsize = 15,horizontalalignment = 'center')\n",
    "ax.set_yticklabels(y_labels, rotation = 360, fontsize = 15, horizontalalignment = 'right')\n",
    "\n",
    "plt.show()"
   ]
  },
  {
   "cell_type": "code",
   "execution_count": null,
   "metadata": {
    "id": "i8u6EwBlxydt"
   },
   "outputs": [],
   "source": []
  }
 ],
 "metadata": {
  "colab": {
   "provenance": []
  },
  "kernelspec": {
   "display_name": "Python 3 (ipykernel)",
   "language": "python",
   "name": "python3"
  },
  "language_info": {
   "codemirror_mode": {
    "name": "ipython",
    "version": 3
   },
   "file_extension": ".py",
   "mimetype": "text/x-python",
   "name": "python",
   "nbconvert_exporter": "python",
   "pygments_lexer": "ipython3",
   "version": "3.9.7"
  }
 },
 "nbformat": 4,
 "nbformat_minor": 1
}
