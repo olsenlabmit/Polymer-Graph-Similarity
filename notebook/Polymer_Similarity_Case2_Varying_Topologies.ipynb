{
  "cells": [
    {
      "cell_type": "markdown",
      "metadata": {
        "id": "nVg45IXBOyyO"
      },
      "source": [
        "\n",
        "\n",
        "<a target=\"_blank\" href=\"https://colab.research.google.com/github/olsenlabmit/Polymer-Graph-Similarity/blob/main/notebook/Polymer_Similarity_Case2_Varying_Topologies.ipynb\">\n",
        "  <img src=\"https://colab.research.google.com/assets/colab-badge.svg\" alt=\"Open In Colab\"/>\n",
        "</a>"
      ]
    },
    {
      "cell_type": "code",
      "execution_count": 1,
      "metadata": {
        "ExecuteTime": {
          "end_time": "2023-04-11T18:28:38.033150Z",
          "start_time": "2023-04-11T18:28:38.030383Z"
        },
        "cellView": "form",
        "id": "9ExWfHqV1EXI"
      },
      "outputs": [],
      "source": [
        "# @title Copyright & License (click to expand)\n",
        "# MIT License\n",
        "\n",
        "# Copyright (c) 2022 olsenlabmit\n",
        "\n",
        "# Permission is hereby granted, free of charge, to any person obtaining a copy\n",
        "# of this software and associated documentation files (the \"Software\"), to deal\n",
        "# in the Software without restriction, including without limitation the rights\n",
        "# to use, copy, modify, merge, publish, distribute, sublicense, and/or sell\n",
        "# copies of the Software, and to permit persons to whom the Software is\n",
        "# furnished to do so, subject to the following conditions:\n",
        "\n",
        "# The above copyright notice and this permission notice shall be included in all\n",
        "# copies or substantial portions of the Software.\n",
        "\n",
        "# THE SOFTWARE IS PROVIDED \"AS IS\", WITHOUT WARRANTY OF ANY KIND, EXPRESS OR\n",
        "# IMPLIED, INCLUDING BUT NOT LIMITED TO THE WARRANTIES OF MERCHANTABILITY,\n",
        "# FITNESS FOR A PARTICULAR PURPOSE AND NONINFRINGEMENT. IN NO EVENT SHALL THE\n",
        "# AUTHORS OR COPYRIGHT HOLDERS BE LIABLE FOR ANY CLAIM, DAMAGES OR OTHER\n",
        "# LIABILITY, WHETHER IN AN ACTION OF CONTRACT, TORT OR OTHERWISE, ARISING FROM,\n",
        "# OUT OF OR IN CONNECTION WITH THE SOFTWARE OR THE USE OR OTHER DEALINGS IN THE\n",
        "# SOFTWARE."
      ]
    },
    {
      "cell_type": "markdown",
      "metadata": {
        "id": "_sKD4LKzw0QJ"
      },
      "source": [
        "# Case 2: Varying Topologies"
      ]
    },
    {
      "cell_type": "markdown",
      "metadata": {
        "id": "kA0PTW_O3VxE"
      },
      "source": [
        "This notebook is to perform the calculations and reproduce the results of **Case 2** in the manuscript, Jiale Shi, Nathan J. Rebello, Dylan Walsh, Weizhong Zou, Michael E. Deagen, Bruno Salomao Leao, Debra J. Audus, Bradley D. Olsen, \"Quantifying Pairwise Chemical Similarity for Polymers\", submitted."
      ]
    },
    {
      "cell_type": "markdown",
      "metadata": {
        "id": "-9n8-Ciyiy7G"
      },
      "source": [
        "# Import and Install Necessary Libraries"
      ]
    },
    {
      "cell_type": "code",
      "execution_count": 2,
      "metadata": {
        "ExecuteTime": {
          "end_time": "2023-04-11T18:28:41.197174Z",
          "start_time": "2023-04-11T18:28:38.035850Z"
        },
        "id": "psnOpmYlL_sw",
        "colab": {
          "base_uri": "https://localhost:8080/"
        },
        "outputId": "d6c965b3-f24e-4f25-b990-c139b0f9a846"
      },
      "outputs": [
        {
          "output_type": "stream",
          "name": "stdout",
          "text": [
            "\u001b[2K     \u001b[90m━━━━━━━━━━━━━━━━━━━━━━━━━━━━━━━━━━━━━━━━\u001b[0m \u001b[32m29.4/29.4 MB\u001b[0m \u001b[31m29.5 MB/s\u001b[0m eta \u001b[36m0:00:00\u001b[0m\n",
            "\u001b[2K     \u001b[90m━━━━━━━━━━━━━━━━━━━━━━━━━━━━━━━━━━━━━━━━\u001b[0m \u001b[32m11.0/11.0 MB\u001b[0m \u001b[31m16.5 MB/s\u001b[0m eta \u001b[36m0:00:00\u001b[0m\n",
            "\u001b[2K     \u001b[90m━━━━━━━━━━━━━━━━━━━━━━━━━━━━━━━━━━━━━━━━\u001b[0m \u001b[32m49.6/49.6 kB\u001b[0m \u001b[31m2.7 MB/s\u001b[0m eta \u001b[36m0:00:00\u001b[0m\n",
            "\u001b[?25hSelecting previously unselected package coinor-libcoinutils3v5.\n",
            "(Reading database ... 122349 files and directories currently installed.)\n",
            "Preparing to unpack .../0-coinor-libcoinutils3v5_2.11.4+repack1-1_amd64.deb ...\n",
            "Unpacking coinor-libcoinutils3v5 (2.11.4+repack1-1) ...\n",
            "Selecting previously unselected package coinor-libosi1v5.\n",
            "Preparing to unpack .../1-coinor-libosi1v5_0.108.6+repack1-1_amd64.deb ...\n",
            "Unpacking coinor-libosi1v5 (0.108.6+repack1-1) ...\n",
            "Selecting previously unselected package coinor-libclp1.\n",
            "Preparing to unpack .../2-coinor-libclp1_1.17.5+repack1-1_amd64.deb ...\n",
            "Unpacking coinor-libclp1 (1.17.5+repack1-1) ...\n",
            "Selecting previously unselected package coinor-libcgl1.\n",
            "Preparing to unpack .../3-coinor-libcgl1_0.60.3+repack1-2_amd64.deb ...\n",
            "Unpacking coinor-libcgl1 (0.60.3+repack1-2) ...\n",
            "Selecting previously unselected package coinor-libcbc3.\n",
            "Preparing to unpack .../4-coinor-libcbc3_2.10.3+repack1-1build1_amd64.deb ...\n",
            "Unpacking coinor-libcbc3 (2.10.3+repack1-1build1) ...\n",
            "Selecting previously unselected package coinor-cbc.\n",
            "Preparing to unpack .../5-coinor-cbc_2.10.3+repack1-1build1_amd64.deb ...\n",
            "Unpacking coinor-cbc (2.10.3+repack1-1build1) ...\n",
            "Setting up coinor-libcoinutils3v5 (2.11.4+repack1-1) ...\n",
            "Setting up coinor-libosi1v5 (0.108.6+repack1-1) ...\n",
            "Setting up coinor-libclp1 (1.17.5+repack1-1) ...\n",
            "Setting up coinor-libcgl1 (0.60.3+repack1-2) ...\n",
            "Setting up coinor-libcbc3 (2.10.3+repack1-1build1) ...\n",
            "Setting up coinor-cbc (2.10.3+repack1-1build1) ...\n",
            "Processing triggers for man-db (2.9.1-1) ...\n",
            "Processing triggers for libc-bin (2.31-0ubuntu9.9) ...\n"
          ]
        }
      ],
      "source": [
        "# import necessary libraries available in colab\n",
        "import numpy as np\n",
        "import networkx as nx\n",
        "import matplotlib.pyplot as plt\n",
        "import shutil\n",
        "import sys\n",
        "import os.path\n",
        "\n",
        "# install necessary libraries not available in colab\n",
        "if not shutil.which(\"rdkit\"):\n",
        "    !pip install -q rdkit\n",
        "\n",
        "from rdkit import Chem\n",
        "from rdkit import DataStructs\n",
        "from rdkit.Chem import AllChem\n",
        "from rdkit.Chem import MACCSkeys\n",
        "from rdkit.Chem.AtomPairs import Pairs\n",
        "\n",
        "if not shutil.which(\"pyomo\"):\n",
        "    !pip install -q pyomo\n",
        "    assert shutil.which(\"pyomo\")\n",
        "\n",
        "if not (shutil.which(\"cbc\") or os.path.isfile(\"cbc\")):\n",
        "    if \"google.colab\" in sys.modules:\n",
        "        !apt-get install -y -qq coinor-cbc\n",
        "    else:\n",
        "        try:\n",
        "            !conda install -c conda-forge coincbc\n",
        "        except:\n",
        "            pass\n",
        "\n",
        "assert shutil.which(\"cbc\") or os.path.isfile(\"cbc\")\n",
        "\n",
        "from pyomo.environ import *"
      ]
    },
    {
      "cell_type": "markdown",
      "metadata": {
        "id": "D2aVwhkeZcX8"
      },
      "source": [
        "# Similarity Score Functions"
      ]
    },
    {
      "cell_type": "markdown",
      "metadata": {
        "id": "HsMcsqU-Pv6Y"
      },
      "source": [
        "## Earth Mover's Distance (EMD) Similarity Function\n",
        "\n",
        "Use the earth mover's distance to compute similarity for repeating units and end groups.\n",
        "\n",
        "\n",
        "$ EMD (P,Q)= \\min_{F}\\sum_{i=1}^{m}\\sum_{j=1}^{n}f_{i,j}d_{i,j}$\n",
        "\n",
        "$ {\\rm subject\\ to\\ } f_{i,j} \\geq 0, {\\rm\\ for\\ any\\ } \\ 1 \\leq i \\leq m, 1 \\leq j \\leq n $\n",
        "\n",
        "$     \\sum_{j=1}^{n}f_{i,j} =w_{pi}, {\\rm for\\ any} \\ 1 \\leq i \\leq m $\n",
        "\n",
        "$     \\sum_{i=1}^{m}f_{i,j} =w_{qj}, {\\rm for\\ any} \\ 1 \\leq j \\leq n $\n",
        "\n",
        "$     \\sum_{i=1}^{m}\\sum_{j=1}^{n}f_{i,j} = \\sum_{i}^{m} w_{pi} = \\sum_{j}^{n} w_{qj} = 1 $ \n",
        "\n",
        "\n",
        "Molecular fragment ensemble $P = \\{(p_1,w_{p_1}) ,(p_2,w_{p_2}),...,(p_i,w_{p_i}),...,(p_m,w_{p_m})\\}$ has $m$ molecular fragments, where $p_i$ is a molecular fragment such as a repeat unit or end group and $w_{p_i}>0$ is the weight, related to the average probability (or frequency, $z$) of the molecular fragment being present in the polymer. Similarly, the second ensemble $Q = {(q_1,w_{q_1}),(q_2,w_{q_2}),...,(q_j,w_{q_j}),...,(q_n,w_{q_n})}$ has $n$ molecular fragments.  The sums of the weights for $P$ and $Q$ are both normalized and equal to one.\n",
        "The distance $d_{i,j}$ is calculated by the converting the pairwise similarity score $s_{i,j}$ between $p_{i}$ and $q_{j}$, where $d_{i,j} = 1 - s_{i,j}$.\n",
        "Transport flow $f_{i,j}$ represents the amount of weight at $p_i$ which is transported to $q_j$. \n",
        "\n",
        "The EMD linear optimization code  refers to [3.1. Transportation Networks, ND Pyomo Notebook](https://jckantor.github.io/ND-Pyomo-Cookbook/notebooks/03.01-Transportation-Networks.html)\n",
        "\n",
        "Once $EMD (P,Q)$ is calculated, the similarity score between $P$ and $Q$ is, \n",
        "\n",
        "$S(P,Q) = 1- EMD (P,Q)$"
      ]
    },
    {
      "cell_type": "code",
      "execution_count": 3,
      "metadata": {
        "ExecuteTime": {
          "end_time": "2023-04-11T18:28:41.216747Z",
          "start_time": "2023-04-11T18:28:41.201472Z"
        },
        "id": "eOlNnWbfY8Va"
      },
      "outputs": [],
      "source": [
        "def Similarity_Score_EMD_Calculation(\n",
        "    query_smiles_list=None,\n",
        "    query_smiles_weight_list=None,\n",
        "    target_smiles_list=None,\n",
        "    target_smiles_weight_list=None,\n",
        "    embedding_function=\"MorganFingerprint\",\n",
        "    similarity_score_function=\"Tanimoto\",\n",
        "):\n",
        "    # obtain the length of query smiles list and target smiles list\n",
        "    query_smiles_list_length = len(query_smiles_list)\n",
        "\n",
        "    target_smiles_list_length = len(target_smiles_list)\n",
        "\n",
        "    # check whether the query is identical to the target\n",
        "    if set(query_smiles_list) == set(target_smiles_list):\n",
        "        query_smiles_array = np.array(query_smiles_list)\n",
        "        query_smiles_level_array = np.array(query_smiles_weight_list)\n",
        "        inds_query = query_smiles_array.argsort()\n",
        "        sorted_query_smiles_array = query_smiles_array[inds_query]\n",
        "        sorted_query_smiles_level_array = query_smiles_level_array[inds_query]\n",
        "\n",
        "        target_smiles_array = np.array(target_smiles_list)\n",
        "        target_smiles_level_array = np.array(target_smiles_weight_list)\n",
        "        inds_target = target_smiles_array.argsort()\n",
        "        sorted_target_smiles_array = target_smiles_array[inds_target]\n",
        "        sorted_target_smiles_level_array = target_smiles_level_array[inds_target]\n",
        "\n",
        "        if np.array_equal(\n",
        "            sorted_query_smiles_array, sorted_target_smiles_array\n",
        "        ) and np.array_equal(\n",
        "            sorted_query_smiles_level_array, sorted_target_smiles_level_array\n",
        "        ):\n",
        "            return 1.0\n",
        "\n",
        "        query_smiles_reduced_list = list(set(query_smiles_list))\n",
        "        query_smiles_reduced_list_number = []\n",
        "\n",
        "        for i in range(0, len(query_smiles_reduced_list)):\n",
        "            query_smiles_reduced_list_number_i = 0\n",
        "            for j in range(0, len(query_smiles_list)):\n",
        "                if query_smiles_reduced_list[i] == query_smiles_list[j]:\n",
        "                    query_smiles_reduced_list_number_i = (\n",
        "                        query_smiles_reduced_list_number_i + query_smiles_weight_list[j]\n",
        "                    )\n",
        "\n",
        "            query_smiles_reduced_list_number.append(\n",
        "                query_smiles_reduced_list_number_i / sum(query_smiles_weight_list)\n",
        "            )\n",
        "\n",
        "        target_smiles_reduced_list = list(set(target_smiles_list))\n",
        "        target_smiles_reduced_list_number = []\n",
        "\n",
        "        for i in range(0, len(target_smiles_reduced_list)):\n",
        "            target_smiles_reduced_list_number_i = 0\n",
        "            for j in range(0, len(target_smiles_list)):\n",
        "                if target_smiles_reduced_list[i] == target_smiles_list[j]:\n",
        "                    target_smiles_reduced_list_number_i = (\n",
        "                        target_smiles_reduced_list_number_i\n",
        "                        + target_smiles_weight_list[j]\n",
        "                    )\n",
        "\n",
        "            target_smiles_reduced_list_number.append(\n",
        "                target_smiles_reduced_list_number_i / sum(target_smiles_weight_list)\n",
        "            )\n",
        "\n",
        "        if query_smiles_reduced_list_number == target_smiles_reduced_list_number:\n",
        "            return 1.0\n",
        "\n",
        "    # transfer SMILES to fingerprints\n",
        "    if embedding_function == \"RDKFingerprint\":\n",
        "        query_mol_list = [Chem.MolFromSmiles(x) for x in query_smiles_list]\n",
        "        query_fingerprint_list = [Chem.RDKFingerprint(x) for x in query_mol_list]\n",
        "        target_mol_list = [Chem.MolFromSmiles(x) for x in target_smiles_list]\n",
        "        target_fingerprint_list = [Chem.RDKFingerprint(x) for x in target_mol_list]\n",
        "\n",
        "    elif embedding_function == \"MorganFingerprint\":\n",
        "        query_mol_list = [Chem.MolFromSmiles(x) for x in query_smiles_list]\n",
        "        query_fingerprint_list = [\n",
        "            AllChem.GetMorganFingerprintAsBitVect(x, 2, nBits=2048)\n",
        "            for x in query_mol_list\n",
        "        ]\n",
        "        target_mol_list = [Chem.MolFromSmiles(x) for x in target_smiles_list]\n",
        "        target_fingerprint_list = [\n",
        "            AllChem.GetMorganFingerprintAsBitVect(x, 2, nBits=2048)\n",
        "            for x in target_mol_list\n",
        "        ]\n",
        "\n",
        "    elif embedding_function == \"MACCSkeys\":\n",
        "        query_mol_list = [Chem.MolFromSmiles(x) for x in query_smiles_list]\n",
        "        query_fingerprint_list = [MACCSkeys.GenMACCSKeys(x) for x in query_mol_list]\n",
        "        target_mol_list = [Chem.MolFromSmiles(x) for x in target_smiles_list]\n",
        "        target_fingerprint_list = [MACCSkeys.GenMACCSKeys(x) for x in target_mol_list]\n",
        "\n",
        "    else:\n",
        "        print(\n",
        "            embedding_function\n",
        "            + \" is not included in the current vision.\"\n",
        "            + \" Please choose an available embedding function:\"\n",
        "        )\n",
        "        print(\"MorganFingerprint, RDKFingerprint, MACCSkeys.\")\n",
        "        return False\n",
        "\n",
        "    # define the required three sets\n",
        "    Demand = {}  # query\n",
        "    Supply = {}  # target\n",
        "    T = {}  # transport flow\n",
        "\n",
        "    # define the weight for SMILES in query, w_i\n",
        "    if len(set(query_smiles_weight_list)) == 1:\n",
        "        for i in range(0, query_smiles_list_length):\n",
        "            Demand[\"P\" + str(i + 1)] = 1 / query_smiles_list_length\n",
        "\n",
        "    else:\n",
        "        query_weight_sum = sum(query_smiles_weight_list)\n",
        "        for i in range(0, query_smiles_list_length):\n",
        "            Demand[\"P\" + str(i + 1)] = query_smiles_weight_list[i] / query_weight_sum\n",
        "\n",
        "    # define weight for SMILES in target, w_j\n",
        "    if len(set(target_smiles_weight_list)) == 1:\n",
        "        for j in range(0, target_smiles_list_length):\n",
        "            Supply[\"Q\" + str(j + 1)] = 1 / target_smiles_list_length\n",
        "\n",
        "    else:\n",
        "        target_weight_sum = sum(target_smiles_weight_list)\n",
        "        for j in range(0, target_smiles_list_length):\n",
        "            Supply[\"Q\" + str(j + 1)] = target_smiles_weight_list[j] / target_weight_sum\n",
        "\n",
        "    # use similarity function to calculate d_ij\n",
        "    if similarity_score_function == \"Tanimoto\":\n",
        "        for i in range(0, query_smiles_list_length):\n",
        "            for j in range(0, target_smiles_list_length):\n",
        "                T[\n",
        "                    (\"P\" + str(i + 1), \"Q\" + str(j + 1))\n",
        "                ] = 1 - DataStructs.FingerprintSimilarity(\n",
        "                    query_fingerprint_list[i], target_fingerprint_list[j]\n",
        "                )\n",
        "\n",
        "    elif similarity_score_function == \"Dice\":\n",
        "        for i in range(0, query_smiles_list_length):\n",
        "            for j in range(0, target_smiles_list_length):\n",
        "                T[\n",
        "                    (\"P\" + str(i + 1), \"Q\" + str(j + 1))\n",
        "                ] = 1 - DataStructs.FingerprintSimilarity(\n",
        "                    query_fingerprint_list[i],\n",
        "                    target_fingerprint_list[j],\n",
        "                    metric=DataStructs.DiceSimilarity,\n",
        "                )\n",
        "\n",
        "    elif similarity_score_function == \"Cosine\":\n",
        "        for i in range(0, query_smiles_list_length):\n",
        "            for j in range(0, target_smiles_list_length):\n",
        "                T[\n",
        "                    (\"P\" + str(i + 1), \"Q\" + str(j + 1))\n",
        "                ] = 1 - DataStructs.FingerprintSimilarity(\n",
        "                    query_fingerprint_list[i],\n",
        "                    target_fingerprint_list[j],\n",
        "                    metric=DataStructs.CosineSimilarity,\n",
        "                )\n",
        "\n",
        "    else:\n",
        "        print(\n",
        "            similarity_score_function\n",
        "            + \" is not included in the current vision.\"\n",
        "            + \" Please choose an available similarity function:\"\n",
        "        )\n",
        "        print(\"Tanimoto, Dice, or Cosine\")\n",
        "        return\n",
        "\n",
        "    # linear optimization with pyomo\n",
        "    # step 0: Create an instance of the model\n",
        "    model = ConcreteModel()\n",
        "    model.dual = Suffix(direction=Suffix.IMPORT)\n",
        "\n",
        "    # step 1: define index sets\n",
        "    CUS = list(Demand.keys())\n",
        "    SRC = list(Supply.keys())\n",
        "\n",
        "    # step 2: define the decision\n",
        "    model.x = Var(CUS, SRC, domain=NonNegativeReals)\n",
        "\n",
        "    # step 3: define objective\n",
        "    model.Cost = Objective(\n",
        "        expr=sum([T[c, s] * model.x[c, s] for c in CUS for s in SRC]), sense=minimize\n",
        "    )\n",
        "\n",
        "    # step 4: define constraints\n",
        "    model.src = ConstraintList()\n",
        "    for s in SRC:\n",
        "        model.src.add(sum([model.x[c, s] for c in CUS]) == Supply[s])\n",
        "\n",
        "    model.dmd = ConstraintList()\n",
        "    for c in CUS:\n",
        "        model.dmd.add(sum([model.x[c, s] for s in SRC]) == Demand[c])\n",
        "\n",
        "    # step 5: solve the model\n",
        "    results = SolverFactory(\"cbc\").solve(model)\n",
        "\n",
        "    if \"ok\" == str(results.Solver.status):\n",
        "        SimilarityScore = 1 - model.Cost()\n",
        "        return SimilarityScore\n",
        "\n",
        "    else:\n",
        "        print(\"No Valid Solution Found\")\n",
        "        return False"
      ]
    },
    {
      "cell_type": "markdown",
      "metadata": {
        "id": "fNpt-pIDQLOX"
      },
      "source": [
        "## Topology Similarity Function\n",
        "\n",
        "Use graph edit distance $GED(g_1, g_2)$ to compute the topological similarity $S_{\\rm TOP}(g_1,g_2)$.\n",
        "\n",
        "$GED(g_1, g_2)$  is computed via a networkx function [graph_edit_distance](https://networkx.org/documentation/stable/reference/algorithms/generated/networkx.algorithms.similarity.graph_edit_distance.html), while the topological similarity score $S_{\\rm TOP}(g_1,g_2)$ in the range of (0,1] is computed via a exponential decay function:\n",
        "\n",
        "\n",
        "$S_{\\rm TOP}(g_1, g_2) = \\exp(-\\frac{\\alpha \\cdot GED(g_1, g_2)}{(N_1 + N_2)/2})$\n",
        "\n",
        "where $N_i$ is the number of nodes in graph $g_i$."
      ]
    },
    {
      "cell_type": "code",
      "execution_count": 4,
      "metadata": {
        "ExecuteTime": {
          "end_time": "2023-04-11T18:28:41.220779Z",
          "start_time": "2023-04-11T18:28:41.218100Z"
        },
        "id": "oyUi54M_IorG"
      },
      "outputs": [],
      "source": [
        "def Topology_Similarity_Score_Calculation(Graph1=None, Graph2=None, alpha=1):\n",
        "    if Graph1 == None:\n",
        "        print(\"Missing Graph1\")\n",
        "        return\n",
        "    if Graph2 == None:\n",
        "        print(\"Missing Graph2\")\n",
        "        return\n",
        "\n",
        "    Graph1_number_nodes = Graph1.number_of_nodes()\n",
        "    Graph2_number_nodes = Graph2.number_of_nodes()\n",
        "\n",
        "    graph_edit_distance = nx.graph_edit_distance(Graph1, Graph2)\n",
        "\n",
        "    topology_similarity_score = np.exp(\n",
        "        -alpha * graph_edit_distance / ((Graph1_number_nodes + Graph2_number_nodes) / 2)\n",
        "    )\n",
        "\n",
        "    return topology_similarity_score"
      ]
    },
    {
      "cell_type": "markdown",
      "metadata": {
        "id": "v_4bM0zPQRGC"
      },
      "source": []
    },
    {
      "cell_type": "markdown",
      "metadata": {
        "id": "7bdTaiEZQelj"
      },
      "source": [
        "## Weighted Mean Function for Overall Pairwise Similarity Score $S_{\\rm OA}$ \n",
        "\n",
        "From the above EMD and GED calculations, three similarity scores are obtained: $S_{\\rm RU}$  for repeat units, $S_{\\rm EG}$  for end groups, and $S_{\\rm TOP}$   for topology. To calculate the overall similarity score $S_{\\rm OA}$. Two weighted mean functions are provided. \n",
        "\n",
        "1. weighted geometric mean\n",
        "\n",
        "$S_{\\rm OA} =  S_{\\rm RU}^{W_{\\rm RU}} \\cdot S_{\\rm TOP}^{W_{\\rm TOP}} \\cdot S_{\\rm EG}^{W_{\\rm EG}} $ \n",
        "\n",
        "2. weighted arithmetic mean\n",
        "\n",
        "$S_{\\rm OA} =  S_{\\rm RU} \\cdot W_{\\rm RU} + S_{\\rm TOP} \\cdot W_{\\rm TOP} +  S_{\\rm EG} \\cdot W_{\\rm EG} $ \n"
      ]
    },
    {
      "cell_type": "code",
      "execution_count": 5,
      "metadata": {
        "ExecuteTime": {
          "end_time": "2023-04-11T18:28:41.228885Z",
          "start_time": "2023-04-11T18:28:41.222240Z"
        },
        "id": "tnGFkpht12nw"
      },
      "outputs": [],
      "source": [
        "def Overall_Similarity_Score_Calculation(\n",
        "    query=None,\n",
        "    target=None,\n",
        "    embedding_function=\"RDKFingerprint\",\n",
        "    similarity_score_function=\"Tanimoto\",\n",
        "    alpha=1,\n",
        "    Repeat_Unit_Weight=0.475,\n",
        "    Topology_Weight=0.475,\n",
        "    End_Group_Weight=0.05,\n",
        "    Mean_Function=\"geometric\",\n",
        "    details_print=False,\n",
        "    return_with_components=False,\n",
        "):\n",
        "    if query == None or target == None:\n",
        "        print(\n",
        "            \"Either query polymer or target polymer is missing! Please check the input.\"\n",
        "        )\n",
        "        return\n",
        "\n",
        "    Repeat_Unit_Similarity_Score = Similarity_Score_EMD_Calculation(\n",
        "        query_smiles_list=query.repeat_unit_smiles_list,\n",
        "        query_smiles_weight_list=query.repeat_unit_smiles_weight_list,\n",
        "        target_smiles_list=target.repeat_unit_smiles_list,\n",
        "        target_smiles_weight_list=target.repeat_unit_smiles_weight_list,\n",
        "        embedding_function=embedding_function,\n",
        "        similarity_score_function=similarity_score_function,\n",
        "    )\n",
        "\n",
        "    Topology_Similarity_Score = Topology_Similarity_Score_Calculation(\n",
        "        Graph1=query.graph_representation,\n",
        "        Graph2=target.graph_representation,\n",
        "        alpha=alpha,\n",
        "    )\n",
        "\n",
        "    if len(query.end_group_smiles_list) == 0 and len(target.end_group_smiles_list) == 0:\n",
        "        End_Group_Similarity_Score = 1.0\n",
        "\n",
        "    elif (\n",
        "        len(query.end_group_smiles_list) == 0 and len(target.end_group_smiles_list) != 0\n",
        "    ) or (\n",
        "        len(query.end_group_smiles_list) != 0 and len(target.end_group_smiles_list) == 0\n",
        "    ):\n",
        "        End_Group_Similarity_Score = 1.0\n",
        "\n",
        "    else:\n",
        "        End_Group_Similarity_Score = Similarity_Score_EMD_Calculation(\n",
        "            query_smiles_list=query.end_group_smiles_list,\n",
        "            query_smiles_weight_list=query.end_group_smiles_weight_list,\n",
        "            target_smiles_list=target.end_group_smiles_list,\n",
        "            target_smiles_weight_list=target.end_group_smiles_weight_list,\n",
        "            embedding_function=embedding_function,\n",
        "            similarity_score_function=similarity_score_function,\n",
        "        )\n",
        "\n",
        "    # verify whether the weight sum is normalized.\n",
        "    if abs(Repeat_Unit_Weight + Topology_Weight + End_Group_Weight - 1) != 0.0:\n",
        "        Weight_Sum = Repeat_Unit_Weight + Topology_Weight + End_Group_Weight\n",
        "\n",
        "        Repeat_Unit_Weight = Repeat_Unit_Weight / Weight_Sum\n",
        "\n",
        "        Topology_Weight = Topology_Weight / Weight_Sum\n",
        "\n",
        "        End_Group_Weight = End_Group_Weight / Weight_Sum\n",
        "\n",
        "    if Mean_Function == \"geometric\":\n",
        "        Overall_Similarity_Score = (\n",
        "            pow(Repeat_Unit_Similarity_Score, Repeat_Unit_Weight)\n",
        "            * pow(Topology_Similarity_Score, Topology_Weight)\n",
        "            * pow(End_Group_Similarity_Score, End_Group_Weight)\n",
        "        )\n",
        "\n",
        "    elif Mean_Function == \"arithmetic\":\n",
        "        Overall_Similarity_Score = (\n",
        "            Repeat_Unit_Weight * Repeat_Unit_Similarity_Score\n",
        "            + Topology_Weight * Topology_Similarity_Score\n",
        "            + End_Group_Weight * End_Group_Similarity_Score\n",
        "        )\n",
        "\n",
        "    else:\n",
        "        print(\n",
        "            \"Your input mean function \",\n",
        "            Mean_Function,\n",
        "            \" is not implemented currently.\"\n",
        "            + \" Please choose those implemented mean functions, such as arithmetic, geometric\",\n",
        "        )\n",
        "        return\n",
        "\n",
        "    if details_print == True:\n",
        "        print(\"Details of the Similarity Score:\\n\")\n",
        "        print(\n",
        "            \"Repeat Unit Similarity Score = \",\n",
        "            Repeat_Unit_Similarity_Score,\n",
        "            \", Normalized Weight for Repeat Unit = \",\n",
        "            Repeat_Unit_Weight,\n",
        "        )\n",
        "        print(\n",
        "            \"Topology Similarity Score = \",\n",
        "            Topology_Similarity_Score,\n",
        "            \", Normalized Weight for Topology = \",\n",
        "            Topology_Weight,\n",
        "        )\n",
        "        print(\n",
        "            \"End Group Similarity  = \",\n",
        "            End_Group_Similarity_Score,\n",
        "            \", Normalized Weight for End Group = \",\n",
        "            End_Group_Weight,\n",
        "        )\n",
        "        print(\n",
        "            \"Overall Pairwise Similarity Score with \"\n",
        "            + Mean_Function\n",
        "            + \" mean function = \",\n",
        "            Overall_Similarity_Score,\n",
        "        )\n",
        "        print(\"\\n\")\n",
        "\n",
        "    if return_with_components == True:\n",
        "        return (\n",
        "            Overall_Similarity_Score,\n",
        "            Repeat_Unit_Similarity_Score,\n",
        "            Topology_Similarity_Score,\n",
        "            End_Group_Similarity_Score,\n",
        "        )\n",
        "\n",
        "    return Overall_Similarity_Score"
      ]
    },
    {
      "cell_type": "markdown",
      "metadata": {
        "id": "bijKjSMqQ-gw"
      },
      "source": [
        "# Define Polymer Class for Importing Polymer data\n",
        "\n",
        "The polymer graph is decomposed into three components: repeat units, end groups and topology. \n",
        "\n",
        "(I) To compute $S_{\\rm RU}$  for repeat units, we need the polymer's (1) repeat unit SMILES list and (2) corresponding weight list.\n",
        "\n",
        "(II) To compute $S_{\\rm EG}$  for end groups, we need the polymer's (3) end group SMILES list and (4) corresponding weight list.\n",
        "\n",
        "(III) To compute $S_{\\rm TOP}$ for topology, we need the polymers' (5) topological graph representation.\n",
        "\n",
        "Therefore, in the Polymer Class, we have to define the above five elements which are required to perform polymer similarity calculation."
      ]
    },
    {
      "cell_type": "code",
      "execution_count": 6,
      "metadata": {
        "ExecuteTime": {
          "end_time": "2023-04-11T18:28:41.235340Z",
          "start_time": "2023-04-11T18:28:41.230062Z"
        },
        "id": "k-I92q5zfd_L"
      },
      "outputs": [],
      "source": [
        "class Polymer:\n",
        "    def __init__(\n",
        "        self,\n",
        "        repeat_unit_smiles_list=None,\n",
        "        repeat_unit_smiles_weight_list=None,\n",
        "        end_group_smiles_list=None,\n",
        "        end_group_smiles_weight_list=None,\n",
        "        graph_representation=None,\n",
        "    ):\n",
        "        if repeat_unit_smiles_list == None:\n",
        "            print(\n",
        "                \"Error: Repeat Unit SMILES are missing.\"\n",
        "                + \" Please define the Repeat Unit SMILES.\"\n",
        "            )\n",
        "            return\n",
        "\n",
        "        else:\n",
        "            self.repeat_unit_smiles_list = repeat_unit_smiles_list\n",
        "\n",
        "        if repeat_unit_smiles_weight_list == None:\n",
        "            print(\n",
        "                \"Error: Repeat Unit weights are missing.\"\n",
        "                + \" Please re-enter the correct Repeat Unit weights.\\n\"\n",
        "            )\n",
        "            return\n",
        "\n",
        "        elif len(repeat_unit_smiles_weight_list) != len(repeat_unit_smiles_list):\n",
        "            print(\n",
        "                \"Error: Repeat Unit weights are not correct.\"\n",
        "                + \" Please re-enter the correct Repeat Unit SMILES and weights.\\n\"\n",
        "            )\n",
        "            return\n",
        "\n",
        "        else:\n",
        "            self.repeat_unit_smiles_weight_list = repeat_unit_smiles_weight_list\n",
        "\n",
        "        if end_group_smiles_list == None and end_group_smiles_weight_list == None:\n",
        "            self.end_group_smiles_list = []\n",
        "            self.end_group_smiles_weight_list = []\n",
        "            print(\n",
        "                \"Notice: The Polymer has NO End Group.\\n\"\n",
        "                + \"If this is what you want, this message is NOT Error.\\n\"\n",
        "                + \"Otherwise, please enter the correct End Group SMILES and weights.\\n\"\n",
        "            )\n",
        "\n",
        "        elif (\n",
        "            end_group_smiles_list == None and end_group_smiles_weight_list != None\n",
        "        ) or (end_group_smiles_list != None and end_group_smiles_weight_list == None):\n",
        "            print(\n",
        "                \"Error: End Group SMILES and weights are not matching.\"\n",
        "                + \" Please re-enter the correct End Group SMILES and weights.\\n\"\n",
        "            )\n",
        "            return\n",
        "\n",
        "        else:\n",
        "            if len(end_group_smiles_list) != len(end_group_smiles_weight_list):\n",
        "                print(\n",
        "                    \"Error: End Group SMILES and weights are not matching.\"\n",
        "                    + \" Please re-enter the correct End Group SMILES and weights.\\n\"\n",
        "                )\n",
        "                return\n",
        "\n",
        "            else:\n",
        "                if (\n",
        "                    len(end_group_smiles_list) == 0\n",
        "                    and len(end_group_smiles_weight_list) == 0\n",
        "                ):\n",
        "                    print(\n",
        "                        \"Notice: The Polymer has NO End Group.\\n\"\n",
        "                        + \"If this is what you want, this message is NOT Error.\\n\"\n",
        "                        + \"Otherwise, please enter the correct End Group SMILES and weights.\\n\"\n",
        "                    )\n",
        "\n",
        "                self.end_group_smiles_list = end_group_smiles_list\n",
        "                self.end_group_smiles_weight_list = end_group_smiles_weight_list\n",
        "\n",
        "        if graph_representation == None:\n",
        "            print(\n",
        "                \"Error: Topology graph representation is missing.\"\n",
        "                + \" Please define the topology graph representation.\\n\"\n",
        "            )\n",
        "            return\n",
        "\n",
        "        else:\n",
        "            self.graph_representation = graph_representation"
      ]
    },
    {
      "cell_type": "markdown",
      "metadata": {
        "id": "vE5C5Cf0zSbF"
      },
      "source": [
        "# Case 2: Varying Topologies\n",
        "\n",
        "Case 2 computes the pairwise similarity score of polymers that have the same repeat units but different topological graph representations, with these examples of reversible addition-fragmentation chain transfer (RAFT) polystyrenes (C2-1: one-arm, C2-2: two-arm, C2-3: three-arm, C2-4: four-arm)."
      ]
    },
    {
      "cell_type": "markdown",
      "metadata": {
        "id": "93332dHdzs9Y"
      },
      "source": [
        "# Define Polymers in Case 2"
      ]
    },
    {
      "cell_type": "markdown",
      "metadata": {
        "id": "eIHJx_8wpS33"
      },
      "source": [
        "## Polymer C2-1\n",
        "\n",
        "<img src=\"https://drive.google.com/uc?export=view&id=1AyMbyIjfy2hkoL73R_5PpUYq3C8JLISd\"  width=\"50%\" height=\"50%\">"
      ]
    },
    {
      "cell_type": "code",
      "execution_count": 7,
      "metadata": {
        "ExecuteTime": {
          "end_time": "2023-04-11T18:28:41.338865Z",
          "start_time": "2023-04-11T18:28:41.238295Z"
        },
        "colab": {
          "base_uri": "https://localhost:8080/",
          "height": 553
        },
        "id": "4gg0HbRJzsNw",
        "outputId": "e20acaaa-52a9-4274-b71f-2bcd22fa55d6"
      },
      "outputs": [
        {
          "output_type": "stream",
          "name": "stdout",
          "text": [
            "Polymer_C2_1_top_graph_representation number of nodes:  5\n",
            "Polymer_C2_1_top_graph_representation number of edges:  6\n"
          ]
        },
        {
          "output_type": "display_data",
          "data": {
            "text/plain": [
              "<Figure size 640x480 with 1 Axes>"
            ],
            "image/png": "[encoded data removed]"
          },
          "metadata": {}
        }
      ],
      "source": [
        "Polymer_C2_1_top_graph_representation = nx.MultiDiGraph()\n",
        "Polymer_C2_1_top_graph_representation.add_nodes_from(\n",
        "    [\"E1-arm1\", \"D1\", \"R1-arm1\", \"R1'-arm1\", \"E2\"]\n",
        ")\n",
        "Polymer_C2_1_top_graph_representation.add_edges_from(\n",
        "    [\n",
        "        (\"E1-arm1\", \"D1\"),\n",
        "        (\"D1\", \"R1-arm1\"),\n",
        "        (\"R1-arm1\", \"D1\"),\n",
        "        (\"D1\", \"R1'-arm1\"),\n",
        "        (\"R1'-arm1\", \"D1\"),\n",
        "        (\"D1\", \"E2\"),\n",
        "    ]\n",
        ")\n",
        "nx.draw(Polymer_C2_1_top_graph_representation)\n",
        "print(\n",
        "    \"Polymer_C2_1_top_graph_representation number of nodes: \",\n",
        "    Polymer_C2_1_top_graph_representation.number_of_nodes(),\n",
        ")\n",
        "print(\n",
        "    \"Polymer_C2_1_top_graph_representation number of edges: \",\n",
        "    Polymer_C2_1_top_graph_representation.number_of_edges(),\n",
        ")\n",
        "\n",
        "Polymer_C2_1 = Polymer(\n",
        "    repeat_unit_smiles_list=[\"*CC(*)c1ccccc1\"],\n",
        "    repeat_unit_smiles_weight_list=[1],\n",
        "    end_group_smiles_list=[\"*SC(=S)SCCCC\", \"*C(C)C(=O)OC\"],\n",
        "    end_group_smiles_weight_list=[1, 1],\n",
        "    graph_representation=Polymer_C2_1_top_graph_representation,\n",
        ")"
      ]
    },
    {
      "cell_type": "markdown",
      "metadata": {
        "id": "pkO_5dOtpY_E"
      },
      "source": [
        "## Polymer C2-2\n",
        "\n",
        "<img src=\"https://drive.google.com/uc?export=view&id=1LaxtzW8LN6hIr68CojaBob3QcrA7HhpW\"  width=\"50%\" height=\"50%\">"
      ]
    },
    {
      "cell_type": "code",
      "execution_count": 8,
      "metadata": {
        "ExecuteTime": {
          "end_time": "2023-04-11T18:28:41.435307Z",
          "start_time": "2023-04-11T18:28:41.340102Z"
        },
        "colab": {
          "base_uri": "https://localhost:8080/",
          "height": 553
        },
        "id": "FUemADZ3SN0d",
        "outputId": "e355fe02-643a-4d91-f2af-bd471a027f99"
      },
      "outputs": [
        {
          "output_type": "stream",
          "name": "stdout",
          "text": [
            "Polymer_C2_2_top_graph_representation number of nodes:  9\n",
            "Polymer_C2_2_top_graph_representation number of edges:  12\n"
          ]
        },
        {
          "output_type": "display_data",
          "data": {
            "text/plain": [
              "<Figure size 640x480 with 1 Axes>"
            ],
            "image/png": "[encoded data removed]"
          },
          "metadata": {}
        }
      ],
      "source": [
        "Polymer_C2_2_top_graph_representation = nx.MultiDiGraph()\n",
        "Polymer_C2_2_top_graph_representation.add_nodes_from(\n",
        "    [\n",
        "        \"E1-arm1\",\n",
        "        \"D1\",\n",
        "        \"R1-arm1\",\n",
        "        \"R1'-arm1\",\n",
        "        \"E2\",\n",
        "        \"D2\",\n",
        "        \"R1-arm2\",\n",
        "        \"R1'-arm2\",\n",
        "        \"E1-arm2\",\n",
        "    ]\n",
        ")\n",
        "Polymer_C2_2_top_graph_representation.add_edges_from(\n",
        "    [\n",
        "        (\"E1-arm1\", \"D1\"),\n",
        "        (\"D1\", \"R1-arm1\"),\n",
        "        (\"R1-arm1\", \"D1\"),\n",
        "        (\"D1\", \"R1'-arm1\"),\n",
        "        (\"R1'-arm1\", \"D1\"),\n",
        "        (\"D1\", \"E2\"),\n",
        "        (\"E2\", \"D2\"),\n",
        "        (\"D2\", \"R1-arm2\"),\n",
        "        (\"R1-arm2\", \"D2\"),\n",
        "        (\"D2\", \"R1'-arm2\"),\n",
        "        (\"R1'-arm2\", \"D2\"),\n",
        "        (\"D2\", \"E1-arm2\"),\n",
        "    ]\n",
        ")\n",
        "nx.draw(Polymer_C2_2_top_graph_representation)\n",
        "print(\n",
        "    \"Polymer_C2_2_top_graph_representation number of nodes: \",\n",
        "    Polymer_C2_2_top_graph_representation.number_of_nodes(),\n",
        ")\n",
        "print(\n",
        "    \"Polymer_C2_2_top_graph_representation number of edges: \",\n",
        "    Polymer_C2_2_top_graph_representation.number_of_edges(),\n",
        ")\n",
        "\n",
        "Polymer_C2_2 = Polymer(\n",
        "    repeat_unit_smiles_list=[\"*CC(*)c1ccccc1\", \"*CC(*)c1ccccc1\"],\n",
        "    repeat_unit_smiles_weight_list=[1, 1],\n",
        "    end_group_smiles_list=[\n",
        "        \"*SC(=S)SCCCC\",\n",
        "        \"*SC(=S)SCCCC\",\n",
        "        \"*C(C)C(=O)OCC(C)(C)COC(=O)C(*)C\",\n",
        "    ],\n",
        "    end_group_smiles_weight_list=[1, 1, 1],\n",
        "    graph_representation=Polymer_C2_2_top_graph_representation,\n",
        ")"
      ]
    },
    {
      "cell_type": "markdown",
      "metadata": {
        "id": "i5-QuC93pa17"
      },
      "source": [
        "## Polymer C2-3\n",
        "\n",
        "<img src=\"https://drive.google.com/uc?export=view&id=1B4Q6MPBdB33MJ8DHwj9wMcpgCZdz6XMy\"  width=\"50%\" height=\"50%\">"
      ]
    },
    {
      "cell_type": "code",
      "execution_count": 9,
      "metadata": {
        "ExecuteTime": {
          "end_time": "2023-04-11T18:28:41.552680Z",
          "start_time": "2023-04-11T18:28:41.436794Z"
        },
        "colab": {
          "base_uri": "https://localhost:8080/",
          "height": 553
        },
        "id": "8l7h3jW95f4B",
        "outputId": "9921eb02-e38e-4663-f952-1377f9eb49eb"
      },
      "outputs": [
        {
          "output_type": "stream",
          "name": "stdout",
          "text": [
            "Polymer_C2_3_top_graph_representation number of nodes:  13\n",
            "Polymer_C2_3_top_graph_representation number of edges:  18\n"
          ]
        },
        {
          "output_type": "display_data",
          "data": {
            "text/plain": [
              "<Figure size 640x480 with 1 Axes>"
            ],
            "image/png": "[encoded data removed]"
          },
          "metadata": {}
        }
      ],
      "source": [
        "Polymer_C2_3_top_graph_representation = nx.MultiDiGraph()\n",
        "Polymer_C2_3_top_graph_representation.add_nodes_from(\n",
        "    [\n",
        "        \"E1-arm1\",\n",
        "        \"D1\",\n",
        "        \"R1-arm1\",\n",
        "        \"R1'-arm1\",\n",
        "        \"E2\",\n",
        "        \"D2\",\n",
        "        \"R1-arm2\",\n",
        "        \"R1'-arm2\",\n",
        "        \"E1-arm2\",\n",
        "        \"D3\",\n",
        "        \"R1-arm3\",\n",
        "        \"R1'-arm3\",\n",
        "        \"E1-arm3\",\n",
        "    ]\n",
        ")\n",
        "Polymer_C2_3_top_graph_representation.add_edges_from(\n",
        "    [\n",
        "        (\"E1-arm1\", \"D1\"),\n",
        "        (\"D1\", \"R1-arm1\"),\n",
        "        (\"R1-arm1\", \"D1\"),\n",
        "        (\"D1\", \"R1'-arm1\"),\n",
        "        (\"R1'-arm1\", \"D1\"),\n",
        "        (\"D1\", \"E2\"),\n",
        "        (\"E2\", \"D2\"),\n",
        "        (\"D2\", \"R1-arm2\"),\n",
        "        (\"R1-arm2\", \"D2\"),\n",
        "        (\"D2\", \"R1'-arm2\"),\n",
        "        (\"R1'-arm2\", \"D2\"),\n",
        "        (\"D2\", \"E1-arm2\"),\n",
        "        (\"E2\", \"D3\"),\n",
        "        (\"D3\", \"R1-arm3\"),\n",
        "        (\"R1-arm3\", \"D3\"),\n",
        "        (\"D3\", \"R1'-arm3\"),\n",
        "        (\"R1'-arm3\", \"D3\"),\n",
        "        (\"D3\", \"E1-arm3\"),\n",
        "    ]\n",
        ")\n",
        "nx.draw(Polymer_C2_3_top_graph_representation)\n",
        "print(\n",
        "    \"Polymer_C2_3_top_graph_representation number of nodes: \",\n",
        "    Polymer_C2_3_top_graph_representation.number_of_nodes(),\n",
        ")\n",
        "print(\n",
        "    \"Polymer_C2_3_top_graph_representation number of edges: \",\n",
        "    Polymer_C2_3_top_graph_representation.number_of_edges(),\n",
        ")\n",
        "\n",
        "Polymer_C2_3 = Polymer(\n",
        "    repeat_unit_smiles_list=[\"*CC(*)c1ccccc1\", \"*CC(*)c1ccccc1\", \"*CC(*)c1ccccc1\"],\n",
        "    repeat_unit_smiles_weight_list=[1, 1, 1],\n",
        "    end_group_smiles_list=[\n",
        "        \"*SC(=S)SCCCC\",\n",
        "        \"*SC(=S)SCCCC\",\n",
        "        \"*SC(=S)SCCCC\",\n",
        "        \"*C(C)C(=O)OCC(C)(COC(=O)C(*)C)COC(=O)C(*)C\",\n",
        "    ],\n",
        "    end_group_smiles_weight_list=[1, 1, 1, 1],\n",
        "    graph_representation=Polymer_C2_3_top_graph_representation,\n",
        ")"
      ]
    },
    {
      "cell_type": "markdown",
      "metadata": {
        "id": "wXenNt9Mpctm"
      },
      "source": [
        "## Polymer C2-4\n",
        "\n",
        "<img src=\"https://drive.google.com/uc?export=view&id=1KWlXFdkweVGMgddwZRVDENrrwNxhqew8\"  width=\"50%\" height=\"50%\" >"
      ]
    },
    {
      "cell_type": "code",
      "execution_count": 10,
      "metadata": {
        "ExecuteTime": {
          "end_time": "2023-04-11T18:28:41.725299Z",
          "start_time": "2023-04-11T18:28:41.553910Z"
        },
        "colab": {
          "base_uri": "https://localhost:8080/",
          "height": 553
        },
        "id": "Ys6CZFuDUtdl",
        "outputId": "11439cc8-949f-4d2c-8a56-84f97c38fc11"
      },
      "outputs": [
        {
          "output_type": "stream",
          "name": "stdout",
          "text": [
            "Polymer_C2_4_top_graph_representation number of nodes:  17\n",
            "Polymer_C2_4_top_graph_representation number of edges:  24\n"
          ]
        },
        {
          "output_type": "display_data",
          "data": {
            "text/plain": [
              "<Figure size 640x480 with 1 Axes>"
            ],
            "image/png": "[encoded data removed]"
          },
          "metadata": {}
        }
      ],
      "source": [
        "Polymer_C2_4_top_graph_representation = nx.MultiDiGraph()\n",
        "Polymer_C2_4_top_graph_representation.add_nodes_from(\n",
        "    [\n",
        "        \"E1-arm1\",\n",
        "        \"D1\",\n",
        "        \"R1-arm1\",\n",
        "        \"R1'-arm1\",\n",
        "        \"E2\",\n",
        "        \"D2\",\n",
        "        \"R1-arm2\",\n",
        "        \"R1'-arm2\",\n",
        "        \"E1-arm2\",\n",
        "        \"D3\",\n",
        "        \"R1-arm3\",\n",
        "        \"R1'-arm3\",\n",
        "        \"E1-arm3\",\n",
        "        \"D4\",\n",
        "        \"R1-arm4\",\n",
        "        \"R1'-arm4\",\n",
        "        \"E1-arm4\",\n",
        "    ]\n",
        ")\n",
        "Polymer_C2_4_top_graph_representation.add_edges_from(\n",
        "    [\n",
        "        (\"E1-arm1\", \"D1\"),\n",
        "        (\"D1\", \"R1-arm1\"),\n",
        "        (\"R1-arm1\", \"D1\"),\n",
        "        (\"D1\", \"R1'-arm1\"),\n",
        "        (\"R1'-arm1\", \"D1\"),\n",
        "        (\"D1\", \"E2\"),\n",
        "        (\"E2\", \"D2\"),\n",
        "        (\"D2\", \"R1-arm2\"),\n",
        "        (\"R1-arm2\", \"D2\"),\n",
        "        (\"D2\", \"R1'-arm2\"),\n",
        "        (\"R1'-arm2\", \"D2\"),\n",
        "        (\"D2\", \"E1-arm2\"),\n",
        "        (\"E2\", \"D3\"),\n",
        "        (\"D3\", \"R1-arm3\"),\n",
        "        (\"R1-arm3\", \"D3\"),\n",
        "        (\"D3\", \"R1'-arm3\"),\n",
        "        (\"R1'-arm3\", \"D3\"),\n",
        "        (\"D3\", \"E1-arm3\"),\n",
        "        (\"E2\", \"D4\"),\n",
        "        (\"D4\", \"R1-arm4\"),\n",
        "        (\"R1-arm4\", \"D4\"),\n",
        "        (\"D4\", \"R1'-arm4\"),\n",
        "        (\"R1'-arm4\", \"D4\"),\n",
        "        (\"D4\", \"E1-arm4\"),\n",
        "    ]\n",
        ")\n",
        "nx.draw(Polymer_C2_4_top_graph_representation)\n",
        "print(\n",
        "    \"Polymer_C2_4_top_graph_representation number of nodes: \",\n",
        "    Polymer_C2_4_top_graph_representation.number_of_nodes(),\n",
        ")\n",
        "print(\n",
        "    \"Polymer_C2_4_top_graph_representation number of edges: \",\n",
        "    Polymer_C2_4_top_graph_representation.number_of_edges(),\n",
        ")\n",
        "\n",
        "Polymer_C2_4 = Polymer(\n",
        "    repeat_unit_smiles_list=[\n",
        "        \"*CC(*)c1ccccc1\",\n",
        "        \"*CC(*)c1ccccc1\",\n",
        "        \"*CC(*)c1ccccc1\",\n",
        "        \"*CC(*)c1ccccc1\",\n",
        "    ],\n",
        "    repeat_unit_smiles_weight_list=[1, 1, 1, 1],\n",
        "    end_group_smiles_list=[\n",
        "        \"*SC(=S)SCCCC\",\n",
        "        \"*SC(=S)SCCCC\",\n",
        "        \"*SC(=S)SCCCC\",\n",
        "        \"*SC(=S)SCCCC\",\n",
        "        \"*C(C)C(=O)OCC(COC(=O)C(*)C)(COC(=O)C(*)C)COC(=O)C(*)C\",\n",
        "    ],\n",
        "    end_group_smiles_weight_list=[1, 1, 1, 1, 1],\n",
        "    graph_representation=Polymer_C2_4_top_graph_representation,\n",
        ")"
      ]
    },
    {
      "cell_type": "markdown",
      "metadata": {
        "id": "jbS9tSrxzq8Q"
      },
      "source": [
        "# Calculate Similarity Scores\n",
        "## Calculate the Pairwise Similarity Score between C2-1 and C2-2"
      ]
    },
    {
      "cell_type": "code",
      "execution_count": 11,
      "metadata": {
        "ExecuteTime": {
          "end_time": "2023-04-11T18:28:42.324489Z",
          "start_time": "2023-04-11T18:28:41.726397Z"
        },
        "colab": {
          "base_uri": "https://localhost:8080/"
        },
        "id": "8p8pHgcmPcg7",
        "outputId": "b0ed2c50-bdd2-4d71-b553-969194a36298"
      },
      "outputs": [
        {
          "output_type": "stream",
          "name": "stdout",
          "text": [
            "Details of the Similarity Score:\n",
            "\n",
            "Repeat Unit Similarity Score =  1.0 , Normalized Weight for Repeat Unit =  0.475\n",
            "Topology Similarity Score =  0.2396510364417758 , Normalized Weight for Topology =  0.475\n",
            "End Group Similarity  =  0.6747058810470589 , Normalized Weight for End Group =  0.05\n",
            "Overall Pairwise Similarity Score with geometric mean function =  0.4974574024258719\n",
            "\n",
            "\n"
          ]
        },
        {
          "output_type": "execute_result",
          "data": {
            "text/plain": [
              "0.4974574024258719"
            ]
          },
          "metadata": {},
          "execution_count": 11
        }
      ],
      "source": [
        "Overall_Similarity_Score_Calculation(\n",
        "    query=Polymer_C2_1,\n",
        "    target=Polymer_C2_2,\n",
        "    embedding_function=\"MorganFingerprint\",\n",
        "    similarity_score_function=\"Tanimoto\",\n",
        "    alpha=1,\n",
        "    Repeat_Unit_Weight=0.475,\n",
        "    Topology_Weight=0.475,\n",
        "    End_Group_Weight=0.05,\n",
        "    Mean_Function=\"geometric\",\n",
        "    details_print=True,\n",
        "    return_with_components=False,\n",
        ")"
      ]
    },
    {
      "cell_type": "markdown",
      "metadata": {
        "id": "m6Y5cyomz8pi"
      },
      "source": [
        "## Calculate the Pairwise Similarity Score between C2-1 and C2-3"
      ]
    },
    {
      "cell_type": "code",
      "execution_count": 12,
      "metadata": {
        "ExecuteTime": {
          "end_time": "2023-04-11T18:28:42.400962Z",
          "start_time": "2023-04-11T18:28:42.326113Z"
        },
        "colab": {
          "base_uri": "https://localhost:8080/"
        },
        "id": "3UQmmuAt5e2H",
        "outputId": "23b13e0f-d5ba-4f43-933e-b389677378a4"
      },
      "outputs": [
        {
          "output_type": "stream",
          "name": "stdout",
          "text": [
            "Details of the Similarity Score:\n",
            "\n",
            "Repeat Unit Similarity Score =  1.0 , Normalized Weight for Repeat Unit =  0.475\n",
            "Topology Similarity Score =  0.10836802322189586 , Normalized Weight for Topology =  0.475\n",
            "End Group Similarity  =  0.6420588235294118 , Normalized Weight for End Group =  0.05\n",
            "Overall Pairwise Similarity Score with geometric mean function =  0.3403743208606317\n",
            "\n",
            "\n"
          ]
        },
        {
          "output_type": "execute_result",
          "data": {
            "text/plain": [
              "0.3403743208606317"
            ]
          },
          "metadata": {},
          "execution_count": 12
        }
      ],
      "source": [
        "Overall_Similarity_Score_Calculation(\n",
        "    query=Polymer_C2_1,\n",
        "    target=Polymer_C2_3,\n",
        "    embedding_function=\"MorganFingerprint\",\n",
        "    similarity_score_function=\"Tanimoto\",\n",
        "    alpha=1,\n",
        "    Repeat_Unit_Weight=0.475,\n",
        "    Topology_Weight=0.475,\n",
        "    End_Group_Weight=0.05,\n",
        "    Mean_Function=\"geometric\",\n",
        "    details_print=True,\n",
        "    return_with_components=False,\n",
        ")"
      ]
    },
    {
      "cell_type": "markdown",
      "metadata": {
        "id": "mf_Fp_gV0CUS"
      },
      "source": [
        "## Calculate the Pairwise Similarity Score between C2-1 and C2-4"
      ]
    },
    {
      "cell_type": "code",
      "execution_count": 13,
      "metadata": {
        "ExecuteTime": {
          "end_time": "2023-04-11T18:28:42.477181Z",
          "start_time": "2023-04-11T18:28:42.402713Z"
        },
        "colab": {
          "base_uri": "https://localhost:8080/"
        },
        "id": "KRB8mUWEdb_u",
        "outputId": "ba95d5f6-24f1-4db2-b8d2-642b9e6b1979"
      },
      "outputs": [
        {
          "output_type": "stream",
          "name": "stdout",
          "text": [
            "Details of the Similarity Score:\n",
            "\n",
            "Repeat Unit Similarity Score =  1.0 , Normalized Weight for Repeat Unit =  0.475\n",
            "Topology Similarity Score =  0.06539740322986021 , Normalized Weight for Topology =  0.475\n",
            "End Group Similarity  =  0.6264705882352941 , Normalized Weight for End Group =  0.05\n",
            "Overall Pairwise Similarity Score with geometric mean function =  0.2674461027350389\n",
            "\n",
            "\n"
          ]
        },
        {
          "output_type": "execute_result",
          "data": {
            "text/plain": [
              "0.2674461027350389"
            ]
          },
          "metadata": {},
          "execution_count": 13
        }
      ],
      "source": [
        "Overall_Similarity_Score_Calculation(\n",
        "    query=Polymer_C2_1,\n",
        "    target=Polymer_C2_4,\n",
        "    embedding_function=\"MorganFingerprint\",\n",
        "    similarity_score_function=\"Tanimoto\",\n",
        "    alpha=1,\n",
        "    Repeat_Unit_Weight=0.475,\n",
        "    Topology_Weight=0.475,\n",
        "    End_Group_Weight=0.05,\n",
        "    Mean_Function=\"geometric\",\n",
        "    details_print=True,\n",
        "    return_with_components=False,\n",
        ")"
      ]
    },
    {
      "cell_type": "markdown",
      "metadata": {
        "id": "0CvXvv8Bx2yX"
      },
      "source": [
        "## Calculate the Whole Similarity Matrix"
      ]
    },
    {
      "cell_type": "code",
      "execution_count": 14,
      "metadata": {
        "ExecuteTime": {
          "end_time": "2023-04-11T18:28:42.480993Z",
          "start_time": "2023-04-11T18:28:42.478873Z"
        },
        "id": "riJpZumorBcY"
      },
      "outputs": [],
      "source": [
        "Polymer_C2 = [Polymer_C2_1, Polymer_C2_2, Polymer_C2_3, Polymer_C2_4]"
      ]
    },
    {
      "cell_type": "code",
      "execution_count": 15,
      "metadata": {
        "ExecuteTime": {
          "end_time": "2023-04-11T18:28:42.485061Z",
          "start_time": "2023-04-11T18:28:42.482590Z"
        },
        "id": "hZ6mW-U3rsN6"
      },
      "outputs": [],
      "source": [
        "Polymer_C2_RU_matrix = np.ones([4, 4])\n",
        "Polymer_C2_TOP_matrix = np.ones([4, 4])\n",
        "Polymer_C2_EG_matrix = np.ones([4, 4])\n",
        "Polymer_C2_OA_matrix = np.ones([4, 4])"
      ]
    },
    {
      "cell_type": "code",
      "execution_count": 16,
      "metadata": {
        "ExecuteTime": {
          "end_time": "2023-04-11T18:28:42.885757Z",
          "start_time": "2023-04-11T18:28:42.486231Z"
        },
        "id": "mkUp5pS1r1_s"
      },
      "outputs": [],
      "source": [
        "for i in range(0, 3):\n",
        "    for j in range(i + 1, 4):\n",
        "        SOAij, SRUij, STOPij, SEGij = Overall_Similarity_Score_Calculation(\n",
        "            query=Polymer_C2[i],\n",
        "            target=Polymer_C2[j],\n",
        "            embedding_function=\"MorganFingerprint\",\n",
        "            similarity_score_function=\"Tanimoto\",\n",
        "            alpha=1,\n",
        "            Repeat_Unit_Weight=0.475,\n",
        "            Topology_Weight=0.475,\n",
        "            End_Group_Weight=0.05,\n",
        "            Mean_Function=\"geometric\",\n",
        "            details_print=False,\n",
        "            return_with_components=True,\n",
        "        )\n",
        "\n",
        "        Polymer_C2_OA_matrix[i, j] = SOAij\n",
        "        Polymer_C2_OA_matrix[j, i] = SOAij\n",
        "\n",
        "        Polymer_C2_RU_matrix[i, j] = SRUij\n",
        "        Polymer_C2_RU_matrix[j, i] = SRUij\n",
        "\n",
        "        Polymer_C2_TOP_matrix[i, j] = STOPij\n",
        "        Polymer_C2_TOP_matrix[j, i] = STOPij\n",
        "\n",
        "        Polymer_C2_EG_matrix[i, j] = SEGij\n",
        "        Polymer_C2_EG_matrix[j, i] = SEGij"
      ]
    },
    {
      "cell_type": "markdown",
      "metadata": {
        "id": "tXpuWDkUx6jc"
      },
      "source": [
        "# Visualize the Similarity Matrices"
      ]
    },
    {
      "cell_type": "code",
      "execution_count": 17,
      "metadata": {
        "ExecuteTime": {
          "end_time": "2023-04-11T18:28:43.453977Z",
          "start_time": "2023-04-11T18:28:42.887426Z"
        },
        "id": "oqnlmFD1tTn4"
      },
      "outputs": [],
      "source": [
        "# libraries for visualization\n",
        "import seaborn as sns\n",
        "import matplotlib.pyplot as plt"
      ]
    },
    {
      "cell_type": "markdown",
      "metadata": {
        "id": "wY3wGH6gyALM"
      },
      "source": [
        "##  Repeat Unit Similarity,   $S_{\\rm RU}$"
      ]
    },
    {
      "cell_type": "code",
      "execution_count": 18,
      "metadata": {
        "ExecuteTime": {
          "end_time": "2023-04-11T18:28:43.679982Z",
          "start_time": "2023-04-11T18:28:43.455283Z"
        },
        "colab": {
          "base_uri": "https://localhost:8080/",
          "height": 560
        },
        "id": "GZcQ4V1kubb_",
        "outputId": "50fb8fec-fb75-4eb7-9f87-c9ac0aa3666e"
      },
      "outputs": [
        {
          "output_type": "display_data",
          "data": {
            "text/plain": [
              "<Figure size 600x600 with 2 Axes>"
            ],
            "image/png": "[encoded data removed]"
          },
          "metadata": {}
        }
      ],
      "source": [
        "fig, ax = plt.subplots(figsize=(6, 6), sharey=True)\n",
        "\n",
        "x_labels = [\"C2-1\", \"C2-2\", \"C2-3\", \"C2-4\"]\n",
        "y_labels = [\"C2-1\", \"C2-2\", \"C2-3\", \"C2-4\"]\n",
        "\n",
        "sns.heatmap(\n",
        "    Polymer_C2_RU_matrix,\n",
        "    linewidth=0.3,\n",
        "    annot=True,\n",
        "    fmt=\".2f\",\n",
        "    cmap=\"Blues\",\n",
        "    cbar_kws={\"label\": \"Similarity Score\"},\n",
        ")\n",
        "ax.set_title(r\"$S_{\\rm RU}$\", fontsize=20)\n",
        "ax.set_xticklabels(x_labels, rotation=0, fontsize=15, horizontalalignment=\"center\")\n",
        "ax.set_yticklabels(y_labels, rotation=360, fontsize=15, horizontalalignment=\"right\")\n",
        "\n",
        "plt.show()"
      ]
    },
    {
      "cell_type": "markdown",
      "metadata": {
        "id": "j9w3qcrcyI70"
      },
      "source": [
        "## Topology Similarity,     $S_{\\rm TOP}$"
      ]
    },
    {
      "cell_type": "code",
      "execution_count": 19,
      "metadata": {
        "ExecuteTime": {
          "end_time": "2023-04-11T18:28:43.783583Z",
          "start_time": "2023-04-11T18:28:43.683268Z"
        },
        "colab": {
          "base_uri": "https://localhost:8080/",
          "height": 560
        },
        "id": "ThI0SatduqXc",
        "outputId": "a0162517-c43d-477a-93da-ce44e6f03040"
      },
      "outputs": [
        {
          "output_type": "display_data",
          "data": {
            "text/plain": [
              "<Figure size 600x600 with 2 Axes>"
            ],
            "image/png": "[encoded data removed]"
          },
          "metadata": {}
        }
      ],
      "source": [
        "fig, ax = plt.subplots(figsize=(6, 6), sharey=True)\n",
        "\n",
        "x_labels = [\"C2-1\", \"C2-2\", \"C2-3\", \"C2-4\"]\n",
        "y_labels = [\"C2-1\", \"C2-2\", \"C2-3\", \"C2-4\"]\n",
        "\n",
        "sns.heatmap(\n",
        "    Polymer_C2_TOP_matrix,\n",
        "    linewidth=0.3,\n",
        "    annot=True,\n",
        "    fmt=\".2f\",\n",
        "    cmap=\"Blues\",\n",
        "    cbar_kws={\"label\": \"Similarity Score\"},\n",
        ")\n",
        "ax.set_title(r\"$S_{\\rm TOP}$\", fontsize=20)\n",
        "ax.set_xticklabels(x_labels, rotation=0, fontsize=15, horizontalalignment=\"center\")\n",
        "ax.set_yticklabels(y_labels, rotation=360, fontsize=15, horizontalalignment=\"right\")\n",
        "\n",
        "plt.show()"
      ]
    },
    {
      "cell_type": "markdown",
      "metadata": {
        "id": "EwMscKpDyLED"
      },
      "source": [
        "## End Group Similarity,     $S_{\\rm EG}$"
      ]
    },
    {
      "cell_type": "code",
      "execution_count": 20,
      "metadata": {
        "ExecuteTime": {
          "end_time": "2023-04-11T18:28:43.892476Z",
          "start_time": "2023-04-11T18:28:43.784775Z"
        },
        "colab": {
          "base_uri": "https://localhost:8080/",
          "height": 560
        },
        "id": "QyWxtuHhxq4q",
        "outputId": "9ab836a0-2cd1-42f2-e556-7b4c2e6b5bc2"
      },
      "outputs": [
        {
          "output_type": "display_data",
          "data": {
            "text/plain": [
              "<Figure size 600x600 with 2 Axes>"
            ],
            "image/png": "[encoded data removed]"
          },
          "metadata": {}
        }
      ],
      "source": [
        "fig, ax = plt.subplots(figsize=(6, 6), sharey=True)\n",
        "\n",
        "x_labels = [\"C2-1\", \"C2-2\", \"C2-3\", \"C2-4\"]\n",
        "y_labels = [\"C2-1\", \"C2-2\", \"C2-3\", \"C2-4\"]\n",
        "\n",
        "sns.heatmap(\n",
        "    Polymer_C2_EG_matrix,\n",
        "    linewidth=0.3,\n",
        "    annot=True,\n",
        "    fmt=\".2f\",\n",
        "    cmap=\"Blues\",\n",
        "    cbar_kws={\"label\": \"Similarity Score\"},\n",
        ")\n",
        "ax.set_title(r\"$S_{\\rm EG}$\", fontsize=20)\n",
        "ax.set_xticklabels(x_labels, rotation=0, fontsize=15, horizontalalignment=\"center\")\n",
        "ax.set_yticklabels(y_labels, rotation=360, fontsize=15, horizontalalignment=\"right\")\n",
        "\n",
        "plt.show()"
      ]
    },
    {
      "cell_type": "markdown",
      "metadata": {
        "id": "Pe1ealHoyMrq"
      },
      "source": [
        "## Overall Similarity,     $S_{\\rm OA}$"
      ]
    },
    {
      "cell_type": "code",
      "execution_count": 21,
      "metadata": {
        "ExecuteTime": {
          "end_time": "2023-04-11T18:28:44.050163Z",
          "start_time": "2023-04-11T18:28:43.893676Z"
        },
        "colab": {
          "base_uri": "https://localhost:8080/",
          "height": 560
        },
        "id": "JbAgnupdxvOE",
        "outputId": "96e9d47a-3c8f-4e5d-e04d-e651840326b9"
      },
      "outputs": [
        {
          "output_type": "display_data",
          "data": {
            "text/plain": [
              "<Figure size 600x600 with 2 Axes>"
            ],
            "image/png": "[encoded data removed]"
          },
          "metadata": {}
        }
      ],
      "source": [
        "fig, ax = plt.subplots(figsize=(6, 6), sharey=True)\n",
        "\n",
        "x_labels = [\"C2-1\", \"C2-2\", \"C2-3\", \"C2-4\"]\n",
        "y_labels = [\"C2-1\", \"C2-2\", \"C2-3\", \"C2-4\"]\n",
        "\n",
        "sns.heatmap(\n",
        "    Polymer_C2_OA_matrix,\n",
        "    linewidth=0.3,\n",
        "    annot=True,\n",
        "    fmt=\".2f\",\n",
        "    cmap=\"Blues\",\n",
        "    cbar_kws={\"label\": \"Similarity Score\"},\n",
        ")\n",
        "ax.set_title(r\"$S_{\\rm OA}$\", fontsize=20)\n",
        "ax.set_xticklabels(x_labels, rotation=0, fontsize=15, horizontalalignment=\"center\")\n",
        "ax.set_yticklabels(y_labels, rotation=360, fontsize=15, horizontalalignment=\"right\")\n",
        "\n",
        "plt.show()"
      ]
    },
    {
      "cell_type": "code",
      "execution_count": 21,
      "metadata": {
        "id": "i8u6EwBlxydt"
      },
      "outputs": [],
      "source": []
    }
  ],
  "metadata": {
    "colab": {
      "provenance": []
    },
    "kernelspec": {
      "display_name": "Python 3 (ipykernel)",
      "language": "python",
      "name": "python3"
    },
    "language_info": {
      "codemirror_mode": {
        "name": "ipython",
        "version": 3
      },
      "file_extension": ".py",
      "mimetype": "text/x-python",
      "name": "python",
      "nbconvert_exporter": "python",
      "pygments_lexer": "ipython3",
      "version": "3.9.7"
    },
    "varInspector": {
      "cols": {
        "lenName": 16,
        "lenType": 16,
        "lenVar": 40
      },
      "kernels_config": {
        "python": {
          "delete_cmd_postfix": "",
          "delete_cmd_prefix": "del ",
          "library": "var_list.py",
          "varRefreshCmd": "print(var_dic_list())"
        },
        "r": {
          "delete_cmd_postfix": ") ",
          "delete_cmd_prefix": "rm(",
          "library": "var_list.r",
          "varRefreshCmd": "cat(var_dic_list()) "
        }
      },
      "types_to_exclude": [
        "module",
        "function",
        "builtin_function_or_method",
        "instance",
        "_Feature"
      ],
      "window_display": false
    }
  },
  "nbformat": 4,
  "nbformat_minor": 0
}
