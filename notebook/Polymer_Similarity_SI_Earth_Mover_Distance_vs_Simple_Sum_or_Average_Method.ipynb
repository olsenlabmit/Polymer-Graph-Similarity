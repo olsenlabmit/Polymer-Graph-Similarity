{
 "cells": [
  {
   "cell_type": "markdown",
   "metadata": {
    "id": "nVg45IXBOyyO"
   },
   "source": [
    "\n",
    "\n",
    "<a target=\"_blank\" href=\"https://colab.research.google.com/github/olsenlabmit/Polymer-Graph-Similarity/blob/main/notebook/Polymer_Similarity_SI_Earth_Mover_Distance_vs_Simple_Sum_or_Average_Method.ipynb\">\n",
    "  <img src=\"https://colab.research.google.com/assets/colab-badge.svg\" alt=\"Open In Colab\"/>\n",
    "</a>"
   ]
  },
  {
   "cell_type": "code",
   "execution_count": null,
   "metadata": {
    "cellView": "form",
    "id": "9ExWfHqV1EXI"
   },
   "outputs": [],
   "source": [
    "# @title Copyright & License (click to expand)\n",
    "# MIT License\n",
    "\n",
    "# Copyright (c) 2022 olsenlabmit\n",
    "\n",
    "# Permission is hereby granted, free of charge, to any person obtaining a copy\n",
    "# of this software and associated documentation files (the \"Software\"), to deal\n",
    "# in the Software without restriction, including without limitation the rights\n",
    "# to use, copy, modify, merge, publish, distribute, sublicense, and/or sell\n",
    "# copies of the Software, and to permit persons to whom the Software is\n",
    "# furnished to do so, subject to the following conditions:\n",
    "\n",
    "# The above copyright notice and this permission notice shall be included in all\n",
    "# copies or substantial portions of the Software.\n",
    "\n",
    "# THE SOFTWARE IS PROVIDED \"AS IS\", WITHOUT WARRANTY OF ANY KIND, EXPRESS OR\n",
    "# IMPLIED, INCLUDING BUT NOT LIMITED TO THE WARRANTIES OF MERCHANTABILITY,\n",
    "# FITNESS FOR A PARTICULAR PURPOSE AND NONINFRINGEMENT. IN NO EVENT SHALL THE\n",
    "# AUTHORS OR COPYRIGHT HOLDERS BE LIABLE FOR ANY CLAIM, DAMAGES OR OTHER\n",
    "# LIABILITY, WHETHER IN AN ACTION OF CONTRACT, TORT OR OTHERWISE, ARISING FROM,\n",
    "# OUT OF OR IN CONNECTION WITH THE SOFTWARE OR THE USE OR OTHER DEALINGS IN THE\n",
    "# SOFTWARE."
   ]
  },
  {
   "cell_type": "markdown",
   "metadata": {
    "id": "_sKD4LKzw0QJ"
   },
   "source": [
    "# SI-I: Earth Mover’s Distance vs. Simple Sum or Average Method"
   ]
  },
  {
   "cell_type": "markdown",
   "metadata": {
    "id": "kA0PTW_O3VxE"
   },
   "source": [
    "This notebook is to perform the calculations and reproduce the results of **Earth Mover’s Distance vs. Simple Sum or Average Method** in the manuscript Supporting Information, Jiale Shi, Nathan J. Rebello, Dylan Walsh, Weizhong Zou, Michael E. Deagen, Bruno Salomao Leao, Debra J. Audus, Bradley D. Olsen, \"Quantifying Pairwise Chemical Similarity for Polymers\", submitted."
   ]
  },
  {
   "cell_type": "markdown",
   "metadata": {
    "id": "-9n8-Ciyiy7G"
   },
   "source": [
    "# Import and Install Necessary Libraries"
   ]
  },
  {
   "cell_type": "code",
   "execution_count": null,
   "metadata": {
    "id": "psnOpmYlL_sw"
   },
   "outputs": [],
   "source": [
    "# import necessary libraries available in colab\n",
    "import numpy as np\n",
    "import networkx as nx\n",
    "import matplotlib.pyplot as plt\n",
    "import shutil\n",
    "import sys\n",
    "import os.path\n",
    "\n",
    "# install necessary libraries not available in colab\n",
    "if not shutil.which(\"rdkit\"):\n",
    "    !pip install -q rdkit\n",
    "\n",
    "from rdkit import Chem\n",
    "from rdkit import DataStructs\n",
    "from rdkit.Chem import AllChem\n",
    "from rdkit.Chem import MACCSkeys\n",
    "from rdkit.Chem.AtomPairs import Pairs\n",
    "\n",
    "if not shutil.which(\"pyomo\"):\n",
    "    !pip install -q pyomo\n",
    "    assert(shutil.which(\"pyomo\"))\n",
    "\n",
    "if not (shutil.which(\"cbc\") or os.path.isfile(\"cbc\")):\n",
    "    if \"google.colab\" in sys.modules:\n",
    "        !apt-get install -y -qq coinor-cbc\n",
    "    else:\n",
    "        try:\n",
    "            !conda install -c conda-forge coincbc \n",
    "        except:\n",
    "            pass\n",
    "            \n",
    "assert(shutil.which(\"cbc\") or os.path.isfile(\"cbc\"))\n",
    "    \n",
    "from pyomo.environ import *"
   ]
  },
  {
   "cell_type": "markdown",
   "metadata": {
    "id": "D2aVwhkeZcX8"
   },
   "source": [
    "# Similarity Score Functions"
   ]
  },
  {
   "cell_type": "markdown",
   "metadata": {
    "id": "HsMcsqU-Pv6Y"
   },
   "source": [
    "## Earth Mover's Distance (EMD) Similarity Function\n",
    "\n",
    "Use the earth mover's distance to compute similarity for repeating units and end groups.\n",
    "\n",
    "\n",
    "$ EMD (P,Q)= \\min_{F}\\sum_{i=1}^{m}\\sum_{j=1}^{n}f_{i,j}d_{i,j}$\n",
    "\n",
    "$ {\\rm subject\\ to\\ } f_{i,j} \\geq 0, {\\rm\\ for\\ any\\ } \\ 1 \\leq i \\leq m, 1 \\leq j \\leq n $\n",
    "\n",
    "$     \\sum_{j=1}^{n}f_{i,j} =w_{pi}, {\\rm for\\ any} \\ 1 \\leq i \\leq m $\n",
    "\n",
    "$     \\sum_{i=1}^{m}f_{i,j} =w_{qj}, {\\rm for\\ any} \\ 1 \\leq j \\leq n $\n",
    "\n",
    "$     \\sum_{i=1}^{m}\\sum_{j=1}^{n}f_{i,j} = \\sum_{i}^{m} w_{pi} = \\sum_{j}^{n} w_{qj} = 1 $ \n",
    "\n",
    "\n",
    "Molecular fragment ensemble $P = \\{(p_1,w_{p_1}) ,(p_2,w_{p_2}),...,(p_i,w_{p_i}),...,(p_m,w_{p_m})\\}$ has $m$ molecular fragments, where $p_i$ is a molecular fragment such as a repeat unit or end group and $w_{p_i}>0$ is the weight, related to the average probability (or frequency, $z$) of the molecular fragment being present in the polymer. Similarly, the second ensemble $Q = {(q_1,w_{q_1}),(q_2,w_{q_2}),...,(q_j,w_{q_j}),...,(q_n,w_{q_n})}$ has $n$ molecular fragments.  The sums of the weights for $P$ and $Q$ are both normalized and equal to one.\n",
    "The distance $d_{i,j}$ is calculated by the converting the pairwise similarity score $s_{i,j}$ between $p_{i}$ and $q_{j}$, where $d_{i,j} = 1 - s_{i,j}$.\n",
    "Transport flow $f_{i,j}$ represents the amount of weight at $p_i$ which is transported to $q_j$. \n",
    "\n",
    "The EMD linear optimization code  refers to [3.1. Transportation Networks, ND Pyomo Notebook](https://jckantor.github.io/ND-Pyomo-Cookbook/notebooks/03.01-Transportation-Networks.html)\n",
    "\n",
    "Once $EMD (P,Q)$ is calculated, the similarity score between $P$ and $Q$ is, \n",
    "\n",
    "$S(P,Q) = 1- EMD (P,Q)$"
   ]
  },
  {
   "cell_type": "code",
   "execution_count": null,
   "metadata": {
    "id": "eOlNnWbfY8Va"
   },
   "outputs": [],
   "source": [
    "def Similarity_Score_EMD_Calculation(query_smiles_list = None, \n",
    "                         query_smiles_weight_list = None, \n",
    "                         target_smiles_list = None, \n",
    "                         target_smiles_weight_list = None,\n",
    "                         embedding_function = 'MorganFingerprint', \n",
    "                         similarity_score_function = 'Tanimoto'):\n",
    "  \n",
    "    # obtain the length of query smiles list and target smiles list\n",
    "    query_smiles_list_length = len(query_smiles_list)  \n",
    "\n",
    "    target_smiles_list_length = len(target_smiles_list)\n",
    "    \n",
    "    # check whether the query is identical to the target\n",
    "    if set(query_smiles_list) == set(target_smiles_list):\n",
    "        query_smiles_array = np.array(query_smiles_list)\n",
    "        query_smiles_level_array = np.array(query_smiles_weight_list)\n",
    "        inds_query = query_smiles_array.argsort()\n",
    "        sorted_query_smiles_array = query_smiles_array[inds_query]\n",
    "        sorted_query_smiles_level_array = query_smiles_level_array[inds_query]\n",
    "\n",
    "        target_smiles_array = np.array(target_smiles_list)\n",
    "        target_smiles_level_array = np.array(target_smiles_weight_list)\n",
    "        inds_target = target_smiles_array.argsort()\n",
    "        sorted_target_smiles_array = target_smiles_array[inds_target]\n",
    "        sorted_target_smiles_level_array = target_smiles_level_array[inds_target]\n",
    "\n",
    "        if np.array_equal(sorted_query_smiles_array, sorted_target_smiles_array) and np.array_equal(sorted_query_smiles_level_array, sorted_target_smiles_level_array):\n",
    "            return 1.0\n",
    "\n",
    "        query_smiles_reduced_list = list(set(query_smiles_list))\n",
    "        query_smiles_reduced_list_number = []\n",
    "\n",
    "        for i in range(0, len(query_smiles_reduced_list)):\n",
    "            query_smiles_reduced_list_number_i  = 0\n",
    "            for j in range(0, len(query_smiles_list)):\n",
    "                if query_smiles_reduced_list[i] == query_smiles_list[j]:\n",
    "                    query_smiles_reduced_list_number_i = query_smiles_reduced_list_number_i   + query_smiles_weight_list[j]\n",
    "\n",
    "            query_smiles_reduced_list_number.append(query_smiles_reduced_list_number_i/sum(query_smiles_weight_list))\n",
    "\n",
    "        target_smiles_reduced_list = list(set(target_smiles_list))\n",
    "        target_smiles_reduced_list_number = []\n",
    "\n",
    "        for i in range(0, len(target_smiles_reduced_list)):\n",
    "            target_smiles_reduced_list_number_i  = 0\n",
    "            for j in range(0, len(target_smiles_list)):\n",
    "                if target_smiles_reduced_list[i] == target_smiles_list[j]:\n",
    "                    target_smiles_reduced_list_number_i = target_smiles_reduced_list_number_i   + target_smiles_weight_list[j]\n",
    "\n",
    "            target_smiles_reduced_list_number.append(target_smiles_reduced_list_number_i/sum(target_smiles_weight_list))\n",
    "\n",
    "        if query_smiles_reduced_list_number == target_smiles_reduced_list_number:\n",
    "            return 1.0\n",
    "\n",
    "    # transfer SMILES to fingerprints\n",
    "    if embedding_function == 'RDKFingerprint':    \n",
    "        query_mol_list = [Chem.MolFromSmiles(x) for x in query_smiles_list]\n",
    "        query_fingerprint_list = [Chem.RDKFingerprint(x) for x in query_mol_list]\n",
    "        target_mol_list = [Chem.MolFromSmiles(x) for x in target_smiles_list]\n",
    "        target_fingerprint_list = [Chem.RDKFingerprint(x) for x in target_mol_list]\n",
    "\n",
    "    elif embedding_function == 'MorganFingerprint':    \n",
    "        query_mol_list = [Chem.MolFromSmiles(x) for x in query_smiles_list]\n",
    "        query_fingerprint_list = [AllChem.GetMorganFingerprintAsBitVect(x,2,nBits=2048) for x in query_mol_list]\n",
    "        target_mol_list = [Chem.MolFromSmiles(x) for x in target_smiles_list]\n",
    "        target_fingerprint_list = [AllChem.GetMorganFingerprintAsBitVect(x,2,nBits=2048) for x in target_mol_list]\n",
    "\n",
    "    elif embedding_function == 'MACCSkeys':    \n",
    "        query_mol_list = [Chem.MolFromSmiles(x) for x in query_smiles_list]\n",
    "        query_fingerprint_list = [MACCSkeys.GenMACCSKeys(x) for x in query_mol_list]\n",
    "        target_mol_list = [Chem.MolFromSmiles(x) for x in target_smiles_list]\n",
    "        target_fingerprint_list = [MACCSkeys.GenMACCSKeys(x) for x in target_mol_list]\n",
    "\n",
    "    else:\n",
    "        print(embedding_function + \" is not included in the current vision, please choose an available embedding function:\");\n",
    "        print(\"MorganFingerprint, RDKFingerprint, MACCSkeys.\")\n",
    "        return False         \n",
    "\n",
    "    # define the required three sets\n",
    "    Demand = {} # query\n",
    "    Supply = {} # target\n",
    "    T = {}      # transport flow\n",
    "\n",
    "    # define the weight for SMILES in query, w_i\n",
    "    if len(set(query_smiles_weight_list)) == 1:\n",
    "        for i in range(0, query_smiles_list_length):\n",
    "            Demand[\"P\" + str(i+1)] = 1/query_smiles_list_length\n",
    "\n",
    "    else:\n",
    "        query_weight_sum = sum(query_smiles_weight_list)\n",
    "        for i in range(0, query_smiles_list_length):\n",
    "            Demand[\"P\" + str(i+1)] = query_smiles_weight_list[i]/query_weight_sum\n",
    "\n",
    "    # define weight for SMILES in target, w_j\n",
    "    if len(set(target_smiles_weight_list)) == 1:       \n",
    "        for j in range(0,target_smiles_list_length):\n",
    "            Supply[\"Q\" + str(j+1)] = 1/target_smiles_list_length\n",
    "\n",
    "    else:\n",
    "        target_weight_sum = sum(target_smiles_weight_list)\n",
    "        for j in range(0, target_smiles_list_length):\n",
    "            Supply[\"Q\" + str(j+1)] = target_smiles_weight_list[j]/target_weight_sum\n",
    "\n",
    "    # use similarity function to calculate d_ij\n",
    "    if similarity_score_function == 'Tanimoto':\n",
    "        for i in range(0,query_smiles_list_length):\n",
    "            for j in range(0,target_smiles_list_length):\n",
    "                T[(\"P\" + str(i+1), \"Q\" + str(j+1))] = 1 - DataStructs.FingerprintSimilarity(query_fingerprint_list[i],target_fingerprint_list[j])\n",
    "\n",
    "    elif similarity_score_function == 'Dice':\n",
    "        for i in range(0,query_smiles_list_length):\n",
    "            for j in range(0,target_smiles_list_length):\n",
    "                T[(\"P\" + str(i+1), \"Q\" + str(j+1))] = 1 - DataStructs.FingerprintSimilarity(query_fingerprint_list[i],target_fingerprint_list[j], metric = DataStructs.DiceSimilarity)\n",
    "\n",
    "    elif similarity_score_function == 'Cosine':\n",
    "        for i in range(0,query_smiles_list_length):\n",
    "            for j in range(0,target_smiles_list_length):\n",
    "                T[(\"P\" + str(i+1), \"Q\" + str(j+1))] = 1 - DataStructs.FingerprintSimilarity(query_fingerprint_list[i],target_fingerprint_list[j], metric = DataStructs.CosineSimilarity)\n",
    "                   \n",
    "    else:\n",
    "        print(similarity_score_function + \" is not included in the current vision, please choose an available similarity function:\");\n",
    "        print(\"Tanimoto, Dice, or Cosine\")\n",
    "        return\n",
    "\n",
    "    # linear optimization with pyomo\n",
    "    # step 0: Create an instance of the model\n",
    "    model = ConcreteModel()\n",
    "    model.dual = Suffix(direction=Suffix.IMPORT)\n",
    "\n",
    "    # step 1: define index sets\n",
    "    CUS = list(Demand.keys())\n",
    "    SRC = list(Supply.keys())\n",
    "\n",
    "    # step 2: define the decision \n",
    "    model.x = Var(CUS, SRC, domain = NonNegativeReals)\n",
    "\n",
    "    # step 3: define objective\n",
    "    model.Cost = Objective(\n",
    "    expr = sum([T[c,s]*model.x[c,s] for c in CUS for s in SRC]),\n",
    "    sense = minimize)\n",
    "\n",
    "    # step 4: define constraints\n",
    "    model.src = ConstraintList()\n",
    "    for s in SRC:\n",
    "        model.src.add(sum([model.x[c,s] for c in CUS]) == Supply[s])\n",
    "        \n",
    "    model.dmd = ConstraintList()\n",
    "    for c in CUS:\n",
    "        model.dmd.add(sum([model.x[c,s] for s in SRC]) == Demand[c])\n",
    "\n",
    "    # step 5: solve the model\n",
    "    results = SolverFactory('cbc').solve(model)\n",
    "\n",
    "    if 'ok' == str(results.Solver.status):\n",
    "        SimilarityScore = 1 - model.Cost()\n",
    "        return SimilarityScore\n",
    "        \n",
    "    else:\n",
    "        print(\"No Valid Solution Found\")\n",
    "        return False\n"
   ]
  },
  {
   "cell_type": "markdown",
   "metadata": {
    "id": "fNpt-pIDQLOX"
   },
   "source": [
    "## Topology Similarity Function\n",
    "\n",
    "Use graph edit distance $GED(g_1, g_2)$ to compute the topological similarity $S_{\\rm TOP}(g_1,g_2)$.\n",
    "\n",
    "$GED(g_1, g_2)$  is computed via a networkx function [graph_edit_distance](https://networkx.org/documentation/stable/reference/algorithms/generated/networkx.algorithms.similarity.graph_edit_distance.html), while the topological similarity score $S_{\\rm TOP}(g_1,g_2)$ in the range of (0,1] is computed via a exponential decay function:\n",
    "\n",
    "\n",
    "$S_{\\rm TOP}(g_1, g_2) = \\exp(-\\frac{\\alpha \\cdot GED(g_1, g_2)}{(N_1 + N_2)/2})$\n",
    "\n",
    "where $N_i$ is the number of nodes in graph $g_i$."
   ]
  },
  {
   "cell_type": "code",
   "execution_count": null,
   "metadata": {
    "id": "oyUi54M_IorG"
   },
   "outputs": [],
   "source": [
    "def Topology_Similarity_Score_Calculation(Graph1 = None, \n",
    "                         Graph2 = None, \n",
    "                         alpha = 1):\n",
    "    if Graph1 == None:\n",
    "        print(\"Missing Graph1\")\n",
    "        return\n",
    "    if Graph2 == None:\n",
    "        print(\"Missing Graph2\")\n",
    "        return\n",
    "    \n",
    "    \n",
    "    Graph1_number_nodes = Graph1.number_of_nodes() \n",
    "    Graph2_number_nodes = Graph2.number_of_nodes() \n",
    "    \n",
    "    graph_edit_distance = nx.graph_edit_distance(Graph1, Graph2)\n",
    "    \n",
    "    topology_similarity_score = np.exp(-alpha * graph_edit_distance/((Graph1_number_nodes + Graph2_number_nodes)/2))\n",
    "\n",
    "    return topology_similarity_score \n",
    "    "
   ]
  },
  {
   "cell_type": "markdown",
   "metadata": {
    "id": "v_4bM0zPQRGC"
   },
   "source": []
  },
  {
   "cell_type": "markdown",
   "metadata": {
    "id": "7bdTaiEZQelj"
   },
   "source": [
    "## Weighted Mean Function for Overall Pairwise Similarity Score $S_{\\rm OA}$ \n",
    "\n",
    "From the above EMD and GED calculations, three similarity scores are obtained: $S_{\\rm RU}$  for repeat units, $S_{\\rm EG}$  for end groups, and $S_{\\rm TOP}$   for topology. To calculate the overall similarity score $S_{\\rm OA}$. Two weighted mean functions are provided. \n",
    "\n",
    "1. weighted geometric mean\n",
    "\n",
    "$S_{\\rm OA} =  S_{\\rm RU}^{W_{\\rm RU}} \\cdot S_{\\rm TOP}^{W_{\\rm TOP}} \\cdot S_{\\rm EG}^{W_{\\rm EG}} $ \n",
    "\n",
    "2. weighted arithmetic mean\n",
    "\n",
    "$S_{\\rm OA} =  S_{\\rm RU} \\cdot W_{\\rm RU} + S_{\\rm TOP} \\cdot W_{\\rm TOP} +  S_{\\rm EG} \\cdot W_{\\rm EG} $ \n"
   ]
  },
  {
   "cell_type": "code",
   "execution_count": null,
   "metadata": {
    "id": "tnGFkpht12nw"
   },
   "outputs": [],
   "source": [
    "def Overall_Similarity_Score_Calculation(query = None,\n",
    "                                 target = None,\n",
    "                                 embedding_function = 'RDKFingerprint', \n",
    "                                 similarity_score_function = 'Tanimoto', \n",
    "                                 alpha = 1, \n",
    "                                 Repeat_Unit_Weight  =0.475,\n",
    "                                 Topology_Weight = 0.475,\n",
    "                                 End_Group_Weight = 0.05,\n",
    "                                 Mean_Function = 'geometric',\n",
    "                                 details_print = False,\n",
    "                                 return_with_components = False):\n",
    "\n",
    "    if query == None or target == None:\n",
    "        print (\"Either query polymer or target polymer is missing! Please check the input.\")\n",
    "        return\n",
    "\n",
    "    Repeat_Unit_Similarity_Score = Similarity_Score_EMD_Calculation(\n",
    "        query_smiles_list = query.repeat_unit_smiles_list, \n",
    "        query_smiles_weight_list = query.repeat_unit_smiles_weight_list, \n",
    "        target_smiles_list = target.repeat_unit_smiles_list, \n",
    "        target_smiles_weight_list = target.repeat_unit_smiles_weight_list,\t\n",
    "        embedding_function = embedding_function,\n",
    "        similarity_score_function = similarity_score_function)\n",
    "    \n",
    "    Topology_Similarity_Score = Topology_Similarity_Score_Calculation(\n",
    "        Graph1=query.graph_representation, \n",
    "        Graph2=target.graph_representation, \n",
    "        alpha=alpha)\n",
    "\n",
    "    if len(query.end_group_smiles_list) == 0 and  len(target.end_group_smiles_list) == 0:\n",
    "        End_Group_Similarity_Score = 1.0\n",
    "    \n",
    "    elif (len(query.end_group_smiles_list) == 0 and len(target.end_group_smiles_list) != 0 ) or (len(query.end_group_smiles_list) != 0 and len(target.end_group_smiles_list) == 0 ):\n",
    "        End_Group_Similarity_Score = 1.0\n",
    "\n",
    "    else: \n",
    "        End_Group_Similarity_Score = Similarity_Score_EMD_Calculation(\n",
    "            query_smiles_list = query.end_group_smiles_list, \n",
    "            query_smiles_weight_list = query.end_group_smiles_weight_list, \n",
    "            target_smiles_list = target.end_group_smiles_list, \n",
    "            target_smiles_weight_list = target.end_group_smiles_weight_list,\t\n",
    "            embedding_function = embedding_function,\n",
    "            similarity_score_function = similarity_score_function)\n",
    "        \n",
    "    # verify whether the weight sum is normalized.\n",
    "    if  abs(Repeat_Unit_Weight + Topology_Weight +  End_Group_Weight - 1 ) != 0.0:\n",
    "        Weight_Sum = Repeat_Unit_Weight + Topology_Weight +  End_Group_Weight\n",
    "\n",
    "        Repeat_Unit_Weight = Repeat_Unit_Weight/Weight_Sum\n",
    "\n",
    "        Topology_Weight = Topology_Weight/Weight_Sum\n",
    "\n",
    "        End_Group_Weight = End_Group_Weight/Weight_Sum\n",
    "\n",
    "\n",
    "    if Mean_Function == 'geometric':\n",
    "        Overall_Similarity_Score = pow(Repeat_Unit_Similarity_Score, Repeat_Unit_Weight) * pow(Topology_Similarity_Score, Topology_Weight) * pow(End_Group_Similarity_Score, End_Group_Weight)\n",
    "\n",
    "    elif Mean_Function == 'arithmetic':\n",
    "        Overall_Similarity_Score = Repeat_Unit_Weight * Repeat_Unit_Similarity_Score + Topology_Weight * Topology_Similarity_Score + End_Group_Weight * End_Group_Similarity_Score\n",
    "\n",
    "    else:\n",
    "        print(\"Your input mean function \", Mean_Function, \" is not implemented currently, please choose those implemented mean functions, such as arithmetic, geometric\")\n",
    "        return\n",
    "\n",
    "        \n",
    "    if details_print == True:\n",
    "        print(\"Details of the Similarity Score:\\n\")\n",
    "        print(\"Repeat Unit Similarity Score = \", Repeat_Unit_Similarity_Score, \", Normalized Weight for Repeating Unit = \", Repeat_Unit_Weight)\n",
    "        print(\"Topology Similarity Score = \", Topology_Similarity_Score, \", Normalized Weight for Topology = \", Topology_Weight)\n",
    "        print(\"End Group Similarity  = \", End_Group_Similarity_Score, \", Normalized Weight for End Group = \", End_Group_Weight )\n",
    "        print(\"Overall Pairwise Similarity Score with \" + Mean_Function + \" mean function = \", Overall_Similarity_Score)\n",
    "        print(\"\\n\")\n",
    "\n",
    "    if return_with_components == True:\n",
    "        return Overall_Similarity_Score, Repeat_Unit_Similarity_Score, Topology_Similarity_Score, End_Group_Similarity_Score\n",
    "\n",
    "    return Overall_Similarity_Score     \n"
   ]
  },
  {
   "cell_type": "markdown",
   "metadata": {
    "id": "bijKjSMqQ-gw"
   },
   "source": [
    "# Define Polymer Class for Importing Polymer data\n",
    "\n",
    "The polymer graph is decomposed into three components: repeat units, end groups and topology. \n",
    "\n",
    "(I) To compute $S_{\\rm RU}$  for repeat units, we need the polymer's (1) repeat unit SMILES list and (2) corresponding weight list.\n",
    "\n",
    "(II) To compute $S_{\\rm EG}$  for end groups, we need the polymer's (3) end group SMILES list and (4) corresponding weight list.\n",
    "\n",
    "(III) To compute $S_{\\rm TOP}$ for topology, we need the polymers' (5) topological graph representation.\n",
    "\n",
    "Therefore, in the Polymer Class, we have to define the above five elements which are required to perform polymer similarity calculation."
   ]
  },
  {
   "cell_type": "code",
   "execution_count": null,
   "metadata": {
    "id": "k-I92q5zfd_L"
   },
   "outputs": [],
   "source": [
    "class Polymer:\n",
    "  def __init__(self, \n",
    "               repeat_unit_smiles_list = None, \n",
    "               repeat_unit_smiles_weight_list = None, \n",
    "               end_group_smiles_list = None, \n",
    "               end_group_smiles_weight_list = None,\n",
    "               graph_representation = None):\n",
    "    \n",
    "      if  repeat_unit_smiles_list == None:\n",
    "          print(\"Error: Repeat Unit SMILES are missing. Please define the Repeat Unit SMILES.\") \n",
    "          return \n",
    "\n",
    "      else: \n",
    "          self.repeat_unit_smiles_list = repeat_unit_smiles_list\n",
    "      \n",
    "      if repeat_unit_smiles_weight_list == None:\n",
    "          print(\"Error: Repeat Unit weights are missing. Please re-enter the correct Repeat Unit weights.\\n\")\n",
    "          return\n",
    "\n",
    "      elif len(repeat_unit_smiles_weight_list) != len(repeat_unit_smiles_list):\n",
    "          print(\"Error: Repeat Unit weights are not correct. Please re-enter the correct Repeat Unit SMILES and weights.\\n\")\n",
    "          return\n",
    "\n",
    "      else:\n",
    "          self.repeat_unit_smiles_weight_list = repeat_unit_smiles_weight_list\n",
    "\n",
    "      if end_group_smiles_list == None and end_group_smiles_weight_list == None:\n",
    "          self.end_group_smiles_list = []\n",
    "          self.end_group_smiles_weight_list = []\n",
    "          print(\"Notice: The Polymer has NO End Group.\\nIf this is what you want, this message is NOT Error. \\nOtherwise, please enter the correct End Group SMILES and weights.\\n\")\n",
    "\n",
    "      elif (end_group_smiles_list == None and end_group_smiles_weight_list != None) or (end_group_smiles_list != None and end_group_smiles_weight_list == None):\n",
    "          print(\"Error: End Group SMILES and weights are not matching. Please re-enter the correct End Group SMILES and weights.\\n\")\n",
    "          return\n",
    "\n",
    "      else:\n",
    "          if len(end_group_smiles_list) != len(end_group_smiles_weight_list):\n",
    "              print(\"Error: End Group SMILES and weights are not matching. Please re-enter the correct End Group SMILES and weights.\\n\")\n",
    "              return\n",
    "\n",
    "          else:\n",
    "              if len(end_group_smiles_list) == 0 and len(end_group_smiles_weight_list) == 0:\n",
    "                  print(\"Notice: The Polymer has NO End Group. \\nIf this is what you want, this message is NOT Error. \\n Otherwise, please enter the correct End Group SMILES and weights.\\n\")\n",
    "\n",
    "              self.end_group_smiles_list = end_group_smiles_list\n",
    "              self.end_group_smiles_weight_list = end_group_smiles_weight_list   \n",
    "\n",
    "      if graph_representation == None:\n",
    "          print(\"Error: Topology graph representation is missing. Please define the topology graph representation.\\n\")\n",
    "          return\n",
    "\n",
    "      else:\n",
    "          self.graph_representation = graph_representation\n",
    "          "
   ]
  },
  {
   "cell_type": "markdown",
   "metadata": {
    "id": "vE5C5Cf0zSbF"
   },
   "source": [
    "# SI: Earth Mover’s Distance vs. Simple Sum or Average Method\n",
    "\n",
    "<img src=\"https://drive.google.com/uc?export=view&id=1-PQ9jBUGD9qJcdvKRk--U0YsMmRDah8r\"  width=\"50%\" height=\"50%\">"
   ]
  },
  {
   "cell_type": "markdown",
   "metadata": {
    "id": "93332dHdzs9Y"
   },
   "source": [
    "# Define Polymers\n"
   ]
  },
  {
   "cell_type": "code",
   "execution_count": null,
   "metadata": {
    "colab": {
     "base_uri": "https://localhost:8080/",
     "height": 551
    },
    "id": "NLUBb56IC44q",
    "outputId": "44b5530e-34e3-47cd-9379-b6cefd3b9186"
   },
   "outputs": [
    {
     "name": "stdout",
     "output_type": "stream",
     "text": [
      "diblock_top_graph_representation number of nodes:  8\n",
      "diblock_top_graph_representation number of edges:  11\n"
     ]
    },
    {
     "data": {
      "image/png": "[encoded data removed]",
      "text/plain": [
       "<Figure size 640x480 with 1 Axes>"
      ]
     },
     "metadata": {},
     "output_type": "display_data"
    }
   ],
   "source": [
    "diblock_top_graph_representation = nx.MultiDiGraph()\n",
    "diblock_top_graph_representation.add_nodes_from([\"E1\",\"D1\",\"D2\",\"E2\",\"R1\",\"R1'\",\"R2\",\"R2'\"])\n",
    "diblock_top_graph_representation.add_edges_from([(\"E1\",\"D1\"),(\"D1\",\"R1\"),(\"R1\",\"D1\"),(\"D1\",\"R1'\"),(\"R1'\",\"D1\"),\n",
    "                                                 (\"D1\",\"D2\"),(\"D2\",\"R2\"),(\"R2\",\"D2\"),(\"D2\",\"R2'\"),(\"R2'\",\"D2\"),(\"D2\",\"E2\")])\n",
    "nx.draw(diblock_top_graph_representation)\n",
    "print(\"diblock_top_graph_representation number of nodes: \", diblock_top_graph_representation.number_of_nodes())\n",
    "print(\"diblock_top_graph_representation number of edges: \", diblock_top_graph_representation.number_of_edges())"
   ]
  },
  {
   "cell_type": "markdown",
   "metadata": {
    "id": "eIHJx_8wpS33"
   },
   "source": [
    "## Polymer X\n"
   ]
  },
  {
   "cell_type": "code",
   "execution_count": null,
   "metadata": {
    "id": "4gg0HbRJzsNw"
   },
   "outputs": [],
   "source": [
    "Polymer_X = Polymer(repeat_unit_smiles_list =  [\"*CC(*)CCCCCCC\",\"*CC(*)c1ccc(CCCCCCC(=O)OC)cc1\" ],\n",
    "                      repeat_unit_smiles_weight_list = [1,1], \n",
    "                      end_group_smiles_list = ['*C(C)(C)C#N','*C(C)(C)C#N'], \n",
    "                      end_group_smiles_weight_list = [1,1],\n",
    "                      graph_representation = diblock_top_graph_representation)"
   ]
  },
  {
   "cell_type": "markdown",
   "metadata": {
    "id": "pkO_5dOtpY_E"
   },
   "source": [
    "## Polymer Y\n"
   ]
  },
  {
   "cell_type": "code",
   "execution_count": null,
   "metadata": {
    "id": "FUemADZ3SN0d"
   },
   "outputs": [],
   "source": [
    "Polymer_Y = Polymer(repeat_unit_smiles_list =  [\"*CC(*)CCCCCCCC(=O)OC\",\"*CC(*)c1ccc(CCCCCC)cc1\"],\n",
    "                      repeat_unit_smiles_weight_list = [1,1], \n",
    "                      end_group_smiles_list = ['*C(C)(C)C#N','*C(C)(C)C#N'], \n",
    "                      end_group_smiles_weight_list = [1,1],\n",
    "                      graph_representation = diblock_top_graph_representation)"
   ]
  },
  {
   "cell_type": "markdown",
   "metadata": {
    "id": "jbS9tSrxzq8Q"
   },
   "source": [
    "# Calculate Similarity Scores \n",
    "## Calculate the Pairwise Similarity Score between Polymer X and Polymer Y."
   ]
  },
  {
   "cell_type": "code",
   "execution_count": null,
   "metadata": {
    "colab": {
     "base_uri": "https://localhost:8080/"
    },
    "id": "8p8pHgcmPcg7",
    "outputId": "c883ad74-c3f0-4dd9-8841-017cc7a3fda9"
   },
   "outputs": [
    {
     "name": "stdout",
     "output_type": "stream",
     "text": [
      "Details of the Similarity Score:\n",
      "\n",
      "Repeat Unit Similarity Score =  0.5419354838709678 , Normalized Weight for Repeating Unit =  0.475\n",
      "Topology Similarity Score =  1.0 , Normalized Weight for Topology =  0.475\n",
      "End Group Similarity  =  1.0 , Normalized Weight for End Group =  0.05\n",
      "Overall Pairwise Similarity Score with geometric mean function =  0.7475239373001081\n",
      "\n",
      "\n"
     ]
    },
    {
     "data": {
      "text/plain": [
       "0.7475239373001081"
      ]
     },
     "execution_count": 10,
     "metadata": {},
     "output_type": "execute_result"
    }
   ],
   "source": [
    "Overall_Similarity_Score_Calculation(query = Polymer_X,\n",
    "                             target = Polymer_Y,\n",
    "                             embedding_function = 'MorganFingerprint',\n",
    "                             similarity_score_function = 'Tanimoto',\n",
    "                             alpha = 1,\n",
    "                             Repeat_Unit_Weight = 0.475,\n",
    "                             Topology_Weight = 0.475,\n",
    "                             End_Group_Weight = 0.05,\n",
    "                             Mean_Function = 'geometric',\n",
    "                             details_print = True,\n",
    "                             return_with_components = False)"
   ]
  },
  {
   "cell_type": "markdown",
   "metadata": {
    "id": "pHChzWKwer3A"
   },
   "source": [
    " **Repeat Unit Similarity Score with EMD =  0.5419354838709678**"
   ]
  },
  {
   "cell_type": "markdown",
   "metadata": {
    "id": "V30_Bo09elf1"
   },
   "source": [
    "# Simple Sum or Average Methods"
   ]
  },
  {
   "cell_type": "code",
   "execution_count": null,
   "metadata": {
    "colab": {
     "base_uri": "https://localhost:8080/"
    },
    "id": "ifMz2-cyojfb",
    "outputId": "bfc8c1f4-9fbf-49e5-e287-5f37f98995cc"
   },
   "outputs": [
    {
     "name": "stdout",
     "output_type": "stream",
     "text": [
      "SMILES string: \n",
      " *CC(*)CCCCCCC \n",
      "\n",
      "Locations of the 1s in the fingerprints from MorganFingerprintAsBitVect(mol,2,nBits=2048) = \n",
      " [1, 80, 170, 226, 247, 253, 294, 591, 739, 794, 969, 1057, 1143, 1174, 1283, 1444, 1911, 1948, 1995] \n",
      "\n",
      "SMILES string: \n",
      " *CC(*)c1ccc(CCCCCCC(=O)OC)cc1 \n",
      "\n",
      "Locations of the 1s in the fingerprints from MorganFingerprintAsBitVect(mol,2,nBits=2048) = \n",
      " [1, 14, 80, 170, 195, 226, 247, 310, 541, 650, 695, 807, 841, 969, 978, 1045, 1057, 1143, 1152, 1184, 1243, 1267, 1365, 1380, 1386, 1399, 1564, 1610, 1750, 1754, 1853, 1873, 1911, 1917, 2023, 2035] \n",
      "\n",
      "Locations of the 1s in the sum of fingerprints \n",
      " [1, 1, 14, 80, 80, 170, 170, 195, 226, 226, 247, 247, 253, 294, 310, 541, 591, 650, 695, 739, 794, 807, 841, 969, 969, 978, 1045, 1057, 1057, 1143, 1143, 1152, 1174, 1184, 1243, 1267, 1283, 1365, 1380, 1386, 1399, 1444, 1564, 1610, 1750, 1754, 1853, 1873, 1911, 1911, 1917, 1948, 1995, 2023, 2035] \n",
      "\n"
     ]
    }
   ],
   "source": [
    "SMILES_list_Polymer_X = Polymer_X.repeat_unit_smiles_list\n",
    "\n",
    "# the locations of the 1s in sum of the fingerprints\n",
    "list_Polymer_X = []  \n",
    "\n",
    "for smiles in SMILES_list_Polymer_X: \n",
    "    mol = Chem.MolFromSmiles(smiles) \n",
    "    smiles = Chem.MolToSmiles(mol)\n",
    "    print(\"SMILES string: \\n\", smiles, '\\n')\n",
    "    fp = AllChem.GetMorganFingerprintAsBitVect(mol,2,nBits=2048)\n",
    "    fp_get_onebits = list(fp.GetOnBits())\n",
    "    fp_get_onebits.sort()\n",
    "    print(\"Locations of the 1s in the fingerprints from MorganFingerprintAsBitVect(mol,2,nBits=2048) = \\n\", fp_get_onebits, '\\n')\n",
    "    list_Polymer_X.extend(list(fp.GetOnBits()))\n",
    "\n",
    "list_Polymer_X.sort()\n",
    "print(\"Locations of the 1s in the sum of fingerprints \\n\", list_Polymer_X, '\\n')\n"
   ]
  },
  {
   "cell_type": "code",
   "execution_count": null,
   "metadata": {
    "colab": {
     "base_uri": "https://localhost:8080/"
    },
    "id": "SCkw_nhGfXzS",
    "outputId": "21b06bfe-ac84-4b98-dd27-901a22208102"
   },
   "outputs": [
    {
     "name": "stdout",
     "output_type": "stream",
     "text": [
      "SMILES string: \n",
      " *CC(*)CCCCCCCC(=O)OC \n",
      "\n",
      "Locations of the 1s in the fingerprints from MorganFingerprintAsBitVect(mol,2,nBits=2048) = \n",
      " [1, 14, 80, 170, 195, 226, 247, 253, 650, 695, 739, 807, 841, 969, 1057, 1143, 1152, 1174, 1267, 1283, 1386, 1399, 1564, 1911, 1917, 1948, 1995] \n",
      "\n",
      "SMILES string: \n",
      " *CC(*)c1ccc(CCCCCC)cc1 \n",
      "\n",
      "Locations of the 1s in the fingerprints from MorganFingerprintAsBitVect(mol,2,nBits=2048) = \n",
      " [1, 80, 170, 226, 247, 294, 310, 541, 591, 794, 969, 978, 1045, 1057, 1143, 1184, 1243, 1365, 1380, 1444, 1610, 1750, 1754, 1853, 1873, 1911, 2023, 2035] \n",
      "\n",
      "Locations of the 1s in the sum of fingerprints \n",
      " [1, 1, 14, 80, 80, 170, 170, 195, 226, 226, 247, 247, 253, 294, 310, 541, 591, 650, 695, 739, 794, 807, 841, 969, 969, 978, 1045, 1057, 1057, 1143, 1143, 1152, 1174, 1184, 1243, 1267, 1283, 1365, 1380, 1386, 1399, 1444, 1564, 1610, 1750, 1754, 1853, 1873, 1911, 1911, 1917, 1948, 1995, 2023, 2035] \n",
      "\n"
     ]
    }
   ],
   "source": [
    "SMILES_list_Polymer_Y = Polymer_Y.repeat_unit_smiles_list\n",
    "\n",
    "# the locations of the 1s in the sum of fingerprints\n",
    "list_Polymer_Y = []  \n",
    "\n",
    "for smiles in SMILES_list_Polymer_Y: \n",
    "    mol = Chem.MolFromSmiles(smiles) \n",
    "    smiles = Chem.MolToSmiles(mol)\n",
    "    print(\"SMILES string: \\n\", smiles, '\\n')\n",
    "    fp = AllChem.GetMorganFingerprintAsBitVect(mol,2,nBits=2048)\n",
    "    fp_get_onebits = list(fp.GetOnBits())\n",
    "    fp_get_onebits.sort()\n",
    "    print(\"Locations of the 1s in the fingerprints from MorganFingerprintAsBitVect(mol,2,nBits=2048) = \\n\", fp_get_onebits, '\\n')\n",
    "    list_Polymer_Y.extend(list(fp.GetOnBits()))\n",
    "\n",
    "list_Polymer_Y.sort()\n",
    "print(\"Locations of the 1s in the sum of fingerprints \\n\", list_Polymer_Y, '\\n')\n"
   ]
  },
  {
   "cell_type": "code",
   "execution_count": null,
   "metadata": {
    "colab": {
     "base_uri": "https://localhost:8080/"
    },
    "id": "lrOKyHfYfwW6",
    "outputId": "1c8a0090-f387-4f10-9b79-6b997ae74ebf"
   },
   "outputs": [
    {
     "name": "stdout",
     "output_type": "stream",
     "text": [
      "True\n"
     ]
    }
   ],
   "source": [
    "print (list_Polymer_Y == list_Polymer_X)"
   ]
  },
  {
   "cell_type": "markdown",
   "metadata": {
    "id": "_P72UBLUgzMw"
   },
   "source": [
    "The sum of FP(RX1) and FP(RX2) is the same as the sum of FP(RY1) and FP(RY2) implying the two polymers are the same. Therefore, the simple sum method treats two different repeat unit ensembles as the same and fails to capture the differences."
   ]
  },
  {
   "cell_type": "code",
   "execution_count": null,
   "metadata": {
    "id": "dm9hxCa7f3Jm"
   },
   "outputs": [],
   "source": []
  }
 ],
 "metadata": {
  "colab": {
   "provenance": []
  },
  "kernelspec": {
   "display_name": "Python 3 (ipykernel)",
   "language": "python",
   "name": "python3"
  },
  "language_info": {
   "codemirror_mode": {
    "name": "ipython",
    "version": 3
   },
   "file_extension": ".py",
   "mimetype": "text/x-python",
   "name": "python",
   "nbconvert_exporter": "python",
   "pygments_lexer": "ipython3",
   "version": "3.9.7"
  }
 },
 "nbformat": 4,
 "nbformat_minor": 1
}
