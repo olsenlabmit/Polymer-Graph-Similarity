{
  "nbformat": 4,
  "nbformat_minor": 0,
  "metadata": {
    "colab": {
      "provenance": []
    },
    "kernelspec": {
      "name": "python3",
      "display_name": "Python 3"
    },
    "language_info": {
      "name": "python"
    }
  },
  "cells": [
    {
      "cell_type": "code",
      "source": [
        "# @title Copyright & License (click to expand)\n",
        "# MIT License\n",
        "\n",
        "# Copyright (c) 2022 olsenlabmit\n",
        "\n",
        "# Permission is hereby granted, free of charge, to any person obtaining a copy\n",
        "# of this software and associated documentation files (the \"Software\"), to deal\n",
        "# in the Software without restriction, including without limitation the rights\n",
        "# to use, copy, modify, merge, publish, distribute, sublicense, and/or sell\n",
        "# copies of the Software, and to permit persons to whom the Software is\n",
        "# furnished to do so, subject to the following conditions:\n",
        "\n",
        "# The above copyright notice and this permission notice shall be included in all\n",
        "# copies or substantial portions of the Software.\n",
        "\n",
        "# THE SOFTWARE IS PROVIDED \"AS IS\", WITHOUT WARRANTY OF ANY KIND, EXPRESS OR\n",
        "# IMPLIED, INCLUDING BUT NOT LIMITED TO THE WARRANTIES OF MERCHANTABILITY,\n",
        "# FITNESS FOR A PARTICULAR PURPOSE AND NONINFRINGEMENT. IN NO EVENT SHALL THE\n",
        "# AUTHORS OR COPYRIGHT HOLDERS BE LIABLE FOR ANY CLAIM, DAMAGES OR OTHER\n",
        "# LIABILITY, WHETHER IN AN ACTION OF CONTRACT, TORT OR OTHERWISE, ARISING FROM,\n",
        "# OUT OF OR IN CONNECTION WITH THE SOFTWARE OR THE USE OR OTHER DEALINGS IN THE\n",
        "# SOFTWARE."
      ],
      "metadata": {
        "cellView": "form",
        "id": "9ExWfHqV1EXI"
      },
      "execution_count": null,
      "outputs": []
    },
    {
      "cell_type": "markdown",
      "source": [
        "This notebook is to perform the calculations and reproduce the results of Case 1 in the manuscript, Jiale Shi, Nathan J. Rebello, Dylan Walsh, Weizhong Zou, Michael E. Deagen, Bruno Salomao Leao, Debra J. Audus, Bradley D. Olsen, \"Quantifying Pairwise Chemical Similarity for Polymers\""
      ],
      "metadata": {
        "id": "kA0PTW_O3VxE"
      }
    },
    {
      "cell_type": "markdown",
      "source": [
        "\n",
        "\n",
        "<a target=\"_blank\" href=\"https://colab.research.google.com/github/olsenlabmit/Polymer-Graph-Similarity/blob/main/notebook/Polymer_Similarity_Case1.ipynb\">\n",
        "  <img src=\"https://colab.research.google.com/assets/colab-badge.svg\" alt=\"Open In Colab\" width=\"120\" height=\"30\"/>\n",
        "</a>"
      ],
      "metadata": {
        "id": "nVg45IXBOyyO"
      }
    },
    {
      "cell_type": "markdown",
      "source": [
        "# Import and install necessary libraries"
      ],
      "metadata": {
        "id": "-9n8-Ciyiy7G"
      }
    },
    {
      "cell_type": "code",
      "source": [
        "# Import Necessary Libraries\n",
        "import numpy as np\n",
        "import networkx as nx\n",
        "import matplotlib.pyplot as plt\n",
        "import shutil\n",
        "import sys\n",
        "import os.path\n",
        "\n",
        "#Install necessary libraries\n",
        "!pip install -q rdkit\n",
        "from rdkit import Chem\n",
        "from rdkit import DataStructs\n",
        "from rdkit.Chem import AllChem\n",
        "from rdkit.Chem import MACCSkeys\n",
        "from rdkit.Chem.AtomPairs import Pairs\n",
        "\n",
        "\n",
        "if not shutil.which(\"pyomo\"):\n",
        "    !pip install -q pyomo\n",
        "    assert(shutil.which(\"pyomo\"))\n",
        "\n",
        "if not (shutil.which(\"cbc\") or os.path.isfile(\"cbc\")):\n",
        "    if \"google.colab\" in sys.modules:\n",
        "        !apt-get install -y -qq coinor-cbc\n",
        "        print(\"install cbc\")\n",
        "    else:\n",
        "        try:\n",
        "            !conda install -c conda-forge coincbc \n",
        "            print(\"install cbc-2\")\n",
        "        except:\n",
        "            print(\"skip cbc\")\n",
        "            pass\n",
        "            \n",
        "\n",
        "assert(shutil.which(\"cbc\") or os.path.isfile(\"cbc\"))\n",
        "    \n",
        "from pyomo.environ import *"
      ],
      "metadata": {
        "id": "psnOpmYlL_sw"
      },
      "execution_count": null,
      "outputs": []
    },
    {
      "cell_type": "markdown",
      "source": [
        "# Similarity Score Functions"
      ],
      "metadata": {
        "id": "D2aVwhkeZcX8"
      }
    },
    {
      "cell_type": "markdown",
      "source": [
        "## Earth Mover's Distance (EMD) Similarity Function\n",
        "\n",
        "Similarity score of earth mover's distance for repeating units ensemble and end group ensemble\n",
        "\n",
        "The EMD linear optimization code  refers [3.1. Transportation Networks, ND Pyomo Notebook](https://jckantor.github.io/ND-Pyomo-Cookbook/notebooks/03.01-Transportation-Networks.html)"
      ],
      "metadata": {
        "id": "HsMcsqU-Pv6Y"
      }
    },
    {
      "cell_type": "code",
      "source": [
        "def Similarity_Score_EMD(query_smiles_list = None, \n",
        "                         query_smiles_weight_list = None, \n",
        "                         target_smiles_list = None, \n",
        "                         target_smiles_weight_list = None,\n",
        "                         embedding_function = 'MorganFingerprint', #\n",
        "                         similarity_score_function = 'Tanimoto'):\n",
        "  \n",
        "    # obtain the length of query smiles list and target smiles list\n",
        "    \n",
        "    query_smiles_list_length = len(query_smiles_list)  \n",
        "\n",
        "    target_smiles_list_length = len(target_smiles_list)\n",
        "    \n",
        "    # check whether the query is identical with the target\n",
        "    if set(query_smiles_list) == set(target_smiles_list):\n",
        "        query_smiles_array = np.array(query_smiles_list)\n",
        "        query_smiles_level_array = np.array(query_smiles_weight_list)\n",
        "        inds_query = query_smiles_array.argsort()\n",
        "        sorted_query_smiles_array = query_smiles_array[inds_query]\n",
        "        sorted_query_smiles_level_array = query_smiles_level_array[inds_query]\n",
        "\n",
        "        target_smiles_array = np.array(target_smiles_list)\n",
        "        target_smiles_level_array = np.array(target_smiles_weight_list)\n",
        "        inds_target = target_smiles_array.argsort()\n",
        "        sorted_target_smiles_array = target_smiles_array[inds_target]\n",
        "        sorted_target_smiles_level_array = target_smiles_level_array[inds_target]\n",
        "\n",
        "        if np.array_equal(sorted_query_smiles_array, sorted_target_smiles_array) and np.array_equal(sorted_query_smiles_level_array, sorted_target_smiles_level_array):\n",
        "            return 1.0\n",
        "\n",
        "        query_smiles_reduced_list = list(set(query_smiles_list))\n",
        "        query_smiles_reduced_list_number = []\n",
        "        for i in range(0, len(query_smiles_reduced_list)):\n",
        "            query_smiles_reduced_list_number_i  = 0\n",
        "            for j in range(0, len(query_smiles_list)):\n",
        "                if query_smiles_reduced_list[i] == query_smiles_list[j]:\n",
        "                    query_smiles_reduced_list_number_i = query_smiles_reduced_list_number_i   + query_smiles_weight_list[j]\n",
        "            query_smiles_reduced_list_number.append(query_smiles_reduced_list_number_i/sum(query_smiles_weight_list))\n",
        "\n",
        "        target_smiles_reduced_list = list(set(target_smiles_list))\n",
        "        target_smiles_reduced_list_number = []\n",
        "        for i in range(0, len(target_smiles_reduced_list)):\n",
        "            target_smiles_reduced_list_number_i  = 0\n",
        "            for j in range(0, len(target_smiles_list)):\n",
        "                if target_smiles_reduced_list[i] == target_smiles_list[j]:\n",
        "                    target_smiles_reduced_list_number_i = target_smiles_reduced_list_number_i   + target_smiles_weight_list[j]\n",
        "            target_smiles_reduced_list_number.append(target_smiles_reduced_list_number_i/sum(target_smiles_weight_list))\n",
        "\n",
        "        if query_smiles_reduced_list_number == target_smiles_reduced_list_number:\n",
        "            return 1.0\n",
        "\n",
        "    # transfer SMILES to fingerprints\n",
        "    if embedding_function == 'RDKFingerprint':    \n",
        "        query_mol_list = [Chem.MolFromSmiles(x) for x in query_smiles_list]\n",
        "        query_fingerprint_list = [Chem.RDKFingerprint(x) for x in query_mol_list]\n",
        "        target_mol_list = [Chem.MolFromSmiles(x) for x in target_smiles_list]\n",
        "        target_fingerprint_list = [Chem.RDKFingerprint(x) for x in target_mol_list]\n",
        "\n",
        "    elif embedding_function == 'MorganFingerprint':    \n",
        "        query_mol_list = [Chem.MolFromSmiles(x) for x in query_smiles_list]\n",
        "        query_fingerprint_list = [AllChem.GetMorganFingerprintAsBitVect(x,2,nBits=2048) for x in query_mol_list]\n",
        "        target_mol_list = [Chem.MolFromSmiles(x) for x in target_smiles_list]\n",
        "        target_fingerprint_list = [AllChem.GetMorganFingerprintAsBitVect(x,2,nBits=2048) for x in target_mol_list]\n",
        "\n",
        "    elif embedding_function == 'MACCSkeys':    \n",
        "        query_mol_list = [Chem.MolFromSmiles(x) for x in query_smiles_list]\n",
        "        query_fingerprint_list = [MACCSkeys.GenMACCSKeys(x) for x in query_mol_list]\n",
        "        target_mol_list = [Chem.MolFromSmiles(x) for x in target_smiles_list]\n",
        "        target_fingerprint_list = [MACCSkeys.GenMACCSKeys(x) for x in target_mol_list]\n",
        "\n",
        "\n",
        "    else:\n",
        "        print(embedding_function + \" is not included in the current vision, please choose an available embedding function:\");\n",
        "        print(\"MorganFingerprint, RDKFingerprint, MACCSkeys.\")\n",
        "        return False         \n",
        "\n",
        "    # Define the required three sets\n",
        "\n",
        "    Demand = {} # query\n",
        "    Supply = {} # target\n",
        "    T = {}      # transport flow\n",
        "\n",
        "    # define the weight for SMILES in query, w_i\n",
        "    if len(set(query_smiles_weight_list)) ==1:\n",
        "        for i in range(0, query_smiles_list_length):\n",
        "            Demand[\"P\" + str(i+1)] = 1/query_smiles_list_length\n",
        "    else:\n",
        "        query_weight_sum = 0.0\n",
        "        for i in range(0, query_smiles_list_length):\n",
        "            query_weight_sum = query_weight_sum + query_smiles_weight_list[i]\n",
        "\n",
        "        for i in range(0, query_smiles_list_length):\n",
        "            Demand[\"P\" + str(i+1)] = query_smiles_weight_list[i]/query_weight_sum\n",
        "\n",
        "    # define weight for SMILES in target, w_j\n",
        "    if len(set(target_smiles_weight_list)) ==1:       \n",
        "        for j in range(0,target_smiles_list_length):\n",
        "            Supply[\"Q\" + str(j+1)] = 1/target_smiles_list_length\n",
        "    else:\n",
        "        target_weight_sum = 0.0\n",
        "        for j in range(0, target_smiles_list_length):\n",
        "            target_weight_sum = target_weight_sum + target_smiles_weight_list[j]\n",
        "\n",
        "        for j in range(0, target_smiles_list_length):\n",
        "            Supply[\"Q\" + str(j+1)] = target_smiles_weight_list[j]/target_weight_sum\n",
        "\n",
        "\n",
        "\n",
        "    # similarity function to calculate d_ij\n",
        "    if similarity_score_function == 'Tanimoto':\n",
        "        for i in range(0,query_smiles_list_length):\n",
        "            for j in range(0,target_smiles_list_length):\n",
        "                # calculate the fingerprint similarityscore between query[i],target[j] and input the distance = 1- similarityscore\n",
        "                T[(\"P\" + str(i+1), \"Q\" + str(j+1))] = 1 - DataStructs.FingerprintSimilarity(query_fingerprint_list[i],target_fingerprint_list[j])\n",
        "                #print(\"P\" + str(i+1), \"->Q\" + str(j+1), T[(\"P\" + str(i+1), \"Q\" + str(j+1))] )\n",
        "\n",
        "    elif similarity_score_function == 'Dice':\n",
        "        for i in range(0,query_smiles_list_length):\n",
        "            for j in range(0,target_smiles_list_length):\n",
        "                # calculate the fingerprint similarityscore between query[i],target[j] and input the distance = 1- similarityscore\n",
        "                T[(\"P\" + str(i+1), \"Q\" + str(j+1))] = 1 - DataStructs.FingerprintSimilarity(query_fingerprint_list[i],target_fingerprint_list[j], metric=DataStructs.DiceSimilarity)\n",
        "                #print(\"P\" + str(i+1), \"->Q\" + str(j+1), T[(\"P\" + str(i+1), \"Q\" + str(j+1))] )\n",
        "\n",
        "    elif similarity_score_function == 'Cosine':\n",
        "        for i in range(0,query_smiles_list_length):\n",
        "            for j in range(0,target_smiles_list_length):\n",
        "                # calculate the fingerprint similarityscore between query[i],target[j] and input the distance = 1- similarityscore\n",
        "                T[(\"P\" + str(i+1), \"Q\" + str(j+1))] = 1 - DataStructs.FingerprintSimilarity(query_fingerprint_list[i],target_fingerprint_list[j], metric=DataStructs.CosineSimilarity)\n",
        "                #print(\"P\" + str(i+1), \"->Q\" + str(j+1), T[(\"P\" + str(i+1), \"Q\" + str(j+1))] )\n",
        "       \n",
        "    else:\n",
        "        print(similarity_score_function + \" is not included in the current vision, please choose an available similarity function:\");\n",
        "        print(\"Tanimoto, Dice, or Cosine\")\n",
        "        return\n",
        "\n",
        "    \n",
        "\n",
        "    #print(len(Demand), len(Supply), len(T))\n",
        "    # Step 0: Create an instance of the model\n",
        "    model = ConcreteModel()\n",
        "    model.dual = Suffix(direction=Suffix.IMPORT)\n",
        "\n",
        "    # Step 1: Define index sets\n",
        "    CUS = list(Demand.keys())\n",
        "    SRC = list(Supply.keys())\n",
        "\n",
        "    # Step 2: Define the decision \n",
        "    model.x = Var(CUS, SRC, domain = NonNegativeReals)\n",
        "\n",
        "    # Step 3: Define Objective\n",
        "    model.Cost = Objective(\n",
        "    expr = sum([T[c,s]*model.x[c,s] for c in CUS for s in SRC]),\n",
        "    sense = minimize)\n",
        "\n",
        "    # Step 4: Constraints\n",
        "    model.src = ConstraintList()\n",
        "    for s in SRC:\n",
        "        model.src.add(sum([model.x[c,s] for c in CUS]) == Supply[s])\n",
        "        \n",
        "    model.dmd = ConstraintList()\n",
        "    for c in CUS:\n",
        "        model.dmd.add(sum([model.x[c,s] for s in SRC]) == Demand[c])\n",
        "\n",
        "    \n",
        "    results = SolverFactory('cbc').solve(model)\n",
        "\n",
        "\n",
        "    if 'ok' == str(results.Solver.status):\n",
        "        #print(\"EMD(P,Q) = \",model.Cost())\n",
        "        #print (\"\\n\")\n",
        "        #print(\"S(P,Q) = \", 1- model.Cost())\n",
        "        SimilarityScore = 1- model.Cost()\n",
        "        return SimilarityScore\n",
        "        \n",
        "    else:\n",
        "        print(\"No Valid Solution Found\")\n",
        "        return False\n",
        "\n"
      ],
      "metadata": {
        "id": "eOlNnWbfY8Va"
      },
      "execution_count": null,
      "outputs": []
    },
    {
      "cell_type": "markdown",
      "source": [
        "## Graph Edit Distance (GED) Similarity Function\n",
        "\n",
        "$GED(g_1, g_2)$ is calculated via networkx function [graph_edit_distance](https://networkx.org/documentation/stable/reference/algorithms/generated/networkx.algorithms.similarity.graph_edit_distance.html)\n",
        "\n",
        "Mapping the GED to a topological similarity score in the range of (0,1] via a exponential decay function on the normalized GED, \n",
        "\n",
        "$S_{\\rm TOP} = \\exp(-\\frac{\\alpha \\cdot GED}{(N_1 + N_2)/2})$"
      ],
      "metadata": {
        "id": "fNpt-pIDQLOX"
      }
    },
    {
      "cell_type": "code",
      "source": [
        "# Graph Edit Distance\n",
        "def Similarity_Score_Graph_Edit_Distance(Graph1 = None, \n",
        "                         Graph2 = None, \n",
        "                         alpha = 1):\n",
        "    if Graph1 == None:\n",
        "        print(\"Missing Graph1\")\n",
        "        return\n",
        "    if Graph2 == None:\n",
        "        print(\"Missing Graph2\")\n",
        "        return\n",
        "    \n",
        "    \n",
        "    Graph1_number_nodes = Graph1.number_of_nodes() \n",
        "    Graph2_number_nodes = Graph2.number_of_nodes() \n",
        "    \n",
        "    graph_edit_distance = nx.graph_edit_distance(Graph1, Graph2)\n",
        "    \n",
        "    topology_similarity_score = np.exp(-alpha*graph_edit_distance/((Graph1_number_nodes+ Graph2_number_nodes)/2))\n",
        "\n",
        "    return topology_similarity_score "
      ],
      "metadata": {
        "id": "oyUi54M_IorG"
      },
      "execution_count": null,
      "outputs": []
    },
    {
      "cell_type": "markdown",
      "source": [
        "## Weighted Mean Function with different weights and different mean functions\n",
        "\n",
        "### weighted geometric mean\n",
        "### weighted arithmetic mean"
      ],
      "metadata": {
        "id": "v_4bM0zPQRGC"
      }
    },
    {
      "cell_type": "code",
      "source": [
        "def Combined_Similarity_Score(Repeat_Unit_Similarity_Score = None,\n",
        "                              Repeat_Unit_Weight = 0.5,\n",
        "                              Graph_Similarity_Score = None,\n",
        "                              Graph_Weight = 0.5,\n",
        "                              End_Group_Similarity_Score = None,\n",
        "                              End_Group_Weight = 0.0,\n",
        "                              Mean_Function = 'arithmetic'):\n",
        "  \n",
        "    # Verify whether the weight sum is normalized.\n",
        "    if  abs(Repeat_Unit_Weight + Graph_Weight +  End_Group_Weight -1 ) >=0.000000000001:\n",
        "        print(\"Weight Sum is not normalized.\")\n",
        "        return False\n",
        "\n",
        "    # Not consider the end group\n",
        "    if End_Group_Similarity_Score == None:\n",
        "\n",
        "        if Mean_Function == 'arithmetic':\n",
        "            combined_similarity_score = (Repeat_Unit_Weight * Repeat_Unit_Similarity_Score + Graph_Weight * Graph_Similarity_Score)\n",
        "\n",
        "        elif Mean_Function == 'geometric':\n",
        "            combined_similarity_score = pow(Repeat_Unit_Similarity_Score,Repeat_Unit_Weight)*pow(Graph_Similarity_Score,Graph_Weight)\n",
        "\n",
        "        else:\n",
        "            print(\"Your input mean function \", Mean_Function, \" is not implemented, please choose those implemented mean function, like arithmetic, geometric\")\n",
        "    \n",
        "    # consider the end group\n",
        "    else:\n",
        "      \n",
        "        if Mean_Function == 'arithmetic':\n",
        "            combined_similarity_score = Repeat_Unit_Weight * Repeat_Unit_Similarity_Score + Graph_Weight * Graph_Similarity_Score + End_Group_Weight * End_Group_Similarity_Score\n",
        "\n",
        "        elif Mean_Function == 'geometric':\n",
        "            combined_similarity_score = pow(Repeat_Unit_Similarity_Score,Repeat_Unit_Weight)*pow(Graph_Similarity_Score,Graph_Weight)*pow(End_Group_Similarity_Score, End_Group_Weight)\n",
        "\n",
        "        else:\n",
        "            print(\"Your input mean function \", Mean_Function, \" is not implemented, please choose those implemented mean function, like arithmetic, geometric\")\n",
        "            \n",
        "    return combined_similarity_score\n"
      ],
      "metadata": {
        "id": "ZJKjYPi9KynA"
      },
      "execution_count": null,
      "outputs": []
    },
    {
      "cell_type": "markdown",
      "source": [
        "## Overall pairwise similarity score $S_{\\rm OA}$ between the query polymer and the target polymer"
      ],
      "metadata": {
        "id": "7bdTaiEZQelj"
      }
    },
    {
      "cell_type": "code",
      "source": [
        "def Similarity_Score_Two_Polymer(query = None,\n",
        "                                 target = None,\n",
        "                                 embedding_function = 'RDKFingerprint', #Embedding function\n",
        "                                 similarity_score_function = 'Tanimoto', # Similarity function for two vectors\n",
        "                                 alpha=1, #reduced parameter for the exponential decay function\n",
        "                                 Repeat_Unit_Weight=0.5,\n",
        "                                 Graph_Weight=0.5,\n",
        "                                 End_Group_Weight = 0.0,\n",
        "                                 Mean_Function = 'geometric',\n",
        "                                 details_print = False,\n",
        "                                 return_with_components = False):\n",
        "\n",
        "    if query == None or target == None:\n",
        "        print (\"Either query polymer or target polymer is missing! Please check the input.\")\n",
        "        return False\n",
        "    S_repeat_unit = Similarity_Score_EMD(query_smiles_list = query.repeat_unit_smiles_list, \n",
        "                     query_smiles_weight_list = query.repeat_unit_smiles_weight_list, \n",
        "                     target_smiles_list = target.repeat_unit_smiles_list, \n",
        "                     target_smiles_weight_list = target.repeat_unit_smiles_weight_list,\t\n",
        "                     embedding_function = embedding_function,\n",
        "                     similarity_score_function = similarity_score_function)\n",
        "    \n",
        "    S_graph = Similarity_Score_Graph_Edit_Distance(Graph1=query.graph_representation, \n",
        "                                                   Graph2=target.graph_representation, \n",
        "                                                   alpha=alpha)\n",
        "\n",
        "    S_end_group = 1.0\n",
        "\n",
        "    if len(query.end_group_smiles_list) == 0 and  len(target.end_group_smiles_list) == 0:\n",
        "        S_end_group = 1.0\n",
        "    \n",
        "    elif (len(query.end_group_smiles_list) == 0 and len(target.end_group_smiles_list) != 0 ) or (len(query.end_group_smiles_list) != 0 and len(target.end_group_smiles_list) == 0 ):\n",
        "        S_end_group = 0.05\n",
        "\n",
        "    else: \n",
        "\n",
        "        S_end_group = Similarity_Score_EMD(query_smiles_list = query.end_group_smiles_list, \n",
        "                     query_smiles_weight_list = query.end_group_smiles_weight_list, \n",
        "                     target_smiles_list = target.end_group_smiles_list, \n",
        "                     target_smiles_weight_list = target.end_group_smiles_weight_list,\t\n",
        "                     embedding_function = embedding_function,\n",
        "                     similarity_score_function = similarity_score_function)\n",
        "            \n",
        "    S_combined = Combined_Similarity_Score(Repeat_Unit_Similarity_Score=S_repeat_unit ,\n",
        "                                       Repeat_Unit_Weight=Repeat_Unit_Weight,\n",
        "                                       Graph_Similarity_Score=S_graph,\n",
        "                                       Graph_Weight=Graph_Weight,\n",
        "                                       End_Group_Similarity_Score = S_end_group,\n",
        "                                       End_Group_Weight = End_Group_Weight,\n",
        "                                       Mean_Function = Mean_Function)\n",
        "        \n",
        "    if details_print == True:\n",
        "            print(\"Details of the Similarity Score:\\n\")\n",
        "            print(\"Similarity score on Repeating Unit = \", S_repeat_unit, \", Weight for Repeating Unit = \", Repeat_Unit_Weight)\n",
        "            print(\"Similarity score on Graph = \", S_graph, \", Weight for Graph = \", Graph_Weight)\n",
        "            print(\"Similarity score on End Group = \", S_end_group, \", Weight for End Group = \", End_Group_Weight )\n",
        "            print(\"Overall Pairwise Similarity score Combined in \" + Mean_Function + \" mean = \", S_combined)\n",
        "            print(\"\\n\")\n",
        "    if return_with_components == True:\n",
        "        return S_combined, S_repeat_unit, S_graph, S_end_group\n",
        "\n",
        "    return S_combined     \n"
      ],
      "metadata": {
        "id": "tnGFkpht12nw"
      },
      "execution_count": null,
      "outputs": []
    },
    {
      "cell_type": "markdown",
      "source": [
        "# Define Polymer Class for import Polymer data\n",
        "\n",
        "## (1) Repeat Units SMILES and Weights\n",
        "## (2) End Group SMILES and Weights\n",
        "## (3) Topological Graph Representation"
      ],
      "metadata": {
        "id": "bijKjSMqQ-gw"
      }
    },
    {
      "cell_type": "code",
      "source": [
        "class Polymer:\n",
        "  def __init__(self, \n",
        "               repeat_unit_smiles_list= None, \n",
        "               repeat_unit_smiles_weight_list= None, \n",
        "               end_group_smiles_list= None, \n",
        "               end_group_smiles_weight_list= None,\n",
        "               graph_representation= None):\n",
        "    \n",
        "      if  repeat_unit_smiles_list == None:\n",
        "          print(\"Error: Repeat unit SMILES are missing. Please define the repeat unit SMILES.\") \n",
        "          return \n",
        "\n",
        "      else: \n",
        "          self.repeat_unit_smiles_list = repeat_unit_smiles_list\n",
        "      \n",
        "\n",
        "      if repeat_unit_smiles_weight_list == None:\n",
        "          print(\"Error: Repeat unit weights are missing. Please re-enter the correct repeat unit weights.\\n\")\n",
        "          return\n",
        "\n",
        "      elif len(repeat_unit_smiles_weight_list) != len(repeat_unit_smiles_list):\n",
        "          print(\"Error: The import repeat unit weights are not correct. Please re-enter the correct repeat unit SMILES and weights.\\n\")\n",
        "          return\n",
        "      else:\n",
        "          self.repeat_unit_smiles_weight_list = repeat_unit_smiles_weight_list\n",
        "\n",
        "      if end_group_smiles_list == None and end_group_smiles_weight_list == None:\n",
        "          self.end_group_smiles_list = []\n",
        "          self.end_group_smiles_weight_list = []\n",
        "          print(\"Notice: The defined Polymer has NO end group.\\nIf this is what you want, this message is NOT Error. \\nOtherwise, please enter the correct End group SMILES and weights.\\n\")\n",
        "\n",
        "      elif (end_group_smiles_list == None and end_group_smiles_weight_list != None) or (end_group_smiles_list != None and end_group_smiles_weight_list == None):\n",
        "          print(\"Error: End group SMILES and weights are not matching. Please re-enter the correct End group SMILES and weights.\\n\")\n",
        "          return\n",
        "\n",
        "      else:\n",
        "          if len(end_group_smiles_list) != len(end_group_smiles_weight_list):\n",
        "              print(\"Error: End group SMILES and weights are not matching. Please re-enter the correct End group SMILES and weights.\\n\")\n",
        "              return\n",
        "          else:\n",
        "              if len(end_group_smiles_list) ==0 and  len(end_group_smiles_weight_list) ==0:\n",
        "                  print(\"Notice: The defined Polymer has NO end group. \\nIf this is what you want, this message is NOT Error. \\n Otherwise, please enter the correct End group SMILES and weights.\\n\")\n",
        "\n",
        "              self.end_group_smiles_list = end_group_smiles_list\n",
        "              self.end_group_smiles_weight_list = end_group_smiles_weight_list   \n",
        "\n",
        "      if graph_representation == None:\n",
        "          print(\"Error: Topology graph representation is missing. Please define the topology graph representation.\\n\")\n",
        "          return\n",
        "      else:\n",
        "          self.graph_representation = graph_representation"
      ],
      "metadata": {
        "id": "k-I92q5zfd_L"
      },
      "execution_count": null,
      "outputs": []
    },
    {
      "cell_type": "markdown",
      "source": [
        "## Topological graph representations for diblock polymers in Case 1\n",
        "\n",
        "Since four diblock copolymer in Case 1 all share the same topological graph representation, therefore, we only need to define one diblock topological graph representation."
      ],
      "metadata": {
        "id": "S1grgnaPRIqt"
      }
    },
    {
      "cell_type": "code",
      "source": [
        "diblock_top_graph_representation = nx.MultiDiGraph()\n",
        "diblock_top_graph_representation.add_nodes_from([1,2,3,4,5,6,7,8])\n",
        "diblock_top_graph_representation.add_edges_from([(1, 2),(2, 3),(3, 4), (2, 5),(5, 2),(3, 6),(6, 3),(2,7),(7,2),(3,8),(8,3)])\n",
        "nx.draw(diblock_top_graph_representation)\n",
        "print(\"diblock_top_graph_representation number of nodes: \",diblock_top_graph_representation.number_of_nodes())\n",
        "print(\"diblock_top_graph_representation number of edges: \",diblock_top_graph_representation.number_of_edges())"
      ],
      "metadata": {
        "colab": {
          "base_uri": "https://localhost:8080/",
          "height": 553
        },
        "id": "tCJkDjZDfpf9",
        "outputId": "26df0111-b733-4edf-86d7-08ff699f74f7"
      },
      "execution_count": null,
      "outputs": [
        {
          "output_type": "stream",
          "name": "stdout",
          "text": [
            "diblock_top_graph_representation number of nodes:  8\n",
            "diblock_top_graph_representation number of edges:  11\n"
          ]
        },
        {
          "output_type": "display_data",
          "data": {
            "text/plain": [
              "<Figure size 640x480 with 1 Axes>"
            ],
            "image/png": "[encoded data removed]"
          },
          "metadata": {}
        }
      ]
    },
    {
      "cell_type": "markdown",
      "source": [
        "# Define Polymers in Case 1"
      ],
      "metadata": {
        "id": "93332dHdzs9Y"
      }
    },
    {
      "cell_type": "markdown",
      "source": [
        "## Polymer C1-1"
      ],
      "metadata": {
        "id": "eIHJx_8wpS33"
      }
    },
    {
      "cell_type": "code",
      "source": [
        "Polymer_C1_1 = Polymer(repeat_unit_smiles_list = ['*CC(*)C', '*CC(*)c1ccccc1'], \n",
        "                      repeat_unit_smiles_weight_list = [1,1], \n",
        "                      end_group_smiles_list = ['*C(C)(C)C#N','*C(C)(C)C#N'], \n",
        "                      end_group_smiles_weight_list = [1,1], \n",
        "                      graph_representation = diblock_top_graph_representation)"
      ],
      "metadata": {
        "id": "4gg0HbRJzsNw"
      },
      "execution_count": null,
      "outputs": []
    },
    {
      "cell_type": "markdown",
      "source": [
        "## Polymer C1-2"
      ],
      "metadata": {
        "id": "pkO_5dOtpY_E"
      }
    },
    {
      "cell_type": "code",
      "source": [
        "Polymer_C1_2 = Polymer(repeat_unit_smiles_list= ['*CC(*)(C)C(=O)OC','*CC(*)c1ccccc1'], \n",
        "                      repeat_unit_smiles_weight_list = [1,1],\n",
        "                      end_group_smiles_list = ['*C(C)(C)C#N','*C(C)(C)C#N'],\n",
        "                      end_group_smiles_weight_list  = [1,1],\n",
        "                      graph_representation = diblock_top_graph_representation)\n",
        "\n"
      ],
      "metadata": {
        "id": "FUemADZ3SN0d"
      },
      "execution_count": null,
      "outputs": []
    },
    {
      "cell_type": "markdown",
      "source": [
        "## Polymer C1-3"
      ],
      "metadata": {
        "id": "i5-QuC93pa17"
      }
    },
    {
      "cell_type": "code",
      "source": [
        "Polymer_C1_3 = Polymer(repeat_unit_smiles_list= ['*CC(*)C','*CC(*)c1ccc(C(=O)OC)cc1'], \n",
        "                      repeat_unit_smiles_weight_list = [1,1],\n",
        "                      end_group_smiles_list = ['*C(C)(C)C#N','*C(C)(C)C#N'],\n",
        "                      end_group_smiles_weight_list  = [1,1],\n",
        "                      graph_representation = diblock_top_graph_representation)\n"
      ],
      "metadata": {
        "id": "8l7h3jW95f4B"
      },
      "execution_count": null,
      "outputs": []
    },
    {
      "cell_type": "markdown",
      "source": [
        "## Polymer C1-4"
      ],
      "metadata": {
        "id": "wXenNt9Mpctm"
      }
    },
    {
      "cell_type": "code",
      "source": [
        "Polymer_C1_4 = Polymer(repeat_unit_smiles_list= ['*CC(*)(C)C(=O)OC','*CC(*)c1ccc(C(=O)OC)cc1'], \n",
        "                      repeat_unit_smiles_weight_list = [1,1],\n",
        "                      end_group_smiles_list = ['*C(C)(C)C#N','*C(C)(C)C#N'],\n",
        "                      end_group_smiles_weight_list  = [1,1],\n",
        "                      graph_representation = diblock_top_graph_representation)"
      ],
      "metadata": {
        "id": "Ys6CZFuDUtdl"
      },
      "execution_count": null,
      "outputs": []
    },
    {
      "cell_type": "markdown",
      "source": [
        "# Run code to calculate similarity score (test some examples)\n",
        "## Calculate the pairwise similarity score between C1-1 and C1-2"
      ],
      "metadata": {
        "id": "jbS9tSrxzq8Q"
      }
    },
    {
      "cell_type": "code",
      "source": [
        "Similarity_Score_Two_Polymer(query = Polymer_C1_1,\n",
        "                             target = Polymer_C1_2,\n",
        "                             embedding_function = 'MorganFingerprint',\n",
        "                             similarity_score_function = 'Tanimoto',\n",
        "                             alpha=1,\n",
        "                             Repeat_Unit_Weight=0.475,\n",
        "                             Graph_Weight=0.475,\n",
        "                             End_Group_Weight = 0.05,\n",
        "                             Mean_Function = 'geometric',\n",
        "                             details_print=True,\n",
        "                             return_with_components = False)"
      ],
      "metadata": {
        "id": "8p8pHgcmPcg7",
        "colab": {
          "base_uri": "https://localhost:8080/"
        },
        "outputId": "511999bf-88f1-46d0-b46c-41a78fbcc0ba"
      },
      "execution_count": null,
      "outputs": [
        {
          "output_type": "stream",
          "name": "stdout",
          "text": [
            "Details of the Similarity Score:\n",
            "\n",
            "Similarity score on Repeating Unit =  0.5769230769230769 , Weight for Repeating Unit =  0.475\n",
            "Similarity score on Graph =  1.0 , Weight for Graph =  0.475\n",
            "Similarity score on End Group =  1.0 , Weight for End Group =  0.05\n",
            "Overall Pairwise Similarity score Combined in geometric mean =  0.7700714239676517\n",
            "\n",
            "\n"
          ]
        },
        {
          "output_type": "execute_result",
          "data": {
            "text/plain": [
              "0.7700714239676517"
            ]
          },
          "metadata": {},
          "execution_count": 171
        }
      ]
    },
    {
      "cell_type": "markdown",
      "source": [
        "## Calculate the pairwise similarity score between C1-1 and C1-3"
      ],
      "metadata": {
        "id": "m6Y5cyomz8pi"
      }
    },
    {
      "cell_type": "code",
      "source": [
        "Similarity_Score_Two_Polymer(query = Polymer_C1_1,\n",
        "                             target = Polymer_C1_3,\n",
        "                             embedding_function = 'MorganFingerprint',\n",
        "                             similarity_score_function = 'Tanimoto',\n",
        "                             alpha=1,\n",
        "                             Repeat_Unit_Weight=0.475,\n",
        "                             Graph_Weight=0.475,\n",
        "                             End_Group_Weight = 0.05,\n",
        "                             Mean_Function = 'geometric',\n",
        "                             details_print=True,\n",
        "                             return_with_components = False)"
      ],
      "metadata": {
        "colab": {
          "base_uri": "https://localhost:8080/"
        },
        "id": "3UQmmuAt5e2H",
        "outputId": "7b272af6-d966-47e8-91a9-ab0da8329114"
      },
      "execution_count": null,
      "outputs": [
        {
          "output_type": "stream",
          "name": "stdout",
          "text": [
            "Details of the Similarity Score:\n",
            "\n",
            "Similarity score on Repeating Unit =  0.71875 , Weight for Repeating Unit =  0.475\n",
            "Similarity score on Graph =  1.0 , Weight for Graph =  0.475\n",
            "Similarity score on End Group =  1.0 , Weight for End Group =  0.05\n",
            "Overall Pairwise Similarity score Combined in geometric mean =  0.854819621538289\n",
            "\n",
            "\n"
          ]
        },
        {
          "output_type": "execute_result",
          "data": {
            "text/plain": [
              "0.854819621538289"
            ]
          },
          "metadata": {},
          "execution_count": 172
        }
      ]
    },
    {
      "cell_type": "markdown",
      "source": [
        "## Calculate the pairwise similarity score between C1-1 and C1-4"
      ],
      "metadata": {
        "id": "mf_Fp_gV0CUS"
      }
    },
    {
      "cell_type": "code",
      "source": [
        "Similarity_Score_Two_Polymer(query = Polymer_C1_1,\n",
        "                             target = Polymer_C1_4,\n",
        "                             embedding_function = 'MorganFingerprint',\n",
        "                             similarity_score_function = 'Tanimoto',\n",
        "                             alpha=1,\n",
        "                             Repeat_Unit_Weight=0.475,\n",
        "                             Graph_Weight=0.475,\n",
        "                             End_Group_Weight = 0.05,\n",
        "                             Mean_Function = 'geometric',\n",
        "                             details_print=True,\n",
        "                             return_with_components = False)"
      ],
      "metadata": {
        "colab": {
          "base_uri": "https://localhost:8080/"
        },
        "id": "KRB8mUWEdb_u",
        "outputId": "40c84436-b9ba-479e-adae-e4c35bc01f00"
      },
      "execution_count": null,
      "outputs": [
        {
          "output_type": "stream",
          "name": "stdout",
          "text": [
            "Details of the Similarity Score:\n",
            "\n",
            "Similarity score on Repeating Unit =  0.29567307692307687 , Weight for Repeating Unit =  0.475\n",
            "Similarity score on Graph =  1.0 , Weight for Graph =  0.475\n",
            "Similarity score on End Group =  1.0 , Weight for End Group =  0.05\n",
            "Overall Pairwise Similarity score Combined in geometric mean =  0.5605774141216268\n",
            "\n",
            "\n"
          ]
        },
        {
          "output_type": "execute_result",
          "data": {
            "text/plain": [
              "0.5605774141216268"
            ]
          },
          "metadata": {},
          "execution_count": 173
        }
      ]
    },
    {
      "cell_type": "markdown",
      "source": [
        "# Calculate the whole similarity matrix for Polymers in Case 1"
      ],
      "metadata": {
        "id": "0CvXvv8Bx2yX"
      }
    },
    {
      "cell_type": "code",
      "source": [
        "Polymer_C1 = [Polymer_C1_1, Polymer_C1_2, Polymer_C1_3, Polymer_C1_4]"
      ],
      "metadata": {
        "id": "riJpZumorBcY"
      },
      "execution_count": null,
      "outputs": []
    },
    {
      "cell_type": "code",
      "source": [
        "Polymer_C1_RU_matrix =  np.ones([4,4])\n",
        "Polymer_C1_TOP_matrix = np.ones([4,4])\n",
        "Polymer_C1_EG_matrix =  np.ones([4,4])\n",
        "Polymer_C1_OA_matrix = np.ones([4,4])"
      ],
      "metadata": {
        "id": "hZ6mW-U3rsN6"
      },
      "execution_count": null,
      "outputs": []
    },
    {
      "cell_type": "code",
      "source": [
        "for i in range(0,3):\n",
        "    for j in range(i+1,4):\n",
        "        SOAij, SRUij, STOPij, SEGij = Similarity_Score_Two_Polymer(query = Polymer_C1[i],\n",
        "                             target = Polymer_C1[j],\n",
        "                             embedding_function = 'MorganFingerprint',\n",
        "                             similarity_score_function = 'Tanimoto',\n",
        "                             alpha=1,\n",
        "                             Repeat_Unit_Weight=0.475,\n",
        "                             Graph_Weight=0.475,\n",
        "                             End_Group_Weight = 0.05,\n",
        "                             Mean_Function = 'geometric',\n",
        "                             details_print=False,\n",
        "                             return_with_components = True)\n",
        "        \n",
        "        Polymer_C1_OA_matrix[i,j] = SOAij\n",
        "        Polymer_C1_OA_matrix[j,i] = SOAij\n",
        "\n",
        "\n",
        "        Polymer_C1_RU_matrix[i,j] = SRUij\n",
        "        Polymer_C1_RU_matrix[j,i] = SRUij\n",
        "\n",
        "        Polymer_C1_TOP_matrix[i,j] = STOPij\n",
        "        Polymer_C1_TOP_matrix[j,i] = STOPij\n",
        "\n",
        "        Polymer_C1_EG_matrix[i,j] = SEGij\n",
        "        Polymer_C1_EG_matrix[j,i] = SEGij"
      ],
      "metadata": {
        "id": "mkUp5pS1r1_s"
      },
      "execution_count": null,
      "outputs": []
    },
    {
      "cell_type": "markdown",
      "source": [
        "# Visualize the Similarity Matrix"
      ],
      "metadata": {
        "id": "tXpuWDkUx6jc"
      }
    },
    {
      "cell_type": "code",
      "source": [
        "import seaborn as sns\n",
        "import matplotlib.pyplot as plt"
      ],
      "metadata": {
        "id": "oqnlmFD1tTn4"
      },
      "execution_count": null,
      "outputs": []
    },
    {
      "cell_type": "markdown",
      "source": [
        "##     $S_{\\rm RU}$"
      ],
      "metadata": {
        "id": "wY3wGH6gyALM"
      }
    },
    {
      "cell_type": "code",
      "source": [
        "fig, ax = plt.subplots(figsize=(6,6),sharey=True )\n",
        "\n",
        "x_labels = [\"C1-1\", \"C1-2\", \"C1-3\", \"C1-4\" ]\n",
        "y_labels = [\"C1-1\", \"C1-2\", \"C1-3\", \"C1-4\"]\n",
        "\n",
        "sns.heatmap(Polymer_C1_RU_matrix, linewidth=0.3, annot=True, fmt=\".2f\" , cmap=\"Blues\", cbar_kws={'label': 'Similarity Score'})\n",
        "ax.set_title(r\"$S_{RU}$\", fontsize=20)\n",
        "ax.set_xticklabels(x_labels, rotation=0, fontsize = 15,horizontalalignment='center')\n",
        "ax.set_yticklabels(y_labels, rotation=360, fontsize = 15, horizontalalignment='right')\n",
        "ax.set_xlabel(r\"$\\lambda_1$\", size =24)\n",
        "ax.set_ylabel(r\"$\\lambda_2$\", size = 24)\n",
        "\n",
        "plt.show()"
      ],
      "metadata": {
        "colab": {
          "base_uri": "https://localhost:8080/",
          "height": 601
        },
        "id": "GZcQ4V1kubb_",
        "outputId": "429bf734-9968-4bd8-aba7-8438584bfe9b"
      },
      "execution_count": null,
      "outputs": [
        {
          "output_type": "display_data",
          "data": {
            "text/plain": [
              "<Figure size 600x600 with 2 Axes>"
            ],
            "image/png": "[encoded data removed]"
          },
          "metadata": {}
        }
      ]
    },
    {
      "cell_type": "markdown",
      "source": [
        "##     $S_{\\rm TOP}$"
      ],
      "metadata": {
        "id": "j9w3qcrcyI70"
      }
    },
    {
      "cell_type": "code",
      "source": [
        "fig, ax = plt.subplots(figsize=(6,6),sharey=True )\n",
        "\n",
        "x_labels = [\"C1-1\", \"C1-2\", \"C1-3\", \"C1-4\" ]\n",
        "y_labels = [\"C1-1\", \"C1-2\", \"C1-3\", \"C1-4\"]\n",
        "\n",
        "sns.heatmap(Polymer_C1_TOP_matrix, linewidth=0.3, annot=True, fmt=\".2f\" , cmap=\"Blues\", cbar_kws={'label': 'Similarity Score'})\n",
        "ax.set_title(r\"$S_{TOP}$\", fontsize=20)\n",
        "ax.set_xticklabels(x_labels, rotation=0, fontsize = 15,horizontalalignment='center')\n",
        "ax.set_yticklabels(y_labels, rotation=360, fontsize = 15, horizontalalignment='right')\n",
        "ax.set_xlabel(r\"$\\lambda_1$\", size =24)\n",
        "ax.set_ylabel(r\"$\\lambda_2$\", size = 24)\n",
        "\n",
        "plt.show()"
      ],
      "metadata": {
        "colab": {
          "base_uri": "https://localhost:8080/",
          "height": 601
        },
        "id": "ThI0SatduqXc",
        "outputId": "4a8d8d24-0a80-4a41-96e9-55b0c0cdb149"
      },
      "execution_count": null,
      "outputs": [
        {
          "output_type": "display_data",
          "data": {
            "text/plain": [
              "<Figure size 600x600 with 2 Axes>"
            ],
            "image/png": "[encoded data removed]"
          },
          "metadata": {}
        }
      ]
    },
    {
      "cell_type": "markdown",
      "source": [
        "##     $S_{\\rm EG}$"
      ],
      "metadata": {
        "id": "EwMscKpDyLED"
      }
    },
    {
      "cell_type": "code",
      "source": [
        "fig, ax = plt.subplots(figsize=(6,6),sharey=True )\n",
        "\n",
        "x_labels = [\"C1-1\", \"C1-2\", \"C1-3\", \"C1-4\" ]\n",
        "y_labels = [\"C1-1\", \"C1-2\", \"C1-3\", \"C1-4\"]\n",
        "\n",
        "sns.heatmap(Polymer_C1_EG_matrix, linewidth=0.3, annot=True, fmt=\".2f\" , cmap=\"Blues\", cbar_kws={'label': 'Similarity Score'})\n",
        "ax.set_title(r\"$S_{EG}$\", fontsize=20)\n",
        "ax.set_xticklabels(x_labels, rotation=0, fontsize = 15,horizontalalignment='center')\n",
        "ax.set_yticklabels(y_labels, rotation=360, fontsize = 15, horizontalalignment='right')\n",
        "ax.set_xlabel(r\"$\\lambda_1$\", size =24)\n",
        "ax.set_ylabel(r\"$\\lambda_2$\", size = 24)\n",
        "\n",
        "plt.show()"
      ],
      "metadata": {
        "colab": {
          "base_uri": "https://localhost:8080/",
          "height": 601
        },
        "id": "QyWxtuHhxq4q",
        "outputId": "876004e0-3f11-495e-a3c0-5047e770f937"
      },
      "execution_count": null,
      "outputs": [
        {
          "output_type": "display_data",
          "data": {
            "text/plain": [
              "<Figure size 600x600 with 2 Axes>"
            ],
            "image/png": "[encoded data removed]"
          },
          "metadata": {}
        }
      ]
    },
    {
      "cell_type": "markdown",
      "source": [
        "##     $S_{\\rm OA}$"
      ],
      "metadata": {
        "id": "Pe1ealHoyMrq"
      }
    },
    {
      "cell_type": "code",
      "source": [
        "fig, ax = plt.subplots(figsize=(6,6),sharey=True )\n",
        "\n",
        "x_labels = [\"C1-1\", \"C1-2\", \"C1-3\", \"C1-4\" ]\n",
        "y_labels = [\"C1-1\", \"C1-2\", \"C1-3\", \"C1-4\"]\n",
        "\n",
        "sns.heatmap(Polymer_C1_OA_matrix, linewidth=0.3, annot=True, fmt=\".2f\" , cmap=\"Blues\", cbar_kws={'label': 'Similarity Score'})\n",
        "ax.set_title(r\"$S_{OA}$\", fontsize=20)\n",
        "ax.set_xticklabels(x_labels, rotation=0, fontsize = 15,horizontalalignment='center')\n",
        "ax.set_yticklabels(y_labels, rotation=360, fontsize = 15, horizontalalignment='right')\n",
        "ax.set_xlabel(r\"$\\lambda_1$\", size =24)\n",
        "ax.set_ylabel(r\"$\\lambda_2$\", size = 24)\n",
        "\n",
        "plt.show()"
      ],
      "metadata": {
        "colab": {
          "base_uri": "https://localhost:8080/",
          "height": 601
        },
        "id": "JbAgnupdxvOE",
        "outputId": "b2175a85-de4d-49ff-9d6e-132f1cb26aaa"
      },
      "execution_count": null,
      "outputs": [
        {
          "output_type": "display_data",
          "data": {
            "text/plain": [
              "<Figure size 600x600 with 2 Axes>"
            ],
            "image/png": "[encoded data removed]"
          },
          "metadata": {}
        }
      ]
    },
    {
      "cell_type": "code",
      "source": [],
      "metadata": {
        "id": "i8u6EwBlxydt"
      },
      "execution_count": null,
      "outputs": []
    }
  ]
}