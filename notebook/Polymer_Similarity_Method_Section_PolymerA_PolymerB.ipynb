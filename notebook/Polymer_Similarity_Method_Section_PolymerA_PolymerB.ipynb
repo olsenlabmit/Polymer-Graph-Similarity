{
  "nbformat": 4,
  "nbformat_minor": 0,
  "metadata": {
    "colab": {
      "provenance": []
    },
    "kernelspec": {
      "name": "python3",
      "display_name": "Python 3"
    },
    "language_info": {
      "name": "python"
    }
  },
  "cells": [
    {
      "cell_type": "markdown",
      "source": [
        "\n",
        "\n",
        "<a target=\"_blank\" href=\"https://colab.research.google.com/github/olsenlabmit/Polymer-Graph-Similarity/blob/main/notebook/Polymer_Similarity_Method_Section_PolymerA_PolymerB.ipynb\">\n",
        "  <img src=\"https://colab.research.google.com/assets/colab-badge.svg\" alt=\"Open In Colab\"/>\n",
        "</a>"
      ],
      "metadata": {
        "id": "nVg45IXBOyyO"
      }
    },
    {
      "cell_type": "code",
      "source": [
        "# @title Copyright & License (click to expand)\n",
        "# MIT License\n",
        "\n",
        "# Copyright (c) 2022 olsenlabmit\n",
        "\n",
        "# Permission is hereby granted, free of charge, to any person obtaining a copy\n",
        "# of this software and associated documentation files (the \"Software\"), to deal\n",
        "# in the Software without restriction, including without limitation the rights\n",
        "# to use, copy, modify, merge, publish, distribute, sublicense, and/or sell\n",
        "# copies of the Software, and to permit persons to whom the Software is\n",
        "# furnished to do so, subject to the following conditions:\n",
        "\n",
        "# The above copyright notice and this permission notice shall be included in all\n",
        "# copies or substantial portions of the Software.\n",
        "\n",
        "# THE SOFTWARE IS PROVIDED \"AS IS\", WITHOUT WARRANTY OF ANY KIND, EXPRESS OR\n",
        "# IMPLIED, INCLUDING BUT NOT LIMITED TO THE WARRANTIES OF MERCHANTABILITY,\n",
        "# FITNESS FOR A PARTICULAR PURPOSE AND NONINFRINGEMENT. IN NO EVENT SHALL THE\n",
        "# AUTHORS OR COPYRIGHT HOLDERS BE LIABLE FOR ANY CLAIM, DAMAGES OR OTHER\n",
        "# LIABILITY, WHETHER IN AN ACTION OF CONTRACT, TORT OR OTHERWISE, ARISING FROM,\n",
        "# OUT OF OR IN CONNECTION WITH THE SOFTWARE OR THE USE OR OTHER DEALINGS IN THE\n",
        "# SOFTWARE."
      ],
      "metadata": {
        "cellView": "form",
        "id": "9ExWfHqV1EXI"
      },
      "execution_count": 1,
      "outputs": []
    },
    {
      "cell_type": "markdown",
      "source": [
        "# Method Section: The pairwise similarity between Polymer A and Polymer B"
      ],
      "metadata": {
        "id": "_sKD4LKzw0QJ"
      }
    },
    {
      "cell_type": "markdown",
      "source": [
        "This notebook is to perform the calculations and reproduce the results of **Method section** about the calculation of the pairwise similarity between **Polymer A** and **Polymer B** in the manuscript, Jiale Shi, Nathan J. Rebello, Dylan Walsh, Weizhong Zou, Michael E. Deagen, Bruno Salomao Leao, Debra J. Audus, Bradley D. Olsen, \"Quantifying Pairwise Chemical Similarity for Polymers\", submitted."
      ],
      "metadata": {
        "id": "kA0PTW_O3VxE"
      }
    },
    {
      "cell_type": "markdown",
      "source": [
        "# Import and Install Necessary Libraries"
      ],
      "metadata": {
        "id": "-9n8-Ciyiy7G"
      }
    },
    {
      "cell_type": "code",
      "source": [
        "# import necessary libraries available in colab\n",
        "import numpy as np\n",
        "import networkx as nx\n",
        "import matplotlib.pyplot as plt\n",
        "import shutil\n",
        "import sys\n",
        "import os.path\n",
        "\n",
        "# install necessary libraries not available in colab\n",
        "if not shutil.which(\"rdkit\"):\n",
        "    !pip install -q rdkit\n",
        "\n",
        "from rdkit import Chem\n",
        "from rdkit import DataStructs\n",
        "from rdkit.Chem import AllChem\n",
        "from rdkit.Chem import MACCSkeys\n",
        "from rdkit.Chem.AtomPairs import Pairs\n",
        "\n",
        "if not shutil.which(\"pyomo\"):\n",
        "    !pip install -q pyomo\n",
        "    assert(shutil.which(\"pyomo\"))\n",
        "\n",
        "if not (shutil.which(\"cbc\") or os.path.isfile(\"cbc\")):\n",
        "    if \"google.colab\" in sys.modules:\n",
        "        !apt-get install -y -qq coinor-cbc\n",
        "    else:\n",
        "        try:\n",
        "            !conda install -c conda-forge coincbc \n",
        "        except:\n",
        "            pass\n",
        "            \n",
        "assert(shutil.which(\"cbc\") or os.path.isfile(\"cbc\"))\n",
        "    \n",
        "from pyomo.environ import *"
      ],
      "metadata": {
        "id": "psnOpmYlL_sw",
        "colab": {
          "base_uri": "https://localhost:8080/"
        },
        "outputId": "2fcb31b0-f7c2-4790-dbe7-bad4eabfbc0b"
      },
      "execution_count": 2,
      "outputs": [
        {
          "output_type": "stream",
          "name": "stdout",
          "text": [
            "\u001b[2K     \u001b[90m━━━━━━━━━━━━━━━━━━━━━━━━━━━━━━━━━━━━━━━━\u001b[0m \u001b[32m29.4/29.4 MB\u001b[0m \u001b[31m26.2 MB/s\u001b[0m eta \u001b[36m0:00:00\u001b[0m\n",
            "\u001b[2K     \u001b[90m━━━━━━━━━━━━━━━━━━━━━━━━━━━━━━━━━━━━━━━━\u001b[0m \u001b[32m11.0/11.0 MB\u001b[0m \u001b[31m14.8 MB/s\u001b[0m eta \u001b[36m0:00:00\u001b[0m\n",
            "\u001b[2K     \u001b[90m━━━━━━━━━━━━━━━━━━━━━━━━━━━━━━━━━━━━━━━━\u001b[0m \u001b[32m49.6/49.6 KB\u001b[0m \u001b[31m2.4 MB/s\u001b[0m eta \u001b[36m0:00:00\u001b[0m\n",
            "\u001b[?25hSelecting previously unselected package coinor-libcoinutils3v5.\n",
            "(Reading database ... 122349 files and directories currently installed.)\n",
            "Preparing to unpack .../0-coinor-libcoinutils3v5_2.11.4+repack1-1_amd64.deb ...\n",
            "Unpacking coinor-libcoinutils3v5 (2.11.4+repack1-1) ...\n",
            "Selecting previously unselected package coinor-libosi1v5.\n",
            "Preparing to unpack .../1-coinor-libosi1v5_0.108.6+repack1-1_amd64.deb ...\n",
            "Unpacking coinor-libosi1v5 (0.108.6+repack1-1) ...\n",
            "Selecting previously unselected package coinor-libclp1.\n",
            "Preparing to unpack .../2-coinor-libclp1_1.17.5+repack1-1_amd64.deb ...\n",
            "Unpacking coinor-libclp1 (1.17.5+repack1-1) ...\n",
            "Selecting previously unselected package coinor-libcgl1.\n",
            "Preparing to unpack .../3-coinor-libcgl1_0.60.3+repack1-2_amd64.deb ...\n",
            "Unpacking coinor-libcgl1 (0.60.3+repack1-2) ...\n",
            "Selecting previously unselected package coinor-libcbc3.\n",
            "Preparing to unpack .../4-coinor-libcbc3_2.10.3+repack1-1build1_amd64.deb ...\n",
            "Unpacking coinor-libcbc3 (2.10.3+repack1-1build1) ...\n",
            "Selecting previously unselected package coinor-cbc.\n",
            "Preparing to unpack .../5-coinor-cbc_2.10.3+repack1-1build1_amd64.deb ...\n",
            "Unpacking coinor-cbc (2.10.3+repack1-1build1) ...\n",
            "Setting up coinor-libcoinutils3v5 (2.11.4+repack1-1) ...\n",
            "Setting up coinor-libosi1v5 (0.108.6+repack1-1) ...\n",
            "Setting up coinor-libclp1 (1.17.5+repack1-1) ...\n",
            "Setting up coinor-libcgl1 (0.60.3+repack1-2) ...\n",
            "Setting up coinor-libcbc3 (2.10.3+repack1-1build1) ...\n",
            "Setting up coinor-cbc (2.10.3+repack1-1build1) ...\n",
            "Processing triggers for man-db (2.9.1-1) ...\n",
            "Processing triggers for libc-bin (2.31-0ubuntu9.9) ...\n"
          ]
        }
      ]
    },
    {
      "cell_type": "markdown",
      "source": [
        "# Similarity Score Functions"
      ],
      "metadata": {
        "id": "D2aVwhkeZcX8"
      }
    },
    {
      "cell_type": "markdown",
      "source": [
        "## Earth Mover's Distance (EMD) Similarity Function\n",
        "\n",
        "Use the earth mover's distance to compute similarity for repeating units and end groups.\n",
        "\n",
        "\n",
        "$ EMD (P,Q)= \\min_{F}\\sum_{i=1}^{m}\\sum_{j=1}^{n}f_{i,j}d_{i,j}$\n",
        "\n",
        "$ {\\rm subject\\ to\\ } f_{i,j} \\geq 0, {\\rm\\ for\\ any\\ } \\ 1 \\leq i \\leq m, 1 \\leq j \\leq n $\n",
        "\n",
        "$     \\sum_{j=1}^{n}f_{i,j} =w_{pi}, {\\rm for\\ any} \\ 1 \\leq i \\leq m $\n",
        "\n",
        "$     \\sum_{i=1}^{m}f_{i,j} =w_{qj}, {\\rm for\\ any} \\ 1 \\leq j \\leq n $\n",
        "\n",
        "$     \\sum_{i=1}^{m}\\sum_{j=1}^{n}f_{i,j} = \\sum_{i}^{m} w_{pi} = \\sum_{j}^{n} w_{qj} = 1 $ \n",
        "\n",
        "\n",
        "Molecular fragment ensemble $P = \\{(p_1,w_{p_1}) ,(p_2,w_{p_2}),...,(p_i,w_{p_i}),...,(p_m,w_{p_m})\\}$ has $m$ molecular fragments, where $p_i$ is a molecular fragment such as a repeat unit or end group and $w_{p_i}>0$ is the weight, related to the average probability (or frequency, $z$) of the molecular fragment being present in the polymer. Similarly, the second ensemble $Q = {(q_1,w_{q_1}),(q_2,w_{q_2}),...,(q_j,w_{q_j}),...,(q_n,w_{q_n})}$ has $n$ molecular fragments.  The sums of the weights for $P$ and $Q$ are both normalized and equal to one.\n",
        "The distance $d_{i,j}$ is calculated by the converting the pairwise similarity score $s_{i,j}$ between $p_{i}$ and $q_{j}$, where $d_{i,j} = 1 - s_{i,j}$.\n",
        "Transfort flow $f_{i,j}$ represents the amount of weight at $p_i$ which is transported to $q_j$. \n",
        "\n",
        "The EMD linear optimization code  refers to [3.1. Transportation Networks, ND Pyomo Notebook](https://jckantor.github.io/ND-Pyomo-Cookbook/notebooks/03.01-Transportation-Networks.html)\n",
        "\n",
        "Once $EMD (P,Q)$ is calculated, the similarity score between $P$ and $Q$ is, \n",
        "\n",
        "$S(P,Q) = 1- EMD (P,Q)$"
      ],
      "metadata": {
        "id": "HsMcsqU-Pv6Y"
      }
    },
    {
      "cell_type": "code",
      "source": [
        "def Similarity_Score_EMD_Calculation(query_smiles_list = None, \n",
        "                         query_smiles_weight_list = None, \n",
        "                         target_smiles_list = None, \n",
        "                         target_smiles_weight_list = None,\n",
        "                         embedding_function = 'MorganFingerprint', \n",
        "                         similarity_score_function = 'Tanimoto'):\n",
        "  \n",
        "    # obtain the length of query smiles list and target smiles list\n",
        "    query_smiles_list_length = len(query_smiles_list)  \n",
        "\n",
        "    target_smiles_list_length = len(target_smiles_list)\n",
        "    \n",
        "    # check whether the query is identical to the target\n",
        "    if set(query_smiles_list) == set(target_smiles_list):\n",
        "        query_smiles_array = np.array(query_smiles_list)\n",
        "        query_smiles_level_array = np.array(query_smiles_weight_list)\n",
        "        inds_query = query_smiles_array.argsort()\n",
        "        sorted_query_smiles_array = query_smiles_array[inds_query]\n",
        "        sorted_query_smiles_level_array = query_smiles_level_array[inds_query]\n",
        "\n",
        "        target_smiles_array = np.array(target_smiles_list)\n",
        "        target_smiles_level_array = np.array(target_smiles_weight_list)\n",
        "        inds_target = target_smiles_array.argsort()\n",
        "        sorted_target_smiles_array = target_smiles_array[inds_target]\n",
        "        sorted_target_smiles_level_array = target_smiles_level_array[inds_target]\n",
        "\n",
        "        if np.array_equal(sorted_query_smiles_array, sorted_target_smiles_array) and np.array_equal(sorted_query_smiles_level_array, sorted_target_smiles_level_array):\n",
        "            return 1.0\n",
        "\n",
        "        query_smiles_reduced_list = list(set(query_smiles_list))\n",
        "        query_smiles_reduced_list_number = []\n",
        "\n",
        "        for i in range(0, len(query_smiles_reduced_list)):\n",
        "            query_smiles_reduced_list_number_i  = 0\n",
        "            for j in range(0, len(query_smiles_list)):\n",
        "                if query_smiles_reduced_list[i] == query_smiles_list[j]:\n",
        "                    query_smiles_reduced_list_number_i = query_smiles_reduced_list_number_i   + query_smiles_weight_list[j]\n",
        "\n",
        "            query_smiles_reduced_list_number.append(query_smiles_reduced_list_number_i/sum(query_smiles_weight_list))\n",
        "\n",
        "        target_smiles_reduced_list = list(set(target_smiles_list))\n",
        "        target_smiles_reduced_list_number = []\n",
        "\n",
        "        for i in range(0, len(target_smiles_reduced_list)):\n",
        "            target_smiles_reduced_list_number_i  = 0\n",
        "            for j in range(0, len(target_smiles_list)):\n",
        "                if target_smiles_reduced_list[i] == target_smiles_list[j]:\n",
        "                    target_smiles_reduced_list_number_i = target_smiles_reduced_list_number_i   + target_smiles_weight_list[j]\n",
        "\n",
        "            target_smiles_reduced_list_number.append(target_smiles_reduced_list_number_i/sum(target_smiles_weight_list))\n",
        "\n",
        "        if query_smiles_reduced_list_number == target_smiles_reduced_list_number:\n",
        "            return 1.0\n",
        "\n",
        "    # transfer SMILES to fingerprints\n",
        "    if embedding_function == 'RDKFingerprint':    \n",
        "        query_mol_list = [Chem.MolFromSmiles(x) for x in query_smiles_list]\n",
        "        query_fingerprint_list = [Chem.RDKFingerprint(x) for x in query_mol_list]\n",
        "        target_mol_list = [Chem.MolFromSmiles(x) for x in target_smiles_list]\n",
        "        target_fingerprint_list = [Chem.RDKFingerprint(x) for x in target_mol_list]\n",
        "\n",
        "    elif embedding_function == 'MorganFingerprint':    \n",
        "        query_mol_list = [Chem.MolFromSmiles(x) for x in query_smiles_list]\n",
        "        query_fingerprint_list = [AllChem.GetMorganFingerprintAsBitVect(x,2,nBits=2048) for x in query_mol_list]\n",
        "        target_mol_list = [Chem.MolFromSmiles(x) for x in target_smiles_list]\n",
        "        target_fingerprint_list = [AllChem.GetMorganFingerprintAsBitVect(x,2,nBits=2048) for x in target_mol_list]\n",
        "\n",
        "    elif embedding_function == 'MACCSkeys':    \n",
        "        query_mol_list = [Chem.MolFromSmiles(x) for x in query_smiles_list]\n",
        "        query_fingerprint_list = [MACCSkeys.GenMACCSKeys(x) for x in query_mol_list]\n",
        "        target_mol_list = [Chem.MolFromSmiles(x) for x in target_smiles_list]\n",
        "        target_fingerprint_list = [MACCSkeys.GenMACCSKeys(x) for x in target_mol_list]\n",
        "\n",
        "    else:\n",
        "        print(embedding_function + \" is not included in the current vision, please choose an available embedding function:\");\n",
        "        print(\"MorganFingerprint, RDKFingerprint, MACCSkeys.\")\n",
        "        return False         \n",
        "\n",
        "    # define the required three sets\n",
        "    Demand = {} # query\n",
        "    Supply = {} # target\n",
        "    T = {}      # transport flow\n",
        "\n",
        "    # define the weight for SMILES in query, w_i\n",
        "    if len(set(query_smiles_weight_list)) == 1:\n",
        "        for i in range(0, query_smiles_list_length):\n",
        "            Demand[\"P\" + str(i+1)] = 1/query_smiles_list_length\n",
        "\n",
        "    else:\n",
        "        query_weight_sum = sum(query_smiles_weight_list)\n",
        "        for i in range(0, query_smiles_list_length):\n",
        "            Demand[\"P\" + str(i+1)] = query_smiles_weight_list[i]/query_weight_sum\n",
        "\n",
        "    # define weight for SMILES in target, w_j\n",
        "    if len(set(target_smiles_weight_list)) == 1:       \n",
        "        for j in range(0,target_smiles_list_length):\n",
        "            Supply[\"Q\" + str(j+1)] = 1/target_smiles_list_length\n",
        "\n",
        "    else:\n",
        "        target_weight_sum = sum(target_smiles_weight_list)\n",
        "        for j in range(0, target_smiles_list_length):\n",
        "            Supply[\"Q\" + str(j+1)] = target_smiles_weight_list[j]/target_weight_sum\n",
        "\n",
        "    # use similarity function to calculate d_ij\n",
        "    if similarity_score_function == 'Tanimoto':\n",
        "        for i in range(0,query_smiles_list_length):\n",
        "            for j in range(0,target_smiles_list_length):\n",
        "                T[(\"P\" + str(i+1), \"Q\" + str(j+1))] = 1 - DataStructs.FingerprintSimilarity(query_fingerprint_list[i],target_fingerprint_list[j])\n",
        "\n",
        "    elif similarity_score_function == 'Dice':\n",
        "        for i in range(0,query_smiles_list_length):\n",
        "            for j in range(0,target_smiles_list_length):\n",
        "                T[(\"P\" + str(i+1), \"Q\" + str(j+1))] = 1 - DataStructs.FingerprintSimilarity(query_fingerprint_list[i],target_fingerprint_list[j], metric = DataStructs.DiceSimilarity)\n",
        "\n",
        "    elif similarity_score_function == 'Cosine':\n",
        "        for i in range(0,query_smiles_list_length):\n",
        "            for j in range(0,target_smiles_list_length):\n",
        "                T[(\"P\" + str(i+1), \"Q\" + str(j+1))] = 1 - DataStructs.FingerprintSimilarity(query_fingerprint_list[i],target_fingerprint_list[j], metric = DataStructs.CosineSimilarity)\n",
        "                   \n",
        "    else:\n",
        "        print(similarity_score_function + \" is not included in the current vision, please choose an available similarity function:\");\n",
        "        print(\"Tanimoto, Dice, or Cosine\")\n",
        "        return\n",
        "\n",
        "    # linear optimization with pyomo\n",
        "    # step 0: Create an instance of the model\n",
        "    model = ConcreteModel()\n",
        "    model.dual = Suffix(direction=Suffix.IMPORT)\n",
        "\n",
        "    # step 1: define index sets\n",
        "    CUS = list(Demand.keys())\n",
        "    SRC = list(Supply.keys())\n",
        "\n",
        "    # step 2: define the decision \n",
        "    model.x = Var(CUS, SRC, domain = NonNegativeReals)\n",
        "\n",
        "    # step 3: define objective\n",
        "    model.Cost = Objective(\n",
        "    expr = sum([T[c,s]*model.x[c,s] for c in CUS for s in SRC]),\n",
        "    sense = minimize)\n",
        "\n",
        "    # step 4: define constraints\n",
        "    model.src = ConstraintList()\n",
        "    for s in SRC:\n",
        "        model.src.add(sum([model.x[c,s] for c in CUS]) == Supply[s])\n",
        "        \n",
        "    model.dmd = ConstraintList()\n",
        "    for c in CUS:\n",
        "        model.dmd.add(sum([model.x[c,s] for s in SRC]) == Demand[c])\n",
        "\n",
        "    # step 5: solve the model\n",
        "    results = SolverFactory('cbc').solve(model)\n",
        "\n",
        "    if 'ok' == str(results.Solver.status):\n",
        "        SimilarityScore = 1 - model.Cost()\n",
        "        return SimilarityScore\n",
        "        \n",
        "    else:\n",
        "        print(\"No Valid Solution Found\")\n",
        "        return False\n"
      ],
      "metadata": {
        "id": "eOlNnWbfY8Va"
      },
      "execution_count": 3,
      "outputs": []
    },
    {
      "cell_type": "markdown",
      "source": [
        "## Topology Similarity Function\n",
        "\n",
        "Use graph edit distance $GED(g_1, g_2)$ to compute the topological similarity $S_{\\rm TOP}(g_1,g_2)$.\n",
        "\n",
        "$GED(g_1, g_2)$  is computed via a networkx function [graph_edit_distance](https://networkx.org/documentation/stable/reference/algorithms/generated/networkx.algorithms.similarity.graph_edit_distance.html), while the topological similarity score $S_{\\rm TOP}(g_1,g_2)$ in the range of (0,1] is computed via a exponential decay function:\n",
        "\n",
        "\n",
        "$S_{\\rm TOP}(g_1, g_2) = \\exp(-\\frac{\\alpha \\cdot GED(g_1, g_2)}{(N_1 + N_2)/2})$\n",
        "\n",
        "where $N_i$ is the number of nodes in graph $g_i$."
      ],
      "metadata": {
        "id": "fNpt-pIDQLOX"
      }
    },
    {
      "cell_type": "code",
      "source": [
        "def Topology_Similarity_Score_Calculation(Graph1 = None, \n",
        "                         Graph2 = None, \n",
        "                         alpha = 1):\n",
        "    if Graph1 == None:\n",
        "        print(\"Missing Graph1\")\n",
        "        return\n",
        "    if Graph2 == None:\n",
        "        print(\"Missing Graph2\")\n",
        "        return\n",
        "    \n",
        "    \n",
        "    Graph1_number_nodes = Graph1.number_of_nodes() \n",
        "    Graph2_number_nodes = Graph2.number_of_nodes() \n",
        "    \n",
        "    graph_edit_distance = nx.graph_edit_distance(Graph1, Graph2)\n",
        "    \n",
        "    topology_similarity_score = np.exp(-alpha * graph_edit_distance/((Graph1_number_nodes + Graph2_number_nodes)/2))\n",
        "\n",
        "    return topology_similarity_score \n",
        "    "
      ],
      "metadata": {
        "id": "oyUi54M_IorG"
      },
      "execution_count": 4,
      "outputs": []
    },
    {
      "cell_type": "markdown",
      "source": [],
      "metadata": {
        "id": "v_4bM0zPQRGC"
      }
    },
    {
      "cell_type": "markdown",
      "source": [
        "## Weighted Mean Function for Overall Pairwise Similarity Score $S_{\\rm OA}$ \n",
        "\n",
        "From the above EMD and GED calculations, three similarity scores are obtained: $S_{\\rm RU}$  for repeat units, $S_{\\rm EG}$  for end groups, and $S_{\\rm TOP}$   for topology. To calculate the overall similarity score $S_{\\rm OA}$. Two weighted mean functions are provided. \n",
        "\n",
        "1. weighted geometric mean\n",
        "\n",
        "$S_{\\rm OA} =  S_{\\rm RU}^{W_{\\rm RU}} \\cdot S_{\\rm TOP}^{W_{\\rm TOP}} \\cdot S_{\\rm EG}^{W_{\\rm EG}} $ \n",
        "\n",
        "2. weighted arithmetic mean\n",
        "\n",
        "$S_{\\rm OA} =  S_{\\rm RU} \\cdot W_{\\rm RU} + S_{\\rm TOP} \\cdot W_{\\rm TOP} +  S_{\\rm EG} \\cdot W_{\\rm EG} $ \n"
      ],
      "metadata": {
        "id": "7bdTaiEZQelj"
      }
    },
    {
      "cell_type": "code",
      "source": [
        "def Overall_Similarity_Score_Calculation(query = None,\n",
        "                                 target = None,\n",
        "                                 embedding_function = 'RDKFingerprint', \n",
        "                                 similarity_score_function = 'Tanimoto', \n",
        "                                 alpha = 1, \n",
        "                                 Repeat_Unit_Weight  =0.475,\n",
        "                                 Topology_Weight = 0.475,\n",
        "                                 End_Group_Weight = 0.05,\n",
        "                                 Mean_Function = 'geometric',\n",
        "                                 details_print = False,\n",
        "                                 return_with_components = False):\n",
        "\n",
        "    if query == None or target == None:\n",
        "        print (\"Either query polymer or target polymer is missing! Please check the input.\")\n",
        "        return\n",
        "\n",
        "    Repeat_Unit_Similarity_Score = Similarity_Score_EMD_Calculation(\n",
        "        query_smiles_list = query.repeat_unit_smiles_list, \n",
        "        query_smiles_weight_list = query.repeat_unit_smiles_weight_list, \n",
        "        target_smiles_list = target.repeat_unit_smiles_list, \n",
        "        target_smiles_weight_list = target.repeat_unit_smiles_weight_list,\t\n",
        "        embedding_function = embedding_function,\n",
        "        similarity_score_function = similarity_score_function)\n",
        "    \n",
        "    Topology_Similarity_Score = Topology_Similarity_Score_Calculation(\n",
        "        Graph1=query.graph_representation, \n",
        "        Graph2=target.graph_representation, \n",
        "        alpha=alpha)\n",
        "\n",
        "    if len(query.end_group_smiles_list) == 0 and  len(target.end_group_smiles_list) == 0:\n",
        "        End_Group_Similarity_Score = 1.0\n",
        "    \n",
        "    elif (len(query.end_group_smiles_list) == 0 and len(target.end_group_smiles_list) != 0 ) or (len(query.end_group_smiles_list) != 0 and len(target.end_group_smiles_list) == 0 ):\n",
        "        End_Group_Similarity_Score = 1.0\n",
        "\n",
        "    else: \n",
        "        End_Group_Similarity_Score = Similarity_Score_EMD_Calculation(\n",
        "            query_smiles_list = query.end_group_smiles_list, \n",
        "            query_smiles_weight_list = query.end_group_smiles_weight_list, \n",
        "            target_smiles_list = target.end_group_smiles_list, \n",
        "            target_smiles_weight_list = target.end_group_smiles_weight_list,\t\n",
        "            embedding_function = embedding_function,\n",
        "            similarity_score_function = similarity_score_function)\n",
        "        \n",
        "    # verify whether the weight sum is normalized.\n",
        "    if  abs(Repeat_Unit_Weight + Topology_Weight +  End_Group_Weight - 1 ) != 0.0:\n",
        "        Weight_Sum = Repeat_Unit_Weight + Topology_Weight +  End_Group_Weight\n",
        "\n",
        "        Repeat_Unit_Weight = Repeat_Unit_Weight/Weight_Sum\n",
        "\n",
        "        Topology_Weight = Topology_Weight/Weight_Sum\n",
        "\n",
        "        End_Group_Weight = End_Group_Weight/Weight_Sum\n",
        "\n",
        "\n",
        "    if Mean_Function == 'geometric':\n",
        "        Overall_Similarity_Score = pow(Repeat_Unit_Similarity_Score, Repeat_Unit_Weight) * pow(Topology_Similarity_Score, Topology_Weight) * pow(End_Group_Similarity_Score, End_Group_Weight)\n",
        "\n",
        "    elif Mean_Function == 'arithmetic':\n",
        "        Overall_Similarity_Score = Repeat_Unit_Weight * Repeat_Unit_Similarity_Score + Topology_Weight * Topology_Similarity_Score + End_Group_Weight * End_Group_Similarity_Score\n",
        "\n",
        "    else:\n",
        "        print(\"Your input mean function \", Mean_Function, \" is not implemented currently, please choose those implemented mean functions, such as arithmetic, geometric\")\n",
        "        return\n",
        "\n",
        "        \n",
        "    if details_print == True:\n",
        "        print(\"Details of the Similarity Score:\\n\")\n",
        "        print(\"Repeat Unit Similarity Score = \", Repeat_Unit_Similarity_Score, \", Normalized Weight for Repeating Unit = \", Repeat_Unit_Weight)\n",
        "        print(\"Topology Similarity Score = \", Topology_Similarity_Score, \", Normalized Weight for Topology = \", Topology_Weight)\n",
        "        print(\"End Group Similarity  = \", End_Group_Similarity_Score, \", Normalized Weight for End Group = \", End_Group_Weight )\n",
        "        print(\"Overall Pairwise Similarity Score with \" + Mean_Function + \" mean function = \", Overall_Similarity_Score)\n",
        "        print(\"\\n\")\n",
        "\n",
        "    if return_with_components == True:\n",
        "        return Overall_Similarity_Score, Repeat_Unit_Similarity_Score, Topology_Similarity_Score, End_Group_Similarity_Score\n",
        "\n",
        "    return Overall_Similarity_Score     \n"
      ],
      "metadata": {
        "id": "tnGFkpht12nw"
      },
      "execution_count": 5,
      "outputs": []
    },
    {
      "cell_type": "markdown",
      "source": [
        "# Define Polymer Class for Importing Polymer data\n",
        "\n",
        "The polymer graph is decomposed into three components: repeat units, end groups and topology. \n",
        "\n",
        "(I) To compute $S_{\\rm RU}$  for repeat units, we need the polymer's (1) repeat unit SMILES list and (2) corresponding weight list.\n",
        "\n",
        "(II) To compute $S_{\\rm EG}$  for end groups, we need the polymer's (3) end group SMILES list and (4) corresponding weight list.\n",
        "\n",
        "(III) To compute $S_{\\rm TOP}$ for topology, we need the polymers' (5) topological graph representation.\n",
        "\n",
        "Therefore, in the Polymer Class, we have to define the above five elements which are required to perform polymer similarity calculation."
      ],
      "metadata": {
        "id": "bijKjSMqQ-gw"
      }
    },
    {
      "cell_type": "code",
      "source": [
        "class Polymer:\n",
        "  def __init__(self, \n",
        "               repeat_unit_smiles_list = None, \n",
        "               repeat_unit_smiles_weight_list = None, \n",
        "               end_group_smiles_list = None, \n",
        "               end_group_smiles_weight_list = None,\n",
        "               graph_representation = None):\n",
        "    \n",
        "      if  repeat_unit_smiles_list == None:\n",
        "          print(\"Error: Repeat Unit SMILES are missing. Please define the Repeat Unit SMILES.\") \n",
        "          return \n",
        "\n",
        "      else: \n",
        "          self.repeat_unit_smiles_list = repeat_unit_smiles_list\n",
        "      \n",
        "      if repeat_unit_smiles_weight_list == None:\n",
        "          print(\"Error: Repeat Unit weights are missing. Please re-enter the correct Repeat Unit weights.\\n\")\n",
        "          return\n",
        "\n",
        "      elif len(repeat_unit_smiles_weight_list) != len(repeat_unit_smiles_list):\n",
        "          print(\"Error: Repeat Unit weights are not correct. Please re-enter the correct Repeat Unit SMILES and weights.\\n\")\n",
        "          return\n",
        "\n",
        "      else:\n",
        "          self.repeat_unit_smiles_weight_list = repeat_unit_smiles_weight_list\n",
        "\n",
        "      if end_group_smiles_list == None and end_group_smiles_weight_list == None:\n",
        "          self.end_group_smiles_list = []\n",
        "          self.end_group_smiles_weight_list = []\n",
        "          print(\"Notice: The Polymer has NO End Group.\\nIf this is what you want, this message is NOT Error. \\nOtherwise, please enter the correct End Group SMILES and weights.\\n\")\n",
        "\n",
        "      elif (end_group_smiles_list == None and end_group_smiles_weight_list != None) or (end_group_smiles_list != None and end_group_smiles_weight_list == None):\n",
        "          print(\"Error: End Group SMILES and weights are not matching. Please re-enter the correct End Group SMILES and weights.\\n\")\n",
        "          return\n",
        "\n",
        "      else:\n",
        "          if len(end_group_smiles_list) != len(end_group_smiles_weight_list):\n",
        "              print(\"Error: End Group SMILES and weights are not matching. Please re-enter the correct End Group SMILES and weights.\\n\")\n",
        "              return\n",
        "\n",
        "          else:\n",
        "              if len(end_group_smiles_list) == 0 and len(end_group_smiles_weight_list) == 0:\n",
        "                  print(\"Notice: The Polymer has NO End Group. \\nIf this is what you want, this message is NOT Error. \\n Otherwise, please enter the correct End Group SMILES and weights.\\n\")\n",
        "\n",
        "              self.end_group_smiles_list = end_group_smiles_list\n",
        "              self.end_group_smiles_weight_list = end_group_smiles_weight_list   \n",
        "\n",
        "      if graph_representation == None:\n",
        "          print(\"Error: Topology graph representation is missing. Please define the topology graph representation.\\n\")\n",
        "          return\n",
        "\n",
        "      else:\n",
        "          self.graph_representation = graph_representation\n",
        "          "
      ],
      "metadata": {
        "id": "k-I92q5zfd_L"
      },
      "execution_count": 6,
      "outputs": []
    },
    {
      "cell_type": "markdown",
      "source": [
        "# Method Section: The pairwise similarity between Polymer A and Polymer B\n",
        "\n",
        "Method section utilizes Polymer A and Polymer B to illustrate the computation of repeat unit similarity ($S_{\\rm RU}$), end group similarity ($S_{\\rm EG}$), topology similarity ($S_{\\rm TOP}$) and overall similarity ($S_{\\rm OA}$) between Polymer A and Polymer B.\n"
      ],
      "metadata": {
        "id": "vE5C5Cf0zSbF"
      }
    },
    {
      "cell_type": "markdown",
      "source": [
        "# Define Polymer A and Polymer B"
      ],
      "metadata": {
        "id": "93332dHdzs9Y"
      }
    },
    {
      "cell_type": "markdown",
      "source": [
        "## Polymer A\n",
        "\n",
        "<img src=\"https://drive.google.com/uc?export=view&id=1CaQzqPOndNhgvHiQSouFBRo2PFXePBok\"  width=\"50%\">\n"
      ],
      "metadata": {
        "id": "eIHJx_8wpS33"
      }
    },
    {
      "cell_type": "code",
      "source": [
        "Polymer_A_graph_representation = nx.MultiDiGraph()\n",
        "Polymer_A_graph_representation.add_nodes_from([\"E1\",\"D1\",\"R1\",\"R2\"])\n",
        "Polymer_A_graph_representation.add_edges_from([(\"E1\", \"D1\"),(\"D1\", \"R1\"),(\"R1\", \"D1\"), (\"D1\", \"R2\"),(\"R2\", \"D1\")])\n",
        "nx.draw(Polymer_A_graph_representation)\n",
        "print(\"Polymer_A_graph_representation number of nodes: \", Polymer_A_graph_representation.number_of_nodes())\n",
        "print(\"Polymer_A_graph_representation number of edges: \", Polymer_A_graph_representation.number_of_edges())\n",
        "\n",
        "Polymer_A = Polymer(repeat_unit_smiles_list = [\"*CC(C)O*\",\"*CCO*\"],\n",
        "                      repeat_unit_smiles_weight_list = [1,1], \n",
        "                      end_group_smiles_list = ['OCCO*'], \n",
        "                      end_group_smiles_weight_list = [1], \n",
        "                      graph_representation = Polymer_A_graph_representation)"
      ],
      "metadata": {
        "id": "4gg0HbRJzsNw",
        "colab": {
          "base_uri": "https://localhost:8080/",
          "height": 552
        },
        "outputId": "4f3fb88d-0702-47e2-ed44-954773266153"
      },
      "execution_count": 7,
      "outputs": [
        {
          "output_type": "stream",
          "name": "stdout",
          "text": [
            "Polymer_A_graph_representation number of nodes:  4\n",
            "Polymer_A_graph_representation number of edges:  5\n"
          ]
        },
        {
          "output_type": "display_data",
          "data": {
            "text/plain": [
              "<Figure size 640x480 with 1 Axes>"
            ],
            "image/png": "[encoded data removed]"
          },
          "metadata": {}
        }
      ]
    },
    {
      "cell_type": "markdown",
      "source": [
        "## Polymer B\n",
        "\n",
        "<img src=\"https://drive.google.com/uc?export=view&id=1cvb8M9Cx732BHGVpb1iQ9VOOPTjfwx3G\"  width=\"50%\">"
      ],
      "metadata": {
        "id": "pkO_5dOtpY_E"
      }
    },
    {
      "cell_type": "code",
      "source": [
        "Polymer_B_graph_representation = nx.MultiDiGraph()\n",
        "Polymer_B_graph_representation.add_nodes_from([\"E1\",\"D1\",\"R1\",\"R1'\",\"D2\",\"R2\",\"R2'\"])\n",
        "Polymer_B_graph_representation.add_edges_from([(\"E1\", \"D1\"),(\"D1\", \"R1\"),(\"R1\", \"D1\"), (\"D1\", \"R1'\"),(\"R1'\", \"D1\"),\n",
        "                                               (\"D1\",\"D2\"),(\"D2\",\"R2\"),(\"R2\",\"D2\"),(\"D2\",\"R2'\"),(\"R2'\",\"D2\")])\n",
        "nx.draw(Polymer_B_graph_representation)\n",
        "print(\"Polymer_B_graph_representation number of nodes: \", Polymer_B_graph_representation.number_of_nodes())\n",
        "print(\"Polymer_B_graph_representation number of edges: \", Polymer_B_graph_representation.number_of_edges())\n",
        "\n",
        "Polymer_B = Polymer(repeat_unit_smiles_list= [\"*CC(CC)*\",\"*CC(C)*\"], \n",
        "                      repeat_unit_smiles_weight_list = [1,1],\n",
        "                      end_group_smiles_list = ['CCC(C)*'],\n",
        "                      end_group_smiles_weight_list  = [1],\n",
        "                      graph_representation = Polymer_B_graph_representation)"
      ],
      "metadata": {
        "id": "FUemADZ3SN0d",
        "colab": {
          "base_uri": "https://localhost:8080/",
          "height": 552
        },
        "outputId": "b57c4bba-aed8-48b3-d30f-2aab52674fdb"
      },
      "execution_count": 8,
      "outputs": [
        {
          "output_type": "stream",
          "name": "stdout",
          "text": [
            "Polymer_B_graph_representation number of nodes:  7\n",
            "Polymer_B_graph_representation number of edges:  10\n"
          ]
        },
        {
          "output_type": "display_data",
          "data": {
            "text/plain": [
              "<Figure size 640x480 with 1 Axes>"
            ],
            "image/png": "[encoded data removed]"
          },
          "metadata": {}
        }
      ]
    },
    {
      "cell_type": "markdown",
      "source": [
        "# Calculate Similarity Scores\n",
        "## Calculate the Pairwise Similarity Score between Polymer A and Polymer B"
      ],
      "metadata": {
        "id": "jbS9tSrxzq8Q"
      }
    },
    {
      "cell_type": "markdown",
      "source": [
        "### Geometric Mean"
      ],
      "metadata": {
        "id": "25cY2LqC-PO7"
      }
    },
    {
      "cell_type": "code",
      "source": [
        "Overall_Similarity_Score_Calculation(query = Polymer_A,\n",
        "                             target = Polymer_B,\n",
        "                             embedding_function = 'MorganFingerprint',\n",
        "                             similarity_score_function = 'Tanimoto',\n",
        "                             alpha = 1,\n",
        "                             Repeat_Unit_Weight = 0.475,\n",
        "                             Topology_Weight = 0.475,\n",
        "                             End_Group_Weight = 0.05,\n",
        "                             Mean_Function = 'geometric',\n",
        "                             details_print = True,\n",
        "                             return_with_components = False)"
      ],
      "metadata": {
        "id": "8p8pHgcmPcg7",
        "colab": {
          "base_uri": "https://localhost:8080/"
        },
        "outputId": "72c0e8f0-1851-4961-db7e-1fe0422550a3"
      },
      "execution_count": 9,
      "outputs": [
        {
          "output_type": "stream",
          "name": "stdout",
          "text": [
            "Details of the Similarity Score:\n",
            "\n",
            "Repeat Unit Similarity Score =  0.2773109243697478 , Normalized Weight for Repeating Unit =  0.475\n",
            "Topology Similarity Score =  0.23350647909091338 , Normalized Weight for Topology =  0.475\n",
            "End Group Similarity  =  0.09999999999999998 , Normalized Weight for End Group =  0.05\n",
            "Overall Pairwise Similarity Score with geometric mean function =  0.24285738204797738\n",
            "\n",
            "\n"
          ]
        },
        {
          "output_type": "execute_result",
          "data": {
            "text/plain": [
              "0.24285738204797738"
            ]
          },
          "metadata": {},
          "execution_count": 9
        }
      ]
    },
    {
      "cell_type": "markdown",
      "source": [
        "### Arithmetic Mean"
      ],
      "metadata": {
        "id": "DVQ552c5-VCA"
      }
    },
    {
      "cell_type": "code",
      "source": [
        "Overall_Similarity_Score_Calculation(query = Polymer_A,\n",
        "                             target = Polymer_B,\n",
        "                             embedding_function = 'MorganFingerprint',\n",
        "                             similarity_score_function = 'Tanimoto',\n",
        "                             alpha = 1,\n",
        "                             Repeat_Unit_Weight = 0.475,\n",
        "                             Topology_Weight = 0.475,\n",
        "                             End_Group_Weight = 0.05,\n",
        "                             Mean_Function = 'arithmetic',\n",
        "                             details_print = True,\n",
        "                             return_with_components = False)"
      ],
      "metadata": {
        "id": "i8u6EwBlxydt",
        "colab": {
          "base_uri": "https://localhost:8080/"
        },
        "outputId": "0b73e3dc-d16a-44c6-b44a-9a1cb977c0d8"
      },
      "execution_count": 10,
      "outputs": [
        {
          "output_type": "stream",
          "name": "stdout",
          "text": [
            "Details of the Similarity Score:\n",
            "\n",
            "Repeat Unit Similarity Score =  0.2773109243697478 , Normalized Weight for Repeating Unit =  0.475\n",
            "Topology Similarity Score =  0.23350647909091338 , Normalized Weight for Topology =  0.475\n",
            "End Group Similarity  =  0.09999999999999998 , Normalized Weight for End Group =  0.05\n",
            "Overall Pairwise Similarity Score with arithmetic mean function =  0.24763826664381405\n",
            "\n",
            "\n"
          ]
        },
        {
          "output_type": "execute_result",
          "data": {
            "text/plain": [
              "0.24763826664381405"
            ]
          },
          "metadata": {},
          "execution_count": 10
        }
      ]
    },
    {
      "cell_type": "code",
      "source": [],
      "metadata": {
        "id": "702_fc7O9vmm"
      },
      "execution_count": 10,
      "outputs": []
    }
  ]
}