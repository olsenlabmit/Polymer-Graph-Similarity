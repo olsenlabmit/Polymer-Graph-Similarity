{
  "nbformat": 4,
  "nbformat_minor": 0,
  "metadata": {
    "colab": {
      "provenance": []
    },
    "kernelspec": {
      "name": "python3",
      "display_name": "Python 3"
    },
    "language_info": {
      "name": "python"
    }
  },
  "cells": [
    {
      "cell_type": "markdown",
      "source": [
        "[Open in Colab](https://colab.research.google.com/drive/1NTrkONsD_7LAJY0onshgfX1xjwjoWNAA?usp=sharing)"
      ],
      "metadata": {
        "id": "VNUSGKsF2m41"
      }
    },
    {
      "cell_type": "markdown",
      "source": [
        "# 1. Imports Necessary Library"
      ],
      "metadata": {
        "id": "-9n8-Ciyiy7G"
      }
    },
    {
      "cell_type": "code",
      "source": [
        "import numpy as np\n",
        "import networkx as nx\n",
        "import matplotlib.pyplot as plt\n",
        "import shutil\n",
        "import sys\n",
        "import os.path\n",
        "\n",
        "#necessary library\n",
        "!pip install -q rdkit\n",
        "from rdkit import Chem\n",
        "from rdkit import DataStructs\n",
        "from rdkit.Chem import AllChem\n",
        "from rdkit.Chem import MACCSkeys\n",
        "from rdkit.Chem.AtomPairs import Pairs\n",
        "\n",
        "\n",
        "if not shutil.which(\"pyomo\"):\n",
        "    !pip install -q pyomo\n",
        "    assert(shutil.which(\"pyomo\"))\n",
        "\n",
        "if not (shutil.which(\"cbc\") or os.path.isfile(\"cbc\")):\n",
        "    if \"google.colab\" in sys.modules:\n",
        "        !apt-get install -y -qq coinor-cbc\n",
        "        print(\"install cbc\")\n",
        "    else:\n",
        "        try:\n",
        "            !conda install -c conda-forge coincbc \n",
        "            print(\"install cbc-2\")\n",
        "        except:\n",
        "            print(\"skip cbc\")\n",
        "            pass\n",
        "            \n",
        "\n",
        "assert(shutil.which(\"cbc\") or os.path.isfile(\"cbc\"))\n",
        "    \n",
        "from pyomo.environ import *"
      ],
      "metadata": {
        "id": "psnOpmYlL_sw",
        "colab": {
          "base_uri": "https://localhost:8080/"
        },
        "outputId": "52fb334f-fb67-47e7-d71a-a174ab2c0ae1"
      },
      "execution_count": null,
      "outputs": [
        {
          "output_type": "stream",
          "name": "stdout",
          "text": [
            "\u001b[K     |████████████████████████████████| 29.3 MB 1.4 MB/s \n",
            "\u001b[K     |████████████████████████████████| 11.1 MB 11.5 MB/s \n",
            "\u001b[K     |████████████████████████████████| 49 kB 7.0 MB/s \n",
            "\u001b[?25hSelecting previously unselected package coinor-libcoinutils3v5.\n",
            "(Reading database ... 124016 files and directories currently installed.)\n",
            "Preparing to unpack .../0-coinor-libcoinutils3v5_2.10.14+repack1-1_amd64.deb ...\n",
            "Unpacking coinor-libcoinutils3v5 (2.10.14+repack1-1) ...\n",
            "Selecting previously unselected package coinor-libosi1v5.\n",
            "Preparing to unpack .../1-coinor-libosi1v5_0.107.9+repack1-1_amd64.deb ...\n",
            "Unpacking coinor-libosi1v5 (0.107.9+repack1-1) ...\n",
            "Selecting previously unselected package coinor-libclp1.\n",
            "Preparing to unpack .../2-coinor-libclp1_1.16.11+repack1-1_amd64.deb ...\n",
            "Unpacking coinor-libclp1 (1.16.11+repack1-1) ...\n",
            "Selecting previously unselected package coinor-libcgl1.\n",
            "Preparing to unpack .../3-coinor-libcgl1_0.59.10+repack1-1_amd64.deb ...\n",
            "Unpacking coinor-libcgl1 (0.59.10+repack1-1) ...\n",
            "Selecting previously unselected package coinor-libcbc3.\n",
            "Preparing to unpack .../4-coinor-libcbc3_2.9.9+repack1-1_amd64.deb ...\n",
            "Unpacking coinor-libcbc3 (2.9.9+repack1-1) ...\n",
            "Selecting previously unselected package coinor-cbc.\n",
            "Preparing to unpack .../5-coinor-cbc_2.9.9+repack1-1_amd64.deb ...\n",
            "Unpacking coinor-cbc (2.9.9+repack1-1) ...\n",
            "Setting up coinor-libcoinutils3v5 (2.10.14+repack1-1) ...\n",
            "Setting up coinor-libosi1v5 (0.107.9+repack1-1) ...\n",
            "Setting up coinor-libclp1 (1.16.11+repack1-1) ...\n",
            "Setting up coinor-libcgl1 (0.59.10+repack1-1) ...\n",
            "Setting up coinor-libcbc3 (2.9.9+repack1-1) ...\n",
            "Setting up coinor-cbc (2.9.9+repack1-1) ...\n",
            "Processing triggers for man-db (2.8.3-2ubuntu0.1) ...\n",
            "Processing triggers for libc-bin (2.27-3ubuntu1.6) ...\n",
            "install cbc\n"
          ]
        }
      ]
    },
    {
      "cell_type": "markdown",
      "source": [
        "# 2. Similarity Score Function"
      ],
      "metadata": {
        "id": "D2aVwhkeZcX8"
      }
    },
    {
      "cell_type": "markdown",
      "source": [
        "## 2.1. Similarity score of earth mover's distance for repeating units ensemble and end group ensemble "
      ],
      "metadata": {
        "id": "HsMcsqU-Pv6Y"
      }
    },
    {
      "cell_type": "code",
      "source": [
        "#from pyomo.common.fileutils import Executable\n",
        "def Similarity_Score_EMD(query_smiles_list = None, \n",
        "                         query_smiles_level_list = None, \n",
        "                         target_smiles_list = None, \n",
        "                         target_smiles_level_list = None,\n",
        "                         #level_weight = False,\n",
        "                         #level_ratio = 3,\n",
        "                         embedding_function = 'MorganFingerprint', #\n",
        "                         similarity_score_function = 'Tanimoto', # Dice, Cosine\n",
        "                         restrain_emd = False):\n",
        "  \n",
        "    #obtain the length of query smiles list and target smiles list\n",
        "    if query_smiles_list != None:\n",
        "        query_smiles_list_length = len(query_smiles_list)\n",
        "    else:\n",
        "        print (\"Missing query smiles list\")\n",
        "        return    \n",
        "\n",
        "    if target_smiles_list != None:\n",
        "        target_smiles_list_length = len(target_smiles_list)\n",
        "    else:\n",
        "        print (\"Missing target smiles list\")\n",
        "        return\n",
        "    \n",
        "    if set(query_smiles_list) == set(target_smiles_list):\n",
        "        query_smiles_array = np.array(query_smiles_list)\n",
        "        query_smiles_level_array = np.array(query_smiles_level_list)\n",
        "        inds_query = query_smiles_array.argsort()\n",
        "        sorted_query_smiles_array = query_smiles_array[inds_query]\n",
        "        sorted_query_smiles_level_array = query_smiles_level_array[inds_query]\n",
        "\n",
        "        target_smiles_array = np.array(target_smiles_list)\n",
        "        target_smiles_level_array = np.array(target_smiles_level_list)\n",
        "        inds_target = target_smiles_array.argsort()\n",
        "        sorted_target_smiles_array = target_smiles_array[inds_target]\n",
        "        sorted_target_smiles_level_array = target_smiles_level_array[inds_target]\n",
        "\n",
        "        if np.array_equal(sorted_query_smiles_array, sorted_target_smiles_array) and np.array_equal(sorted_query_smiles_level_array, sorted_target_smiles_level_array):\n",
        "            return 1\n",
        "\n",
        "        query_smiles_reduced_list = list(set(query_smiles_list))\n",
        "        query_smiles_reduced_list_number = []\n",
        "        for i in range(0, len(query_smiles_reduced_list)):\n",
        "            query_smiles_reduced_list_number_i  = 0\n",
        "            for j in range(0, len(query_smiles_list)):\n",
        "                if query_smiles_reduced_list[i] == query_smiles_list[j]:\n",
        "                    query_smiles_reduced_list_number_i = query_smiles_reduced_list_number_i   + query_smiles_level_list[j]\n",
        "            query_smiles_reduced_list_number.append(query_smiles_reduced_list_number_i/sum(query_smiles_level_list))\n",
        "\n",
        "        target_smiles_reduced_list = list(set(target_smiles_list))\n",
        "        target_smiles_reduced_list_number = []\n",
        "        for i in range(0, len(target_smiles_reduced_list)):\n",
        "            target_smiles_reduced_list_number_i  = 0\n",
        "            for j in range(0, len(target_smiles_list)):\n",
        "                if target_smiles_reduced_list[i] == target_smiles_list[j]:\n",
        "                    target_smiles_reduced_list_number_i = target_smiles_reduced_list_number_i   + target_smiles_level_list[j]\n",
        "            target_smiles_reduced_list_number.append(target_smiles_reduced_list_number_i/sum(target_smiles_level_list))\n",
        "\n",
        "        if query_smiles_reduced_list_number == target_smiles_reduced_list_number:\n",
        "            #print(\"check3\")\n",
        "            return 1.0\n",
        "\n",
        "\n",
        "    Demand = {}\n",
        "    Supply = {}\n",
        "    T = {}\n",
        "\n",
        "    if query_smiles_level_list == None or len(set(query_smiles_level_list)) ==1:\n",
        "        for i in range(0, query_smiles_list_length):\n",
        "            Demand[\"P\" + str(i+1)] = 1/query_smiles_list_length\n",
        "    else:\n",
        "        print(\"Query smiles list has different levels\")\n",
        "        #query_weight_sum = sum(query_smiles_level_list)\n",
        "        #level 1, weight = 1; level 2, weight = 3^1;  level n, weight = 3^n-1\n",
        "        query_weight_sum = 0.0\n",
        "        for i in range(0, query_smiles_list_length):\n",
        "            query_weight_sum = query_weight_sum + query_smiles_level_list[i]\n",
        "\n",
        "        for i in range(0, query_smiles_list_length):\n",
        "            Demand[\"P\" + str(i+1)] = query_smiles_level_list[i]/query_weight_sum\n",
        "            #print(\"P\" + str(i+1), Demand[\"P\" + str(i+1)])\n",
        "\n",
        "\n",
        "    if target_smiles_level_list == None or len(set(target_smiles_level_list)) ==1:       \n",
        "        for j in range(0,target_smiles_list_length):\n",
        "            Supply[\"Q\" + str(j+1)] = 1/target_smiles_list_length\n",
        "    else:\n",
        "        print(\"Target smiles list has different levels\")\n",
        "        \n",
        "        target_weight_sum = 0.0\n",
        "        for j in range(0, target_smiles_list_length):\n",
        "            target_weight_sum = target_weight_sum + target_smiles_level_list[j]\n",
        "\n",
        "        for j in range(0, target_smiles_list_length):\n",
        "            Supply[\"Q\" + str(j+1)] = target_smiles_level_list[j]/target_weight_sum\n",
        "            #print(\"Q\" + str(j+1), Supply[\"Q\" + str(j+1)])\n",
        "\n",
        "\n",
        "    # embedding function and similarity \n",
        "    for i in range(0,query_smiles_list_length):\n",
        "            for j in range(0,target_smiles_list_length):\n",
        "                if (query_smiles_list[i] == '*H') and (target_smiles_list[j] !='*H'):\n",
        "\n",
        "                    T[(\"P\" + str(i+1), \"Q\" + str(j+1))] = 1.0\n",
        "\n",
        "                elif (query_smiles_list[i] != '*H') and (target_smiles_list[j] =='*H'):\n",
        "\n",
        "                    T[(\"P\" + str(i+1), \"Q\" + str(j+1))] = 1.0\n",
        "                \n",
        "                elif (query_smiles_list[i] == '*H') and (target_smiles_list[j] =='*H'):\n",
        "\n",
        "                    T[(\"P\" + str(i+1), \"Q\" + str(j+1))] = 0.0\n",
        "\n",
        "                elif (query_smiles_list[i] != '*H') and (target_smiles_list[j] !='*H'):\n",
        "                    FP_i = 0.0 \n",
        "                    FP_j = 0.0\n",
        "\n",
        "                    if embedding_function == 'MorganFingerprint':   \n",
        "                        FP_i = AllChem.GetMorganFingerprintAsBitVect(Chem.MolFromSmiles(query_smiles_list[i]),2,nBits=2048)\n",
        "                        FP_j = AllChem.GetMorganFingerprintAsBitVect(Chem.MolFromSmiles(target_smiles_list[j]),2,nBits=2048)\n",
        "\n",
        "                    elif embedding_function == 'RDKFingerprint': \n",
        "                        FP_i = Chem.RDKFingerprint(Chem.MolFromSmiles(query_smiles_list[i]))\n",
        "                        FP_j = Chem.RDKFingerprint(Chem.MolFromSmiles(target_smiles_list[j]))\n",
        "                    elif embedding_function == 'MACCSkeys':  \n",
        "                        FP_i = MACCSkeys.GenMACCSKeys(Chem.MolFromSmiles(query_smiles_list[i]))\n",
        "                        FP_j = MACCSkeys.GenMACCSKeys(Chem.MolFromSmiles(target_smiles_list[j]))\n",
        "                    else: \n",
        "                        print(embedding_function + \" is not included in the current vision, please choose an available embedding function.\");\n",
        "                        return False  \n",
        "\n",
        "\n",
        "                # calculate the fingerprint similarityscore between query[i],target[j] and input the distance = 1- similarityscore\n",
        "                    if similarity_score_function == 'Tanimoto':\n",
        "                        T[(\"P\" + str(i+1), \"Q\" + str(j+1))] = 1 - DataStructs.FingerprintSimilarity(FP_i, FP_j)\n",
        "                        print(\"P\" + str(i+1), \"->Q\" + str(j+1), T[(\"P\" + str(i+1), \"Q\" + str(j+1))] )\n",
        "\n",
        "                    elif similarity_score_function == 'Dice':\n",
        "                        T[(\"P\" + str(i+1), \"Q\" + str(j+1))] = 1 - DataStructs.FingerprintSimilarity(FP_i, FP_j, metric=DataStructs.DiceSimilarity)\n",
        "\n",
        "\n",
        "                    elif similarity_score_function == 'Cosine':\n",
        "                        T[(\"P\" + str(i+1), \"Q\" + str(j+1))] = 1 - DataStructs.FingerprintSimilarity(FP_i, FP_j, metric=DataStructs.CosineSimilarity)\n",
        "                    \n",
        "\n",
        "                    else:\n",
        "                        print(similarity_score_function + \" is not included in the current vision, please choose an available similarity function.\");\n",
        "                        return\n",
        "\n",
        "    \n",
        "\n",
        "    #print(len(Demand), len(Supply), len(T))\n",
        "    # Step 0: Create an instance of the model\n",
        "    model = ConcreteModel()\n",
        "    model.dual = Suffix(direction=Suffix.IMPORT)\n",
        "\n",
        "    # Step 1: Define index sets\n",
        "    CUS = list(Demand.keys())\n",
        "    SRC = list(Supply.keys())\n",
        "\n",
        "    # Step 2: Define the decision \n",
        "    model.x = Var(CUS, SRC, domain = NonNegativeReals)\n",
        "\n",
        "    # Step 3: Define Objective\n",
        "    model.Cost = Objective(\n",
        "    expr = sum([T[c,s]*model.x[c,s] for c in CUS for s in SRC]),\n",
        "    sense = minimize)\n",
        "\n",
        "    # Step 4: Constraints\n",
        "    model.src = ConstraintList()\n",
        "    for s in SRC:\n",
        "        model.src.add(sum([model.x[c,s] for c in CUS]) == Supply[s])\n",
        "        \n",
        "    model.dmd = ConstraintList()\n",
        "    for c in CUS:\n",
        "        model.dmd.add(sum([model.x[c,s] for s in SRC]) == Demand[c])\n",
        "\n",
        "    # add restrain to the EMD\n",
        "    if restrain_emd == True: \n",
        "        model.restrain = ConstraintList()\n",
        "        for i in range(0,query_smiles_list_length):\n",
        "            model.restrain.add(model.x[CUS[i],SRC[i]] == Supply[\"Q\" + str(i+1)])\n",
        "    \n",
        "    results = SolverFactory('cbc').solve(model)\n",
        "\n",
        "\n",
        "    if 'ok' == str(results.Solver.status):\n",
        "        #print(\"EMD(P,Q) = \",model.Cost())\n",
        "        #print (\"\\n\")\n",
        "        #print(\"S(P,Q) = \", 1- model.Cost())\n",
        "        SimilarityScore = 1- model.Cost()\n",
        "        return SimilarityScore\n",
        "        \n",
        "    else:\n",
        "        print(\"No Valid Solution Found\")\n",
        "        return False\n",
        "\n",
        "\n",
        "    "
      ],
      "metadata": {
        "id": "X-DogQ2hNFpV"
      },
      "execution_count": null,
      "outputs": []
    },
    {
      "cell_type": "markdown",
      "source": [
        "## 2.2. Similarity score of Graph Edit Distance"
      ],
      "metadata": {
        "id": "fNpt-pIDQLOX"
      }
    },
    {
      "cell_type": "code",
      "source": [
        "# Graph Edit Distance\n",
        "def Similarity_Score_Graph_Edit_Distance(Graph1 = None, \n",
        "                         Graph2 = None, \n",
        "                         alpha = 1):\n",
        "    if Graph1 == None:\n",
        "        print(\"Missing Graph1\")\n",
        "        return\n",
        "    if Graph2 == None:\n",
        "        print(\"Missing Graph2\")\n",
        "        return\n",
        "    \n",
        "    # Since Graph1 is the subgraph of Graph2, the calculation of graph edit distance can be simpilified.\n",
        "    Graph1_number = Graph1.number_of_nodes() + Graph1.number_of_edges()\n",
        "    Graph2_number = Graph2.number_of_nodes() + Graph2.number_of_edges()\n",
        "\n",
        "    #graph_edit_distance = abs(Graph2_number - Graph1_number)\n",
        "    graph_edit_distance = nx.graph_edit_distance(Graph1, Graph2)\n",
        "\n",
        "    # utilize the exponential decay function to turn the graph edit distance to similarity score\n",
        "    #similarity_score = np.exp(-alpha*graph_edit_distance/(min(Graph1_number, Graph2_number))\n",
        "    similarity_score = np.exp(-alpha*graph_edit_distance/(max(Graph1_number, Graph2_number)-graph_edit_distance))\n",
        "\n",
        "    return similarity_score "
      ],
      "metadata": {
        "id": "oyUi54M_IorG"
      },
      "execution_count": null,
      "outputs": []
    },
    {
      "cell_type": "markdown",
      "source": [
        "## 2.3. Mean value with different weights and different mean functions"
      ],
      "metadata": {
        "id": "v_4bM0zPQRGC"
      }
    },
    {
      "cell_type": "code",
      "source": [
        "def Combined_Similarity_Score(Repeat_Unit_Similarity_Score = None,\n",
        "                              Repeat_Unit_Weight = 0.5,\n",
        "                              Graph_Similarity_Score = None,\n",
        "                              Graph_Weight = 0.5,\n",
        "                              End_Group_Similarity_Score = None,\n",
        "                              End_Group_Weight = 0.0,\n",
        "                              Mean_Function = 'arithmetic'):\n",
        "  \n",
        "    # Verify whether the weight sum is normalized.\n",
        "    if  abs(Repeat_Unit_Weight + Graph_Weight +  End_Group_Weight -1 ) >=0.000000000001:\n",
        "        print(\"Weight Sum is not normalized.\")\n",
        "        return False\n",
        "\n",
        "    # Not consider the end group\n",
        "    if End_Group_Similarity_Score == None:\n",
        "\n",
        "        if Mean_Function == 'arithmetic':\n",
        "            combined_similarity_score = (Repeat_Unit_Weight * Repeat_Unit_Similarity_Score + Graph_Weight * Graph_Similarity_Score)\n",
        "\n",
        "        elif Mean_Function == 'geometric':\n",
        "            combined_similarity_score = pow(Repeat_Unit_Similarity_Score,Repeat_Unit_Weight)*pow(Graph_Similarity_Score,Graph_Weight)\n",
        "\n",
        "        else:\n",
        "            print(\"Your input mean function \", Mean_Function, \" is not implemented, please choose those implemented mean function, like arithmetic, geometric\")\n",
        "    \n",
        "    # consider the end group\n",
        "    else:\n",
        "      \n",
        "        if Mean_Function == 'arithmetic':\n",
        "            combined_similarity_score = Repeat_Unit_Weight * Repeat_Unit_Similarity_Score + Graph_Weight * Graph_Similarity_Score + End_Group_Weight * End_Group_Similarity_Score\n",
        "\n",
        "        elif Mean_Function == 'geometric':\n",
        "            combined_similarity_score = pow(Repeat_Unit_Similarity_Score,Repeat_Unit_Weight)*pow(Graph_Similarity_Score,Graph_Weight)*pow(End_Group_Similarity_Score, End_Group_Weight)\n",
        "\n",
        "        else:\n",
        "            print(\"Your input mean function \", Mean_Function, \" is not implemented, please choose those implemented mean function, like arithmetic, geometric\")\n",
        "            \n",
        "    return combined_similarity_score\n"
      ],
      "metadata": {
        "id": "ZJKjYPi9KynA"
      },
      "execution_count": null,
      "outputs": []
    },
    {
      "cell_type": "markdown",
      "source": [
        "## 2.4. The Total Similarity Score between the query polymer and the target polymer"
      ],
      "metadata": {
        "id": "7bdTaiEZQelj"
      }
    },
    {
      "cell_type": "code",
      "source": [
        "def Similarity_Score_Two_Polymer(query = None,\n",
        "                                 target = None,\n",
        "                                 #level_weight = True,\n",
        "                                 #level_ratio = 3,\n",
        "                                 embedding_function = 'RDKFingerprint', #Embedding function\n",
        "                                 similarity_score_function = 'Tanimoto', # Similarity function for two vectors\n",
        "                                 restrain_emd = False, # Whether to restrain the emd\n",
        "                                 alpha=1, #reduced parameter for the exponential decay function\n",
        "                                 Repeat_Unit_Weight=0.5,\n",
        "                                 Graph_Weight=0.5,\n",
        "                                 End_Group_Weight = 0.0,\n",
        "                                 Mean_Function = 'geometric',\n",
        "                                 details_print = False):\n",
        "\n",
        "    if query == None or target == None:\n",
        "        print (\"Either query polymer or target polymer is missing! Please check your input.\")\n",
        "        return False\n",
        "    S_repeat_unit = Similarity_Score_EMD(query_smiles_list = query.repeat_unit_smiles_list, \n",
        "                     query_smiles_level_list = query.repeat_unit_smiles_level_list, \n",
        "                     target_smiles_list = target.repeat_unit_smiles_list, \n",
        "                     target_smiles_level_list = target.repeat_unit_smiles_level_list,\n",
        "                     #level_weight = level_weight,\n",
        "                     #level_ratio = level_ratio,\t\n",
        "                     embedding_function = embedding_function,\n",
        "                     similarity_score_function = similarity_score_function,\n",
        "                     restrain_emd = restrain_emd)\n",
        "    \n",
        "    S_graph = Similarity_Score_Graph_Edit_Distance(Graph1=query.graph_representation, \n",
        "                                                   Graph2=target.graph_representation, \n",
        "                                                   alpha=alpha)\n",
        "    \n",
        "    if End_Group_Weight == 0.0: \n",
        "        S_combined = Combined_Similarity_Score(Repeat_Unit_Similarity_Score=S_repeat_unit ,\n",
        "                                       Repeat_Unit_Weight=Repeat_Unit_Weight,\n",
        "                                       Graph_Similarity_Score=S_graph,\n",
        "                                       Graph_Weight=Graph_Weight,\n",
        "                                       End_Group_Similarity_Score = None,\n",
        "                                       End_Group_Weight = End_Group_Weight,\n",
        "                                       Mean_Function = Mean_Function)\n",
        "        if details_print == True:\n",
        "            print(\"Details of the Similarity Score:\\n\")\n",
        "            print(\"Similarity score on Repeating Unit = \", S_repeat_unit, \", Weight for Repeating Unit = \", Repeat_Unit_Weight)\n",
        "            print(\"Similarity score on Graph = \", S_graph, \", Weight for Graph = \", Graph_Weight)\n",
        "            print(\"Similarity score on End Group = \", \"None\", \", Weight for End Group = \", End_Group_Weight)\n",
        "            print(\"Similarity score Combined in \" + Mean_Function + \" mean = \", S_combined)\n",
        "            print(\"\\n\")\n",
        "            return S_combined, S_repeat_unit, S_graph\n",
        "\n",
        "        return S_combined \n",
        "\n",
        "    else: \n",
        "        S_end_group = Similarity_Score_EMD(query_smiles_list = query.end_group_smiles_list, \n",
        "                     query_smiles_level_list = query.end_group_smiles_level_list, \n",
        "                     target_smiles_list = target.end_group_smiles_list, \n",
        "                     target_smiles_level_list = target.end_group_smiles_level_list,\n",
        "                     #level_weight = level_weight,\n",
        "                     #level_ratio = level_ratio,\t\n",
        "                     embedding_function = embedding_function,\n",
        "                     similarity_score_function = similarity_score_function,\n",
        "                     restrain_emd = restrain_emd)\n",
        "            \n",
        "        S_combined = Combined_Similarity_Score(Repeat_Unit_Similarity_Score=S_repeat_unit ,\n",
        "                                       Repeat_Unit_Weight=Repeat_Unit_Weight,\n",
        "                                       Graph_Similarity_Score=S_graph,\n",
        "                                       Graph_Weight=Graph_Weight,\n",
        "                                       End_Group_Similarity_Score = S_end_group,\n",
        "                                       End_Group_Weight = End_Group_Weight,\n",
        "                                       Mean_Function = Mean_Function)\n",
        "        \n",
        "        if details_print == True:\n",
        "            print(\"Details of the Similarity Score:\\n\")\n",
        "            print(\"Similarity score on Repeating Unit = \", S_repeat_unit, \", Weight for Repeating Unit = \", Repeat_Unit_Weight)\n",
        "            print(\"Similarity score on Graph = \", S_graph, \", Weight for Graph = \", Graph_Weight)\n",
        "            print(\"Similarity score on End Group = \", S_end_group, \", Weight for End Group = \", End_Group_Weight )\n",
        "            print(\"Similarity score Combined in \" + Mean_Function + \" mean = \", S_combined)\n",
        "            print(\"\\n\")\n",
        "            return S_combined, S_repeat_unit, S_graph, S_end_group\n",
        "\n",
        "        return S_combined     \n"
      ],
      "metadata": {
        "id": "tnGFkpht12nw"
      },
      "execution_count": null,
      "outputs": []
    },
    {
      "cell_type": "markdown",
      "source": [
        "# 3. Define the Polymer Class"
      ],
      "metadata": {
        "id": "bijKjSMqQ-gw"
      }
    },
    {
      "cell_type": "code",
      "source": [
        "class Polymer:\n",
        "  def __init__(self, \n",
        "               repeat_unit_smiles_list=None, \n",
        "               repeat_unit_smiles_level_list=None, \n",
        "               end_group_smiles_list=None, \n",
        "               end_group_smiles_level_list=None,\n",
        "               graph_representation=None):\n",
        "    \n",
        "      self.repeat_unit_smiles_list = repeat_unit_smiles_list\n",
        "      self.repeat_unit_smiles_level_list = repeat_unit_smiles_level_list\n",
        "      self.end_group_smiles_list = end_group_smiles_list\n",
        "      self.end_group_smiles_level_list = end_group_smiles_level_list\n",
        "      self.graph_representation = graph_representation"
      ],
      "metadata": {
        "id": "k-I92q5zfd_L"
      },
      "execution_count": null,
      "outputs": []
    },
    {
      "cell_type": "markdown",
      "source": [
        "# 4. Some examples of Polymer Graph Representations"
      ],
      "metadata": {
        "id": "93332dHdzs9Y"
      }
    },
    {
      "cell_type": "code",
      "source": [
        "G0 = nx.MultiDiGraph()\n",
        "G0.add_node(1)\n",
        "G0.add_node(2)\n",
        "G0.add_node(3)\n",
        "G0.add_node(4)\n",
        "G0.add_node(5)\n",
        "G0.add_node(6)\n",
        "G0.add_node(7)\n",
        "G0.add_node(8)\n",
        "G0.add_node(9)\n",
        "G0.add_node(10)\n",
        "G0.add_node(11)\n",
        "\n",
        "\n",
        "G0.add_edge(1, 2)\n",
        "G0.add_edge(2, 3)\n",
        "G0.add_edge(2, 4)\n",
        "G0.add_edge(4, 2)\n",
        "G0.add_edge(4, 5)\n",
        "G0.add_edge(5, 6)\n",
        "G0.add_edge(6, 5)\n",
        "G0.add_edge(6, 7)\n",
        "\n",
        "G0.add_edge(2, 8)\n",
        "G0.add_edge(8, 2)\n",
        "G0.add_edge(8, 9)\n",
        "G0.add_edge(9, 10)\n",
        "G0.add_edge(10, 9)\n",
        "G0.add_edge(10, 11)\n",
        "\n",
        "nx.draw(G0)\n",
        "print(\"G0 number of nodes: \",G0.number_of_nodes())\n",
        "print(\"G0 number of edges: \",G0.number_of_edges())"
      ],
      "metadata": {
        "colab": {
          "base_uri": "https://localhost:8080/",
          "height": 356
        },
        "id": "tCJkDjZDfpf9",
        "outputId": "f015d411-4032-400c-f58e-2284cb20315b"
      },
      "execution_count": null,
      "outputs": [
        {
          "output_type": "stream",
          "name": "stdout",
          "text": [
            "G0 number of nodes:  11\n",
            "G0 number of edges:  14\n"
          ]
        },
        {
          "output_type": "display_data",
          "data": {
            "text/plain": [
              "<Figure size 432x288 with 1 Axes>"
            ],
            "image/png": "[encoded data removed]"
          },
          "metadata": {}
        }
      ]
    },
    {
      "cell_type": "code",
      "source": [
        "G1 = nx.MultiDiGraph()\n",
        "G1.add_node(1)\n",
        "G1.add_node(2)\n",
        "G1.add_node(3)\n",
        "G1.add_node(4)\n",
        "G1.add_node(5)\n",
        "G1.add_node(6)\n",
        "G1.add_node(7)\n",
        "G1.add_node(8)\n",
        "G1.add_node(9)\n",
        "G1.add_node(10)\n",
        "G1.add_node(11)\n",
        "G1.add_node(12)\n",
        "G1.add_node(13)\n",
        "\n",
        "G1.add_edge(1, 2)\n",
        "G1.add_edge(2, 3)\n",
        "G1.add_edge(2, 4)\n",
        "G1.add_edge(4, 2)\n",
        "G1.add_edge(4, 5)\n",
        "G1.add_edge(5, 6)\n",
        "G1.add_edge(6, 5)\n",
        "G1.add_edge(6, 7)\n",
        "\n",
        "G1.add_edge(2, 8)\n",
        "G1.add_edge(8, 2)\n",
        "G1.add_edge(8, 9)\n",
        "G1.add_edge(9, 10)\n",
        "G1.add_edge(10, 9)\n",
        "G1.add_edge(10, 11)\n",
        "G1.add_edge(2, 12)\n",
        "G1.add_edge(12, 2)\n",
        "G1.add_edge(2, 13)\n",
        "G1.add_edge(13, 2)\n",
        "\n",
        "nx.draw(G1)\n",
        "print(\"G1 number of nodes: \",G1.number_of_nodes())\n",
        "print(\"G1 number of edges: \",G1.number_of_edges())"
      ],
      "metadata": {
        "colab": {
          "base_uri": "https://localhost:8080/",
          "height": 356
        },
        "id": "_7QUNP6fsB5w",
        "outputId": "86f18302-54f0-4e42-ad7a-712ed0db8ef9"
      },
      "execution_count": null,
      "outputs": [
        {
          "output_type": "stream",
          "name": "stdout",
          "text": [
            "G1 number of nodes:  13\n",
            "G1 number of edges:  18\n"
          ]
        },
        {
          "output_type": "display_data",
          "data": {
            "text/plain": [
              "<Figure size 432x288 with 1 Axes>"
            ],
            "image/png": "[encoded data removed]"
          },
          "metadata": {}
        }
      ]
    },
    {
      "cell_type": "code",
      "source": [
        "G2 = nx.MultiDiGraph()\n",
        "G2.add_node(1)\n",
        "G2.add_node(2)\n",
        "G2.add_node(3)\n",
        "G2.add_node(4)\n",
        "G2.add_node(5)\n",
        "G2.add_node(6)\n",
        "G2.add_node(7)\n",
        "G2.add_node(8)\n",
        "G2.add_node(9)\n",
        "G2.add_node(10)\n",
        "G2.add_node(11)\n",
        "G2.add_node(12)\n",
        "G2.add_node(13)\n",
        "G2.add_node(14)\n",
        "\n",
        "G2.add_edge(1, 2)\n",
        "G2.add_edge(2, 3)\n",
        "G2.add_edge(2, 4)\n",
        "G2.add_edge(4, 2)\n",
        "G2.add_edge(4, 5)\n",
        "G2.add_edge(5, 6)\n",
        "G2.add_edge(6, 5)\n",
        "G2.add_edge(6, 7)\n",
        "\n",
        "G2.add_edge(2, 8)\n",
        "G2.add_edge(8, 2)\n",
        "G2.add_edge(8, 9)\n",
        "G2.add_edge(9, 10)\n",
        "G2.add_edge(10, 9)\n",
        "G2.add_edge(10, 11)\n",
        "G2.add_edge(3, 12)\n",
        "G2.add_edge(12, 3)\n",
        "G2.add_edge(3, 13)\n",
        "G2.add_edge(13, 3)\n",
        "G2.add_edge(3, 14)\n",
        "\n",
        "nx.draw(G2)\n",
        "print(\"G1 number of nodes: \",G2.number_of_nodes())\n",
        "print(\"G1 number of edges: \",G2.number_of_edges())"
      ],
      "metadata": {
        "id": "WW3pJfjkNi9j",
        "colab": {
          "base_uri": "https://localhost:8080/",
          "height": 356
        },
        "outputId": "d6769078-1e4b-4e26-850e-2fe137480f51"
      },
      "execution_count": null,
      "outputs": [
        {
          "output_type": "stream",
          "name": "stdout",
          "text": [
            "G1 number of nodes:  14\n",
            "G1 number of edges:  19\n"
          ]
        },
        {
          "output_type": "display_data",
          "data": {
            "text/plain": [
              "<Figure size 432x288 with 1 Axes>"
            ],
            "image/png": "[encoded data removed]"
          },
          "metadata": {}
        }
      ]
    },
    {
      "cell_type": "code",
      "source": [
        "PolymerE5_1 = Polymer(\n",
        "  repeat_unit_smiles_list = [\"*OCCCCO*\",\"*C(=O)Nc1ccc(-c2ccc(NC(*)=O)cc2)cc1\"],\n",
        "  repeat_unit_smiles_level_list = [1,1], \n",
        "  end_group_smiles_list = None, \n",
        "  end_group_smiles_level_list = None, \n",
        "  graph_representation = G0  \n",
        ")\n",
        "\n",
        "\n",
        "PolymerE5_2 = Polymer(\n",
        "  repeat_unit_smiles_list = [\"*OCCCCO*\",\"*C(=O)Nc1ccc(-c2ccc(NC(*)=O)cc2)cc1\",\"*C(=O)Nc1ccc(-c2ccc(NC(*)=O)cc2)cc1\",\"*CCO*\", \"*O*\" ],\n",
        "  repeat_unit_smiles_level_list = [4,4,1, 4, 1], \n",
        "  end_group_smiles_list = None, \n",
        "  end_group_smiles_level_list = None, \n",
        "  graph_representation = G0  \n",
        ")\n",
        "\n",
        "PolymerE5_3 = Polymer(\n",
        "  repeat_unit_smiles_list = [\"*OCCCCO*\",\"*C(=O)NC1CCC(C2CCC(NC(*)=O)CC2)CC1\",\"*C(=O)NC1CCC(C2CCC(NC(*)=O)CC2)CC1\",\"*CCO*\", \"*O*\" ],\n",
        "  repeat_unit_smiles_level_list = [4,4,1,4,1], \n",
        "  end_group_smiles_list = None, \n",
        "  end_group_smiles_level_list = None, \n",
        "  graph_representation = G0  \n",
        ")\n",
        "\n",
        "PolymerE5_4 = Polymer(\n",
        "  repeat_unit_smiles_list = [\"*OCCCCO*\",\"*C(=O)Nc1ccc(-c2ccc(NC(*)=O)cc2)cc1\",\"*C(=O)Nc1ccc(-c2ccc(NC(*)=O)cc2)cc1\",\"*CCCCCC(=O)O*\", \"*O*\" ],\n",
        "  repeat_unit_smiles_level_list = [4,4,1, 4, 1], \n",
        "  end_group_smiles_list = None, \n",
        "  end_group_smiles_level_list = None, \n",
        "  graph_representation = G0  \n",
        ")\n",
        "\n",
        "PolymerE5_5 = Polymer(\n",
        "  repeat_unit_smiles_list = [\"*NCCCCCCN*\",\"*C(=O)Nc1ccc(-c2ccc(NC(*)=O)cc2)cc1\",\"*C(=O)Nc1ccc(-c2ccc(NC(*)=O)cc2)cc1\",\"*CCO*\", \"*O*\" ],\n",
        "  repeat_unit_smiles_level_list = [4,4,1, 4, 1], \n",
        "  end_group_smiles_list = None, \n",
        "  end_group_smiles_level_list = None, \n",
        "  graph_representation = G0  \n",
        ")"
      ],
      "metadata": {
        "id": "ZMJ1XUNHwIDF"
      },
      "execution_count": null,
      "outputs": []
    },
    {
      "cell_type": "code",
      "source": [
        "PolymerE5 = [PolymerE5_1, PolymerE5_2, PolymerE5_3, PolymerE5_4, PolymerE5_5]"
      ],
      "metadata": {
        "id": "MDoAXl-sqY3N"
      },
      "execution_count": null,
      "outputs": []
    },
    {
      "cell_type": "code",
      "source": [
        "E5_RU_matrix = np.ones([5,5])\n",
        "E5_TOP_matrix = np.ones([5,5])\n",
        "E5_EG_matrix = np.ones([5,5])\n",
        "E5_TOT_matrix = np.ones([5,5])"
      ],
      "metadata": {
        "id": "RugziIkQyutB"
      },
      "execution_count": null,
      "outputs": []
    },
    {
      "cell_type": "code",
      "source": [
        "for i in range(0,5):\n",
        "    for j in range(0,5):\n",
        "        STOTij, SRUij, STOPij = Similarity_Score_Two_Polymer(query = PolymerE5[i],\n",
        "                             target = PolymerE5[j],\n",
        "                             #level_weight = True,\n",
        "                             #level_ratio = 3,\n",
        "                             embedding_function = 'MorganFingerprint',\n",
        "                             similarity_score_function = 'Tanimoto',\n",
        "                             restrain_emd = False,\n",
        "                             alpha=1,\n",
        "                             Repeat_Unit_Weight=0.5,\n",
        "                             Graph_Weight=0.5,\n",
        "                             End_Group_Weight = 0.0,\n",
        "                             Mean_Function = 'geometric',\n",
        "                             details_print=True)\n",
        "        E5_RU_matrix[i,j] = SRUij\n",
        "        E5_RU_matrix[j,i] = SRUij\n",
        "     \n"
      ],
      "metadata": {
        "colab": {
          "base_uri": "https://localhost:8080/"
        },
        "id": "fuQYFE_cx_bs",
        "outputId": "6483a5bd-36ad-44a2-eb96-279ebbe86f17"
      },
      "execution_count": null,
      "outputs": [
        {
          "output_type": "stream",
          "name": "stdout",
          "text": [
            "Details of the Similarity Score:\n",
            "\n",
            "Similarity score on Repeating Unit =  1 , Weight for Repeating Unit =  0.5\n",
            "Similarity score on Graph =  1.0 , Weight for Graph =  0.5\n",
            "Similarity score on End Group =  None , Weight for End Group =  0.0\n",
            "Similarity score Combined in geometric mean =  1.0\n",
            "\n",
            "\n",
            "Target smiles list has different levels\n",
            "P1 ->Q1 0.0\n",
            "P1 ->Q2 0.962962962962963\n",
            "P1 ->Q3 0.962962962962963\n",
            "P1 ->Q4 0.5\n",
            "P1 ->Q5 0.7272727272727273\n",
            "P2 ->Q1 0.962962962962963\n",
            "P2 ->Q2 0.0\n",
            "P2 ->Q3 0.0\n",
            "P2 ->Q4 0.9642857142857143\n",
            "P2 ->Q5 0.9523809523809523\n",
            "Details of the Similarity Score:\n",
            "\n",
            "Similarity score on Repeating Unit =  0.7559523839166666 , Weight for Repeating Unit =  0.5\n",
            "Similarity score on Graph =  1.0 , Weight for Graph =  0.5\n",
            "Similarity score on End Group =  None , Weight for End Group =  0.0\n",
            "Similarity score Combined in geometric mean =  0.8694552224908806\n",
            "\n",
            "\n",
            "Target smiles list has different levels\n",
            "P1 ->Q1 0.0\n",
            "P1 ->Q2 0.9642857142857143\n",
            "P1 ->Q3 0.9642857142857143\n",
            "P1 ->Q4 0.5\n",
            "P1 ->Q5 0.7272727272727273\n",
            "P2 ->Q1 0.962962962962963\n",
            "P2 ->Q2 0.7666666666666666\n",
            "P2 ->Q3 0.7666666666666666\n",
            "P2 ->Q4 0.9642857142857143\n",
            "P2 ->Q5 0.9523809523809523\n",
            "Details of the Similarity Score:\n",
            "\n",
            "Similarity score on Repeating Unit =  0.48214285715000005 , Weight for Repeating Unit =  0.5\n",
            "Similarity score on Graph =  1.0 , Weight for Graph =  0.5\n",
            "Similarity score on End Group =  None , Weight for End Group =  0.0\n",
            "Similarity score Combined in geometric mean =  0.6943650748345571\n",
            "\n",
            "\n",
            "Target smiles list has different levels\n",
            "P1 ->Q1 0.0\n",
            "P1 ->Q2 0.962962962962963\n",
            "P1 ->Q3 0.962962962962963\n",
            "P1 ->Q4 0.8\n",
            "P1 ->Q5 0.7272727272727273\n",
            "P2 ->Q1 0.962962962962963\n",
            "P2 ->Q2 0.0\n",
            "P2 ->Q3 0.0\n",
            "P2 ->Q4 0.8823529411764706\n",
            "P2 ->Q5 0.9523809523809523\n",
            "Details of the Similarity Score:\n",
            "\n",
            "Similarity score on Repeating Unit =  0.7077158187165775 , Weight for Repeating Unit =  0.5\n",
            "Similarity score on Graph =  1.0 , Weight for Graph =  0.5\n",
            "Similarity score on End Group =  None , Weight for End Group =  0.0\n",
            "Similarity score Combined in geometric mean =  0.8412584731915498\n",
            "\n",
            "\n",
            "Target smiles list has different levels\n",
            "P1 ->Q1 0.8333333333333334\n",
            "P1 ->Q2 0.962962962962963\n",
            "P1 ->Q3 0.962962962962963\n",
            "P1 ->Q4 0.5\n",
            "P1 ->Q5 0.7272727272727273\n",
            "P2 ->Q1 0.9259259259259259\n",
            "P2 ->Q2 0.0\n",
            "P2 ->Q3 0.0\n",
            "P2 ->Q4 0.9642857142857143\n",
            "P2 ->Q5 0.9523809523809523\n",
            "Details of the Similarity Score:\n",
            "\n",
            "Similarity score on Repeating Unit =  0.5538720570673401 , Weight for Repeating Unit =  0.5\n",
            "Similarity score on Graph =  1.0 , Weight for Graph =  0.5\n",
            "Similarity score on End Group =  None , Weight for End Group =  0.0\n",
            "Similarity score Combined in geometric mean =  0.7442258105355793\n",
            "\n",
            "\n",
            "Query smiles list has different levels\n",
            "P1 ->Q1 0.0\n",
            "P1 ->Q2 0.962962962962963\n",
            "P2 ->Q1 0.962962962962963\n",
            "P2 ->Q2 0.0\n",
            "P3 ->Q1 0.962962962962963\n",
            "P3 ->Q2 0.0\n",
            "P4 ->Q1 0.5\n",
            "P4 ->Q2 0.9642857142857143\n",
            "P5 ->Q1 0.7272727272727273\n",
            "P5 ->Q2 0.9523809523809523\n",
            "Details of the Similarity Score:\n",
            "\n",
            "Similarity score on Repeating Unit =  0.7559523839166666 , Weight for Repeating Unit =  0.5\n",
            "Similarity score on Graph =  1.0 , Weight for Graph =  0.5\n",
            "Similarity score on End Group =  None , Weight for End Group =  0.0\n",
            "Similarity score Combined in geometric mean =  0.8694552224908806\n",
            "\n",
            "\n",
            "Details of the Similarity Score:\n",
            "\n",
            "Similarity score on Repeating Unit =  1 , Weight for Repeating Unit =  0.5\n",
            "Similarity score on Graph =  1.0 , Weight for Graph =  0.5\n",
            "Similarity score on End Group =  None , Weight for End Group =  0.0\n",
            "Similarity score Combined in geometric mean =  1.0\n",
            "\n",
            "\n",
            "Query smiles list has different levels\n",
            "Target smiles list has different levels\n",
            "P1 ->Q1 0.0\n",
            "P1 ->Q2 0.9642857142857143\n",
            "P1 ->Q3 0.9642857142857143\n",
            "P1 ->Q4 0.5\n",
            "P1 ->Q5 0.7272727272727273\n",
            "P2 ->Q1 0.962962962962963\n",
            "P2 ->Q2 0.7666666666666666\n",
            "P2 ->Q3 0.7666666666666666\n",
            "P2 ->Q4 0.9642857142857143\n",
            "P2 ->Q5 0.9523809523809523\n",
            "P3 ->Q1 0.962962962962963\n",
            "P3 ->Q2 0.7666666666666666\n",
            "P3 ->Q3 0.7666666666666666\n",
            "P3 ->Q4 0.9642857142857143\n",
            "P3 ->Q5 0.9523809523809523\n",
            "P4 ->Q1 0.5\n",
            "P4 ->Q2 0.9655172413793104\n",
            "P4 ->Q3 0.9655172413793104\n",
            "P4 ->Q4 0.0\n",
            "P4 ->Q5 0.75\n",
            "P5 ->Q1 0.7272727272727273\n",
            "P5 ->Q2 0.9545454545454546\n",
            "P5 ->Q3 0.9545454545454546\n",
            "P5 ->Q4 0.75\n",
            "P5 ->Q5 0.0\n",
            "Details of the Similarity Score:\n",
            "\n",
            "Similarity score on Repeating Unit =  0.7261904732333333 , Weight for Repeating Unit =  0.5\n",
            "Similarity score on Graph =  1.0 , Weight for Graph =  0.5\n",
            "Similarity score on End Group =  None , Weight for End Group =  0.0\n",
            "Similarity score Combined in geometric mean =  0.8521681015112765\n",
            "\n",
            "\n",
            "Query smiles list has different levels\n",
            "Target smiles list has different levels\n",
            "P1 ->Q1 0.0\n",
            "P1 ->Q2 0.962962962962963\n",
            "P1 ->Q3 0.962962962962963\n",
            "P1 ->Q4 0.8\n",
            "P1 ->Q5 0.7272727272727273\n",
            "P2 ->Q1 0.962962962962963\n",
            "P2 ->Q2 0.0\n",
            "P2 ->Q3 0.0\n",
            "P2 ->Q4 0.8823529411764706\n",
            "P2 ->Q5 0.9523809523809523\n",
            "P3 ->Q1 0.962962962962963\n",
            "P3 ->Q2 0.0\n",
            "P3 ->Q3 0.0\n",
            "P3 ->Q4 0.8823529411764706\n",
            "P3 ->Q5 0.9523809523809523\n",
            "P4 ->Q1 0.5\n",
            "P4 ->Q2 0.9642857142857143\n",
            "P4 ->Q3 0.9642857142857143\n",
            "P4 ->Q4 0.76\n",
            "P4 ->Q5 0.75\n",
            "P5 ->Q1 0.7272727272727273\n",
            "P5 ->Q2 0.9523809523809523\n",
            "P5 ->Q3 0.9523809523809523\n",
            "P5 ->Q4 0.8571428571428572\n",
            "P5 ->Q5 0.0\n",
            "Details of the Similarity Score:\n",
            "\n",
            "Similarity score on Repeating Unit =  0.7828571396 , Weight for Repeating Unit =  0.5\n",
            "Similarity score on Graph =  1.0 , Weight for Graph =  0.5\n",
            "Similarity score on End Group =  None , Weight for End Group =  0.0\n",
            "Similarity score Combined in geometric mean =  0.8847921448566324\n",
            "\n",
            "\n",
            "Query smiles list has different levels\n",
            "Target smiles list has different levels\n",
            "P1 ->Q1 0.8333333333333334\n",
            "P1 ->Q2 0.962962962962963\n",
            "P1 ->Q3 0.962962962962963\n",
            "P1 ->Q4 0.5\n",
            "P1 ->Q5 0.7272727272727273\n",
            "P2 ->Q1 0.9259259259259259\n",
            "P2 ->Q2 0.0\n",
            "P2 ->Q3 0.0\n",
            "P2 ->Q4 0.9642857142857143\n",
            "P2 ->Q5 0.9523809523809523\n",
            "P3 ->Q1 0.9259259259259259\n",
            "P3 ->Q2 0.0\n",
            "P3 ->Q3 0.0\n",
            "P3 ->Q4 0.9642857142857143\n",
            "P3 ->Q5 0.9523809523809523\n",
            "P4 ->Q1 0.9\n",
            "P4 ->Q2 0.9642857142857143\n",
            "P4 ->Q3 0.9642857142857143\n",
            "P4 ->Q4 0.0\n",
            "P4 ->Q5 0.75\n",
            "P5 ->Q1 0.9285714285714286\n",
            "P5 ->Q2 0.9523809523809523\n",
            "P5 ->Q3 0.9523809523809523\n",
            "P5 ->Q4 0.75\n",
            "P5 ->Q5 0.0\n",
            "Details of the Similarity Score:\n",
            "\n",
            "Similarity score on Repeating Unit =  0.7619047583333334 , Weight for Repeating Unit =  0.5\n",
            "Similarity score on Graph =  1.0 , Weight for Graph =  0.5\n",
            "Similarity score on End Group =  None , Weight for End Group =  0.0\n",
            "Similarity score Combined in geometric mean =  0.8728715588981768\n",
            "\n",
            "\n",
            "Query smiles list has different levels\n",
            "P1 ->Q1 0.0\n",
            "P1 ->Q2 0.962962962962963\n",
            "P2 ->Q1 0.9642857142857143\n",
            "P2 ->Q2 0.7666666666666666\n",
            "P3 ->Q1 0.9642857142857143\n",
            "P3 ->Q2 0.7666666666666666\n",
            "P4 ->Q1 0.5\n",
            "P4 ->Q2 0.9642857142857143\n",
            "P5 ->Q1 0.7272727272727273\n",
            "P5 ->Q2 0.9523809523809523\n",
            "Details of the Similarity Score:\n",
            "\n",
            "Similarity score on Repeating Unit =  0.48214285715000005 , Weight for Repeating Unit =  0.5\n",
            "Similarity score on Graph =  1.0 , Weight for Graph =  0.5\n",
            "Similarity score on End Group =  None , Weight for End Group =  0.0\n",
            "Similarity score Combined in geometric mean =  0.6943650748345571\n",
            "\n",
            "\n",
            "Query smiles list has different levels\n",
            "Target smiles list has different levels\n",
            "P1 ->Q1 0.0\n",
            "P1 ->Q2 0.962962962962963\n",
            "P1 ->Q3 0.962962962962963\n",
            "P1 ->Q4 0.5\n",
            "P1 ->Q5 0.7272727272727273\n",
            "P2 ->Q1 0.9642857142857143\n",
            "P2 ->Q2 0.7666666666666666\n",
            "P2 ->Q3 0.7666666666666666\n",
            "P2 ->Q4 0.9655172413793104\n",
            "P2 ->Q5 0.9545454545454546\n",
            "P3 ->Q1 0.9642857142857143\n",
            "P3 ->Q2 0.7666666666666666\n",
            "P3 ->Q3 0.7666666666666666\n",
            "P3 ->Q4 0.9655172413793104\n",
            "P3 ->Q5 0.9545454545454546\n",
            "P4 ->Q1 0.5\n",
            "P4 ->Q2 0.9642857142857143\n",
            "P4 ->Q3 0.9642857142857143\n",
            "P4 ->Q4 0.0\n",
            "P4 ->Q5 0.75\n",
            "P5 ->Q1 0.7272727272727273\n",
            "P5 ->Q2 0.9523809523809523\n",
            "P5 ->Q3 0.9523809523809523\n",
            "P5 ->Q4 0.75\n",
            "P5 ->Q5 0.0\n",
            "Details of the Similarity Score:\n",
            "\n",
            "Similarity score on Repeating Unit =  0.7261904732333333 , Weight for Repeating Unit =  0.5\n",
            "Similarity score on Graph =  1.0 , Weight for Graph =  0.5\n",
            "Similarity score on End Group =  None , Weight for End Group =  0.0\n",
            "Similarity score Combined in geometric mean =  0.8521681015112765\n",
            "\n",
            "\n",
            "Details of the Similarity Score:\n",
            "\n",
            "Similarity score on Repeating Unit =  1 , Weight for Repeating Unit =  0.5\n",
            "Similarity score on Graph =  1.0 , Weight for Graph =  0.5\n",
            "Similarity score on End Group =  None , Weight for End Group =  0.0\n",
            "Similarity score Combined in geometric mean =  1.0\n",
            "\n",
            "\n",
            "Query smiles list has different levels\n",
            "Target smiles list has different levels\n",
            "P1 ->Q1 0.0\n",
            "P1 ->Q2 0.962962962962963\n",
            "P1 ->Q3 0.962962962962963\n",
            "P1 ->Q4 0.8\n",
            "P1 ->Q5 0.7272727272727273\n",
            "P2 ->Q1 0.9642857142857143\n",
            "P2 ->Q2 0.7666666666666666\n",
            "P2 ->Q3 0.7666666666666666\n",
            "P2 ->Q4 0.8857142857142857\n",
            "P2 ->Q5 0.9545454545454546\n",
            "P3 ->Q1 0.9642857142857143\n",
            "P3 ->Q2 0.7666666666666666\n",
            "P3 ->Q3 0.7666666666666666\n",
            "P3 ->Q4 0.8857142857142857\n",
            "P3 ->Q5 0.9545454545454546\n",
            "P4 ->Q1 0.5\n",
            "P4 ->Q2 0.9642857142857143\n",
            "P4 ->Q3 0.9642857142857143\n",
            "P4 ->Q4 0.76\n",
            "P4 ->Q5 0.75\n",
            "P5 ->Q1 0.7272727272727273\n",
            "P5 ->Q2 0.9523809523809523\n",
            "P5 ->Q3 0.9523809523809523\n",
            "P5 ->Q4 0.8571428571428572\n",
            "P5 ->Q5 0.0\n",
            "Details of the Similarity Score:\n",
            "\n",
            "Similarity score on Repeating Unit =  0.5090476128333333 , Weight for Repeating Unit =  0.5\n",
            "Similarity score on Graph =  1.0 , Weight for Graph =  0.5\n",
            "Similarity score on End Group =  None , Weight for End Group =  0.0\n",
            "Similarity score Combined in geometric mean =  0.7134757268704615\n",
            "\n",
            "\n",
            "Query smiles list has different levels\n",
            "Target smiles list has different levels\n",
            "P1 ->Q1 0.8333333333333334\n",
            "P1 ->Q2 0.962962962962963\n",
            "P1 ->Q3 0.962962962962963\n",
            "P1 ->Q4 0.5\n",
            "P1 ->Q5 0.7272727272727273\n",
            "P2 ->Q1 0.9285714285714286\n",
            "P2 ->Q2 0.7666666666666666\n",
            "P2 ->Q3 0.7666666666666666\n",
            "P2 ->Q4 0.9655172413793104\n",
            "P2 ->Q5 0.9545454545454546\n",
            "P3 ->Q1 0.9285714285714286\n",
            "P3 ->Q2 0.7666666666666666\n",
            "P3 ->Q3 0.7666666666666666\n",
            "P3 ->Q4 0.9655172413793104\n",
            "P3 ->Q5 0.9545454545454546\n",
            "P4 ->Q1 0.9\n",
            "P4 ->Q2 0.9642857142857143\n",
            "P4 ->Q3 0.9642857142857143\n",
            "P4 ->Q4 0.0\n",
            "P4 ->Q5 0.75\n",
            "P5 ->Q1 0.9285714285714286\n",
            "P5 ->Q2 0.9523809523809523\n",
            "P5 ->Q3 0.9523809523809523\n",
            "P5 ->Q4 0.75\n",
            "P5 ->Q5 0.0\n",
            "Details of the Similarity Score:\n",
            "\n",
            "Similarity score on Repeating Unit =  0.4880952315666668 , Weight for Repeating Unit =  0.5\n",
            "Similarity score on Graph =  1.0 , Weight for Graph =  0.5\n",
            "Similarity score on End Group =  None , Weight for End Group =  0.0\n",
            "Similarity score Combined in geometric mean =  0.6986381263334165\n",
            "\n",
            "\n",
            "Query smiles list has different levels\n",
            "P1 ->Q1 0.0\n",
            "P1 ->Q2 0.962962962962963\n",
            "P2 ->Q1 0.962962962962963\n",
            "P2 ->Q2 0.0\n",
            "P3 ->Q1 0.962962962962963\n",
            "P3 ->Q2 0.0\n",
            "P4 ->Q1 0.8\n",
            "P4 ->Q2 0.8823529411764706\n",
            "P5 ->Q1 0.7272727272727273\n",
            "P5 ->Q2 0.9523809523809523\n",
            "Details of the Similarity Score:\n",
            "\n",
            "Similarity score on Repeating Unit =  0.7077158187165775 , Weight for Repeating Unit =  0.5\n",
            "Similarity score on Graph =  1.0 , Weight for Graph =  0.5\n",
            "Similarity score on End Group =  None , Weight for End Group =  0.0\n",
            "Similarity score Combined in geometric mean =  0.8412584731915498\n",
            "\n",
            "\n",
            "Query smiles list has different levels\n",
            "Target smiles list has different levels\n",
            "P1 ->Q1 0.0\n",
            "P1 ->Q2 0.962962962962963\n",
            "P1 ->Q3 0.962962962962963\n",
            "P1 ->Q4 0.5\n",
            "P1 ->Q5 0.7272727272727273\n",
            "P2 ->Q1 0.962962962962963\n",
            "P2 ->Q2 0.0\n",
            "P2 ->Q3 0.0\n",
            "P2 ->Q4 0.9642857142857143\n",
            "P2 ->Q5 0.9523809523809523\n",
            "P3 ->Q1 0.962962962962963\n",
            "P3 ->Q2 0.0\n",
            "P3 ->Q3 0.0\n",
            "P3 ->Q4 0.9642857142857143\n",
            "P3 ->Q5 0.9523809523809523\n",
            "P4 ->Q1 0.8\n",
            "P4 ->Q2 0.8823529411764706\n",
            "P4 ->Q3 0.8823529411764706\n",
            "P4 ->Q4 0.76\n",
            "P4 ->Q5 0.8571428571428572\n",
            "P5 ->Q1 0.7272727272727273\n",
            "P5 ->Q2 0.9523809523809523\n",
            "P5 ->Q3 0.9523809523809523\n",
            "P5 ->Q4 0.75\n",
            "P5 ->Q5 0.0\n",
            "Details of the Similarity Score:\n",
            "\n",
            "Similarity score on Repeating Unit =  0.7828571396 , Weight for Repeating Unit =  0.5\n",
            "Similarity score on Graph =  1.0 , Weight for Graph =  0.5\n",
            "Similarity score on End Group =  None , Weight for End Group =  0.0\n",
            "Similarity score Combined in geometric mean =  0.8847921448566324\n",
            "\n",
            "\n",
            "Query smiles list has different levels\n",
            "Target smiles list has different levels\n",
            "P1 ->Q1 0.0\n",
            "P1 ->Q2 0.9642857142857143\n",
            "P1 ->Q3 0.9642857142857143\n",
            "P1 ->Q4 0.5\n",
            "P1 ->Q5 0.7272727272727273\n",
            "P2 ->Q1 0.962962962962963\n",
            "P2 ->Q2 0.7666666666666666\n",
            "P2 ->Q3 0.7666666666666666\n",
            "P2 ->Q4 0.9642857142857143\n",
            "P2 ->Q5 0.9523809523809523\n",
            "P3 ->Q1 0.962962962962963\n",
            "P3 ->Q2 0.7666666666666666\n",
            "P3 ->Q3 0.7666666666666666\n",
            "P3 ->Q4 0.9642857142857143\n",
            "P3 ->Q5 0.9523809523809523\n",
            "P4 ->Q1 0.8\n",
            "P4 ->Q2 0.8857142857142857\n",
            "P4 ->Q3 0.8857142857142857\n",
            "P4 ->Q4 0.76\n",
            "P4 ->Q5 0.8571428571428572\n",
            "P5 ->Q1 0.7272727272727273\n",
            "P5 ->Q2 0.9545454545454546\n",
            "P5 ->Q3 0.9545454545454546\n",
            "P5 ->Q4 0.75\n",
            "P5 ->Q5 0.0\n",
            "Details of the Similarity Score:\n",
            "\n",
            "Similarity score on Repeating Unit =  0.5090476128333333 , Weight for Repeating Unit =  0.5\n",
            "Similarity score on Graph =  1.0 , Weight for Graph =  0.5\n",
            "Similarity score on End Group =  None , Weight for End Group =  0.0\n",
            "Similarity score Combined in geometric mean =  0.7134757268704615\n",
            "\n",
            "\n",
            "Details of the Similarity Score:\n",
            "\n",
            "Similarity score on Repeating Unit =  1 , Weight for Repeating Unit =  0.5\n",
            "Similarity score on Graph =  1.0 , Weight for Graph =  0.5\n",
            "Similarity score on End Group =  None , Weight for End Group =  0.0\n",
            "Similarity score Combined in geometric mean =  1.0\n",
            "\n",
            "\n",
            "Query smiles list has different levels\n",
            "Target smiles list has different levels\n",
            "P1 ->Q1 0.8333333333333334\n",
            "P1 ->Q2 0.962962962962963\n",
            "P1 ->Q3 0.962962962962963\n",
            "P1 ->Q4 0.5\n",
            "P1 ->Q5 0.7272727272727273\n",
            "P2 ->Q1 0.9259259259259259\n",
            "P2 ->Q2 0.0\n",
            "P2 ->Q3 0.0\n",
            "P2 ->Q4 0.9642857142857143\n",
            "P2 ->Q5 0.9523809523809523\n",
            "P3 ->Q1 0.9259259259259259\n",
            "P3 ->Q2 0.0\n",
            "P3 ->Q3 0.0\n",
            "P3 ->Q4 0.9642857142857143\n",
            "P3 ->Q5 0.9523809523809523\n",
            "P4 ->Q1 0.8518518518518519\n",
            "P4 ->Q2 0.8823529411764706\n",
            "P4 ->Q3 0.8823529411764706\n",
            "P4 ->Q4 0.76\n",
            "P4 ->Q5 0.8571428571428572\n",
            "P5 ->Q1 0.9285714285714286\n",
            "P5 ->Q2 0.9523809523809523\n",
            "P5 ->Q3 0.9523809523809523\n",
            "P5 ->Q4 0.75\n",
            "P5 ->Q5 0.0\n",
            "Details of the Similarity Score:\n",
            "\n",
            "Similarity score on Repeating Unit =  0.613756607962963 , Weight for Repeating Unit =  0.5\n",
            "Similarity score on Graph =  1.0 , Weight for Graph =  0.5\n",
            "Similarity score on End Group =  None , Weight for End Group =  0.0\n",
            "Similarity score Combined in geometric mean =  0.7834261981597009\n",
            "\n",
            "\n",
            "Query smiles list has different levels\n",
            "P1 ->Q1 0.8333333333333334\n",
            "P1 ->Q2 0.9259259259259259\n",
            "P2 ->Q1 0.962962962962963\n",
            "P2 ->Q2 0.0\n",
            "P3 ->Q1 0.962962962962963\n",
            "P3 ->Q2 0.0\n",
            "P4 ->Q1 0.5\n",
            "P4 ->Q2 0.9642857142857143\n",
            "P5 ->Q1 0.7272727272727273\n",
            "P5 ->Q2 0.9523809523809523\n",
            "Details of the Similarity Score:\n",
            "\n",
            "Similarity score on Repeating Unit =  0.5538720570673401 , Weight for Repeating Unit =  0.5\n",
            "Similarity score on Graph =  1.0 , Weight for Graph =  0.5\n",
            "Similarity score on End Group =  None , Weight for End Group =  0.0\n",
            "Similarity score Combined in geometric mean =  0.7442258105355793\n",
            "\n",
            "\n",
            "Query smiles list has different levels\n",
            "Target smiles list has different levels\n",
            "P1 ->Q1 0.8333333333333334\n",
            "P1 ->Q2 0.9259259259259259\n",
            "P1 ->Q3 0.9259259259259259\n",
            "P1 ->Q4 0.9\n",
            "P1 ->Q5 0.9285714285714286\n",
            "P2 ->Q1 0.962962962962963\n",
            "P2 ->Q2 0.0\n",
            "P2 ->Q3 0.0\n",
            "P2 ->Q4 0.9642857142857143\n",
            "P2 ->Q5 0.9523809523809523\n",
            "P3 ->Q1 0.962962962962963\n",
            "P3 ->Q2 0.0\n",
            "P3 ->Q3 0.0\n",
            "P3 ->Q4 0.9642857142857143\n",
            "P3 ->Q5 0.9523809523809523\n",
            "P4 ->Q1 0.5\n",
            "P4 ->Q2 0.9642857142857143\n",
            "P4 ->Q3 0.9642857142857143\n",
            "P4 ->Q4 0.0\n",
            "P4 ->Q5 0.75\n",
            "P5 ->Q1 0.7272727272727273\n",
            "P5 ->Q2 0.9523809523809523\n",
            "P5 ->Q3 0.9523809523809523\n",
            "P5 ->Q4 0.75\n",
            "P5 ->Q5 0.0\n",
            "Details of the Similarity Score:\n",
            "\n",
            "Similarity score on Repeating Unit =  0.7619047583333334 , Weight for Repeating Unit =  0.5\n",
            "Similarity score on Graph =  1.0 , Weight for Graph =  0.5\n",
            "Similarity score on End Group =  None , Weight for End Group =  0.0\n",
            "Similarity score Combined in geometric mean =  0.8728715588981768\n",
            "\n",
            "\n",
            "Query smiles list has different levels\n",
            "Target smiles list has different levels\n",
            "P1 ->Q1 0.8333333333333334\n",
            "P1 ->Q2 0.9285714285714286\n",
            "P1 ->Q3 0.9285714285714286\n",
            "P1 ->Q4 0.9\n",
            "P1 ->Q5 0.9285714285714286\n",
            "P2 ->Q1 0.962962962962963\n",
            "P2 ->Q2 0.7666666666666666\n",
            "P2 ->Q3 0.7666666666666666\n",
            "P2 ->Q4 0.9642857142857143\n",
            "P2 ->Q5 0.9523809523809523\n",
            "P3 ->Q1 0.962962962962963\n",
            "P3 ->Q2 0.7666666666666666\n",
            "P3 ->Q3 0.7666666666666666\n",
            "P3 ->Q4 0.9642857142857143\n",
            "P3 ->Q5 0.9523809523809523\n",
            "P4 ->Q1 0.5\n",
            "P4 ->Q2 0.9655172413793104\n",
            "P4 ->Q3 0.9655172413793104\n",
            "P4 ->Q4 0.0\n",
            "P4 ->Q5 0.75\n",
            "P5 ->Q1 0.7272727272727273\n",
            "P5 ->Q2 0.9545454545454546\n",
            "P5 ->Q3 0.9545454545454546\n",
            "P5 ->Q4 0.75\n",
            "P5 ->Q5 0.0\n",
            "Details of the Similarity Score:\n",
            "\n",
            "Similarity score on Repeating Unit =  0.4880952315666668 , Weight for Repeating Unit =  0.5\n",
            "Similarity score on Graph =  1.0 , Weight for Graph =  0.5\n",
            "Similarity score on End Group =  None , Weight for End Group =  0.0\n",
            "Similarity score Combined in geometric mean =  0.6986381263334165\n",
            "\n",
            "\n",
            "Query smiles list has different levels\n",
            "Target smiles list has different levels\n",
            "P1 ->Q1 0.8333333333333334\n",
            "P1 ->Q2 0.9259259259259259\n",
            "P1 ->Q3 0.9259259259259259\n",
            "P1 ->Q4 0.8518518518518519\n",
            "P1 ->Q5 0.9285714285714286\n",
            "P2 ->Q1 0.962962962962963\n",
            "P2 ->Q2 0.0\n",
            "P2 ->Q3 0.0\n",
            "P2 ->Q4 0.8823529411764706\n",
            "P2 ->Q5 0.9523809523809523\n",
            "P3 ->Q1 0.962962962962963\n",
            "P3 ->Q2 0.0\n",
            "P3 ->Q3 0.0\n",
            "P3 ->Q4 0.8823529411764706\n",
            "P3 ->Q5 0.9523809523809523\n",
            "P4 ->Q1 0.5\n",
            "P4 ->Q2 0.9642857142857143\n",
            "P4 ->Q3 0.9642857142857143\n",
            "P4 ->Q4 0.76\n",
            "P4 ->Q5 0.75\n",
            "P5 ->Q1 0.7272727272727273\n",
            "P5 ->Q2 0.9523809523809523\n",
            "P5 ->Q3 0.9523809523809523\n",
            "P5 ->Q4 0.8571428571428572\n",
            "P5 ->Q5 0.0\n",
            "Details of the Similarity Score:\n",
            "\n",
            "Similarity score on Repeating Unit =  0.613756607962963 , Weight for Repeating Unit =  0.5\n",
            "Similarity score on Graph =  1.0 , Weight for Graph =  0.5\n",
            "Similarity score on End Group =  None , Weight for End Group =  0.0\n",
            "Similarity score Combined in geometric mean =  0.7834261981597009\n",
            "\n",
            "\n",
            "Details of the Similarity Score:\n",
            "\n",
            "Similarity score on Repeating Unit =  1 , Weight for Repeating Unit =  0.5\n",
            "Similarity score on Graph =  1.0 , Weight for Graph =  0.5\n",
            "Similarity score on End Group =  None , Weight for End Group =  0.0\n",
            "Similarity score Combined in geometric mean =  1.0\n",
            "\n",
            "\n"
          ]
        }
      ]
    },
    {
      "cell_type": "code",
      "source": [],
      "metadata": {
        "id": "25YbEK3Wybha"
      },
      "execution_count": null,
      "outputs": []
    },
    {
      "cell_type": "code",
      "source": [
        "graphE5_details = np.array([14, 39, 39, 39, 39])"
      ],
      "metadata": {
        "id": "FUFDpR8Gu0LX"
      },
      "execution_count": null,
      "outputs": []
    },
    {
      "cell_type": "code",
      "source": [
        "graph_edit_distance = np.array([\n",
        "    [0,25,25,25,25],\n",
        "    [25,0,0,0,0],\n",
        "    [25,0,0,0,0],\n",
        "    [25,0,0,0,0],\n",
        "    [22,0,0,0,0]\n",
        "])"
      ],
      "metadata": {
        "id": "pSWC-YXwu-k7"
      },
      "execution_count": null,
      "outputs": []
    },
    {
      "cell_type": "code",
      "source": [
        "graph_edit_distance[1,2]"
      ],
      "metadata": {
        "colab": {
          "base_uri": "https://localhost:8080/"
        },
        "id": "lHAa_Bsqww3P",
        "outputId": "57658a7d-9ea0-4227-a76f-0e0bc00fbb6c"
      },
      "execution_count": null,
      "outputs": [
        {
          "output_type": "execute_result",
          "data": {
            "text/plain": [
              "0"
            ]
          },
          "metadata": {},
          "execution_count": 17
        }
      ]
    },
    {
      "cell_type": "code",
      "source": [],
      "metadata": {
        "id": "bHCP45AEvRzk"
      },
      "execution_count": null,
      "outputs": []
    },
    {
      "cell_type": "code",
      "source": [
        "for i in range(0,5):\n",
        "    for j in range(i+1,5):\n",
        "        E5_TOP_matrix[i,j] = np.exp(-1.0*graph_edit_distance[i,j]/(max(graphE5_details[i], graphE5_details[j]) - graph_edit_distance[i,j]))\n",
        "        E5_TOP_matrix[j,i] = E5_TOP_matrix[i,j]"
      ],
      "metadata": {
        "id": "1s3w_vAsvecq"
      },
      "execution_count": null,
      "outputs": []
    },
    {
      "cell_type": "code",
      "source": [
        "for i in range(0,5):\n",
        "    for j in range(i+1,5):\n",
        "          combination_score = pow(E5_RU_matrix[i,j], 0.5) * pow(E5_TOP_matrix[i,j], 0.5)\n",
        "          E5_TOT_matrix[i,j] = combination_score\n",
        "          E5_TOT_matrix[j,i] = combination_score\n"
      ],
      "metadata": {
        "id": "GhQq-VUxzSgg"
      },
      "execution_count": null,
      "outputs": []
    },
    {
      "cell_type": "code",
      "source": [
        "pow(3,4)"
      ],
      "metadata": {
        "colab": {
          "base_uri": "https://localhost:8080/"
        },
        "id": "HjujRLgPzwQ7",
        "outputId": "d988faa7-d99b-453e-bbbe-8d0c7589e0f8"
      },
      "execution_count": null,
      "outputs": [
        {
          "output_type": "execute_result",
          "data": {
            "text/plain": [
              "81"
            ]
          },
          "metadata": {},
          "execution_count": 69
        }
      ]
    },
    {
      "cell_type": "code",
      "source": [
        "PolymerE4[0]"
      ],
      "metadata": {
        "colab": {
          "base_uri": "https://localhost:8080/"
        },
        "id": "pLlf0CxFqo3r",
        "outputId": "c3b9f9d2-ff96-4c54-c59b-1c8121fc05c2"
      },
      "execution_count": null,
      "outputs": [
        {
          "output_type": "execute_result",
          "data": {
            "text/plain": [
              "<__main__.Polymer at 0x7fc923db38b0>"
            ]
          },
          "metadata": {},
          "execution_count": 24
        }
      ]
    },
    {
      "cell_type": "code",
      "source": [
        "STOT12, SRU12, STOP12, SEG12 = Similarity_Score_Two_Polymer(query = PolymerE5_1,\n",
        "                             target = PolymerE5_2,\n",
        "                             #level_weight = True,\n",
        "                             #level_ratio = 3,\n",
        "                             embedding_function = 'MorganFingerprint',\n",
        "                             similarity_score_function = 'Tanimoto',\n",
        "                             restrain_emd = False,\n",
        "                             alpha=1,\n",
        "                             Repeat_Unit_Weight=0.475,\n",
        "                             Graph_Weight=0.475,\n",
        "                             End_Group_Weight = 0.05,\n",
        "                             Mean_Function = 'geometric',\n",
        "                             details_print=True)"
      ],
      "metadata": {
        "colab": {
          "base_uri": "https://localhost:8080/"
        },
        "id": "sgSeooUzOFS9",
        "outputId": "7d78c5f2-2a75-40b8-efca-571e9612f993"
      },
      "execution_count": null,
      "outputs": [
        {
          "output_type": "stream",
          "name": "stdout",
          "text": [
            "Target smiles list has different levels\n",
            "P1 ->Q1 0.0\n",
            "P1 ->Q2 0.962962962962963\n",
            "P1 ->Q3 0.962962962962963\n",
            "P1 ->Q4 0.5\n",
            "P1 ->Q5 0.7272727272727273\n",
            "P2 ->Q1 0.962962962962963\n",
            "P2 ->Q2 0.0\n",
            "P2 ->Q3 0.0\n",
            "P2 ->Q4 0.9642857142857143\n",
            "P2 ->Q5 0.9523809523809523\n",
            "Missing query smiles list\n",
            "Details of the Similarity Score:\n",
            "\n",
            "Similarity score on Repeating Unit =  0.7559523839166666 , Weight for Repeating Unit =  0.475\n",
            "Similarity score on Graph =  1.0 , Weight for Graph =  0.475\n",
            "Similarity score on End Group =  None , Weight for End Group =  0.05\n",
            "Similarity score Combined in geometric mean =  0.8755578768142843\n",
            "\n",
            "\n"
          ]
        }
      ]
    },
    {
      "cell_type": "code",
      "source": [],
      "metadata": {
        "id": "IoYaNSq-11TD"
      },
      "execution_count": null,
      "outputs": []
    },
    {
      "cell_type": "code",
      "source": [
        "import seaborn as sns\n",
        "import matplotlib.pyplot as plt\n",
        "import numpy as np"
      ],
      "metadata": {
        "id": "yBwKb3za3dch"
      },
      "execution_count": null,
      "outputs": []
    },
    {
      "cell_type": "code",
      "source": [
        "fig,ax = plt.subplots(figsize=(6,5))\n",
        "\n",
        "ax = sns.heatmap(E5_RU_matrix, linewidth=0.3, annot=True, fmt=\".2f\" , cbar_kws={'label': 'Similarity Score'})\n",
        "\n",
        "x_labels = [\"E4-1\", \"E4-2\", \"E4-3\", \"E4-4\", \"E4-5\"]\n",
        "y_labels = [\"E4-1\", \"E4-2\", \"E4-3\", \"E4-4\", \"E4-5\"]\n",
        "#ax.set_xticks([x_to_num[v] for v in x_labels])\n",
        "ax.set_xticklabels(x_labels, rotation=0, horizontalalignment='center')\n",
        "#ax.set_yticks([y_to_num[v] for v in y_labels])\n",
        "ax.set_yticklabels(y_labels, rotation=360, horizontalalignment='right')\n",
        "ax.set_xlabel(r\"$\\lambda_1$\", size =24)\n",
        "ax.set_ylabel(r\"$\\lambda_2$\", size = 24)\n",
        "resolution_value = 1200\n",
        "#plt.savefig(\"myImage_heatmap.png\", format=\"png\", dpi=resolution_value , bbox_inches='tight')\n",
        "\n",
        "plt.show()"
      ],
      "metadata": {
        "colab": {
          "base_uri": "https://localhost:8080/",
          "height": 355
        },
        "id": "vEkrHSJ-3fTh",
        "outputId": "0fe9d429-3951-4cf4-cc89-1fbe5e5062f9"
      },
      "execution_count": null,
      "outputs": [
        {
          "output_type": "display_data",
          "data": {
            "text/plain": [
              "<Figure size 432x360 with 2 Axes>"
            ],
            "image/png": "[encoded data removed]"
          },
          "metadata": {
            "needs_background": "light"
          }
        }
      ]
    },
    {
      "cell_type": "code",
      "source": [
        "fig,ax = plt.subplots(figsize=(6,5))\n",
        "\n",
        "ax = sns.heatmap(E5_TOT_matrix, linewidth=0.3, annot=True, fmt=\".2f\" , cbar_kws={'label': 'Similarity Score'})\n",
        "\n",
        "x_labels = [\"E4-1\", \"E4-2\", \"E4-3\", \"E4-4\", \"E4-5\"]\n",
        "y_labels = [\"E4-1\", \"E4-2\", \"E4-3\", \"E4-4\", \"E4-5\"]\n",
        "#ax.set_xticks([x_to_num[v] for v in x_labels])\n",
        "ax.set_xticklabels(x_labels, rotation=0, horizontalalignment='center')\n",
        "#ax.set_yticks([y_to_num[v] for v in y_labels])\n",
        "ax.set_yticklabels(y_labels, rotation=360, horizontalalignment='right')\n",
        "ax.set_xlabel(r\"$\\lambda_1$\", size =24)\n",
        "ax.set_ylabel(r\"$\\lambda_2$\", size = 24)\n",
        "resolution_value = 1200\n",
        "#plt.savefig(\"myImage_heatmap.png\", format=\"png\", dpi=resolution_value , bbox_inches='tight')\n",
        "\n",
        "plt.show()"
      ],
      "metadata": {
        "colab": {
          "base_uri": "https://localhost:8080/",
          "height": 355
        },
        "id": "j-eFhRG63hYp",
        "outputId": "bbc2139d-f37e-43ec-9f9a-4b999b0c9b04"
      },
      "execution_count": null,
      "outputs": [
        {
          "output_type": "display_data",
          "data": {
            "text/plain": [
              "<Figure size 432x360 with 2 Axes>"
            ],
            "image/png": "[encoded data removed]"
          },
          "metadata": {
            "needs_background": "light"
          }
        }
      ]
    },
    {
      "cell_type": "code",
      "source": [
        "\n",
        "fig,ax = plt.subplots(figsize=(6,5))\n",
        "\n",
        "ax = sns.heatmap(E5_TOP_matrix, linewidth=0.3, annot=True, fmt=\".2f\" , cbar_kws={'label': 'Similarity Score'})\n",
        "\n",
        "x_labels = [\"E4-1\", \"E4-2\", \"E4-3\", \"E4-4\", \"E4-5\"]\n",
        "y_labels = [\"E4-1\", \"E4-2\", \"E4-3\", \"E4-4\", \"E4-5\"]\n",
        "#ax.set_xticks([x_to_num[v] for v in x_labels])\n",
        "ax.set_xticklabels(x_labels, rotation=0, horizontalalignment='center')\n",
        "#ax.set_yticks([y_to_num[v] for v in y_labels])\n",
        "ax.set_yticklabels(y_labels, rotation=360, horizontalalignment='right')\n",
        "ax.set_xlabel(r\"$\\lambda_1$\", size =24)\n",
        "ax.set_ylabel(r\"$\\lambda_2$\", size = 24)\n",
        "resolution_value = 1200\n",
        "#plt.savefig(\"myImage_heatmap.png\", format=\"png\", dpi=resolution_value , bbox_inches='tight')\n",
        "\n",
        "plt.show()"
      ],
      "metadata": {
        "colab": {
          "base_uri": "https://localhost:8080/",
          "height": 355
        },
        "id": "2E7o9-dY4R_k",
        "outputId": "e1031a69-e3a1-48bc-ac3f-133ef84836e6"
      },
      "execution_count": null,
      "outputs": [
        {
          "output_type": "display_data",
          "data": {
            "text/plain": [
              "<Figure size 432x360 with 2 Axes>"
            ],
            "image/png": "[encoded data removed]"
          },
          "metadata": {
            "needs_background": "light"
          }
        }
      ]
    },
    {
      "cell_type": "code",
      "source": [
        "from scipy import io"
      ],
      "metadata": {
        "id": "wuEKKP1E7Y4r"
      },
      "execution_count": null,
      "outputs": []
    },
    {
      "cell_type": "code",
      "source": [
        "io.savemat(\"E5_TOT_matrix.mat\", {\"E5_TOT_matrix\": E5_TOT_matrix})\n",
        "io.savemat(\"E5_RU_matrix.mat\", {\"E5_RU_matrix\": E5_RU_matrix})\n",
        "io.savemat(\"E5_TOP_matrix.mat\", {\"E5_TOP_matrix\": E5_TOP_matrix})\n",
        "#io.savemat(\"E4_EG_matrix.mat\", {\"E4_EG_matrix\": E4_EG_matrix})"
      ],
      "metadata": {
        "id": "5FH8AWeY7bjk"
      },
      "execution_count": null,
      "outputs": []
    },
    {
      "cell_type": "code",
      "source": [
        "from google.colab import drive\n",
        "drive.mount('/content/gdrive')\n",
        "\n",
        "import os"
      ],
      "metadata": {
        "id": "aTuUVhN97gaW",
        "colab": {
          "base_uri": "https://localhost:8080/"
        },
        "outputId": "e7c983cd-5951-40f9-d0ea-19fa36b9dda5"
      },
      "execution_count": null,
      "outputs": [
        {
          "output_type": "stream",
          "name": "stdout",
          "text": [
            "Mounted at /content/gdrive\n"
          ]
        }
      ]
    },
    {
      "cell_type": "code",
      "source": [
        "path = \"gdrive/My Drive/Poly\"\n",
        "os.mkdir(path)"
      ],
      "metadata": {
        "id": "zJ7jEORM1AOD"
      },
      "execution_count": null,
      "outputs": []
    }
  ]
}