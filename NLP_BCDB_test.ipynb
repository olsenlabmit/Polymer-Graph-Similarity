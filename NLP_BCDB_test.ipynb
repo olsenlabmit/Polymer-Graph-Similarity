{
  "nbformat": 4,
  "nbformat_minor": 0,
  "metadata": {
    "colab": {
      "provenance": []
    },
    "kernelspec": {
      "name": "python3",
      "display_name": "Python 3"
    },
    "language_info": {
      "name": "python"
    }
  },
  "cells": [
    {
      "cell_type": "code",
      "execution_count": 1,
      "metadata": {
        "colab": {
          "base_uri": "https://localhost:8080/"
        },
        "id": "R-cFkseUNjGi",
        "outputId": "a7a44c0e-9b5d-4ef6-ad2e-9b0c8152e96a"
      },
      "outputs": [
        {
          "output_type": "stream",
          "name": "stdout",
          "text": [
            "Looking in indexes: https://pypi.org/simple, https://us-python.pkg.dev/colab-wheels/public/simple/\n",
            "Requirement already satisfied: pdfminer.six in /usr/local/lib/python3.9/dist-packages (20221105)\n",
            "Requirement already satisfied: charset-normalizer>=2.0.0 in /usr/local/lib/python3.9/dist-packages (from pdfminer.six) (2.0.12)\n",
            "Requirement already satisfied: cryptography>=36.0.0 in /usr/local/lib/python3.9/dist-packages (from pdfminer.six) (40.0.1)\n",
            "Requirement already satisfied: cffi>=1.12 in /usr/local/lib/python3.9/dist-packages (from cryptography>=36.0.0->pdfminer.six) (1.15.1)\n",
            "Requirement already satisfied: pycparser in /usr/local/lib/python3.9/dist-packages (from cffi>=1.12->cryptography>=36.0.0->pdfminer.six) (2.21)\n",
            "Colab only includes TensorFlow 2.x; %tensorflow_version has no effect.\n",
            "2.12.0\n"
          ]
        }
      ],
      "source": [
        "import re\n",
        "!pip install pdfminer.six\n",
        "from pdfminer.high_level import extract_text\n",
        "##library\n",
        "import pandas as pd\n",
        "import numpy as np\n",
        "import matplotlib.pyplot as plt\n",
        "from sklearn.feature_extraction.text import TfidfVectorizer\n",
        "from sklearn.metrics.pairwise import cosine_similarity\n",
        "from sklearn.decomposition import PCA\n",
        "\n",
        "# Use tensorflow version 2. This is for Colab.\n",
        "%tensorflow_version 2.x\n",
        "\n",
        "import tensorflow as tf\n",
        "print (tf.__version__)\n",
        "import tensorflow_hub as hub\n",
        "from sklearn import preprocessing\n",
        "\n",
        "from IPython.display import HTML\n",
        "import logging\n",
        "logging.getLogger('tensorflow').disabled = True #OPTIONAL - to disable outputs from Tensorflow"
      ]
    },
    {
      "cell_type": "code",
      "source": [
        "def extract_abstract_body(file_path):\n",
        "    # Extract text from PDF\n",
        "    text = extract_text(file_path)\n",
        "    #print(text)\n",
        "\n",
        "    # Regular expressions to locate abstract \n",
        "    abstract_pattern = re.compile(r'ABSTRACT: (.*?)\\n\\n', re.DOTALL)\n",
        "    \n",
        "    # Find abstract and body in the extracted text\n",
        "    abstract_match = abstract_pattern.search(text)\n",
        "\n",
        "    abstract = abstract_match.group(1).strip() if abstract_match else \"Abstract not found\"\n",
        "    abstract = abstract.replace('\\n', ' ')\n",
        "    if \"KEYWORDS\" in abstract:\n",
        "        index = abstract.find(\"KEYWORDS\")\n",
        "        abstract = abstract[:index]\n",
        "\n",
        "    text = text.replace('\\n', ' ')\n",
        "\n",
        "    if \"ASSOCIATED CONTENT\" in text:\n",
        "        index = text.find(\"ASSOCIATED CONTENT\")\n",
        "        text = text[:index]\n",
        "    else:\n",
        "        index = text.find(\"REFERENCE\")\n",
        "        text = text[:index]\n",
        "\n",
        "    return abstract, text"
      ],
      "metadata": {
        "id": "vccTSEDhNqLH"
      },
      "execution_count": 2,
      "outputs": []
    },
    {
      "cell_type": "code",
      "source": [
        "file_names = [\"acspolymersau.2c00009.pdf\", \"acscentsci.9b00476.pdf\", \"ma302048y.pdf\"]\n",
        "\n",
        "abstracts = []\n",
        "\n",
        "texts = []\n",
        "\n",
        "for i in range(0, len(file_names)):\n",
        "    abstract, text = extract_abstract_body(file_names[i])\n",
        "\n",
        "    abstracts.append(abstract)\n",
        "\n",
        "    texts.append(text)"
      ],
      "metadata": {
        "id": "hrrji24yQhXM"
      },
      "execution_count": 3,
      "outputs": []
    },
    {
      "cell_type": "markdown",
      "source": [
        "# Input your query"
      ],
      "metadata": {
        "id": "1zE-xR8BVhJ2"
      }
    },
    {
      "cell_type": "code",
      "source": [
        "inquery = \"experimental work about block copolymer phase behavior \""
      ],
      "metadata": {
        "id": "Di0mnx-aVP6v"
      },
      "execution_count": 4,
      "outputs": []
    },
    {
      "cell_type": "markdown",
      "source": [
        "# TF_IDF"
      ],
      "metadata": {
        "id": "CU_DtckTSm5z"
      }
    },
    {
      "cell_type": "code",
      "source": [
        "def ranking_tf_idf(inquery, data, file_names, number_to_return):\n",
        "    vectorizer = TfidfVectorizer()\n",
        "\n",
        "    n = len(data)\n",
        "    if n <=0:\n",
        "\n",
        "        return\n",
        "        \n",
        "    tf_idf = vectorizer.fit_transform(data)\n",
        "\n",
        "\n",
        "    qtf_idf = vectorizer.transform([inquery])\n",
        "\n",
        "    res = cosine_similarity(tf_idf, qtf_idf)\n",
        "\n",
        "    res1 = res.ravel().argsort()[-n:]\n",
        "\n",
        "    res1 = res1.tolist()\n",
        "    res1.reverse()\n",
        "\n",
        "\n",
        "    for i in range(0, len(res1)):\n",
        "        print(i+1, file_names[res1[i]],\n",
        "              \" cosine similarity = \", \n",
        "              res[res1[i]][0],'\\n')"
      ],
      "metadata": {
        "id": "oPRGqtrbWjfi"
      },
      "execution_count": 5,
      "outputs": []
    },
    {
      "cell_type": "code",
      "source": [
        "ranking_tf_idf(inquery, abstracts, file_names, 3)"
      ],
      "metadata": {
        "colab": {
          "base_uri": "https://localhost:8080/"
        },
        "id": "x0dOE8ZIjpjq",
        "outputId": "b20788b1-38f9-46ed-b601-c60bb7f20db9"
      },
      "execution_count": 6,
      "outputs": [
        {
          "output_type": "stream",
          "name": "stdout",
          "text": [
            "1 ma302048y.pdf  cosine similarity =  0.07326575733453383 \n",
            "\n",
            "2 acspolymersau.2c00009.pdf  cosine similarity =  0.03869436906702286 \n",
            "\n",
            "3 acscentsci.9b00476.pdf  cosine similarity =  0.017563242690388076 \n",
            "\n"
          ]
        }
      ]
    },
    {
      "cell_type": "markdown",
      "source": [],
      "metadata": {
        "id": "FFuPMDrMWy1N"
      }
    },
    {
      "cell_type": "code",
      "source": [
        "ranking_tf_idf(inquery, texts, file_names, 3)"
      ],
      "metadata": {
        "colab": {
          "base_uri": "https://localhost:8080/"
        },
        "id": "iLVc01YzXCva",
        "outputId": "d183200c-6c0e-4010-84ad-0c5528f2c8d8"
      },
      "execution_count": 7,
      "outputs": [
        {
          "output_type": "stream",
          "name": "stdout",
          "text": [
            "1 ma302048y.pdf  cosine similarity =  0.08011192161033635 \n",
            "\n",
            "2 acspolymersau.2c00009.pdf  cosine similarity =  0.008109818546533996 \n",
            "\n",
            "3 acscentsci.9b00476.pdf  cosine similarity =  0.006236318206144024 \n",
            "\n"
          ]
        }
      ]
    },
    {
      "cell_type": "markdown",
      "source": [
        "# ELMO"
      ],
      "metadata": {
        "id": "hCpJ6PTJS4oQ"
      }
    },
    {
      "cell_type": "code",
      "source": [
        "def ranking_elmo(inquery, data, file_names, number_to_return):\n",
        "\n",
        "    n = len(data)\n",
        "    if n <=0:\n",
        "\n",
        "        return\n",
        "\n",
        "    url = \"https://tfhub.dev/google/elmo/3\" # get the model for the embeddings\n",
        "\n",
        "    embed = hub.load(url)\n",
        "\n",
        "    elmo_embeddings = embed.signatures['default'](tf.convert_to_tensor(data))['default']\n",
        "\n",
        "    elmo_search_vect = embed.signatures['default'](tf.convert_to_tensor([inquery]))['default']\n",
        "\n",
        "    elmo_res = cosine_similarity(elmo_search_vect,elmo_embeddings).flatten()\n",
        "\n",
        "    elmo_res1 = elmo_res.ravel().argsort()[-len(elmo_res):]\n",
        "\n",
        "    elmo_res1 = elmo_res1.tolist()\n",
        "\n",
        "    elmo_res1.reverse()\n",
        "\n",
        "    for i in range(0, len(elmo_res1)):\n",
        "        print(i+1, \n",
        "              file_names[elmo_res1[i]], \n",
        "              \"cosine similarity = \", \n",
        "              elmo_res[elmo_res1[i]], '\\n')\n",
        "\n"
      ],
      "metadata": {
        "id": "MbOseJp_inII"
      },
      "execution_count": 10,
      "outputs": []
    },
    {
      "cell_type": "code",
      "source": [
        "ranking_elmo(inquery, abstracts, file_names, 3)"
      ],
      "metadata": {
        "colab": {
          "base_uri": "https://localhost:8080/"
        },
        "id": "mQFnQKixjAYf",
        "outputId": "2749a43b-6ec7-4a2a-b06f-e8465df4796e"
      },
      "execution_count": 11,
      "outputs": [
        {
          "output_type": "stream",
          "name": "stdout",
          "text": [
            "1 acscentsci.9b00476.pdf cosine similarity =  0.644523 \n",
            "\n",
            "2 acspolymersau.2c00009.pdf cosine similarity =  0.62242067 \n",
            "\n",
            "3 ma302048y.pdf cosine similarity =  0.55268824 \n",
            "\n"
          ]
        }
      ]
    },
    {
      "cell_type": "code",
      "source": [
        "ranking_elmo(inquery, texts, file_names, 3)"
      ],
      "metadata": {
        "id": "qwqPILEQj6h2"
      },
      "execution_count": null,
      "outputs": []
    },
    {
      "cell_type": "code",
      "source": [],
      "metadata": {
        "id": "CIH42N5dj7vJ"
      },
      "execution_count": null,
      "outputs": []
    }
  ]
}