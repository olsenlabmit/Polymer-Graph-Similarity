{
  "nbformat": 4,
  "nbformat_minor": 0,
  "metadata": {
    "colab": {
      "provenance": []
    },
    "kernelspec": {
      "name": "python3",
      "display_name": "Python 3"
    },
    "language_info": {
      "name": "python"
    }
  },
  "cells": [
    {
      "cell_type": "markdown",
      "source": [
        "[Open in Colab](https://colab.research.google.com/drive/1NxOwSjBg3_9zcBKLzUmRUdPgexlCc_6w?usp=sharing)"
      ],
      "metadata": {
        "id": "CXmM10ah1o5r"
      }
    },
    {
      "cell_type": "markdown",
      "source": [
        "# 1. Imports Necessary Library"
      ],
      "metadata": {
        "id": "-9n8-Ciyiy7G"
      }
    },
    {
      "cell_type": "code",
      "source": [
        "import numpy as np\n",
        "import networkx as nx\n",
        "import matplotlib.pyplot as plt\n",
        "import shutil\n",
        "import sys\n",
        "import os.path\n",
        "\n",
        "#necessary library\n",
        "!pip install -q rdkit\n",
        "from rdkit import Chem\n",
        "from rdkit import DataStructs\n",
        "from rdkit.Chem import AllChem\n",
        "from rdkit.Chem import MACCSkeys\n",
        "from rdkit.Chem.AtomPairs import Pairs\n",
        "\n",
        "\n",
        "if not shutil.which(\"pyomo\"):\n",
        "    !pip install -q pyomo\n",
        "    assert(shutil.which(\"pyomo\"))\n",
        "\n",
        "if not (shutil.which(\"cbc\") or os.path.isfile(\"cbc\")):\n",
        "    if \"google.colab\" in sys.modules:\n",
        "        !apt-get install -y -qq coinor-cbc\n",
        "        print(\"install cbc\")\n",
        "    else:\n",
        "        try:\n",
        "            !conda install -c conda-forge coincbc \n",
        "            print(\"install cbc-2\")\n",
        "        except:\n",
        "            print(\"skip cbc\")\n",
        "            pass\n",
        "            \n",
        "\n",
        "assert(shutil.which(\"cbc\") or os.path.isfile(\"cbc\"))\n",
        "    \n",
        "from pyomo.environ import *"
      ],
      "metadata": {
        "id": "psnOpmYlL_sw",
        "colab": {
          "base_uri": "https://localhost:8080/"
        },
        "outputId": "956fa084-d2ad-4339-ea18-2d658d27b4d8"
      },
      "execution_count": null,
      "outputs": [
        {
          "output_type": "stream",
          "name": "stdout",
          "text": [
            "\u001b[K     |████████████████████████████████| 29.3 MB 1.6 MB/s \n",
            "\u001b[K     |████████████████████████████████| 11.1 MB 7.9 MB/s \n",
            "\u001b[K     |████████████████████████████████| 49 kB 2.1 MB/s \n",
            "\u001b[?25hSelecting previously unselected package coinor-libcoinutils3v5.\n",
            "(Reading database ... 124016 files and directories currently installed.)\n",
            "Preparing to unpack .../0-coinor-libcoinutils3v5_2.10.14+repack1-1_amd64.deb ...\n",
            "Unpacking coinor-libcoinutils3v5 (2.10.14+repack1-1) ...\n",
            "Selecting previously unselected package coinor-libosi1v5.\n",
            "Preparing to unpack .../1-coinor-libosi1v5_0.107.9+repack1-1_amd64.deb ...\n",
            "Unpacking coinor-libosi1v5 (0.107.9+repack1-1) ...\n",
            "Selecting previously unselected package coinor-libclp1.\n",
            "Preparing to unpack .../2-coinor-libclp1_1.16.11+repack1-1_amd64.deb ...\n",
            "Unpacking coinor-libclp1 (1.16.11+repack1-1) ...\n",
            "Selecting previously unselected package coinor-libcgl1.\n",
            "Preparing to unpack .../3-coinor-libcgl1_0.59.10+repack1-1_amd64.deb ...\n",
            "Unpacking coinor-libcgl1 (0.59.10+repack1-1) ...\n",
            "Selecting previously unselected package coinor-libcbc3.\n",
            "Preparing to unpack .../4-coinor-libcbc3_2.9.9+repack1-1_amd64.deb ...\n",
            "Unpacking coinor-libcbc3 (2.9.9+repack1-1) ...\n",
            "Selecting previously unselected package coinor-cbc.\n",
            "Preparing to unpack .../5-coinor-cbc_2.9.9+repack1-1_amd64.deb ...\n",
            "Unpacking coinor-cbc (2.9.9+repack1-1) ...\n",
            "Setting up coinor-libcoinutils3v5 (2.10.14+repack1-1) ...\n",
            "Setting up coinor-libosi1v5 (0.107.9+repack1-1) ...\n",
            "Setting up coinor-libclp1 (1.16.11+repack1-1) ...\n",
            "Setting up coinor-libcgl1 (0.59.10+repack1-1) ...\n",
            "Setting up coinor-libcbc3 (2.9.9+repack1-1) ...\n",
            "Setting up coinor-cbc (2.9.9+repack1-1) ...\n",
            "Processing triggers for man-db (2.8.3-2ubuntu0.1) ...\n",
            "Processing triggers for libc-bin (2.27-3ubuntu1.6) ...\n",
            "install cbc\n"
          ]
        }
      ]
    },
    {
      "cell_type": "markdown",
      "source": [
        "# 2. Similarity Score Function"
      ],
      "metadata": {
        "id": "D2aVwhkeZcX8"
      }
    },
    {
      "cell_type": "markdown",
      "source": [
        "## 2.1. Similarity score of earth mover's distance for repeating units ensemble and end group ensemble "
      ],
      "metadata": {
        "id": "HsMcsqU-Pv6Y"
      }
    },
    {
      "cell_type": "code",
      "source": [
        "#from pyomo.common.fileutils import Executable\n",
        "def Similarity_Score_EMD(query_smiles_list = None, \n",
        "                         query_smiles_level_list = None, \n",
        "                         target_smiles_list = None, \n",
        "                         target_smiles_level_list = None,\n",
        "                         #level_weight = False,\n",
        "                         #level_ratio = 3,\n",
        "                         embedding_function = 'MorganFingerprint', #\n",
        "                         similarity_score_function = 'Tanimoto', # Dice, Cosine\n",
        "                         restrain_emd = False):\n",
        "  \n",
        "    #obtain the length of query smiles list and target smiles list\n",
        "    if query_smiles_list != None:\n",
        "        query_smiles_list_length = len(query_smiles_list)\n",
        "    else:\n",
        "        print (\"Missing query smiles list\")\n",
        "        return    \n",
        "\n",
        "    if target_smiles_list != None:\n",
        "        target_smiles_list_length = len(target_smiles_list)\n",
        "    else:\n",
        "        print (\"Missing target smiles list\")\n",
        "        return\n",
        "    \n",
        "    if set(query_smiles_list) == set(target_smiles_list):\n",
        "        query_smiles_array = np.array(query_smiles_list)\n",
        "        query_smiles_level_array = np.array(query_smiles_level_list)\n",
        "        inds_query = query_smiles_array.argsort()\n",
        "        sorted_query_smiles_array = query_smiles_array[inds_query]\n",
        "        sorted_query_smiles_level_array = query_smiles_level_array[inds_query]\n",
        "\n",
        "        target_smiles_array = np.array(target_smiles_list)\n",
        "        target_smiles_level_array = np.array(target_smiles_level_list)\n",
        "        inds_target = target_smiles_array.argsort()\n",
        "        sorted_target_smiles_array = target_smiles_array[inds_target]\n",
        "        sorted_target_smiles_level_array = target_smiles_level_array[inds_target]\n",
        "\n",
        "        if np.array_equal(sorted_query_smiles_array, sorted_target_smiles_array) and np.array_equal(sorted_query_smiles_level_array, sorted_target_smiles_level_array):\n",
        "            return 1\n",
        "\n",
        "        query_smiles_reduced_list = list(set(query_smiles_list))\n",
        "        query_smiles_reduced_list_number = []\n",
        "        for i in range(0, len(query_smiles_reduced_list)):\n",
        "            query_smiles_reduced_list_number_i  = 0\n",
        "            for j in range(0, len(query_smiles_list)):\n",
        "                if query_smiles_reduced_list[i] == query_smiles_list[j]:\n",
        "                    query_smiles_reduced_list_number_i = query_smiles_reduced_list_number_i   + query_smiles_level_list[j]\n",
        "            query_smiles_reduced_list_number.append(query_smiles_reduced_list_number_i/sum(query_smiles_level_list))\n",
        "\n",
        "        target_smiles_reduced_list = list(set(target_smiles_list))\n",
        "        target_smiles_reduced_list_number = []\n",
        "        for i in range(0, len(target_smiles_reduced_list)):\n",
        "            target_smiles_reduced_list_number_i  = 0\n",
        "            for j in range(0, len(target_smiles_list)):\n",
        "                if target_smiles_reduced_list[i] == target_smiles_list[j]:\n",
        "                    target_smiles_reduced_list_number_i = target_smiles_reduced_list_number_i   + target_smiles_level_list[j]\n",
        "            target_smiles_reduced_list_number.append(target_smiles_reduced_list_number_i/sum(target_smiles_level_list))\n",
        "\n",
        "        if query_smiles_reduced_list_number == target_smiles_reduced_list_number:\n",
        "            #print(\"check3\")\n",
        "            return 1.0\n",
        "\n",
        "\n",
        "    Demand = {}\n",
        "    Supply = {}\n",
        "    T = {}\n",
        "\n",
        "    if query_smiles_level_list == None or len(set(query_smiles_level_list)) ==1:\n",
        "        for i in range(0, query_smiles_list_length):\n",
        "            Demand[\"P\" + str(i+1)] = 1/query_smiles_list_length\n",
        "    else:\n",
        "        print(\"Query smiles list has different levels\")\n",
        "        #query_weight_sum = sum(query_smiles_level_list)\n",
        "        #level 1, weight = 1; level 2, weight = 3^1;  level n, weight = 3^n-1\n",
        "        query_weight_sum = 0.0\n",
        "        for i in range(0, query_smiles_list_length):\n",
        "            query_weight_sum = query_weight_sum + query_smiles_level_list[i]\n",
        "\n",
        "        for i in range(0, query_smiles_list_length):\n",
        "            Demand[\"P\" + str(i+1)] = query_smiles_level_list[i]/query_weight_sum\n",
        "            #print(\"P\" + str(i+1), Demand[\"P\" + str(i+1)])\n",
        "\n",
        "\n",
        "    if target_smiles_level_list == None or len(set(target_smiles_level_list)) ==1:       \n",
        "        for j in range(0,target_smiles_list_length):\n",
        "            Supply[\"Q\" + str(j+1)] = 1/target_smiles_list_length\n",
        "    else:\n",
        "        print(\"Target smiles list has different levels\")\n",
        "        \n",
        "        target_weight_sum = 0.0\n",
        "        for j in range(0, target_smiles_list_length):\n",
        "            target_weight_sum = target_weight_sum + target_smiles_level_list[j]\n",
        "\n",
        "        for j in range(0, target_smiles_list_length):\n",
        "            Supply[\"Q\" + str(j+1)] = target_smiles_level_list[j]/target_weight_sum\n",
        "            #print(\"Q\" + str(j+1), Supply[\"Q\" + str(j+1)])\n",
        "\n",
        "\n",
        "    # embedding function and similarity \n",
        "    for i in range(0,query_smiles_list_length):\n",
        "            for j in range(0,target_smiles_list_length):\n",
        "                if (query_smiles_list[i] == '*H') and (target_smiles_list[j] !='*H'):\n",
        "\n",
        "                    T[(\"P\" + str(i+1), \"Q\" + str(j+1))] = 1.0\n",
        "\n",
        "                elif (query_smiles_list[i] != '*H') and (target_smiles_list[j] =='*H'):\n",
        "\n",
        "                    T[(\"P\" + str(i+1), \"Q\" + str(j+1))] = 1.0\n",
        "                \n",
        "                elif (query_smiles_list[i] == '*H') and (target_smiles_list[j] =='*H'):\n",
        "\n",
        "                    T[(\"P\" + str(i+1), \"Q\" + str(j+1))] = 0.0\n",
        "\n",
        "                elif (query_smiles_list[i] != '*H') and (target_smiles_list[j] !='*H'):\n",
        "                    FP_i = 0.0 \n",
        "                    FP_j = 0.0\n",
        "\n",
        "                    if embedding_function == 'MorganFingerprint':   \n",
        "                        FP_i = AllChem.GetMorganFingerprintAsBitVect(Chem.MolFromSmiles(query_smiles_list[i]),2,nBits=2048)\n",
        "                        FP_j = AllChem.GetMorganFingerprintAsBitVect(Chem.MolFromSmiles(target_smiles_list[j]),2,nBits=2048)\n",
        "\n",
        "                    elif embedding_function == 'RDKFingerprint': \n",
        "                        FP_i = Chem.RDKFingerprint(Chem.MolFromSmiles(query_smiles_list[i]))\n",
        "                        FP_j = Chem.RDKFingerprint(Chem.MolFromSmiles(target_smiles_list[j]))\n",
        "                    elif embedding_function == 'MACCSkeys':  \n",
        "                        FP_i = MACCSkeys.GenMACCSKeys(Chem.MolFromSmiles(query_smiles_list[i]))\n",
        "                        FP_j = MACCSkeys.GenMACCSKeys(Chem.MolFromSmiles(target_smiles_list[j]))\n",
        "                    else: \n",
        "                        print(embedding_function + \" is not included in the current vision, please choose an available embedding function.\");\n",
        "                        return False  \n",
        "\n",
        "\n",
        "                # calculate the fingerprint similarityscore between query[i],target[j] and input the distance = 1- similarityscore\n",
        "                    if similarity_score_function == 'Tanimoto':\n",
        "                        T[(\"P\" + str(i+1), \"Q\" + str(j+1))] = 1 - DataStructs.FingerprintSimilarity(FP_i, FP_j)\n",
        "                        print(\"P\" + str(i+1), \"->Q\" + str(j+1), T[(\"P\" + str(i+1), \"Q\" + str(j+1))] )\n",
        "\n",
        "                    elif similarity_score_function == 'Dice':\n",
        "                        T[(\"P\" + str(i+1), \"Q\" + str(j+1))] = 1 - DataStructs.FingerprintSimilarity(FP_i, FP_j, metric=DataStructs.DiceSimilarity)\n",
        "\n",
        "\n",
        "                    elif similarity_score_function == 'Cosine':\n",
        "                        T[(\"P\" + str(i+1), \"Q\" + str(j+1))] = 1 - DataStructs.FingerprintSimilarity(FP_i, FP_j, metric=DataStructs.CosineSimilarity)\n",
        "                    \n",
        "\n",
        "                    else:\n",
        "                        print(similarity_score_function + \" is not included in the current vision, please choose an available similarity function.\");\n",
        "                        return\n",
        "\n",
        "    \n",
        "\n",
        "    #print(len(Demand), len(Supply), len(T))\n",
        "    # Step 0: Create an instance of the model\n",
        "    model = ConcreteModel()\n",
        "    model.dual = Suffix(direction=Suffix.IMPORT)\n",
        "\n",
        "    # Step 1: Define index sets\n",
        "    CUS = list(Demand.keys())\n",
        "    SRC = list(Supply.keys())\n",
        "\n",
        "    # Step 2: Define the decision \n",
        "    model.x = Var(CUS, SRC, domain = NonNegativeReals)\n",
        "\n",
        "    # Step 3: Define Objective\n",
        "    model.Cost = Objective(\n",
        "    expr = sum([T[c,s]*model.x[c,s] for c in CUS for s in SRC]),\n",
        "    sense = minimize)\n",
        "\n",
        "    # Step 4: Constraints\n",
        "    model.src = ConstraintList()\n",
        "    for s in SRC:\n",
        "        model.src.add(sum([model.x[c,s] for c in CUS]) == Supply[s])\n",
        "        \n",
        "    model.dmd = ConstraintList()\n",
        "    for c in CUS:\n",
        "        model.dmd.add(sum([model.x[c,s] for s in SRC]) == Demand[c])\n",
        "\n",
        "    # add restrain to the EMD\n",
        "    if restrain_emd == True: \n",
        "        model.restrain = ConstraintList()\n",
        "        for i in range(0,query_smiles_list_length):\n",
        "            model.restrain.add(model.x[CUS[i],SRC[i]] == Supply[\"Q\" + str(i+1)])\n",
        "    \n",
        "    results = SolverFactory('cbc').solve(model)\n",
        "\n",
        "\n",
        "    if 'ok' == str(results.Solver.status):\n",
        "        #print(\"EMD(P,Q) = \",model.Cost())\n",
        "        #print (\"\\n\")\n",
        "        #print(\"S(P,Q) = \", 1- model.Cost())\n",
        "        SimilarityScore = 1- model.Cost()\n",
        "        return SimilarityScore\n",
        "        \n",
        "    else:\n",
        "        print(\"No Valid Solution Found\")\n",
        "        return False\n",
        "\n",
        "\n",
        "    "
      ],
      "metadata": {
        "id": "X-DogQ2hNFpV"
      },
      "execution_count": null,
      "outputs": []
    },
    {
      "cell_type": "markdown",
      "source": [
        "## 2.2. Similarity score of Graph Edit Distance"
      ],
      "metadata": {
        "id": "fNpt-pIDQLOX"
      }
    },
    {
      "cell_type": "code",
      "source": [
        "# Graph Edit Distance\n",
        "def Similarity_Score_Graph_Edit_Distance(Graph1 = None, \n",
        "                         Graph2 = None, \n",
        "                         alpha = 1):\n",
        "    if Graph1 == None:\n",
        "        print(\"Missing Graph1\")\n",
        "        return\n",
        "    if Graph2 == None:\n",
        "        print(\"Missing Graph2\")\n",
        "        return\n",
        "    \n",
        "    # Since Graph1 is the subgraph of Graph2, the calculation of graph edit distance can be simpilified.\n",
        "    Graph1_number = Graph1.number_of_nodes() + Graph1.number_of_edges()\n",
        "    Graph2_number = Graph2.number_of_nodes() + Graph2.number_of_edges()\n",
        "\n",
        "    #graph_edit_distance = abs(Graph2_number - Graph1_number)\n",
        "    graph_edit_distance = nx.graph_edit_distance(Graph1, Graph2)\n",
        "\n",
        "    # utilize the exponential decay function to turn the graph edit distance to similarity score\n",
        "    #similarity_score = np.exp(-alpha*graph_edit_distance/(min(Graph1_number, Graph2_number))\n",
        "    similarity_score = np.exp(-alpha*graph_edit_distance/(max(Graph1_number, Graph2_number)-graph_edit_distance))\n",
        "\n",
        "    return similarity_score "
      ],
      "metadata": {
        "id": "oyUi54M_IorG"
      },
      "execution_count": null,
      "outputs": []
    },
    {
      "cell_type": "markdown",
      "source": [
        "## 2.3. Mean value with different weights and different mean functions"
      ],
      "metadata": {
        "id": "v_4bM0zPQRGC"
      }
    },
    {
      "cell_type": "code",
      "source": [
        "def Combined_Similarity_Score(Repeat_Unit_Similarity_Score = None,\n",
        "                              Repeat_Unit_Weight = 0.5,\n",
        "                              Graph_Similarity_Score = None,\n",
        "                              Graph_Weight = 0.5,\n",
        "                              End_Group_Similarity_Score = None,\n",
        "                              End_Group_Weight = 0.0,\n",
        "                              Mean_Function = 'arithmetic'):\n",
        "  \n",
        "    # Verify whether the weight sum is normalized.\n",
        "    if  abs(Repeat_Unit_Weight + Graph_Weight +  End_Group_Weight -1 ) >=0.000000000001:\n",
        "        print(\"Weight Sum is not normalized.\")\n",
        "        return False\n",
        "\n",
        "    # Not consider the end group\n",
        "    if End_Group_Similarity_Score == None:\n",
        "\n",
        "        if Mean_Function == 'arithmetic':\n",
        "            combined_similarity_score = (Repeat_Unit_Weight * Repeat_Unit_Similarity_Score + Graph_Weight * Graph_Similarity_Score)\n",
        "\n",
        "        elif Mean_Function == 'geometric':\n",
        "            combined_similarity_score = pow(Repeat_Unit_Similarity_Score,Repeat_Unit_Weight)*pow(Graph_Similarity_Score,Graph_Weight)\n",
        "\n",
        "        else:\n",
        "            print(\"Your input mean function \", Mean_Function, \" is not implemented, please choose those implemented mean function, like arithmetic, geometric\")\n",
        "    \n",
        "    # consider the end group\n",
        "    else:\n",
        "      \n",
        "        if Mean_Function == 'arithmetic':\n",
        "            combined_similarity_score = Repeat_Unit_Weight * Repeat_Unit_Similarity_Score + Graph_Weight * Graph_Similarity_Score + End_Group_Weight * End_Group_Similarity_Score\n",
        "\n",
        "        elif Mean_Function == 'geometric':\n",
        "            combined_similarity_score = pow(Repeat_Unit_Similarity_Score,Repeat_Unit_Weight)*pow(Graph_Similarity_Score,Graph_Weight)*pow(End_Group_Similarity_Score, End_Group_Weight)\n",
        "\n",
        "        else:\n",
        "            print(\"Your input mean function \", Mean_Function, \" is not implemented, please choose those implemented mean function, like arithmetic, geometric\")\n",
        "            \n",
        "    return combined_similarity_score\n"
      ],
      "metadata": {
        "id": "ZJKjYPi9KynA"
      },
      "execution_count": null,
      "outputs": []
    },
    {
      "cell_type": "markdown",
      "source": [
        "## 2.4. The Total Similarity Score between the query polymer and the target polymer"
      ],
      "metadata": {
        "id": "7bdTaiEZQelj"
      }
    },
    {
      "cell_type": "code",
      "source": [
        "def Similarity_Score_Two_Polymer(query = None,\n",
        "                                 target = None,\n",
        "                                 #level_weight = True,\n",
        "                                 #level_ratio = 3,\n",
        "                                 embedding_function = 'RDKFingerprint', #Embedding function\n",
        "                                 similarity_score_function = 'Tanimoto', # Similarity function for two vectors\n",
        "                                 restrain_emd = False, # Whether to restrain the emd\n",
        "                                 alpha=1, #reduced parameter for the exponential decay function\n",
        "                                 Repeat_Unit_Weight=0.5,\n",
        "                                 Graph_Weight=0.5,\n",
        "                                 End_Group_Weight = 0.0,\n",
        "                                 Mean_Function = 'geometric',\n",
        "                                 details_print = False):\n",
        "\n",
        "    if query == None or target == None:\n",
        "        print (\"Either query polymer or target polymer is missing! Please check your input.\")\n",
        "        return False\n",
        "    S_repeat_unit = Similarity_Score_EMD(query_smiles_list = query.repeat_unit_smiles_list, \n",
        "                     query_smiles_level_list = query.repeat_unit_smiles_level_list, \n",
        "                     target_smiles_list = target.repeat_unit_smiles_list, \n",
        "                     target_smiles_level_list = target.repeat_unit_smiles_level_list,\n",
        "                     #level_weight = level_weight,\n",
        "                     #level_ratio = level_ratio,\t\n",
        "                     embedding_function = embedding_function,\n",
        "                     similarity_score_function = similarity_score_function,\n",
        "                     restrain_emd = restrain_emd)\n",
        "    \n",
        "    S_graph = Similarity_Score_Graph_Edit_Distance(Graph1=query.graph_representation, \n",
        "                                                   Graph2=target.graph_representation, \n",
        "                                                   alpha=alpha)\n",
        "    \n",
        "    if End_Group_Weight == 0.0: \n",
        "        S_combined = Combined_Similarity_Score(Repeat_Unit_Similarity_Score=S_repeat_unit ,\n",
        "                                       Repeat_Unit_Weight=Repeat_Unit_Weight,\n",
        "                                       Graph_Similarity_Score=S_graph,\n",
        "                                       Graph_Weight=Graph_Weight,\n",
        "                                       End_Group_Similarity_Score = None,\n",
        "                                       End_Group_Weight = End_Group_Weight,\n",
        "                                       Mean_Function = Mean_Function)\n",
        "        if details_print == True:\n",
        "            print(\"Details of the Similarity Score:\\n\")\n",
        "            print(\"Similarity score on Repeating Unit = \", S_repeat_unit, \", Weight for Repeating Unit = \", Repeat_Unit_Weight)\n",
        "            print(\"Similarity score on Graph = \", S_graph, \", Weight for Graph = \", Graph_Weight)\n",
        "            print(\"Similarity score on End Group = \", \"None\", \", Weight for End Group = \", End_Group_Weight)\n",
        "            print(\"Similarity score Combined in \" + Mean_Function + \" mean = \", S_combined)\n",
        "            print(\"\\n\")\n",
        "\n",
        "        return S_combined \n",
        "\n",
        "    else: \n",
        "        S_end_group = Similarity_Score_EMD(query_smiles_list = query.end_group_smiles_list, \n",
        "                     query_smiles_level_list = query.end_group_smiles_level_list, \n",
        "                     target_smiles_list = target.end_group_smiles_list, \n",
        "                     target_smiles_level_list = target.end_group_smiles_level_list,\n",
        "                     #level_weight = level_weight,\n",
        "                     #level_ratio = level_ratio,\t\n",
        "                     embedding_function = embedding_function,\n",
        "                     similarity_score_function = similarity_score_function,\n",
        "                     restrain_emd = restrain_emd)\n",
        "            \n",
        "        S_combined = Combined_Similarity_Score(Repeat_Unit_Similarity_Score=S_repeat_unit ,\n",
        "                                       Repeat_Unit_Weight=Repeat_Unit_Weight,\n",
        "                                       Graph_Similarity_Score=S_graph,\n",
        "                                       Graph_Weight=Graph_Weight,\n",
        "                                       End_Group_Similarity_Score = S_end_group,\n",
        "                                       End_Group_Weight = End_Group_Weight,\n",
        "                                       Mean_Function = Mean_Function)\n",
        "        \n",
        "        if details_print == True:\n",
        "            print(\"Details of the Similarity Score:\\n\")\n",
        "            print(\"Similarity score on Repeating Unit = \", S_repeat_unit, \", Weight for Repeating Unit = \", Repeat_Unit_Weight)\n",
        "            print(\"Similarity score on Graph = \", S_graph, \", Weight for Graph = \", Graph_Weight)\n",
        "            print(\"Similarity score on End Group = \", S_end_group, \", Weight for End Group = \", End_Group_Weight )\n",
        "            print(\"Similarity score Combined in \" + Mean_Function + \" mean = \", S_combined)\n",
        "            print(\"\\n\")\n",
        "            return S_combined, S_repeat_unit, S_graph, S_end_group\n",
        "\n",
        "        return S_combined     \n"
      ],
      "metadata": {
        "id": "tnGFkpht12nw"
      },
      "execution_count": null,
      "outputs": []
    },
    {
      "cell_type": "markdown",
      "source": [
        "# 3. Define the Polymer Class"
      ],
      "metadata": {
        "id": "bijKjSMqQ-gw"
      }
    },
    {
      "cell_type": "code",
      "source": [
        "class Polymer:\n",
        "  def __init__(self, \n",
        "               repeat_unit_smiles_list=None, \n",
        "               repeat_unit_smiles_level_list=None, \n",
        "               end_group_smiles_list=None, \n",
        "               end_group_smiles_level_list=None,\n",
        "               graph_representation=None):\n",
        "    \n",
        "      self.repeat_unit_smiles_list = repeat_unit_smiles_list\n",
        "      self.repeat_unit_smiles_level_list = repeat_unit_smiles_level_list\n",
        "      self.end_group_smiles_list = end_group_smiles_list\n",
        "      self.end_group_smiles_level_list = end_group_smiles_level_list\n",
        "      self.graph_representation = graph_representation"
      ],
      "metadata": {
        "id": "k-I92q5zfd_L"
      },
      "execution_count": null,
      "outputs": []
    },
    {
      "cell_type": "markdown",
      "source": [
        "# 4. Some examples of Polymer Graph Representations"
      ],
      "metadata": {
        "id": "93332dHdzs9Y"
      }
    },
    {
      "cell_type": "code",
      "source": [
        "G0 = nx.MultiDiGraph()\n",
        "G0.add_node(1)\n",
        "G0.add_node(2)\n",
        "G0.add_node(3)\n",
        "G0.add_node(4)\n",
        "G0.add_node(5)\n",
        "G0.add_node(6)\n",
        "G0.add_node(7)\n",
        "G0.add_node(8)\n",
        "G0.add_node(9)\n",
        "G0.add_node(10)\n",
        "G0.add_node(11)\n",
        "\n",
        "\n",
        "G0.add_edge(1, 2)\n",
        "G0.add_edge(2, 3)\n",
        "G0.add_edge(2, 4)\n",
        "G0.add_edge(4, 2)\n",
        "G0.add_edge(4, 5)\n",
        "G0.add_edge(5, 6)\n",
        "G0.add_edge(6, 5)\n",
        "G0.add_edge(6, 7)\n",
        "\n",
        "G0.add_edge(2, 8)\n",
        "G0.add_edge(8, 2)\n",
        "G0.add_edge(8, 9)\n",
        "G0.add_edge(9, 10)\n",
        "G0.add_edge(10, 9)\n",
        "G0.add_edge(10, 11)\n",
        "\n",
        "nx.draw(G0)\n",
        "print(\"G0 number of nodes: \",G0.number_of_nodes())\n",
        "print(\"G0 number of edges: \",G0.number_of_edges())"
      ],
      "metadata": {
        "colab": {
          "base_uri": "https://localhost:8080/",
          "height": 356
        },
        "id": "tCJkDjZDfpf9",
        "outputId": "0173c5d6-b25f-452a-ab9f-17ede8d2f526"
      },
      "execution_count": null,
      "outputs": [
        {
          "output_type": "stream",
          "name": "stdout",
          "text": [
            "G0 number of nodes:  11\n",
            "G0 number of edges:  14\n"
          ]
        },
        {
          "output_type": "display_data",
          "data": {
            "text/plain": [
              "<Figure size 432x288 with 1 Axes>"
            ],
            "image/png": "[encoded data removed]"
          },
          "metadata": {}
        }
      ]
    },
    {
      "cell_type": "code",
      "source": [
        "G1 = nx.MultiDiGraph()\n",
        "G1.add_node(1)\n",
        "G1.add_node(2)\n",
        "G1.add_node(3)\n",
        "G1.add_node(4)\n",
        "G1.add_node(5)\n",
        "G1.add_node(6)\n",
        "G1.add_node(7)\n",
        "G1.add_node(8)\n",
        "G1.add_node(9)\n",
        "G1.add_node(10)\n",
        "G1.add_node(11)\n",
        "G1.add_node(12)\n",
        "G1.add_node(13)\n",
        "\n",
        "G1.add_edge(1, 2)\n",
        "G1.add_edge(2, 3)\n",
        "G1.add_edge(2, 4)\n",
        "G1.add_edge(4, 2)\n",
        "G1.add_edge(4, 5)\n",
        "G1.add_edge(5, 6)\n",
        "G1.add_edge(6, 5)\n",
        "G1.add_edge(6, 7)\n",
        "\n",
        "G1.add_edge(2, 8)\n",
        "G1.add_edge(8, 2)\n",
        "G1.add_edge(8, 9)\n",
        "G1.add_edge(9, 10)\n",
        "G1.add_edge(10, 9)\n",
        "G1.add_edge(10, 11)\n",
        "G1.add_edge(2, 12)\n",
        "G1.add_edge(12, 2)\n",
        "G1.add_edge(2, 13)\n",
        "G1.add_edge(13, 2)\n",
        "\n",
        "nx.draw(G1)\n",
        "print(\"G1 number of nodes: \",G1.number_of_nodes())\n",
        "print(\"G1 number of edges: \",G1.number_of_edges())"
      ],
      "metadata": {
        "colab": {
          "base_uri": "https://localhost:8080/",
          "height": 356
        },
        "id": "_7QUNP6fsB5w",
        "outputId": "86f18302-54f0-4e42-ad7a-712ed0db8ef9"
      },
      "execution_count": null,
      "outputs": [
        {
          "output_type": "stream",
          "name": "stdout",
          "text": [
            "G1 number of nodes:  13\n",
            "G1 number of edges:  18\n"
          ]
        },
        {
          "output_type": "display_data",
          "data": {
            "text/plain": [
              "<Figure size 432x288 with 1 Axes>"
            ],
            "image/png": "[encoded data removed]"
          },
          "metadata": {}
        }
      ]
    },
    {
      "cell_type": "code",
      "source": [
        "G2 = nx.MultiDiGraph()\n",
        "G2.add_node(1)\n",
        "G2.add_node(2)\n",
        "G2.add_node(3)\n",
        "G2.add_node(4)\n",
        "G2.add_node(5)\n",
        "G2.add_node(6)\n",
        "G2.add_node(7)\n",
        "G2.add_node(8)\n",
        "G2.add_node(9)\n",
        "G2.add_node(10)\n",
        "G2.add_node(11)\n",
        "G2.add_node(12)\n",
        "G2.add_node(13)\n",
        "G2.add_node(14)\n",
        "\n",
        "G2.add_edge(1, 2)\n",
        "G2.add_edge(2, 3)\n",
        "G2.add_edge(2, 4)\n",
        "G2.add_edge(4, 2)\n",
        "G2.add_edge(4, 5)\n",
        "G2.add_edge(5, 6)\n",
        "G2.add_edge(6, 5)\n",
        "G2.add_edge(6, 7)\n",
        "\n",
        "G2.add_edge(2, 8)\n",
        "G2.add_edge(8, 2)\n",
        "G2.add_edge(8, 9)\n",
        "G2.add_edge(9, 10)\n",
        "G2.add_edge(10, 9)\n",
        "G2.add_edge(10, 11)\n",
        "G2.add_edge(3, 12)\n",
        "G2.add_edge(12, 3)\n",
        "G2.add_edge(3, 13)\n",
        "G2.add_edge(13, 3)\n",
        "G2.add_edge(3, 14)\n",
        "\n",
        "nx.draw(G2)\n",
        "print(\"G1 number of nodes: \",G2.number_of_nodes())\n",
        "print(\"G1 number of edges: \",G2.number_of_edges())"
      ],
      "metadata": {
        "id": "WW3pJfjkNi9j",
        "colab": {
          "base_uri": "https://localhost:8080/",
          "height": 356
        },
        "outputId": "d6769078-1e4b-4e26-850e-2fe137480f51"
      },
      "execution_count": null,
      "outputs": [
        {
          "output_type": "stream",
          "name": "stdout",
          "text": [
            "G1 number of nodes:  14\n",
            "G1 number of edges:  19\n"
          ]
        },
        {
          "output_type": "display_data",
          "data": {
            "text/plain": [
              "<Figure size 432x288 with 1 Axes>"
            ],
            "image/png": "[encoded data removed]"
          },
          "metadata": {}
        }
      ]
    },
    {
      "cell_type": "code",
      "source": [
        "nx.graph_edit_distance(G1, G2)"
      ],
      "metadata": {
        "colab": {
          "base_uri": "https://localhost:8080/",
          "height": 342
        },
        "id": "TB8e1snfsr1w",
        "outputId": "8d9da9c6-cb85-4094-faba-6c6d9dcabf5b"
      },
      "execution_count": null,
      "outputs": [
        {
          "output_type": "error",
          "ename": "KeyboardInterrupt",
          "evalue": "ignored",
          "traceback": [
            "\u001b[0;31m---------------------------------------------------------------------------\u001b[0m",
            "\u001b[0;31mKeyboardInterrupt\u001b[0m                         Traceback (most recent call last)",
            "\u001b[0;32m<ipython-input-32-f1c532cce915>\u001b[0m in \u001b[0;36m<module>\u001b[0;34m\u001b[0m\n\u001b[0;32m----> 1\u001b[0;31m \u001b[0mnx\u001b[0m\u001b[0;34m.\u001b[0m\u001b[0mgraph_edit_distance\u001b[0m\u001b[0;34m(\u001b[0m\u001b[0mG1\u001b[0m\u001b[0;34m,\u001b[0m \u001b[0mG2\u001b[0m\u001b[0;34m)\u001b[0m\u001b[0;34m\u001b[0m\u001b[0;34m\u001b[0m\u001b[0m\n\u001b[0m",
            "\u001b[0;32m/usr/local/lib/python3.8/dist-packages/networkx/algorithms/similarity.py\u001b[0m in \u001b[0;36mgraph_edit_distance\u001b[0;34m(G1, G2, node_match, edge_match, node_subst_cost, node_del_cost, node_ins_cost, edge_subst_cost, edge_del_cost, edge_ins_cost, roots, upper_bound, timeout)\u001b[0m\n\u001b[1;32m    189\u001b[0m     \"\"\"\n\u001b[1;32m    190\u001b[0m     \u001b[0mbestcost\u001b[0m \u001b[0;34m=\u001b[0m \u001b[0;32mNone\u001b[0m\u001b[0;34m\u001b[0m\u001b[0;34m\u001b[0m\u001b[0m\n\u001b[0;32m--> 191\u001b[0;31m     for vertex_path, edge_path, cost in optimize_edit_paths(\n\u001b[0m\u001b[1;32m    192\u001b[0m         \u001b[0mG1\u001b[0m\u001b[0;34m,\u001b[0m\u001b[0;34m\u001b[0m\u001b[0;34m\u001b[0m\u001b[0m\n\u001b[1;32m    193\u001b[0m         \u001b[0mG2\u001b[0m\u001b[0;34m,\u001b[0m\u001b[0;34m\u001b[0m\u001b[0;34m\u001b[0m\u001b[0m\n",
            "\u001b[0;32m/usr/local/lib/python3.8/dist-packages/networkx/algorithms/similarity.py\u001b[0m in \u001b[0;36moptimize_edit_paths\u001b[0;34m(G1, G2, node_match, edge_match, node_subst_cost, node_del_cost, node_ins_cost, edge_subst_cost, edge_del_cost, edge_ins_cost, upper_bound, strictly_decreasing, roots, timeout)\u001b[0m\n\u001b[1;32m   1198\u001b[0m     \u001b[0mdone_uv\u001b[0m \u001b[0;34m=\u001b[0m \u001b[0;34m[\u001b[0m\u001b[0;34m]\u001b[0m \u001b[0;32mif\u001b[0m \u001b[0mroots\u001b[0m \u001b[0;32mis\u001b[0m \u001b[0;32mNone\u001b[0m \u001b[0;32melse\u001b[0m \u001b[0;34m[\u001b[0m\u001b[0mroots\u001b[0m\u001b[0;34m]\u001b[0m\u001b[0;34m\u001b[0m\u001b[0;34m\u001b[0m\u001b[0m\n\u001b[1;32m   1199\u001b[0m \u001b[0;34m\u001b[0m\u001b[0m\n\u001b[0;32m-> 1200\u001b[0;31m     for vertex_path, edge_path, cost in get_edit_paths(\n\u001b[0m\u001b[1;32m   1201\u001b[0m         \u001b[0mdone_uv\u001b[0m\u001b[0;34m,\u001b[0m \u001b[0mpending_u\u001b[0m\u001b[0;34m,\u001b[0m \u001b[0mpending_v\u001b[0m\u001b[0;34m,\u001b[0m \u001b[0mCv\u001b[0m\u001b[0;34m,\u001b[0m \u001b[0;34m[\u001b[0m\u001b[0;34m]\u001b[0m\u001b[0;34m,\u001b[0m \u001b[0mpending_g\u001b[0m\u001b[0;34m,\u001b[0m \u001b[0mpending_h\u001b[0m\u001b[0;34m,\u001b[0m \u001b[0mCe\u001b[0m\u001b[0;34m,\u001b[0m \u001b[0minitial_cost\u001b[0m\u001b[0;34m\u001b[0m\u001b[0;34m\u001b[0m\u001b[0m\n\u001b[1;32m   1202\u001b[0m     ):\n",
            "\u001b[0;32m/usr/local/lib/python3.8/dist-packages/networkx/algorithms/similarity.py\u001b[0m in \u001b[0;36mget_edit_paths\u001b[0;34m(matched_uv, pending_u, pending_v, Cv, matched_gh, pending_g, pending_h, Ce, matched_cost)\u001b[0m\n\u001b[1;32m   1029\u001b[0m                 )\n\u001b[1;32m   1030\u001b[0m \u001b[0;34m\u001b[0m\u001b[0m\n\u001b[0;32m-> 1031\u001b[0;31m                 yield from get_edit_paths(\n\u001b[0m\u001b[1;32m   1032\u001b[0m                     \u001b[0mmatched_uv\u001b[0m\u001b[0;34m,\u001b[0m\u001b[0;34m\u001b[0m\u001b[0;34m\u001b[0m\u001b[0m\n\u001b[1;32m   1033\u001b[0m                     \u001b[0mpending_u\u001b[0m\u001b[0;34m,\u001b[0m\u001b[0;34m\u001b[0m\u001b[0;34m\u001b[0m\u001b[0m\n",
            "\u001b[0;32m/usr/local/lib/python3.8/dist-packages/networkx/algorithms/similarity.py\u001b[0m in \u001b[0;36mget_edit_paths\u001b[0;34m(matched_uv, pending_u, pending_v, Cv, matched_gh, pending_g, pending_h, Ce, matched_cost)\u001b[0m\n\u001b[1;32m   1029\u001b[0m                 )\n\u001b[1;32m   1030\u001b[0m \u001b[0;34m\u001b[0m\u001b[0m\n\u001b[0;32m-> 1031\u001b[0;31m                 yield from get_edit_paths(\n\u001b[0m\u001b[1;32m   1032\u001b[0m                     \u001b[0mmatched_uv\u001b[0m\u001b[0;34m,\u001b[0m\u001b[0;34m\u001b[0m\u001b[0;34m\u001b[0m\u001b[0m\n\u001b[1;32m   1033\u001b[0m                     \u001b[0mpending_u\u001b[0m\u001b[0;34m,\u001b[0m\u001b[0;34m\u001b[0m\u001b[0;34m\u001b[0m\u001b[0m\n",
            "\u001b[0;32m/usr/local/lib/python3.8/dist-packages/networkx/algorithms/similarity.py\u001b[0m in \u001b[0;36mget_edit_paths\u001b[0;34m(matched_uv, pending_u, pending_v, Cv, matched_gh, pending_g, pending_h, Ce, matched_cost)\u001b[0m\n\u001b[1;32m   1029\u001b[0m                 )\n\u001b[1;32m   1030\u001b[0m \u001b[0;34m\u001b[0m\u001b[0m\n\u001b[0;32m-> 1031\u001b[0;31m                 yield from get_edit_paths(\n\u001b[0m\u001b[1;32m   1032\u001b[0m                     \u001b[0mmatched_uv\u001b[0m\u001b[0;34m,\u001b[0m\u001b[0;34m\u001b[0m\u001b[0;34m\u001b[0m\u001b[0m\n\u001b[1;32m   1033\u001b[0m                     \u001b[0mpending_u\u001b[0m\u001b[0;34m,\u001b[0m\u001b[0;34m\u001b[0m\u001b[0;34m\u001b[0m\u001b[0m\n",
            "\u001b[0;32m/usr/local/lib/python3.8/dist-packages/networkx/algorithms/similarity.py\u001b[0m in \u001b[0;36mget_edit_paths\u001b[0;34m(matched_uv, pending_u, pending_v, Cv, matched_gh, pending_g, pending_h, Ce, matched_cost)\u001b[0m\n\u001b[1;32m   1029\u001b[0m                 )\n\u001b[1;32m   1030\u001b[0m \u001b[0;34m\u001b[0m\u001b[0m\n\u001b[0;32m-> 1031\u001b[0;31m                 yield from get_edit_paths(\n\u001b[0m\u001b[1;32m   1032\u001b[0m                     \u001b[0mmatched_uv\u001b[0m\u001b[0;34m,\u001b[0m\u001b[0;34m\u001b[0m\u001b[0;34m\u001b[0m\u001b[0m\n\u001b[1;32m   1033\u001b[0m                     \u001b[0mpending_u\u001b[0m\u001b[0;34m,\u001b[0m\u001b[0;34m\u001b[0m\u001b[0;34m\u001b[0m\u001b[0m\n",
            "\u001b[0;32m/usr/local/lib/python3.8/dist-packages/networkx/algorithms/similarity.py\u001b[0m in \u001b[0;36mget_edit_paths\u001b[0;34m(matched_uv, pending_u, pending_v, Cv, matched_gh, pending_g, pending_h, Ce, matched_cost)\u001b[0m\n\u001b[1;32m   1029\u001b[0m                 )\n\u001b[1;32m   1030\u001b[0m \u001b[0;34m\u001b[0m\u001b[0m\n\u001b[0;32m-> 1031\u001b[0;31m                 yield from get_edit_paths(\n\u001b[0m\u001b[1;32m   1032\u001b[0m                     \u001b[0mmatched_uv\u001b[0m\u001b[0;34m,\u001b[0m\u001b[0;34m\u001b[0m\u001b[0;34m\u001b[0m\u001b[0m\n\u001b[1;32m   1033\u001b[0m                     \u001b[0mpending_u\u001b[0m\u001b[0;34m,\u001b[0m\u001b[0;34m\u001b[0m\u001b[0;34m\u001b[0m\u001b[0m\n",
            "\u001b[0;32m/usr/local/lib/python3.8/dist-packages/networkx/algorithms/similarity.py\u001b[0m in \u001b[0;36mget_edit_paths\u001b[0;34m(matched_uv, pending_u, pending_v, Cv, matched_gh, pending_g, pending_h, Ce, matched_cost)\u001b[0m\n\u001b[1;32m   1029\u001b[0m                 )\n\u001b[1;32m   1030\u001b[0m \u001b[0;34m\u001b[0m\u001b[0m\n\u001b[0;32m-> 1031\u001b[0;31m                 yield from get_edit_paths(\n\u001b[0m\u001b[1;32m   1032\u001b[0m                     \u001b[0mmatched_uv\u001b[0m\u001b[0;34m,\u001b[0m\u001b[0;34m\u001b[0m\u001b[0;34m\u001b[0m\u001b[0m\n\u001b[1;32m   1033\u001b[0m                     \u001b[0mpending_u\u001b[0m\u001b[0;34m,\u001b[0m\u001b[0;34m\u001b[0m\u001b[0;34m\u001b[0m\u001b[0m\n",
            "\u001b[0;32m/usr/local/lib/python3.8/dist-packages/networkx/algorithms/similarity.py\u001b[0m in \u001b[0;36mget_edit_paths\u001b[0;34m(matched_uv, pending_u, pending_v, Cv, matched_gh, pending_g, pending_h, Ce, matched_cost)\u001b[0m\n\u001b[1;32m   1029\u001b[0m                 )\n\u001b[1;32m   1030\u001b[0m \u001b[0;34m\u001b[0m\u001b[0m\n\u001b[0;32m-> 1031\u001b[0;31m                 yield from get_edit_paths(\n\u001b[0m\u001b[1;32m   1032\u001b[0m                     \u001b[0mmatched_uv\u001b[0m\u001b[0;34m,\u001b[0m\u001b[0;34m\u001b[0m\u001b[0;34m\u001b[0m\u001b[0m\n\u001b[1;32m   1033\u001b[0m                     \u001b[0mpending_u\u001b[0m\u001b[0;34m,\u001b[0m\u001b[0;34m\u001b[0m\u001b[0;34m\u001b[0m\u001b[0m\n",
            "\u001b[0;32m/usr/local/lib/python3.8/dist-packages/networkx/algorithms/similarity.py\u001b[0m in \u001b[0;36mget_edit_paths\u001b[0;34m(matched_uv, pending_u, pending_v, Cv, matched_gh, pending_g, pending_h, Ce, matched_cost)\u001b[0m\n\u001b[1;32m   1029\u001b[0m                 )\n\u001b[1;32m   1030\u001b[0m \u001b[0;34m\u001b[0m\u001b[0m\n\u001b[0;32m-> 1031\u001b[0;31m                 yield from get_edit_paths(\n\u001b[0m\u001b[1;32m   1032\u001b[0m                     \u001b[0mmatched_uv\u001b[0m\u001b[0;34m,\u001b[0m\u001b[0;34m\u001b[0m\u001b[0;34m\u001b[0m\u001b[0m\n\u001b[1;32m   1033\u001b[0m                     \u001b[0mpending_u\u001b[0m\u001b[0;34m,\u001b[0m\u001b[0;34m\u001b[0m\u001b[0;34m\u001b[0m\u001b[0m\n",
            "\u001b[0;32m/usr/local/lib/python3.8/dist-packages/networkx/algorithms/similarity.py\u001b[0m in \u001b[0;36mget_edit_paths\u001b[0;34m(matched_uv, pending_u, pending_v, Cv, matched_gh, pending_g, pending_h, Ce, matched_cost)\u001b[0m\n\u001b[1;32m   1029\u001b[0m                 )\n\u001b[1;32m   1030\u001b[0m \u001b[0;34m\u001b[0m\u001b[0m\n\u001b[0;32m-> 1031\u001b[0;31m                 yield from get_edit_paths(\n\u001b[0m\u001b[1;32m   1032\u001b[0m                     \u001b[0mmatched_uv\u001b[0m\u001b[0;34m,\u001b[0m\u001b[0;34m\u001b[0m\u001b[0;34m\u001b[0m\u001b[0m\n\u001b[1;32m   1033\u001b[0m                     \u001b[0mpending_u\u001b[0m\u001b[0;34m,\u001b[0m\u001b[0;34m\u001b[0m\u001b[0;34m\u001b[0m\u001b[0m\n",
            "\u001b[0;32m/usr/local/lib/python3.8/dist-packages/networkx/algorithms/similarity.py\u001b[0m in \u001b[0;36mget_edit_paths\u001b[0;34m(matched_uv, pending_u, pending_v, Cv, matched_gh, pending_g, pending_h, Ce, matched_cost)\u001b[0m\n\u001b[1;32m   1029\u001b[0m                 )\n\u001b[1;32m   1030\u001b[0m \u001b[0;34m\u001b[0m\u001b[0m\n\u001b[0;32m-> 1031\u001b[0;31m                 yield from get_edit_paths(\n\u001b[0m\u001b[1;32m   1032\u001b[0m                     \u001b[0mmatched_uv\u001b[0m\u001b[0;34m,\u001b[0m\u001b[0;34m\u001b[0m\u001b[0;34m\u001b[0m\u001b[0m\n\u001b[1;32m   1033\u001b[0m                     \u001b[0mpending_u\u001b[0m\u001b[0;34m,\u001b[0m\u001b[0;34m\u001b[0m\u001b[0;34m\u001b[0m\u001b[0m\n",
            "\u001b[0;32m/usr/local/lib/python3.8/dist-packages/networkx/algorithms/similarity.py\u001b[0m in \u001b[0;36mget_edit_paths\u001b[0;34m(matched_uv, pending_u, pending_v, Cv, matched_gh, pending_g, pending_h, Ce, matched_cost)\u001b[0m\n\u001b[1;32m    999\u001b[0m                 \u001b[0mmatched_cost\u001b[0m\u001b[0;34m,\u001b[0m\u001b[0;34m\u001b[0m\u001b[0;34m\u001b[0m\u001b[0m\n\u001b[1;32m   1000\u001b[0m             )\n\u001b[0;32m-> 1001\u001b[0;31m             \u001b[0;32mfor\u001b[0m \u001b[0mij\u001b[0m\u001b[0;34m,\u001b[0m \u001b[0mCv_ij\u001b[0m\u001b[0;34m,\u001b[0m \u001b[0mxy\u001b[0m\u001b[0;34m,\u001b[0m \u001b[0mCe_xy\u001b[0m\u001b[0;34m,\u001b[0m \u001b[0medit_cost\u001b[0m \u001b[0;32min\u001b[0m \u001b[0medit_ops\u001b[0m\u001b[0;34m:\u001b[0m\u001b[0;34m\u001b[0m\u001b[0;34m\u001b[0m\u001b[0m\n\u001b[0m\u001b[1;32m   1002\u001b[0m                 \u001b[0mi\u001b[0m\u001b[0;34m,\u001b[0m \u001b[0mj\u001b[0m \u001b[0;34m=\u001b[0m \u001b[0mij\u001b[0m\u001b[0;34m\u001b[0m\u001b[0;34m\u001b[0m\u001b[0m\n\u001b[1;32m   1003\u001b[0m                 \u001b[0;31m# assert Cv.C[i, j] + sum(Ce.C[t] for t in xy) == edit_cost\u001b[0m\u001b[0;34m\u001b[0m\u001b[0;34m\u001b[0m\u001b[0;34m\u001b[0m\u001b[0m\n",
            "\u001b[0;32m/usr/local/lib/python3.8/dist-packages/networkx/algorithms/similarity.py\u001b[0m in \u001b[0;36mget_edit_ops\u001b[0;34m(matched_uv, pending_u, pending_v, Cv, pending_g, pending_h, Ce, matched_cost)\u001b[0m\n\u001b[1;32m    908\u001b[0m             \u001b[0;32mif\u001b[0m \u001b[0mprune\u001b[0m\u001b[0;34m(\u001b[0m\u001b[0mmatched_cost\u001b[0m \u001b[0;34m+\u001b[0m \u001b[0mCv\u001b[0m\u001b[0;34m.\u001b[0m\u001b[0mC\u001b[0m\u001b[0;34m[\u001b[0m\u001b[0mi\u001b[0m\u001b[0;34m,\u001b[0m \u001b[0mj\u001b[0m\u001b[0;34m]\u001b[0m \u001b[0;34m+\u001b[0m \u001b[0mCv_ij\u001b[0m\u001b[0;34m.\u001b[0m\u001b[0mls\u001b[0m \u001b[0;34m+\u001b[0m \u001b[0mCe\u001b[0m\u001b[0;34m.\u001b[0m\u001b[0mls\u001b[0m\u001b[0;34m)\u001b[0m\u001b[0;34m:\u001b[0m\u001b[0;34m\u001b[0m\u001b[0;34m\u001b[0m\u001b[0m\n\u001b[1;32m    909\u001b[0m                 \u001b[0;32mcontinue\u001b[0m\u001b[0;34m\u001b[0m\u001b[0;34m\u001b[0m\u001b[0m\n\u001b[0;32m--> 910\u001b[0;31m             xy, localCe = match_edges(\n\u001b[0m\u001b[1;32m    911\u001b[0m                 \u001b[0mpending_u\u001b[0m\u001b[0;34m[\u001b[0m\u001b[0mi\u001b[0m\u001b[0;34m]\u001b[0m \u001b[0;32mif\u001b[0m \u001b[0mi\u001b[0m \u001b[0;34m<\u001b[0m \u001b[0mm\u001b[0m \u001b[0;32melse\u001b[0m \u001b[0;32mNone\u001b[0m\u001b[0;34m,\u001b[0m\u001b[0;34m\u001b[0m\u001b[0;34m\u001b[0m\u001b[0m\n\u001b[1;32m    912\u001b[0m                 \u001b[0mpending_v\u001b[0m\u001b[0;34m[\u001b[0m\u001b[0mj\u001b[0m\u001b[0;34m]\u001b[0m \u001b[0;32mif\u001b[0m \u001b[0mj\u001b[0m \u001b[0;34m<\u001b[0m \u001b[0mn\u001b[0m \u001b[0;32melse\u001b[0m \u001b[0;32mNone\u001b[0m\u001b[0;34m,\u001b[0m\u001b[0;34m\u001b[0m\u001b[0;34m\u001b[0m\u001b[0m\n",
            "\u001b[0;32m/usr/local/lib/python3.8/dist-packages/networkx/algorithms/similarity.py\u001b[0m in \u001b[0;36mmatch_edges\u001b[0;34m(u, v, pending_g, pending_h, Ce, matched_uv)\u001b[0m\n\u001b[1;32m    775\u001b[0m \u001b[0;34m\u001b[0m\u001b[0m\n\u001b[1;32m    776\u001b[0m         \u001b[0;32mif\u001b[0m \u001b[0mm\u001b[0m \u001b[0;32mor\u001b[0m \u001b[0mn\u001b[0m\u001b[0;34m:\u001b[0m\u001b[0;34m\u001b[0m\u001b[0;34m\u001b[0m\u001b[0m\n\u001b[0;32m--> 777\u001b[0;31m             \u001b[0mC\u001b[0m \u001b[0;34m=\u001b[0m \u001b[0mextract_C\u001b[0m\u001b[0;34m(\u001b[0m\u001b[0mCe\u001b[0m\u001b[0;34m.\u001b[0m\u001b[0mC\u001b[0m\u001b[0;34m,\u001b[0m \u001b[0mg_ind\u001b[0m\u001b[0;34m,\u001b[0m \u001b[0mh_ind\u001b[0m\u001b[0;34m,\u001b[0m \u001b[0mM\u001b[0m\u001b[0;34m,\u001b[0m \u001b[0mN\u001b[0m\u001b[0;34m)\u001b[0m\u001b[0;34m\u001b[0m\u001b[0;34m\u001b[0m\u001b[0m\n\u001b[0m\u001b[1;32m    778\u001b[0m             \u001b[0;31m# assert C.shape == (m + n, m + n)\u001b[0m\u001b[0;34m\u001b[0m\u001b[0;34m\u001b[0m\u001b[0;34m\u001b[0m\u001b[0m\n\u001b[1;32m    779\u001b[0m \u001b[0;34m\u001b[0m\u001b[0m\n",
            "\u001b[0;32m/usr/local/lib/python3.8/dist-packages/networkx/algorithms/similarity.py\u001b[0m in \u001b[0;36mextract_C\u001b[0;34m(C, i, j, m, n)\u001b[0m\n\u001b[1;32m    711\u001b[0m         \u001b[0mrow_ind\u001b[0m \u001b[0;34m=\u001b[0m \u001b[0;34m[\u001b[0m\u001b[0mk\u001b[0m \u001b[0;32min\u001b[0m \u001b[0mi\u001b[0m \u001b[0;32mor\u001b[0m \u001b[0mk\u001b[0m \u001b[0;34m-\u001b[0m \u001b[0mm\u001b[0m \u001b[0;32min\u001b[0m \u001b[0mj\u001b[0m \u001b[0;32mfor\u001b[0m \u001b[0mk\u001b[0m \u001b[0;32min\u001b[0m \u001b[0mrange\u001b[0m\u001b[0;34m(\u001b[0m\u001b[0mm\u001b[0m \u001b[0;34m+\u001b[0m \u001b[0mn\u001b[0m\u001b[0;34m)\u001b[0m\u001b[0;34m]\u001b[0m\u001b[0;34m\u001b[0m\u001b[0;34m\u001b[0m\u001b[0m\n\u001b[1;32m    712\u001b[0m         \u001b[0mcol_ind\u001b[0m \u001b[0;34m=\u001b[0m \u001b[0;34m[\u001b[0m\u001b[0mk\u001b[0m \u001b[0;32min\u001b[0m \u001b[0mj\u001b[0m \u001b[0;32mor\u001b[0m \u001b[0mk\u001b[0m \u001b[0;34m-\u001b[0m \u001b[0mn\u001b[0m \u001b[0;32min\u001b[0m \u001b[0mi\u001b[0m \u001b[0;32mfor\u001b[0m \u001b[0mk\u001b[0m \u001b[0;32min\u001b[0m \u001b[0mrange\u001b[0m\u001b[0;34m(\u001b[0m\u001b[0mm\u001b[0m \u001b[0;34m+\u001b[0m \u001b[0mn\u001b[0m\u001b[0;34m)\u001b[0m\u001b[0;34m]\u001b[0m\u001b[0;34m\u001b[0m\u001b[0;34m\u001b[0m\u001b[0m\n\u001b[0;32m--> 713\u001b[0;31m         \u001b[0;32mreturn\u001b[0m \u001b[0mC\u001b[0m\u001b[0;34m[\u001b[0m\u001b[0mrow_ind\u001b[0m\u001b[0;34m,\u001b[0m \u001b[0;34m:\u001b[0m\u001b[0;34m]\u001b[0m\u001b[0;34m[\u001b[0m\u001b[0;34m:\u001b[0m\u001b[0;34m,\u001b[0m \u001b[0mcol_ind\u001b[0m\u001b[0;34m]\u001b[0m\u001b[0;34m\u001b[0m\u001b[0;34m\u001b[0m\u001b[0m\n\u001b[0m\u001b[1;32m    714\u001b[0m \u001b[0;34m\u001b[0m\u001b[0m\n\u001b[1;32m    715\u001b[0m     \u001b[0;32mdef\u001b[0m \u001b[0mreduce_C\u001b[0m\u001b[0;34m(\u001b[0m\u001b[0mC\u001b[0m\u001b[0;34m,\u001b[0m \u001b[0mi\u001b[0m\u001b[0;34m,\u001b[0m \u001b[0mj\u001b[0m\u001b[0;34m,\u001b[0m \u001b[0mm\u001b[0m\u001b[0;34m,\u001b[0m \u001b[0mn\u001b[0m\u001b[0;34m)\u001b[0m\u001b[0;34m:\u001b[0m\u001b[0;34m\u001b[0m\u001b[0;34m\u001b[0m\u001b[0m\n",
            "\u001b[0;31mKeyboardInterrupt\u001b[0m: "
          ]
        }
      ]
    },
    {
      "cell_type": "code",
      "source": [
        "PolymerE4_1 = Polymer(\n",
        "   repeat_unit_smiles_list = [\"*OCC1CC(C=*)CC1C=*\",\"*OC(C)C(*)=O\"],\n",
        " repeat_unit_smiles_level_list = [1,4], \n",
        " end_group_smiles_list = ['*=Cc1ccccc1','*=C', \"*H\"], \n",
        "                      end_group_smiles_level_list = [1,1,4], \n",
        " graph_representation = G0  \n",
        ")\n",
        "\n",
        "\n",
        "PolymerE4_2 = Polymer(\n",
        "   repeat_unit_smiles_list = [\"*CCNC(=O)C1CC(C=*)CC1C=*\",\"*CCO*\"],\n",
        " repeat_unit_smiles_level_list = [1,4], \n",
        " end_group_smiles_list = ['*=Cc1ccccc1','*=C', \"*OC\"], \n",
        "                      end_group_smiles_level_list = [1,1,4], \n",
        " graph_representation = G0  \n",
        ")\n",
        "\n",
        "PolymerE4_3 = Polymer(\n",
        "   repeat_unit_smiles_list = [\"*OCC1CC(C=*)CC1C=*\",\"*OC(C)C(*)=O\", \"*=CC1CC(C=*)C(CO)C1\"],\n",
        " repeat_unit_smiles_level_list = [1,4,1], \n",
        " end_group_smiles_list = ['*=Cc1ccccc1','*=C', \"*H\"], \n",
        "                      end_group_smiles_level_list = [1,1,4], \n",
        " graph_representation = G0  \n",
        ")\n",
        "\n",
        "PolymerE4_4 = Polymer(\n",
        "   repeat_unit_smiles_list = [\"*OCC1CC(C=*)CC1C=*\",\"*OC(C)C(*)=O\", \"*=CC1CC(C=*)C(CO)C1\"],\n",
        " repeat_unit_smiles_level_list = [1,4,1], \n",
        " end_group_smiles_list = ['*=Cc1ccccc1','*=C', \"*H\"], \n",
        "                      end_group_smiles_level_list = [1,1,4], \n",
        " graph_representation = G0  \n",
        ")\n",
        "\n",
        "PolymerE4_5 = Polymer(\n",
        "   repeat_unit_smiles_list = [\"*OCC1CC(C=*)CC1C=*\",\"*OC(C)C(*)=O\", \"*CCNC(=O)C1CC(C=*)CC1C=*\",\"*CCO*\"],\n",
        " repeat_unit_smiles_level_list = [1,4,1,4], \n",
        " end_group_smiles_list = ['*=Cc1ccccc1','*=C', \"*H\",\"*OC\" ], \n",
        "                      end_group_smiles_level_list = [1,1,4,4], \n",
        " graph_representation = G0  \n",
        ")\n"
      ],
      "metadata": {
        "id": "ZMJ1XUNHwIDF"
      },
      "execution_count": null,
      "outputs": []
    },
    {
      "cell_type": "code",
      "source": [
        "PolymerE4 = [PolymerE4_1, PolymerE4_2, PolymerE4_3, PolymerE4_4, PolymerE4_5]"
      ],
      "metadata": {
        "id": "MDoAXl-sqY3N"
      },
      "execution_count": null,
      "outputs": []
    },
    {
      "cell_type": "code",
      "source": [
        "E4_RU_matrix = np.ones([5,5])\n",
        "E4_TOP_matrix = np.ones([5,5])\n",
        "E4_EG_matrix = np.ones([5,5])\n",
        "E4_TOT_matrix = np.ones([5,5])"
      ],
      "metadata": {
        "id": "RugziIkQyutB"
      },
      "execution_count": null,
      "outputs": []
    },
    {
      "cell_type": "code",
      "source": [
        "for i in range(0,5):\n",
        "    for j in range(0,5):\n",
        "        STOTij, SRUij, STOPij, SEGij = Similarity_Score_Two_Polymer(query = PolymerE4[i],\n",
        "                             target = PolymerE4[j],\n",
        "                             #level_weight = True,\n",
        "                             #level_ratio = 3,\n",
        "                             embedding_function = 'MorganFingerprint',\n",
        "                             similarity_score_function = 'Tanimoto',\n",
        "                             restrain_emd = False,\n",
        "                             alpha=1,\n",
        "                             Repeat_Unit_Weight=0.475,\n",
        "                             Graph_Weight=0.475,\n",
        "                             End_Group_Weight = 0.05,\n",
        "                             Mean_Function = 'geometric',\n",
        "                             details_print=True)\n",
        "        E4_RU_matrix[i,j] = SRUij\n",
        "        E4_RU_matrix[j,i] = SRUij\n",
        "\n",
        "        E4_EG_matrix[i,j] = SEGij\n",
        "        E4_EG_matrix[j,i] = SEGij       \n"
      ],
      "metadata": {
        "colab": {
          "base_uri": "https://localhost:8080/"
        },
        "id": "fuQYFE_cx_bs",
        "outputId": "0dd9d308-4e9a-4fa6-dff3-89502b707997"
      },
      "execution_count": null,
      "outputs": [
        {
          "output_type": "stream",
          "name": "stdout",
          "text": [
            "Details of the Similarity Score:\n",
            "\n",
            "Similarity score on Repeating Unit =  1 , Weight for Repeating Unit =  0.475\n",
            "Similarity score on Graph =  1.0 , Weight for Graph =  0.475\n",
            "Similarity score on End Group =  1 , Weight for End Group =  0.05\n",
            "Similarity score Combined in geometric mean =  1.0\n",
            "\n",
            "\n",
            "Query smiles list has different levels\n",
            "Target smiles list has different levels\n",
            "P1 ->Q1 0.65\n",
            "P1 ->Q2 0.7857142857142857\n",
            "P2 ->Q1 0.9069767441860466\n",
            "P2 ->Q2 0.875\n",
            "Query smiles list has different levels\n",
            "Target smiles list has different levels\n",
            "P1 ->Q1 0.0\n",
            "P1 ->Q2 0.9375\n",
            "P1 ->Q3 0.9473684210526316\n",
            "P2 ->Q1 0.9375\n",
            "P2 ->Q2 0.0\n",
            "P2 ->Q3 0.875\n",
            "Details of the Similarity Score:\n",
            "\n",
            "Similarity score on Repeating Unit =  0.16999999999999993 , Weight for Repeating Unit =  0.475\n",
            "Similarity score on Graph =  1.0 , Weight for Graph =  0.475\n",
            "Similarity score on End Group =  0.33333333 , Weight for End Group =  0.05\n",
            "Similarity score Combined in geometric mean =  0.40795022284531085\n",
            "\n",
            "\n",
            "Query smiles list has different levels\n",
            "Target smiles list has different levels\n",
            "P1 ->Q1 0.0\n",
            "P1 ->Q2 0.9166666666666666\n",
            "P1 ->Q3 0.4285714285714286\n",
            "P2 ->Q1 0.9166666666666666\n",
            "P2 ->Q2 0.0\n",
            "P2 ->Q3 0.9428571428571428\n",
            "Details of the Similarity Score:\n",
            "\n",
            "Similarity score on Repeating Unit =  0.8600000032857142 , Weight for Repeating Unit =  0.475\n",
            "Similarity score on Graph =  1.0 , Weight for Graph =  0.475\n",
            "Similarity score on End Group =  1 , Weight for End Group =  0.05\n",
            "Similarity score Combined in geometric mean =  0.9308651366331113\n",
            "\n",
            "\n",
            "Query smiles list has different levels\n",
            "Target smiles list has different levels\n",
            "P1 ->Q1 0.0\n",
            "P1 ->Q2 0.9166666666666666\n",
            "P1 ->Q3 0.4285714285714286\n",
            "P2 ->Q1 0.9166666666666666\n",
            "P2 ->Q2 0.0\n",
            "P2 ->Q3 0.9428571428571428\n",
            "Details of the Similarity Score:\n",
            "\n",
            "Similarity score on Repeating Unit =  0.8600000032857142 , Weight for Repeating Unit =  0.475\n",
            "Similarity score on Graph =  1.0 , Weight for Graph =  0.475\n",
            "Similarity score on End Group =  1 , Weight for End Group =  0.05\n",
            "Similarity score Combined in geometric mean =  0.9308651366331113\n",
            "\n",
            "\n",
            "Query smiles list has different levels\n",
            "Target smiles list has different levels\n",
            "P1 ->Q1 0.0\n",
            "P1 ->Q2 0.9166666666666666\n",
            "P1 ->Q3 0.65\n",
            "P1 ->Q4 0.7857142857142857\n",
            "P2 ->Q1 0.9166666666666666\n",
            "P2 ->Q2 0.0\n",
            "P2 ->Q3 0.9069767441860466\n",
            "P2 ->Q4 0.875\n",
            "Query smiles list has different levels\n",
            "Target smiles list has different levels\n",
            "P1 ->Q1 0.0\n",
            "P1 ->Q2 0.9375\n",
            "P1 ->Q4 0.9473684210526316\n",
            "P2 ->Q1 0.9375\n",
            "P2 ->Q2 0.0\n",
            "P2 ->Q4 0.875\n",
            "Details of the Similarity Score:\n",
            "\n",
            "Similarity score on Repeating Unit =  0.585 , Weight for Repeating Unit =  0.475\n",
            "Similarity score on Graph =  1.0 , Weight for Graph =  0.475\n",
            "Similarity score on End Group =  0.6118421013223685 , Weight for End Group =  0.05\n",
            "Similarity score Combined in geometric mean =  0.7563642688179102\n",
            "\n",
            "\n",
            "Query smiles list has different levels\n",
            "Target smiles list has different levels\n",
            "P1 ->Q1 0.65\n",
            "P1 ->Q2 0.9069767441860466\n",
            "P2 ->Q1 0.7857142857142857\n",
            "P2 ->Q2 0.875\n",
            "Query smiles list has different levels\n",
            "Target smiles list has different levels\n",
            "P1 ->Q1 0.0\n",
            "P1 ->Q2 0.9375\n",
            "P2 ->Q1 0.9375\n",
            "P2 ->Q2 0.0\n",
            "P3 ->Q1 0.9473684210526316\n",
            "P3 ->Q2 0.875\n",
            "Details of the Similarity Score:\n",
            "\n",
            "Similarity score on Repeating Unit =  0.16999999999999993 , Weight for Repeating Unit =  0.475\n",
            "Similarity score on Graph =  1.0 , Weight for Graph =  0.475\n",
            "Similarity score on End Group =  0.33333333 , Weight for End Group =  0.05\n",
            "Similarity score Combined in geometric mean =  0.40795022284531085\n",
            "\n",
            "\n",
            "Details of the Similarity Score:\n",
            "\n",
            "Similarity score on Repeating Unit =  1 , Weight for Repeating Unit =  0.475\n",
            "Similarity score on Graph =  1.0 , Weight for Graph =  0.475\n",
            "Similarity score on End Group =  1 , Weight for End Group =  0.05\n",
            "Similarity score Combined in geometric mean =  1.0\n",
            "\n",
            "\n",
            "Query smiles list has different levels\n",
            "Target smiles list has different levels\n",
            "P1 ->Q1 0.65\n",
            "P1 ->Q2 0.9069767441860466\n",
            "P1 ->Q3 0.5945945945945945\n",
            "P2 ->Q1 0.7857142857142857\n",
            "P2 ->Q2 0.875\n",
            "P2 ->Q3 0.896551724137931\n",
            "Query smiles list has different levels\n",
            "Target smiles list has different levels\n",
            "P1 ->Q1 0.0\n",
            "P1 ->Q2 0.9375\n",
            "P2 ->Q1 0.9375\n",
            "P2 ->Q2 0.0\n",
            "P3 ->Q1 0.9473684210526316\n",
            "P3 ->Q2 0.875\n",
            "Details of the Similarity Score:\n",
            "\n",
            "Similarity score on Repeating Unit =  0.19113899407606172 , Weight for Repeating Unit =  0.475\n",
            "Similarity score on Graph =  1.0 , Weight for Graph =  0.475\n",
            "Similarity score on End Group =  0.33333333 , Weight for End Group =  0.05\n",
            "Similarity score Combined in geometric mean =  0.4313053573761607\n",
            "\n",
            "\n",
            "Query smiles list has different levels\n",
            "Target smiles list has different levels\n",
            "P1 ->Q1 0.65\n",
            "P1 ->Q2 0.9069767441860466\n",
            "P1 ->Q3 0.5945945945945945\n",
            "P2 ->Q1 0.7857142857142857\n",
            "P2 ->Q2 0.875\n",
            "P2 ->Q3 0.896551724137931\n",
            "Query smiles list has different levels\n",
            "Target smiles list has different levels\n",
            "P1 ->Q1 0.0\n",
            "P1 ->Q2 0.9375\n",
            "P2 ->Q1 0.9375\n",
            "P2 ->Q2 0.0\n",
            "P3 ->Q1 0.9473684210526316\n",
            "P3 ->Q2 0.875\n",
            "Details of the Similarity Score:\n",
            "\n",
            "Similarity score on Repeating Unit =  0.19113899407606172 , Weight for Repeating Unit =  0.475\n",
            "Similarity score on Graph =  1.0 , Weight for Graph =  0.475\n",
            "Similarity score on End Group =  0.33333333 , Weight for End Group =  0.05\n",
            "Similarity score Combined in geometric mean =  0.4313053573761607\n",
            "\n",
            "\n",
            "Query smiles list has different levels\n",
            "Target smiles list has different levels\n",
            "P1 ->Q1 0.65\n",
            "P1 ->Q2 0.9069767441860466\n",
            "P1 ->Q3 0.0\n",
            "P1 ->Q4 0.8947368421052632\n",
            "P2 ->Q1 0.7857142857142857\n",
            "P2 ->Q2 0.875\n",
            "P2 ->Q3 0.8947368421052632\n",
            "P2 ->Q4 0.0\n",
            "Query smiles list has different levels\n",
            "Target smiles list has different levels\n",
            "P1 ->Q1 0.0\n",
            "P1 ->Q2 0.9375\n",
            "P1 ->Q4 0.9473684210526316\n",
            "P2 ->Q1 0.9375\n",
            "P2 ->Q2 0.0\n",
            "P2 ->Q4 0.875\n",
            "P3 ->Q1 0.9473684210526316\n",
            "P3 ->Q2 0.875\n",
            "P3 ->Q4 0.0\n",
            "Details of the Similarity Score:\n",
            "\n",
            "Similarity score on Repeating Unit =  0.585 , Weight for Repeating Unit =  0.475\n",
            "Similarity score on Graph =  1.0 , Weight for Graph =  0.475\n",
            "Similarity score on End Group =  0.599999996 , Weight for End Group =  0.05\n",
            "Similarity score Combined in geometric mean =  0.7556254881415121\n",
            "\n",
            "\n",
            "Query smiles list has different levels\n",
            "Target smiles list has different levels\n",
            "P1 ->Q1 0.0\n",
            "P1 ->Q2 0.9166666666666666\n",
            "P2 ->Q1 0.9166666666666666\n",
            "P2 ->Q2 0.0\n",
            "P3 ->Q1 0.4285714285714286\n",
            "P3 ->Q2 0.9428571428571428\n",
            "Details of the Similarity Score:\n",
            "\n",
            "Similarity score on Repeating Unit =  0.8600000032857142 , Weight for Repeating Unit =  0.475\n",
            "Similarity score on Graph =  1.0 , Weight for Graph =  0.475\n",
            "Similarity score on End Group =  1 , Weight for End Group =  0.05\n",
            "Similarity score Combined in geometric mean =  0.9308651366331113\n",
            "\n",
            "\n",
            "Query smiles list has different levels\n",
            "Target smiles list has different levels\n",
            "P1 ->Q1 0.65\n",
            "P1 ->Q2 0.7857142857142857\n",
            "P2 ->Q1 0.9069767441860466\n",
            "P2 ->Q2 0.875\n",
            "P3 ->Q1 0.5945945945945945\n",
            "P3 ->Q2 0.896551724137931\n",
            "Query smiles list has different levels\n",
            "Target smiles list has different levels\n",
            "P1 ->Q1 0.0\n",
            "P1 ->Q2 0.9375\n",
            "P1 ->Q3 0.9473684210526316\n",
            "P2 ->Q1 0.9375\n",
            "P2 ->Q2 0.0\n",
            "P2 ->Q3 0.875\n",
            "Details of the Similarity Score:\n",
            "\n",
            "Similarity score on Repeating Unit =  0.19113899407606172 , Weight for Repeating Unit =  0.475\n",
            "Similarity score on Graph =  1.0 , Weight for Graph =  0.475\n",
            "Similarity score on End Group =  0.33333333 , Weight for End Group =  0.05\n",
            "Similarity score Combined in geometric mean =  0.4313053573761607\n",
            "\n",
            "\n",
            "Details of the Similarity Score:\n",
            "\n",
            "Similarity score on Repeating Unit =  1 , Weight for Repeating Unit =  0.475\n",
            "Similarity score on Graph =  1.0 , Weight for Graph =  0.475\n",
            "Similarity score on End Group =  1 , Weight for End Group =  0.05\n",
            "Similarity score Combined in geometric mean =  1.0\n",
            "\n",
            "\n",
            "Details of the Similarity Score:\n",
            "\n",
            "Similarity score on Repeating Unit =  1 , Weight for Repeating Unit =  0.475\n",
            "Similarity score on Graph =  1.0 , Weight for Graph =  0.475\n",
            "Similarity score on End Group =  1 , Weight for End Group =  0.05\n",
            "Similarity score Combined in geometric mean =  1.0\n",
            "\n",
            "\n",
            "Query smiles list has different levels\n",
            "Target smiles list has different levels\n",
            "P1 ->Q1 0.0\n",
            "P1 ->Q2 0.9166666666666666\n",
            "P1 ->Q3 0.65\n",
            "P1 ->Q4 0.7857142857142857\n",
            "P2 ->Q1 0.9166666666666666\n",
            "P2 ->Q2 0.0\n",
            "P2 ->Q3 0.9069767441860466\n",
            "P2 ->Q4 0.875\n",
            "P3 ->Q1 0.4285714285714286\n",
            "P3 ->Q2 0.9428571428571428\n",
            "P3 ->Q3 0.5945945945945945\n",
            "P3 ->Q4 0.896551724137931\n",
            "Query smiles list has different levels\n",
            "Target smiles list has different levels\n",
            "P1 ->Q1 0.0\n",
            "P1 ->Q2 0.9375\n",
            "P1 ->Q4 0.9473684210526316\n",
            "P2 ->Q1 0.9375\n",
            "P2 ->Q2 0.0\n",
            "P2 ->Q4 0.875\n",
            "Details of the Similarity Score:\n",
            "\n",
            "Similarity score on Repeating Unit =  0.5950561364063041 , Weight for Repeating Unit =  0.475\n",
            "Similarity score on Graph =  1.0 , Weight for Graph =  0.475\n",
            "Similarity score on End Group =  0.6118421013223685 , Weight for End Group =  0.05\n",
            "Similarity score Combined in geometric mean =  0.7625125368045658\n",
            "\n",
            "\n",
            "Query smiles list has different levels\n",
            "Target smiles list has different levels\n",
            "P1 ->Q1 0.0\n",
            "P1 ->Q2 0.9166666666666666\n",
            "P2 ->Q1 0.9166666666666666\n",
            "P2 ->Q2 0.0\n",
            "P3 ->Q1 0.4285714285714286\n",
            "P3 ->Q2 0.9428571428571428\n",
            "Details of the Similarity Score:\n",
            "\n",
            "Similarity score on Repeating Unit =  0.8600000032857142 , Weight for Repeating Unit =  0.475\n",
            "Similarity score on Graph =  1.0 , Weight for Graph =  0.475\n",
            "Similarity score on End Group =  1 , Weight for End Group =  0.05\n",
            "Similarity score Combined in geometric mean =  0.9308651366331113\n",
            "\n",
            "\n",
            "Query smiles list has different levels\n",
            "Target smiles list has different levels\n",
            "P1 ->Q1 0.65\n",
            "P1 ->Q2 0.7857142857142857\n",
            "P2 ->Q1 0.9069767441860466\n",
            "P2 ->Q2 0.875\n",
            "P3 ->Q1 0.5945945945945945\n",
            "P3 ->Q2 0.896551724137931\n",
            "Query smiles list has different levels\n",
            "Target smiles list has different levels\n",
            "P1 ->Q1 0.0\n",
            "P1 ->Q2 0.9375\n",
            "P1 ->Q3 0.9473684210526316\n",
            "P2 ->Q1 0.9375\n",
            "P2 ->Q2 0.0\n",
            "P2 ->Q3 0.875\n",
            "Details of the Similarity Score:\n",
            "\n",
            "Similarity score on Repeating Unit =  0.19113899407606172 , Weight for Repeating Unit =  0.475\n",
            "Similarity score on Graph =  1.0 , Weight for Graph =  0.475\n",
            "Similarity score on End Group =  0.33333333 , Weight for End Group =  0.05\n",
            "Similarity score Combined in geometric mean =  0.4313053573761607\n",
            "\n",
            "\n",
            "Details of the Similarity Score:\n",
            "\n",
            "Similarity score on Repeating Unit =  1 , Weight for Repeating Unit =  0.475\n",
            "Similarity score on Graph =  1.0 , Weight for Graph =  0.475\n",
            "Similarity score on End Group =  1 , Weight for End Group =  0.05\n",
            "Similarity score Combined in geometric mean =  1.0\n",
            "\n",
            "\n",
            "Details of the Similarity Score:\n",
            "\n",
            "Similarity score on Repeating Unit =  1 , Weight for Repeating Unit =  0.475\n",
            "Similarity score on Graph =  1.0 , Weight for Graph =  0.475\n",
            "Similarity score on End Group =  1 , Weight for End Group =  0.05\n",
            "Similarity score Combined in geometric mean =  1.0\n",
            "\n",
            "\n",
            "Query smiles list has different levels\n",
            "Target smiles list has different levels\n",
            "P1 ->Q1 0.0\n",
            "P1 ->Q2 0.9166666666666666\n",
            "P1 ->Q3 0.65\n",
            "P1 ->Q4 0.7857142857142857\n",
            "P2 ->Q1 0.9166666666666666\n",
            "P2 ->Q2 0.0\n",
            "P2 ->Q3 0.9069767441860466\n",
            "P2 ->Q4 0.875\n",
            "P3 ->Q1 0.4285714285714286\n",
            "P3 ->Q2 0.9428571428571428\n",
            "P3 ->Q3 0.5945945945945945\n",
            "P3 ->Q4 0.896551724137931\n",
            "Query smiles list has different levels\n",
            "Target smiles list has different levels\n",
            "P1 ->Q1 0.0\n",
            "P1 ->Q2 0.9375\n",
            "P1 ->Q4 0.9473684210526316\n",
            "P2 ->Q1 0.9375\n",
            "P2 ->Q2 0.0\n",
            "P2 ->Q4 0.875\n",
            "Details of the Similarity Score:\n",
            "\n",
            "Similarity score on Repeating Unit =  0.5950561364063041 , Weight for Repeating Unit =  0.475\n",
            "Similarity score on Graph =  1.0 , Weight for Graph =  0.475\n",
            "Similarity score on End Group =  0.6118421013223685 , Weight for End Group =  0.05\n",
            "Similarity score Combined in geometric mean =  0.7625125368045658\n",
            "\n",
            "\n",
            "Query smiles list has different levels\n",
            "Target smiles list has different levels\n",
            "P1 ->Q1 0.0\n",
            "P1 ->Q2 0.9166666666666666\n",
            "P2 ->Q1 0.9166666666666666\n",
            "P2 ->Q2 0.0\n",
            "P3 ->Q1 0.65\n",
            "P3 ->Q2 0.9069767441860466\n",
            "P4 ->Q1 0.7857142857142857\n",
            "P4 ->Q2 0.875\n",
            "Query smiles list has different levels\n",
            "Target smiles list has different levels\n",
            "P1 ->Q1 0.0\n",
            "P1 ->Q2 0.9375\n",
            "P2 ->Q1 0.9375\n",
            "P2 ->Q2 0.0\n",
            "P4 ->Q1 0.9473684210526316\n",
            "P4 ->Q2 0.875\n",
            "Details of the Similarity Score:\n",
            "\n",
            "Similarity score on Repeating Unit =  0.585 , Weight for Repeating Unit =  0.475\n",
            "Similarity score on Graph =  1.0 , Weight for Graph =  0.475\n",
            "Similarity score on End Group =  0.6118421013223685 , Weight for End Group =  0.05\n",
            "Similarity score Combined in geometric mean =  0.7563642688179102\n",
            "\n",
            "\n",
            "Query smiles list has different levels\n",
            "Target smiles list has different levels\n",
            "P1 ->Q1 0.65\n",
            "P1 ->Q2 0.7857142857142857\n",
            "P2 ->Q1 0.9069767441860466\n",
            "P2 ->Q2 0.875\n",
            "P3 ->Q1 0.0\n",
            "P3 ->Q2 0.8947368421052632\n",
            "P4 ->Q1 0.8947368421052632\n",
            "P4 ->Q2 0.0\n",
            "Query smiles list has different levels\n",
            "Target smiles list has different levels\n",
            "P1 ->Q1 0.0\n",
            "P1 ->Q2 0.9375\n",
            "P1 ->Q3 0.9473684210526316\n",
            "P2 ->Q1 0.9375\n",
            "P2 ->Q2 0.0\n",
            "P2 ->Q3 0.875\n",
            "P4 ->Q1 0.9473684210526316\n",
            "P4 ->Q2 0.875\n",
            "P4 ->Q3 0.0\n",
            "Details of the Similarity Score:\n",
            "\n",
            "Similarity score on Repeating Unit =  0.585 , Weight for Repeating Unit =  0.475\n",
            "Similarity score on Graph =  1.0 , Weight for Graph =  0.475\n",
            "Similarity score on End Group =  0.599999996 , Weight for End Group =  0.05\n",
            "Similarity score Combined in geometric mean =  0.7556254881415121\n",
            "\n",
            "\n",
            "Query smiles list has different levels\n",
            "Target smiles list has different levels\n",
            "P1 ->Q1 0.0\n",
            "P1 ->Q2 0.9166666666666666\n",
            "P1 ->Q3 0.4285714285714286\n",
            "P2 ->Q1 0.9166666666666666\n",
            "P2 ->Q2 0.0\n",
            "P2 ->Q3 0.9428571428571428\n",
            "P3 ->Q1 0.65\n",
            "P3 ->Q2 0.9069767441860466\n",
            "P3 ->Q3 0.5945945945945945\n",
            "P4 ->Q1 0.7857142857142857\n",
            "P4 ->Q2 0.875\n",
            "P4 ->Q3 0.896551724137931\n",
            "Query smiles list has different levels\n",
            "Target smiles list has different levels\n",
            "P1 ->Q1 0.0\n",
            "P1 ->Q2 0.9375\n",
            "P2 ->Q1 0.9375\n",
            "P2 ->Q2 0.0\n",
            "P4 ->Q1 0.9473684210526316\n",
            "P4 ->Q2 0.875\n",
            "Details of the Similarity Score:\n",
            "\n",
            "Similarity score on Repeating Unit =  0.5950561364063041 , Weight for Repeating Unit =  0.475\n",
            "Similarity score on Graph =  1.0 , Weight for Graph =  0.475\n",
            "Similarity score on End Group =  0.6118421013223685 , Weight for End Group =  0.05\n",
            "Similarity score Combined in geometric mean =  0.7625125368045658\n",
            "\n",
            "\n",
            "Query smiles list has different levels\n",
            "Target smiles list has different levels\n",
            "P1 ->Q1 0.0\n",
            "P1 ->Q2 0.9166666666666666\n",
            "P1 ->Q3 0.4285714285714286\n",
            "P2 ->Q1 0.9166666666666666\n",
            "P2 ->Q2 0.0\n",
            "P2 ->Q3 0.9428571428571428\n",
            "P3 ->Q1 0.65\n",
            "P3 ->Q2 0.9069767441860466\n",
            "P3 ->Q3 0.5945945945945945\n",
            "P4 ->Q1 0.7857142857142857\n",
            "P4 ->Q2 0.875\n",
            "P4 ->Q3 0.896551724137931\n",
            "Query smiles list has different levels\n",
            "Target smiles list has different levels\n",
            "P1 ->Q1 0.0\n",
            "P1 ->Q2 0.9375\n",
            "P2 ->Q1 0.9375\n",
            "P2 ->Q2 0.0\n",
            "P4 ->Q1 0.9473684210526316\n",
            "P4 ->Q2 0.875\n",
            "Details of the Similarity Score:\n",
            "\n",
            "Similarity score on Repeating Unit =  0.5950561364063041 , Weight for Repeating Unit =  0.475\n",
            "Similarity score on Graph =  1.0 , Weight for Graph =  0.475\n",
            "Similarity score on End Group =  0.6118421013223685 , Weight for End Group =  0.05\n",
            "Similarity score Combined in geometric mean =  0.7625125368045658\n",
            "\n",
            "\n",
            "Details of the Similarity Score:\n",
            "\n",
            "Similarity score on Repeating Unit =  1 , Weight for Repeating Unit =  0.475\n",
            "Similarity score on Graph =  1.0 , Weight for Graph =  0.475\n",
            "Similarity score on End Group =  1 , Weight for End Group =  0.05\n",
            "Similarity score Combined in geometric mean =  1.0\n",
            "\n",
            "\n"
          ]
        }
      ]
    },
    {
      "cell_type": "code",
      "source": [],
      "metadata": {
        "id": "25YbEK3Wybha"
      },
      "execution_count": null,
      "outputs": []
    },
    {
      "cell_type": "code",
      "source": [
        "graphE4_details = np.array([25, 25, 31, 33, 47])"
      ],
      "metadata": {
        "id": "FUFDpR8Gu0LX"
      },
      "execution_count": null,
      "outputs": []
    },
    {
      "cell_type": "code",
      "source": [
        "graph_edit_distance = np.array([\n",
        "    [0,0,6,8,22],\n",
        "    [0,0,6,8,22],\n",
        "    [6,6,0,10,24],\n",
        "    [8,8,10,0,14],\n",
        "    [22,22,24,14,0]\n",
        "])"
      ],
      "metadata": {
        "id": "pSWC-YXwu-k7"
      },
      "execution_count": null,
      "outputs": []
    },
    {
      "cell_type": "code",
      "source": [
        "graph_edit_distance[1,2]"
      ],
      "metadata": {
        "colab": {
          "base_uri": "https://localhost:8080/"
        },
        "id": "lHAa_Bsqww3P",
        "outputId": "5827d5c0-aa15-4d7e-c450-756e44f5267a"
      },
      "execution_count": null,
      "outputs": [
        {
          "output_type": "execute_result",
          "data": {
            "text/plain": [
              "6"
            ]
          },
          "metadata": {},
          "execution_count": 66
        }
      ]
    },
    {
      "cell_type": "code",
      "source": [],
      "metadata": {
        "id": "bHCP45AEvRzk"
      },
      "execution_count": null,
      "outputs": []
    },
    {
      "cell_type": "code",
      "source": [
        "for i in range(0,5):\n",
        "    for j in range(i+1,5):\n",
        "        E4_TOP_matrix[i,j] = np.exp(-1.0*graph_edit_distance[i,j]/(max(graphE4_details[i], graphE4_details[j]) - graph_edit_distance[i,j]))\n",
        "        E4_TOP_matrix[j,i] = E4_TOP_matrix[i,j]"
      ],
      "metadata": {
        "id": "1s3w_vAsvecq"
      },
      "execution_count": null,
      "outputs": []
    },
    {
      "cell_type": "code",
      "source": [
        "for i in range(0,5):\n",
        "    for j in range(i+1,5):\n",
        "          combination_score = pow(E4_RU_matrix[i,j], 0.475) * pow(E4_TOP_matrix[i,j], 0.475)* pow(E4_EG_matrix[i,j], 0.05)\n",
        "          E4_TOT_matrix[i,j] = combination_score\n",
        "          E4_TOT_matrix[j,i] = combination_score\n"
      ],
      "metadata": {
        "id": "GhQq-VUxzSgg"
      },
      "execution_count": null,
      "outputs": []
    },
    {
      "cell_type": "code",
      "source": [
        "pow(3,4)"
      ],
      "metadata": {
        "colab": {
          "base_uri": "https://localhost:8080/"
        },
        "id": "HjujRLgPzwQ7",
        "outputId": "d988faa7-d99b-453e-bbbe-8d0c7589e0f8"
      },
      "execution_count": null,
      "outputs": [
        {
          "output_type": "execute_result",
          "data": {
            "text/plain": [
              "81"
            ]
          },
          "metadata": {},
          "execution_count": 69
        }
      ]
    },
    {
      "cell_type": "code",
      "source": [
        "PolymerE4[0]"
      ],
      "metadata": {
        "colab": {
          "base_uri": "https://localhost:8080/"
        },
        "id": "pLlf0CxFqo3r",
        "outputId": "c3b9f9d2-ff96-4c54-c59b-1c8121fc05c2"
      },
      "execution_count": null,
      "outputs": [
        {
          "output_type": "execute_result",
          "data": {
            "text/plain": [
              "<__main__.Polymer at 0x7fc923db38b0>"
            ]
          },
          "metadata": {},
          "execution_count": 24
        }
      ]
    },
    {
      "cell_type": "code",
      "source": [
        "STOT12, SRU12, STOP12, SEG12 = Similarity_Score_Two_Polymer(query = PolymerE4[0],\n",
        "                             target = PolymerE4[1],\n",
        "                             #level_weight = True,\n",
        "                             #level_ratio = 3,\n",
        "                             embedding_function = 'MorganFingerprint',\n",
        "                             similarity_score_function = 'Tanimoto',\n",
        "                             restrain_emd = False,\n",
        "                             alpha=1,\n",
        "                             Repeat_Unit_Weight=0.475,\n",
        "                             Graph_Weight=0.475,\n",
        "                             End_Group_Weight = 0.05,\n",
        "                             Mean_Function = 'geometric',\n",
        "                             details_print=True)"
      ],
      "metadata": {
        "colab": {
          "base_uri": "https://localhost:8080/"
        },
        "id": "qxFxYaoAqnbL",
        "outputId": "3dec3597-00d1-42af-be56-26a1c8671c6e"
      },
      "execution_count": null,
      "outputs": [
        {
          "output_type": "stream",
          "name": "stdout",
          "text": [
            "Query smiles list has different levels\n",
            "Target smiles list has different levels\n",
            "P1 ->Q1 0.65\n",
            "P1 ->Q2 0.7857142857142857\n",
            "P2 ->Q1 0.9069767441860466\n",
            "P2 ->Q2 0.875\n",
            "Query smiles list has different levels\n",
            "Target smiles list has different levels\n",
            "P1 ->Q1 0.0\n",
            "P1 ->Q2 0.9375\n",
            "P1 ->Q3 0.9473684210526316\n",
            "P2 ->Q1 0.9375\n",
            "P2 ->Q2 0.0\n",
            "P2 ->Q3 0.875\n",
            "Details of the Similarity Score:\n",
            "\n",
            "Similarity score on Repeating Unit =  0.16999999999999993 , Weight for Repeating Unit =  0.475\n",
            "Similarity score on Graph =  1.0 , Weight for Graph =  0.475\n",
            "Similarity score on End Group =  0.33333333 , Weight for End Group =  0.05\n",
            "Similarity score Combined in geometric mean =  0.40795022284531085\n",
            "\n",
            "\n"
          ]
        }
      ]
    },
    {
      "cell_type": "code",
      "source": [
        "STOT12, SRU12, STOP12, SEG12 = Similarity_Score_Two_Polymer(query = PolymerE4_1,\n",
        "                             target = PolymerE4_2,\n",
        "                             #level_weight = True,\n",
        "                             #level_ratio = 3,\n",
        "                             embedding_function = 'MorganFingerprint',\n",
        "                             similarity_score_function = 'Tanimoto',\n",
        "                             restrain_emd = False,\n",
        "                             alpha=1,\n",
        "                             Repeat_Unit_Weight=0.475,\n",
        "                             Graph_Weight=0.475,\n",
        "                             End_Group_Weight = 0.05,\n",
        "                             Mean_Function = 'geometric',\n",
        "                             details_print=True)"
      ],
      "metadata": {
        "colab": {
          "base_uri": "https://localhost:8080/"
        },
        "id": "sgSeooUzOFS9",
        "outputId": "ac06190a-d04a-40da-f9b4-ef3e27d3b016"
      },
      "execution_count": null,
      "outputs": [
        {
          "output_type": "stream",
          "name": "stdout",
          "text": [
            "Query smiles list has different levels\n",
            "Target smiles list has different levels\n",
            "P1 ->Q1 0.65\n",
            "P1 ->Q2 0.7857142857142857\n",
            "P2 ->Q1 0.9069767441860466\n",
            "P2 ->Q2 0.875\n",
            "Query smiles list has different levels\n",
            "Target smiles list has different levels\n",
            "P1 ->Q1 0.0\n",
            "P1 ->Q2 0.9375\n",
            "P1 ->Q3 0.9473684210526316\n",
            "P2 ->Q1 0.9375\n",
            "P2 ->Q2 0.0\n",
            "P2 ->Q3 0.875\n",
            "Details of the Similarity Score:\n",
            "\n",
            "Similarity score on Repeating Unit =  0.16999999999999993 , Weight for Repeating Unit =  0.475\n",
            "Similarity score on Graph =  1.0 , Weight for Graph =  0.475\n",
            "Similarity score on End Group =  0.33333333 , Weight for End Group =  0.05\n",
            "Similarity score Combined in geometric mean =  0.40795022284531085\n",
            "\n",
            "\n"
          ]
        }
      ]
    },
    {
      "cell_type": "code",
      "source": [
        "STOT12, SRU12, STOP12, SEG12 = Similarity_Score_Two_Polymer(query = PolymerE4_1,\n",
        "                             target = PolymerE4_3,\n",
        "                             #level_weight = True,\n",
        "                             #level_ratio = 3,\n",
        "                             embedding_function = 'MorganFingerprint',\n",
        "                             similarity_score_function = 'Tanimoto',\n",
        "                             restrain_emd = False,\n",
        "                             alpha=1,\n",
        "                             Repeat_Unit_Weight=0.475,\n",
        "                             Graph_Weight=0.475,\n",
        "                             End_Group_Weight = 0.05,\n",
        "                             Mean_Function = 'geometric',\n",
        "                             details_print=True)"
      ],
      "metadata": {
        "colab": {
          "base_uri": "https://localhost:8080/"
        },
        "id": "wBfu48rwqP65",
        "outputId": "462e0a55-d885-48e8-b7cf-4f86f0e17e4d"
      },
      "execution_count": null,
      "outputs": [
        {
          "output_type": "stream",
          "name": "stdout",
          "text": [
            "Query smiles list has different levels\n",
            "Target smiles list has different levels\n",
            "P1 ->Q1 0.0\n",
            "P1 ->Q2 0.9166666666666666\n",
            "P1 ->Q3 0.4285714285714286\n",
            "P2 ->Q1 0.9166666666666666\n",
            "P2 ->Q2 0.0\n",
            "P2 ->Q3 0.9428571428571428\n",
            "Details of the Similarity Score:\n",
            "\n",
            "Similarity score on Repeating Unit =  0.8600000032857142 , Weight for Repeating Unit =  0.475\n",
            "Similarity score on Graph =  1.0 , Weight for Graph =  0.475\n",
            "Similarity score on End Group =  1 , Weight for End Group =  0.05\n",
            "Similarity score Combined in geometric mean =  0.9308651366331113\n",
            "\n",
            "\n"
          ]
        }
      ]
    },
    {
      "cell_type": "code",
      "source": [],
      "metadata": {
        "id": "IoYaNSq-11TD"
      },
      "execution_count": null,
      "outputs": []
    },
    {
      "cell_type": "code",
      "source": [
        "import seaborn as sns\n",
        "import matplotlib.pyplot as plt\n",
        "import numpy as np"
      ],
      "metadata": {
        "id": "yBwKb3za3dch"
      },
      "execution_count": null,
      "outputs": []
    },
    {
      "cell_type": "code",
      "source": [
        "fig,ax = plt.subplots(figsize=(6,5))\n",
        "\n",
        "ax = sns.heatmap(E4_RU_matrix, linewidth=0.3, annot=True, fmt=\".2f\" , cbar_kws={'label': 'Similarity Score'})\n",
        "\n",
        "x_labels = [\"E4-1\", \"E4-2\", \"E4-3\", \"E4-4\", \"E4-5\"]\n",
        "y_labels = [\"E4-1\", \"E4-2\", \"E4-3\", \"E4-4\", \"E4-5\"]\n",
        "#ax.set_xticks([x_to_num[v] for v in x_labels])\n",
        "ax.set_xticklabels(x_labels, rotation=0, horizontalalignment='center')\n",
        "#ax.set_yticks([y_to_num[v] for v in y_labels])\n",
        "ax.set_yticklabels(y_labels, rotation=360, horizontalalignment='right')\n",
        "ax.set_xlabel(r\"$\\lambda_1$\", size =24)\n",
        "ax.set_ylabel(r\"$\\lambda_2$\", size = 24)\n",
        "resolution_value = 1200\n",
        "#plt.savefig(\"myImage_heatmap.png\", format=\"png\", dpi=resolution_value , bbox_inches='tight')\n",
        "\n",
        "plt.show()"
      ],
      "metadata": {
        "colab": {
          "base_uri": "https://localhost:8080/",
          "height": 355
        },
        "id": "vEkrHSJ-3fTh",
        "outputId": "0d386a2a-e137-4387-c993-1779c38de48a"
      },
      "execution_count": null,
      "outputs": [
        {
          "output_type": "display_data",
          "data": {
            "text/plain": [
              "<Figure size 432x360 with 2 Axes>"
            ],
            "image/png": "[encoded data removed]"
          },
          "metadata": {
            "needs_background": "light"
          }
        }
      ]
    },
    {
      "cell_type": "code",
      "source": [
        "fig,ax = plt.subplots(figsize=(6,5))\n",
        "\n",
        "ax = sns.heatmap(E4_TOT_matrix, linewidth=0.3, annot=True, fmt=\".2f\" , cbar_kws={'label': 'Similarity Score'})\n",
        "\n",
        "x_labels = [\"E4-1\", \"E4-2\", \"E4-3\", \"E4-4\", \"E4-5\"]\n",
        "y_labels = [\"E4-1\", \"E4-2\", \"E4-3\", \"E4-4\", \"E4-5\"]\n",
        "#ax.set_xticks([x_to_num[v] for v in x_labels])\n",
        "ax.set_xticklabels(x_labels, rotation=0, horizontalalignment='center')\n",
        "#ax.set_yticks([y_to_num[v] for v in y_labels])\n",
        "ax.set_yticklabels(y_labels, rotation=360, horizontalalignment='right')\n",
        "ax.set_xlabel(r\"$\\lambda_1$\", size =24)\n",
        "ax.set_ylabel(r\"$\\lambda_2$\", size = 24)\n",
        "resolution_value = 1200\n",
        "#plt.savefig(\"myImage_heatmap.png\", format=\"png\", dpi=resolution_value , bbox_inches='tight')\n",
        "\n",
        "plt.show()"
      ],
      "metadata": {
        "colab": {
          "base_uri": "https://localhost:8080/",
          "height": 355
        },
        "id": "j-eFhRG63hYp",
        "outputId": "bbbe7f22-b7f2-470a-ce9e-12f6dc496df5"
      },
      "execution_count": null,
      "outputs": [
        {
          "output_type": "display_data",
          "data": {
            "text/plain": [
              "<Figure size 432x360 with 2 Axes>"
            ],
            "image/png": "[encoded data removed]"
          },
          "metadata": {
            "needs_background": "light"
          }
        }
      ]
    },
    {
      "cell_type": "code",
      "source": [
        "\n",
        "fig,ax = plt.subplots(figsize=(6,5))\n",
        "\n",
        "ax = sns.heatmap(E4_TOP_matrix, linewidth=0.3, annot=True, fmt=\".2f\" , cbar_kws={'label': 'Similarity Score'})\n",
        "\n",
        "x_labels = [\"E4-1\", \"E4-2\", \"E4-3\", \"E4-4\", \"E4-5\"]\n",
        "y_labels = [\"E4-1\", \"E4-2\", \"E4-3\", \"E4-4\", \"E4-5\"]\n",
        "#ax.set_xticks([x_to_num[v] for v in x_labels])\n",
        "ax.set_xticklabels(x_labels, rotation=0, horizontalalignment='center')\n",
        "#ax.set_yticks([y_to_num[v] for v in y_labels])\n",
        "ax.set_yticklabels(y_labels, rotation=360, horizontalalignment='right')\n",
        "ax.set_xlabel(r\"$\\lambda_1$\", size =24)\n",
        "ax.set_ylabel(r\"$\\lambda_2$\", size = 24)\n",
        "resolution_value = 1200\n",
        "#plt.savefig(\"myImage_heatmap.png\", format=\"png\", dpi=resolution_value , bbox_inches='tight')\n",
        "\n",
        "plt.show()"
      ],
      "metadata": {
        "colab": {
          "base_uri": "https://localhost:8080/",
          "height": 355
        },
        "id": "2E7o9-dY4R_k",
        "outputId": "4c793265-4613-45f9-ffbf-34bcd8fbda1f"
      },
      "execution_count": null,
      "outputs": [
        {
          "output_type": "display_data",
          "data": {
            "text/plain": [
              "<Figure size 432x360 with 2 Axes>"
            ],
            "image/png": "[encoded data removed]"
          },
          "metadata": {
            "needs_background": "light"
          }
        }
      ]
    },
    {
      "cell_type": "code",
      "source": [
        "\n",
        "fig,ax = plt.subplots(figsize=(6,5))\n",
        "\n",
        "ax = sns.heatmap(E4_EG_matrix, linewidth=0.3, annot=True, fmt=\".2f\" , cbar_kws={'label': 'Similarity Score'})\n",
        "\n",
        "x_labels = [\"E4-1\", \"E4-2\", \"E4-3\", \"E4-4\", \"E4-5\"]\n",
        "y_labels = [\"E4-1\", \"E4-2\", \"E4-3\", \"E4-4\", \"E4-5\"]\n",
        "#ax.set_xticks([x_to_num[v] for v in x_labels])\n",
        "ax.set_xticklabels(x_labels, rotation=0, horizontalalignment='center')\n",
        "#ax.set_yticks([y_to_num[v] for v in y_labels])\n",
        "ax.set_yticklabels(y_labels, rotation=360, horizontalalignment='right')\n",
        "ax.set_xlabel(r\"$\\lambda_1$\", size =24)\n",
        "ax.set_ylabel(r\"$\\lambda_2$\", size = 24)\n",
        "resolution_value = 1200\n",
        "#plt.savefig(\"myImage_heatmap.png\", format=\"png\", dpi=resolution_value , bbox_inches='tight')\n",
        "\n",
        "plt.show()"
      ],
      "metadata": {
        "colab": {
          "base_uri": "https://localhost:8080/",
          "height": 355
        },
        "id": "n_GEQdqpz7Dy",
        "outputId": "e2f38cee-009f-4098-8fbc-a41f24d4aabb"
      },
      "execution_count": null,
      "outputs": [
        {
          "output_type": "display_data",
          "data": {
            "text/plain": [
              "<Figure size 432x360 with 2 Axes>"
            ],
            "image/png": "[encoded data removed]"
          },
          "metadata": {
            "needs_background": "light"
          }
        }
      ]
    },
    {
      "cell_type": "code",
      "source": [
        "from scipy import io"
      ],
      "metadata": {
        "id": "wuEKKP1E7Y4r"
      },
      "execution_count": null,
      "outputs": []
    },
    {
      "cell_type": "code",
      "source": [
        "io.savemat(\"E4_TOT_matrix.mat\", {\"E4_TOT_matrix\": E4_TOT_matrix})\n",
        "io.savemat(\"E4_RU_matrix.mat\", {\"E4_RU_matrix\": E4_RU_matrix})\n",
        "io.savemat(\"E4_TOP_matrix.mat\", {\"E4_TOP_matrix\": E4_TOP_matrix})\n",
        "io.savemat(\"E4_EG_matrix.mat\", {\"E4_EG_matrix\": E4_EG_matrix})"
      ],
      "metadata": {
        "id": "5FH8AWeY7bjk"
      },
      "execution_count": null,
      "outputs": []
    },
    {
      "cell_type": "code",
      "source": [
        "from google.colab import drive\n",
        "drive.mount('/content/gdrive')\n",
        "\n",
        "import os"
      ],
      "metadata": {
        "id": "aTuUVhN97gaW",
        "colab": {
          "base_uri": "https://localhost:8080/"
        },
        "outputId": "e7c983cd-5951-40f9-d0ea-19fa36b9dda5"
      },
      "execution_count": null,
      "outputs": [
        {
          "output_type": "stream",
          "name": "stdout",
          "text": [
            "Mounted at /content/gdrive\n"
          ]
        }
      ]
    },
    {
      "cell_type": "code",
      "source": [
        "path = \"gdrive/My Drive/Poly\"\n",
        "os.mkdir(path)"
      ],
      "metadata": {
        "id": "zJ7jEORM1AOD"
      },
      "execution_count": null,
      "outputs": []
    }
  ]
}